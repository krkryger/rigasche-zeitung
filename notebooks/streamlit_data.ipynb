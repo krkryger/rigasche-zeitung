{
 "cells": [
  {
   "cell_type": "code",
   "execution_count": 54,
   "id": "fdfaa00e",
   "metadata": {},
   "outputs": [],
   "source": [
    "import numpy as np\n",
    "import pandas as pd\n",
    "from tqdm import tqdm\n",
    "import matplotlib\n",
    "import matplotlib.pyplot as plt\n",
    "import matplotlib.font_manager as fm\n",
    "import json\n",
    "import string\n",
    "from top2vec import Top2Vec\n",
    "import multiprocessing\n",
    "from scipy.special import softmax\n",
    "from wordcloud import WordCloud\n",
    "import os"
   ]
  },
  {
   "cell_type": "code",
   "execution_count": 3,
   "id": "1e15a2ad",
   "metadata": {},
   "outputs": [],
   "source": [
    "rz = pd.read_parquet('../data/raw/RZ_processed.parquet')"
   ]
  },
  {
   "cell_type": "code",
   "execution_count": 42,
   "id": "f8c3a679",
   "metadata": {},
   "outputs": [],
   "source": [
    "df = pd.read_csv('../data/processed_data.tsv', sep='\\t', encoding='utf8').convert_dtypes()\n",
    "df.doc_date = pd.to_datetime(df.doc_date)\n",
    "df.origin_date = pd.to_datetime(df.origin_date)\n",
    "df['doc_year'] = df.doc_date.dt.year"
   ]
  },
  {
   "cell_type": "code",
   "execution_count": 5,
   "id": "4a49a6cc",
   "metadata": {},
   "outputs": [],
   "source": [
    "places = pd.read_csv('../data/places/places.tsv', sep='\\t', encoding='utf8')"
   ]
  },
  {
   "cell_type": "code",
   "execution_count": 22,
   "id": "12e9bfe9",
   "metadata": {},
   "outputs": [],
   "source": [
    "t2v = Top2Vec.load('../data/models/t2v_211122_100_deep.pkl')"
   ]
  },
  {
   "cell_type": "code",
   "execution_count": 2,
   "id": "f88d7ca7",
   "metadata": {},
   "outputs": [],
   "source": [
    "def define_plot_fonts():\n",
    "    fm.fontManager.addfont('../references/cmunorm.ttf')\n",
    "    matplotlib.rc('xtick', labelsize=14) \n",
    "    matplotlib.rc('ytick', labelsize=14)\n",
    "    matplotlib.rcParams['font.family'] = 'CMU Concrete'"
   ]
  },
  {
   "cell_type": "code",
   "execution_count": 8,
   "id": "6bdd6003",
   "metadata": {},
   "outputs": [],
   "source": [
    "def get_averages(place):\n",
    "    \n",
    "    return df[df.placename == place].groupby('doc_year')['delta'].mean().round(2).reindex(range(1802, 1889))"
   ]
  },
  {
   "cell_type": "code",
   "execution_count": 12,
   "id": "4fb83020",
   "metadata": {},
   "outputs": [],
   "source": [
    "def create_streamlit_df():\n",
    "    \n",
    "    data = {}\n",
    "    \n",
    "    for place in tqdm(places.placename.values):\n",
    "        data[place] = (get_averages(place).values)\n",
    "        \n",
    "    return pd.DataFrame(data, index=range(1802, 1889))"
   ]
  },
  {
   "cell_type": "code",
   "execution_count": 15,
   "id": "338c9826",
   "metadata": {},
   "outputs": [
    {
     "name": "stderr",
     "output_type": "stream",
     "text": [
      "100%|████████████████████████████████████████████████████████████████████████████████| 351/351 [00:10<00:00, 33.36it/s]\n"
     ]
    }
   ],
   "source": [
    "streamlit_df = create_streamlit_df()\n",
    "streamlit_df.to_csv('../streamlit/data/streamlit_data.tsv', sep='\\t')"
   ]
  },
  {
   "cell_type": "code",
   "execution_count": 17,
   "id": "8760aa0a",
   "metadata": {},
   "outputs": [],
   "source": [
    "def create_placename_counts():\n",
    "    placename_counts = {place: len(df[df.placename == place]) for place in places.placename}\n",
    "    with open('../streamlit/data/placename_counts.json', 'w', encoding='utf8') as f:\n",
    "        json.dump(placename_counts, f)"
   ]
  },
  {
   "cell_type": "code",
   "execution_count": 18,
   "id": "7bfa2887",
   "metadata": {},
   "outputs": [],
   "source": [
    "create_placename_counts()"
   ]
  },
  {
   "cell_type": "code",
   "execution_count": null,
   "id": "28f61976",
   "metadata": {},
   "outputs": [],
   "source": [
    "def get_season(origin_date):\n",
    "    if origin_date.month in range(4, 10):\n",
    "        return 's'\n",
    "    elif origin_date.month in [10, 11, 12, 1, 2, 3]:\n",
    "        return 'w'\n",
    "\n",
    "def write_place_files():\n",
    "    \n",
    "    for name in tqdm(places.placename.values):\n",
    "        place_df = pd.DataFrame(df.loc[df.placename == name, ['origin_date', 'doc_year', 'delta']].values,\n",
    "                        columns=['origin_date', 'year', 'delta'])\n",
    "        place_df['season'] = place_df.origin_date.apply(get_season)\n",
    "        place_df = place_df[['year', 'delta', 'season']]\n",
    "        place_df.to_csv(f'../streamlit/data/places/{name}.tsv', sep='\\t', encoding='utf8', index=False) "
   ]
  },
  {
   "cell_type": "code",
   "execution_count": null,
   "id": "b69960cc",
   "metadata": {},
   "outputs": [],
   "source": [
    "write_place_files()"
   ]
  },
  {
   "cell_type": "code",
   "execution_count": 26,
   "id": "6c1d2033",
   "metadata": {},
   "outputs": [],
   "source": [
    "def custom_topic_wordcloud(top, savepath=None, show=False):\n",
    "    \n",
    "    cloudwidth = 2400\n",
    "    cloudheight = 800\n",
    "    \n",
    "    topic_words = t2v.get_topics(reduced=True)[0][top]\n",
    "    word_scores = t2v.get_topics(reduced=True)[1][top]\n",
    "    \n",
    "    topic_words_dict = dict(zip(topic_words, softmax(word_scores)))\n",
    "    \n",
    "    wc = WordCloud(background_color='white', width=cloudwidth, height=cloudheight,\n",
    "                   font_path='../references/cmunrm.ttf')\n",
    "    \n",
    "    wc.generate_from_frequencies(topic_words_dict)\n",
    "    \n",
    "    plt.figure(figsize=(12, 4))\n",
    "    plt.imshow(wc)\n",
    "    plt.axis('off')\n",
    "        \n",
    "    plt.tight_layout()\n",
    "    \n",
    "    if savepath:\n",
    "        plt.savefig(f'{savepath}\\\\{top}.png', bbox_inches='tight')\n",
    "        \n",
    "    if show:\n",
    "        plt.show()\n",
    "    else:\n",
    "        plt.clf()"
   ]
  },
  {
   "cell_type": "code",
   "execution_count": 27,
   "id": "779e7955",
   "metadata": {},
   "outputs": [],
   "source": [
    "def get_topic_stats(top, savepath=None, show=False):\n",
    "    \n",
    "    topic_size = t2v.get_topic_sizes(reduced=True)[0][top]\n",
    "    topic_document_ids = t2v.search_documents_by_topic(top, topic_size, reduced=True)[2]\n",
    "    \n",
    "    doc_ids = [int(ID.split('_')[1]) for ID in topic_document_ids]\n",
    "    \n",
    "    top_df = rz.loc[doc_ids]\n",
    "    \n",
    "    define_plot_fonts()\n",
    "    fig, (ax1, ax2) = plt.subplots(1, 2, figsize=(12, 4))\n",
    "    \n",
    "    top_df.year.hist(bins=87, ax=ax1)\n",
    "    ax1.set_xlim(1802, 1889)\n",
    "    \n",
    "    top_df.heading2.value_counts()[:10].plot.bar(ax=ax2)\n",
    "    ax2.set_xticklabels(labels=top_df.heading2.value_counts()[:10].index, rotation=45, ha='right')\n",
    "        \n",
    "    if savepath:\n",
    "        plt.savefig(f'{savepath}\\\\topic_{str(top)}.png', bbox_inches='tight')\n",
    "    \n",
    "    if show:\n",
    "        plt.show()\n",
    "    else:\n",
    "        plt.clf()"
   ]
  },
  {
   "cell_type": "code",
   "execution_count": 59,
   "id": "162041b0",
   "metadata": {},
   "outputs": [],
   "source": [
    "def get_topic_examples(top, n, savepath=None):\n",
    "    \n",
    "    examples = t2v.search_documents_by_topic(top, n, reduced=True)[2]\n",
    "    \n",
    "    msg_ids = [int(ex.split('_')[0]) for ex in examples]\n",
    "    doc_ids = [int(ex.split('_')[1]) for ex in examples]\n",
    "        \n",
    "    example_texts = []\n",
    "    \n",
    "    for msg_id, doc_id in zip(msg_ids, doc_ids):\n",
    "        article = df.loc[df.doc_id == doc_id]\n",
    "        \n",
    "        if len(article) == 1 or article.index[-1] == msg_id:\n",
    "            span_start = article.start.values[0]\n",
    "            span_end = -1\n",
    "\n",
    "        elif len(article) > 1:\n",
    "            span_start = article.loc[msg_id, 'start']\n",
    "            span_end = article.loc[msg_id+1, 'start']\n",
    "            \n",
    "        example_texts.append(\n",
    "                                {\"msg_id\": msg_id,\n",
    "                                 \"doc_id\": doc_id,\n",
    "                                 \"date\": rz.loc[doc_id, 'date'],\n",
    "                                 \"heading\": rz.loc[doc_id, 'heading'],\n",
    "                                 \"text\": rz.loc[doc_id, 'full_text'][span_start:span_end]\n",
    "                                }\n",
    "                            )\n",
    "        \n",
    "    if savepath:\n",
    "        with open(savepath+'\\\\examples.json', 'w', encoding='utf8') as f:\n",
    "            json.dump(example_texts, f)\n",
    "    else:\n",
    "        return example_texts"
   ]
  },
  {
   "cell_type": "code",
   "execution_count": 74,
   "id": "9aecf930",
   "metadata": {},
   "outputs": [],
   "source": [
    "def create_topic_data_for_streamlit(reduction):\n",
    "    \n",
    "    directory = f'C:\\\\Users\\\\krister\\\\py_projects\\\\rz_acta\\\\streamlit\\\\data\\\\topics\\\\reduction_{reduction}'    \n",
    "    if not os.path.exists(directory):\n",
    "        os.mkdir(directory)\n",
    "    \n",
    "    \n",
    "    print(f'Performing reduction to {reduction} topics')\n",
    "    t2v.hierarchical_topic_reduction(reduction)\n",
    "    \n",
    "    \n",
    "    print('Generating wordclouds')\n",
    "    if not os.path.exists(directory+'\\\\wordclouds'):\n",
    "        os.mkdir(directory+'\\\\wordclouds')\n",
    "        \n",
    "    for top in tqdm(range(reduction)):\n",
    "        custom_topic_wordcloud(top, show=False, savepath=directory+'\\\\wordclouds')\n",
    "        \n",
    "    \n",
    "    print('Generating statistics')\n",
    "    if not os.path.exists(directory+'\\\\statistics'):\n",
    "        os.mkdir(directory+'\\\\statistics')\n",
    "        \n",
    "    for top in tqdm(range(reduction)):\n",
    "        get_topic_stats(top, show=False, savepath=directory+'\\\\statistics')\n",
    "        \n",
    "        \n",
    "    print('Fetching examples')\n",
    "    if not os.path.exists(directory+'\\\\examples'):\n",
    "        os.mkdir(directory+'\\\\examples')\n",
    "        \n",
    "    for top in tqdm(range(reduction)):\n",
    "        get_topic_examples(top, 10, directory+'\\\\examples')\n",
    "        \n",
    "        \n",
    "    with open(directory+'\\\\sizes.json', 'w', encoding='utf8') as f:\n",
    "        sizes = [int(i) for i in list(t2v.get_topic_sizes(reduced=True)[0])]\n",
    "        json.dump(sizes, f)\n",
    "        \n",
    "        \n",
    "    print('Finished')"
   ]
  },
  {
   "cell_type": "code",
   "execution_count": 66,
   "id": "322d3e8e",
   "metadata": {},
   "outputs": [
    {
     "name": "stdout",
     "output_type": "stream",
     "text": [
      "Performing reduction to 30 topics\n",
      "Generating wordclouds\n"
     ]
    },
    {
     "name": "stderr",
     "output_type": "stream",
     "text": [
      " 67%|██████████████████████████████████████████████████████▋                           | 20/30 [01:34<00:47,  4.75s/it]C:\\Users\\krister\\AppData\\Local\\Temp\\ipykernel_13840\\1835710219.py:16: RuntimeWarning: More than 20 figures have been opened. Figures created through the pyplot interface (`matplotlib.pyplot.figure`) are retained until explicitly closed and may consume too much memory. (To control this warning, see the rcParam `figure.max_open_warning`). Consider using `matplotlib.pyplot.close()`.\n",
      "  plt.figure(figsize=(12, 4))\n",
      "100%|██████████████████████████████████████████████████████████████████████████████████| 30/30 [02:17<00:00,  4.57s/it]\n"
     ]
    },
    {
     "name": "stdout",
     "output_type": "stream",
     "text": [
      "Generating statistics\n"
     ]
    },
    {
     "name": "stderr",
     "output_type": "stream",
     "text": [
      "100%|██████████████████████████████████████████████████████████████████████████████████| 30/30 [00:38<00:00,  1.29s/it]\n"
     ]
    },
    {
     "name": "stdout",
     "output_type": "stream",
     "text": [
      "Fetching examples\n"
     ]
    },
    {
     "name": "stderr",
     "output_type": "stream",
     "text": [
      "100%|██████████████████████████████████████████████████████████████████████████████████| 30/30 [00:01<00:00, 29.79it/s]\n"
     ]
    },
    {
     "ename": "TypeError",
     "evalue": "Object of type int64 is not JSON serializable",
     "output_type": "error",
     "traceback": [
      "\u001b[1;31m---------------------------------------------------------------------------\u001b[0m",
      "\u001b[1;31mTypeError\u001b[0m                                 Traceback (most recent call last)",
      "Cell \u001b[1;32mIn [66], line 1\u001b[0m\n\u001b[1;32m----> 1\u001b[0m \u001b[43mcreate_topic_data_for_streamlit\u001b[49m\u001b[43m(\u001b[49m\u001b[38;5;241;43m30\u001b[39;49m\u001b[43m)\u001b[49m\n",
      "Cell \u001b[1;32mIn [65], line 37\u001b[0m, in \u001b[0;36mcreate_topic_data_for_streamlit\u001b[1;34m(reduction)\u001b[0m\n\u001b[0;32m     33\u001b[0m     get_topic_examples(top, \u001b[38;5;241m10\u001b[39m, directory\u001b[38;5;241m+\u001b[39m\u001b[38;5;124m'\u001b[39m\u001b[38;5;130;01m\\\\\u001b[39;00m\u001b[38;5;124mexamples\u001b[39m\u001b[38;5;124m'\u001b[39m)\n\u001b[0;32m     36\u001b[0m \u001b[38;5;28;01mwith\u001b[39;00m \u001b[38;5;28mopen\u001b[39m(directory\u001b[38;5;241m+\u001b[39m\u001b[38;5;124m'\u001b[39m\u001b[38;5;130;01m\\\\\u001b[39;00m\u001b[38;5;124msizes.json\u001b[39m\u001b[38;5;124m'\u001b[39m, \u001b[38;5;124m'\u001b[39m\u001b[38;5;124mw\u001b[39m\u001b[38;5;124m'\u001b[39m, encoding\u001b[38;5;241m=\u001b[39m\u001b[38;5;124m'\u001b[39m\u001b[38;5;124mutf8\u001b[39m\u001b[38;5;124m'\u001b[39m) \u001b[38;5;28;01mas\u001b[39;00m f:\n\u001b[1;32m---> 37\u001b[0m     \u001b[43mjson\u001b[49m\u001b[38;5;241;43m.\u001b[39;49m\u001b[43mdump\u001b[49m\u001b[43m(\u001b[49m\u001b[38;5;28;43mlist\u001b[39;49m\u001b[43m(\u001b[49m\u001b[43mt2v\u001b[49m\u001b[38;5;241;43m.\u001b[39;49m\u001b[43mget_topic_sizes\u001b[49m\u001b[43m(\u001b[49m\u001b[43mreduced\u001b[49m\u001b[38;5;241;43m=\u001b[39;49m\u001b[38;5;28;43;01mTrue\u001b[39;49;00m\u001b[43m)\u001b[49m\u001b[43m[\u001b[49m\u001b[38;5;241;43m0\u001b[39;49m\u001b[43m]\u001b[49m\u001b[43m)\u001b[49m\u001b[43m,\u001b[49m\u001b[43m \u001b[49m\u001b[43mf\u001b[49m\u001b[43m)\u001b[49m\n\u001b[0;32m     40\u001b[0m \u001b[38;5;28mprint\u001b[39m(\u001b[38;5;124m'\u001b[39m\u001b[38;5;124mFinished\u001b[39m\u001b[38;5;124m'\u001b[39m)\n",
      "File \u001b[1;32m~\\AppData\\Local\\Programs\\Python\\Python39\\lib\\json\\__init__.py:179\u001b[0m, in \u001b[0;36mdump\u001b[1;34m(obj, fp, skipkeys, ensure_ascii, check_circular, allow_nan, cls, indent, separators, default, sort_keys, **kw)\u001b[0m\n\u001b[0;32m    173\u001b[0m     iterable \u001b[38;5;241m=\u001b[39m \u001b[38;5;28mcls\u001b[39m(skipkeys\u001b[38;5;241m=\u001b[39mskipkeys, ensure_ascii\u001b[38;5;241m=\u001b[39mensure_ascii,\n\u001b[0;32m    174\u001b[0m         check_circular\u001b[38;5;241m=\u001b[39mcheck_circular, allow_nan\u001b[38;5;241m=\u001b[39mallow_nan, indent\u001b[38;5;241m=\u001b[39mindent,\n\u001b[0;32m    175\u001b[0m         separators\u001b[38;5;241m=\u001b[39mseparators,\n\u001b[0;32m    176\u001b[0m         default\u001b[38;5;241m=\u001b[39mdefault, sort_keys\u001b[38;5;241m=\u001b[39msort_keys, \u001b[38;5;241m*\u001b[39m\u001b[38;5;241m*\u001b[39mkw)\u001b[38;5;241m.\u001b[39miterencode(obj)\n\u001b[0;32m    177\u001b[0m \u001b[38;5;66;03m# could accelerate with writelines in some versions of Python, at\u001b[39;00m\n\u001b[0;32m    178\u001b[0m \u001b[38;5;66;03m# a debuggability cost\u001b[39;00m\n\u001b[1;32m--> 179\u001b[0m \u001b[38;5;28;01mfor\u001b[39;00m chunk \u001b[38;5;129;01min\u001b[39;00m iterable:\n\u001b[0;32m    180\u001b[0m     fp\u001b[38;5;241m.\u001b[39mwrite(chunk)\n",
      "File \u001b[1;32m~\\AppData\\Local\\Programs\\Python\\Python39\\lib\\json\\encoder.py:429\u001b[0m, in \u001b[0;36m_make_iterencode.<locals>._iterencode\u001b[1;34m(o, _current_indent_level)\u001b[0m\n\u001b[0;32m    427\u001b[0m     \u001b[38;5;28;01myield\u001b[39;00m _floatstr(o)\n\u001b[0;32m    428\u001b[0m \u001b[38;5;28;01melif\u001b[39;00m \u001b[38;5;28misinstance\u001b[39m(o, (\u001b[38;5;28mlist\u001b[39m, \u001b[38;5;28mtuple\u001b[39m)):\n\u001b[1;32m--> 429\u001b[0m     \u001b[38;5;28;01myield from\u001b[39;00m _iterencode_list(o, _current_indent_level)\n\u001b[0;32m    430\u001b[0m \u001b[38;5;28;01melif\u001b[39;00m \u001b[38;5;28misinstance\u001b[39m(o, \u001b[38;5;28mdict\u001b[39m):\n\u001b[0;32m    431\u001b[0m     \u001b[38;5;28;01myield from\u001b[39;00m _iterencode_dict(o, _current_indent_level)\n",
      "File \u001b[1;32m~\\AppData\\Local\\Programs\\Python\\Python39\\lib\\json\\encoder.py:325\u001b[0m, in \u001b[0;36m_make_iterencode.<locals>._iterencode_list\u001b[1;34m(lst, _current_indent_level)\u001b[0m\n\u001b[0;32m    323\u001b[0m         \u001b[38;5;28;01melse\u001b[39;00m:\n\u001b[0;32m    324\u001b[0m             chunks \u001b[38;5;241m=\u001b[39m _iterencode(value, _current_indent_level)\n\u001b[1;32m--> 325\u001b[0m         \u001b[38;5;28;01myield from\u001b[39;00m chunks\n\u001b[0;32m    326\u001b[0m \u001b[38;5;28;01mif\u001b[39;00m newline_indent \u001b[38;5;129;01mis\u001b[39;00m \u001b[38;5;129;01mnot\u001b[39;00m \u001b[38;5;28;01mNone\u001b[39;00m:\n\u001b[0;32m    327\u001b[0m     _current_indent_level \u001b[38;5;241m-\u001b[39m\u001b[38;5;241m=\u001b[39m \u001b[38;5;241m1\u001b[39m\n",
      "File \u001b[1;32m~\\AppData\\Local\\Programs\\Python\\Python39\\lib\\json\\encoder.py:438\u001b[0m, in \u001b[0;36m_make_iterencode.<locals>._iterencode\u001b[1;34m(o, _current_indent_level)\u001b[0m\n\u001b[0;32m    436\u001b[0m         \u001b[38;5;28;01mraise\u001b[39;00m \u001b[38;5;167;01mValueError\u001b[39;00m(\u001b[38;5;124m\"\u001b[39m\u001b[38;5;124mCircular reference detected\u001b[39m\u001b[38;5;124m\"\u001b[39m)\n\u001b[0;32m    437\u001b[0m     markers[markerid] \u001b[38;5;241m=\u001b[39m o\n\u001b[1;32m--> 438\u001b[0m o \u001b[38;5;241m=\u001b[39m \u001b[43m_default\u001b[49m\u001b[43m(\u001b[49m\u001b[43mo\u001b[49m\u001b[43m)\u001b[49m\n\u001b[0;32m    439\u001b[0m \u001b[38;5;28;01myield from\u001b[39;00m _iterencode(o, _current_indent_level)\n\u001b[0;32m    440\u001b[0m \u001b[38;5;28;01mif\u001b[39;00m markers \u001b[38;5;129;01mis\u001b[39;00m \u001b[38;5;129;01mnot\u001b[39;00m \u001b[38;5;28;01mNone\u001b[39;00m:\n",
      "File \u001b[1;32m~\\AppData\\Local\\Programs\\Python\\Python39\\lib\\json\\encoder.py:179\u001b[0m, in \u001b[0;36mJSONEncoder.default\u001b[1;34m(self, o)\u001b[0m\n\u001b[0;32m    160\u001b[0m \u001b[38;5;28;01mdef\u001b[39;00m \u001b[38;5;21mdefault\u001b[39m(\u001b[38;5;28mself\u001b[39m, o):\n\u001b[0;32m    161\u001b[0m     \u001b[38;5;124;03m\"\"\"Implement this method in a subclass such that it returns\u001b[39;00m\n\u001b[0;32m    162\u001b[0m \u001b[38;5;124;03m    a serializable object for ``o``, or calls the base implementation\u001b[39;00m\n\u001b[0;32m    163\u001b[0m \u001b[38;5;124;03m    (to raise a ``TypeError``).\u001b[39;00m\n\u001b[1;32m   (...)\u001b[0m\n\u001b[0;32m    177\u001b[0m \n\u001b[0;32m    178\u001b[0m \u001b[38;5;124;03m    \"\"\"\u001b[39;00m\n\u001b[1;32m--> 179\u001b[0m     \u001b[38;5;28;01mraise\u001b[39;00m \u001b[38;5;167;01mTypeError\u001b[39;00m(\u001b[38;5;124mf\u001b[39m\u001b[38;5;124m'\u001b[39m\u001b[38;5;124mObject of type \u001b[39m\u001b[38;5;132;01m{\u001b[39;00mo\u001b[38;5;241m.\u001b[39m\u001b[38;5;18m__class__\u001b[39m\u001b[38;5;241m.\u001b[39m\u001b[38;5;18m__name__\u001b[39m\u001b[38;5;132;01m}\u001b[39;00m\u001b[38;5;124m \u001b[39m\u001b[38;5;124m'\u001b[39m\n\u001b[0;32m    180\u001b[0m                     \u001b[38;5;124mf\u001b[39m\u001b[38;5;124m'\u001b[39m\u001b[38;5;124mis not JSON serializable\u001b[39m\u001b[38;5;124m'\u001b[39m)\n",
      "\u001b[1;31mTypeError\u001b[0m: Object of type int64 is not JSON serializable"
     ]
    },
    {
     "data": {
      "text/plain": [
       "<Figure size 1200x400 with 0 Axes>"
      ]
     },
     "metadata": {},
     "output_type": "display_data"
    },
    {
     "data": {
      "text/plain": [
       "<Figure size 1200x400 with 0 Axes>"
      ]
     },
     "metadata": {},
     "output_type": "display_data"
    },
    {
     "data": {
      "text/plain": [
       "<Figure size 1200x400 with 0 Axes>"
      ]
     },
     "metadata": {},
     "output_type": "display_data"
    },
    {
     "data": {
      "text/plain": [
       "<Figure size 1200x400 with 0 Axes>"
      ]
     },
     "metadata": {},
     "output_type": "display_data"
    },
    {
     "data": {
      "text/plain": [
       "<Figure size 1200x400 with 0 Axes>"
      ]
     },
     "metadata": {},
     "output_type": "display_data"
    },
    {
     "data": {
      "text/plain": [
       "<Figure size 1200x400 with 0 Axes>"
      ]
     },
     "metadata": {},
     "output_type": "display_data"
    },
    {
     "data": {
      "text/plain": [
       "<Figure size 1200x400 with 0 Axes>"
      ]
     },
     "metadata": {},
     "output_type": "display_data"
    },
    {
     "data": {
      "text/plain": [
       "<Figure size 1200x400 with 0 Axes>"
      ]
     },
     "metadata": {},
     "output_type": "display_data"
    },
    {
     "data": {
      "text/plain": [
       "<Figure size 1200x400 with 0 Axes>"
      ]
     },
     "metadata": {},
     "output_type": "display_data"
    },
    {
     "data": {
      "text/plain": [
       "<Figure size 1200x400 with 0 Axes>"
      ]
     },
     "metadata": {},
     "output_type": "display_data"
    },
    {
     "data": {
      "text/plain": [
       "<Figure size 1200x400 with 0 Axes>"
      ]
     },
     "metadata": {},
     "output_type": "display_data"
    },
    {
     "data": {
      "text/plain": [
       "<Figure size 1200x400 with 0 Axes>"
      ]
     },
     "metadata": {},
     "output_type": "display_data"
    },
    {
     "data": {
      "text/plain": [
       "<Figure size 1200x400 with 0 Axes>"
      ]
     },
     "metadata": {},
     "output_type": "display_data"
    },
    {
     "data": {
      "text/plain": [
       "<Figure size 1200x400 with 0 Axes>"
      ]
     },
     "metadata": {},
     "output_type": "display_data"
    },
    {
     "data": {
      "text/plain": [
       "<Figure size 1200x400 with 0 Axes>"
      ]
     },
     "metadata": {},
     "output_type": "display_data"
    },
    {
     "data": {
      "text/plain": [
       "<Figure size 1200x400 with 0 Axes>"
      ]
     },
     "metadata": {},
     "output_type": "display_data"
    },
    {
     "data": {
      "text/plain": [
       "<Figure size 1200x400 with 0 Axes>"
      ]
     },
     "metadata": {},
     "output_type": "display_data"
    },
    {
     "data": {
      "text/plain": [
       "<Figure size 1200x400 with 0 Axes>"
      ]
     },
     "metadata": {},
     "output_type": "display_data"
    },
    {
     "data": {
      "text/plain": [
       "<Figure size 1200x400 with 0 Axes>"
      ]
     },
     "metadata": {},
     "output_type": "display_data"
    },
    {
     "data": {
      "text/plain": [
       "<Figure size 1200x400 with 0 Axes>"
      ]
     },
     "metadata": {},
     "output_type": "display_data"
    },
    {
     "data": {
      "text/plain": [
       "<Figure size 1200x400 with 0 Axes>"
      ]
     },
     "metadata": {},
     "output_type": "display_data"
    },
    {
     "data": {
      "text/plain": [
       "<Figure size 1200x400 with 0 Axes>"
      ]
     },
     "metadata": {},
     "output_type": "display_data"
    },
    {
     "data": {
      "text/plain": [
       "<Figure size 1200x400 with 0 Axes>"
      ]
     },
     "metadata": {},
     "output_type": "display_data"
    },
    {
     "data": {
      "text/plain": [
       "<Figure size 1200x400 with 0 Axes>"
      ]
     },
     "metadata": {},
     "output_type": "display_data"
    },
    {
     "data": {
      "text/plain": [
       "<Figure size 1200x400 with 0 Axes>"
      ]
     },
     "metadata": {},
     "output_type": "display_data"
    },
    {
     "data": {
      "text/plain": [
       "<Figure size 1200x400 with 0 Axes>"
      ]
     },
     "metadata": {},
     "output_type": "display_data"
    },
    {
     "data": {
      "text/plain": [
       "<Figure size 1200x400 with 0 Axes>"
      ]
     },
     "metadata": {},
     "output_type": "display_data"
    },
    {
     "data": {
      "text/plain": [
       "<Figure size 1200x400 with 0 Axes>"
      ]
     },
     "metadata": {},
     "output_type": "display_data"
    },
    {
     "data": {
      "text/plain": [
       "<Figure size 1200x400 with 0 Axes>"
      ]
     },
     "metadata": {},
     "output_type": "display_data"
    },
    {
     "data": {
      "text/plain": [
       "<Figure size 1200x400 with 0 Axes>"
      ]
     },
     "metadata": {},
     "output_type": "display_data"
    },
    {
     "data": {
      "text/plain": [
       "<Figure size 1200x400 with 0 Axes>"
      ]
     },
     "metadata": {},
     "output_type": "display_data"
    },
    {
     "data": {
      "text/plain": [
       "<Figure size 1200x400 with 0 Axes>"
      ]
     },
     "metadata": {},
     "output_type": "display_data"
    },
    {
     "data": {
      "text/plain": [
       "<Figure size 1200x400 with 0 Axes>"
      ]
     },
     "metadata": {},
     "output_type": "display_data"
    },
    {
     "data": {
      "text/plain": [
       "<Figure size 1200x400 with 0 Axes>"
      ]
     },
     "metadata": {},
     "output_type": "display_data"
    },
    {
     "data": {
      "text/plain": [
       "<Figure size 1200x400 with 0 Axes>"
      ]
     },
     "metadata": {},
     "output_type": "display_data"
    },
    {
     "data": {
      "text/plain": [
       "<Figure size 1200x400 with 0 Axes>"
      ]
     },
     "metadata": {},
     "output_type": "display_data"
    },
    {
     "data": {
      "text/plain": [
       "<Figure size 1200x400 with 0 Axes>"
      ]
     },
     "metadata": {},
     "output_type": "display_data"
    },
    {
     "data": {
      "text/plain": [
       "<Figure size 1200x400 with 0 Axes>"
      ]
     },
     "metadata": {},
     "output_type": "display_data"
    },
    {
     "data": {
      "text/plain": [
       "<Figure size 1200x400 with 0 Axes>"
      ]
     },
     "metadata": {},
     "output_type": "display_data"
    },
    {
     "data": {
      "text/plain": [
       "<Figure size 1200x400 with 0 Axes>"
      ]
     },
     "metadata": {},
     "output_type": "display_data"
    },
    {
     "data": {
      "text/plain": [
       "<Figure size 1200x400 with 0 Axes>"
      ]
     },
     "metadata": {},
     "output_type": "display_data"
    },
    {
     "data": {
      "text/plain": [
       "<Figure size 1200x400 with 0 Axes>"
      ]
     },
     "metadata": {},
     "output_type": "display_data"
    },
    {
     "data": {
      "text/plain": [
       "<Figure size 1200x400 with 0 Axes>"
      ]
     },
     "metadata": {},
     "output_type": "display_data"
    },
    {
     "data": {
      "text/plain": [
       "<Figure size 1200x400 with 0 Axes>"
      ]
     },
     "metadata": {},
     "output_type": "display_data"
    },
    {
     "data": {
      "text/plain": [
       "<Figure size 1200x400 with 0 Axes>"
      ]
     },
     "metadata": {},
     "output_type": "display_data"
    },
    {
     "data": {
      "text/plain": [
       "<Figure size 1200x400 with 0 Axes>"
      ]
     },
     "metadata": {},
     "output_type": "display_data"
    },
    {
     "data": {
      "text/plain": [
       "<Figure size 1200x400 with 0 Axes>"
      ]
     },
     "metadata": {},
     "output_type": "display_data"
    },
    {
     "data": {
      "text/plain": [
       "<Figure size 1200x400 with 0 Axes>"
      ]
     },
     "metadata": {},
     "output_type": "display_data"
    },
    {
     "data": {
      "text/plain": [
       "<Figure size 1200x400 with 0 Axes>"
      ]
     },
     "metadata": {},
     "output_type": "display_data"
    },
    {
     "data": {
      "text/plain": [
       "<Figure size 1200x400 with 0 Axes>"
      ]
     },
     "metadata": {},
     "output_type": "display_data"
    },
    {
     "data": {
      "text/plain": [
       "<Figure size 1200x400 with 0 Axes>"
      ]
     },
     "metadata": {},
     "output_type": "display_data"
    },
    {
     "data": {
      "text/plain": [
       "<Figure size 1200x400 with 0 Axes>"
      ]
     },
     "metadata": {},
     "output_type": "display_data"
    },
    {
     "data": {
      "text/plain": [
       "<Figure size 1200x400 with 0 Axes>"
      ]
     },
     "metadata": {},
     "output_type": "display_data"
    },
    {
     "data": {
      "text/plain": [
       "<Figure size 1200x400 with 0 Axes>"
      ]
     },
     "metadata": {},
     "output_type": "display_data"
    },
    {
     "data": {
      "text/plain": [
       "<Figure size 1200x400 with 0 Axes>"
      ]
     },
     "metadata": {},
     "output_type": "display_data"
    },
    {
     "data": {
      "text/plain": [
       "<Figure size 1200x400 with 0 Axes>"
      ]
     },
     "metadata": {},
     "output_type": "display_data"
    },
    {
     "data": {
      "text/plain": [
       "<Figure size 1200x400 with 0 Axes>"
      ]
     },
     "metadata": {},
     "output_type": "display_data"
    },
    {
     "data": {
      "text/plain": [
       "<Figure size 1200x400 with 0 Axes>"
      ]
     },
     "metadata": {},
     "output_type": "display_data"
    },
    {
     "data": {
      "text/plain": [
       "<Figure size 1200x400 with 0 Axes>"
      ]
     },
     "metadata": {},
     "output_type": "display_data"
    },
    {
     "data": {
      "text/plain": [
       "<Figure size 1200x400 with 0 Axes>"
      ]
     },
     "metadata": {},
     "output_type": "display_data"
    }
   ],
   "source": [
    "create_topic_data_for_streamlit(30)"
   ]
  },
  {
   "cell_type": "code",
   "execution_count": 73,
   "id": "e40bc1a2",
   "metadata": {},
   "outputs": [
    {
     "data": {
      "text/plain": [
       "(array([['glucklichen', 'vaterlande', 'monarchen', ..., 'hegen',\n",
       "         'gesegneten', 'vorfahren'],\n",
       "        ['fenster', 'verwundungen', 'herbeigeeilten', ..., 'bette',\n",
       "         'gebaudes', 'cafe'],\n",
       "        ['kronprinzessin', 'herrschaften', 'großherzogin', ..., 'tafel',\n",
       "         'wildbad', 'dejeuner'],\n",
       "        ...,\n",
       "        ['fadrelandet', 'schleswiger', 'tidende', ..., 'lutland', 'alsen',\n",
       "         'amtmann'],\n",
       "        ['kabul', 'kandahar', 'afghanen', ..., 'chans', 'sherman',\n",
       "         'indischen'],\n",
       "        ['leck', 'gestrandet', 'capt', ..., 'schisse', 'swinemunde',\n",
       "         'leuchtthurm']], dtype='<U15'),\n",
       " array([[0.3396978 , 0.33911005, 0.3291845 , ..., 0.28249878, 0.28050393,\n",
       "         0.2799642 ],\n",
       "        [0.37023726, 0.36475134, 0.34743145, ..., 0.2804574 , 0.2802178 ,\n",
       "         0.2792428 ],\n",
       "        [0.4047632 , 0.36916208, 0.36513352, ..., 0.29873458, 0.29775003,\n",
       "         0.29765713],\n",
       "        ...,\n",
       "        [0.45485786, 0.43966633, 0.43200186, ..., 0.3186217 , 0.31583238,\n",
       "         0.31138426],\n",
       "        [0.46812308, 0.45908725, 0.42764795, ..., 0.27254632, 0.26953676,\n",
       "         0.26857153],\n",
       "        [0.5109858 , 0.5010476 , 0.49126518, ..., 0.32562166, 0.32536396,\n",
       "         0.32146594]], dtype=float32),\n",
       " array([ 0,  1,  2,  3,  4,  5,  6,  7,  8,  9, 10, 11, 12, 13, 14, 15, 16,\n",
       "        17, 18, 19, 20, 21, 22, 23, 24, 25, 26, 27, 28, 29]))"
      ]
     },
     "execution_count": 73,
     "metadata": {},
     "output_type": "execute_result"
    }
   ],
   "source": [
    "t2v.get_topics(reduced=True)"
   ]
  }
 ],
 "metadata": {
  "kernelspec": {
   "display_name": "acta_env",
   "language": "python",
   "name": "acta_env"
  },
  "language_info": {
   "codemirror_mode": {
    "name": "ipython",
    "version": 3
   },
   "file_extension": ".py",
   "mimetype": "text/x-python",
   "name": "python",
   "nbconvert_exporter": "python",
   "pygments_lexer": "ipython3",
   "version": "3.9.12"
  }
 },
 "nbformat": 4,
 "nbformat_minor": 5
}
