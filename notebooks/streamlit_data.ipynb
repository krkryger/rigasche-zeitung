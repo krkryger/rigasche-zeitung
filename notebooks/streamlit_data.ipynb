{
 "cells": [
  {
   "cell_type": "code",
   "execution_count": 29,
   "id": "fdfaa00e",
   "metadata": {},
   "outputs": [],
   "source": [
    "import numpy as np\n",
    "import pandas as pd\n",
    "from tqdm import tqdm\n",
    "import matplotlib\n",
    "import matplotlib.pyplot as plt\n",
    "import matplotlib.font_manager as fm\n",
    "import json\n",
    "import string\n",
    "from top2vec import Top2Vec\n",
    "import multiprocessing\n",
    "from scipy.special import softmax\n",
    "from wordcloud import WordCloud\n",
    "import os"
   ]
  },
  {
   "cell_type": "code",
   "execution_count": 3,
   "id": "1e15a2ad",
   "metadata": {},
   "outputs": [],
   "source": [
    "rz = pd.read_parquet('../data/raw/RZ_processed.parquet')"
   ]
  },
  {
   "cell_type": "code",
   "execution_count": 42,
   "id": "f8c3a679",
   "metadata": {},
   "outputs": [],
   "source": [
    "df = pd.read_csv('../data/processed_data.tsv', sep='\\t', encoding='utf8').convert_dtypes()\n",
    "df.doc_date = pd.to_datetime(df.doc_date)\n",
    "df.origin_date = pd.to_datetime(df.origin_date)\n",
    "df['doc_year'] = df.doc_date.dt.year"
   ]
  },
  {
   "cell_type": "code",
   "execution_count": 5,
   "id": "4a49a6cc",
   "metadata": {},
   "outputs": [],
   "source": [
    "places = pd.read_csv('../data/places/places.tsv', sep='\\t', encoding='utf8')"
   ]
  },
  {
   "cell_type": "code",
   "execution_count": 22,
   "id": "12e9bfe9",
   "metadata": {},
   "outputs": [],
   "source": [
    "t2v = Top2Vec.load('../data/models/t2v_211122_100_deep.pkl')"
   ]
  },
  {
   "cell_type": "code",
   "execution_count": 2,
   "id": "f88d7ca7",
   "metadata": {},
   "outputs": [],
   "source": [
    "def define_plot_fonts():\n",
    "    fm.fontManager.addfont('../references/cmunorm.ttf')\n",
    "    matplotlib.rc('xtick', labelsize=14) \n",
    "    matplotlib.rc('ytick', labelsize=14)\n",
    "    matplotlib.rcParams['font.family'] = 'CMU Concrete'"
   ]
  },
  {
   "cell_type": "code",
   "execution_count": 8,
   "id": "6bdd6003",
   "metadata": {},
   "outputs": [],
   "source": [
    "def get_averages(place):\n",
    "    \n",
    "    return df[df.placename == place].groupby('doc_year')['delta'].mean().round(2).reindex(range(1802, 1889))"
   ]
  },
  {
   "cell_type": "code",
   "execution_count": 12,
   "id": "4fb83020",
   "metadata": {},
   "outputs": [],
   "source": [
    "def create_streamlit_df():\n",
    "    \n",
    "    data = {}\n",
    "    \n",
    "    for place in tqdm(places.placename.values):\n",
    "        data[place] = (get_averages(place).values)\n",
    "        \n",
    "    return pd.DataFrame(data, index=range(1802, 1889))"
   ]
  },
  {
   "cell_type": "code",
   "execution_count": 15,
   "id": "338c9826",
   "metadata": {},
   "outputs": [
    {
     "name": "stderr",
     "output_type": "stream",
     "text": [
      "100%|████████████████████████████████████████████████████████████████████████████████| 351/351 [00:10<00:00, 33.36it/s]\n"
     ]
    }
   ],
   "source": [
    "streamlit_df = create_streamlit_df()\n",
    "streamlit_df.to_csv('../streamlit/data/streamlit_data.tsv', sep='\\t')"
   ]
  },
  {
   "cell_type": "code",
   "execution_count": 17,
   "id": "8760aa0a",
   "metadata": {},
   "outputs": [],
   "source": [
    "def create_placename_counts():\n",
    "    placename_counts = {place: len(df[df.placename == place]) for place in places.placename}\n",
    "    with open('../streamlit/data/placename_counts.json', 'w', encoding='utf8') as f:\n",
    "        json.dump(placename_counts, f)"
   ]
  },
  {
   "cell_type": "code",
   "execution_count": 18,
   "id": "7bfa2887",
   "metadata": {},
   "outputs": [],
   "source": [
    "create_placename_counts()"
   ]
  },
  {
   "cell_type": "code",
   "execution_count": null,
   "id": "28f61976",
   "metadata": {},
   "outputs": [],
   "source": [
    "def get_season(origin_date):\n",
    "    if origin_date.month in range(4, 10):\n",
    "        return 's'\n",
    "    elif origin_date.month in [10, 11, 12, 1, 2, 3]:\n",
    "        return 'w'\n",
    "\n",
    "def write_place_files():\n",
    "    \n",
    "    for name in tqdm(places.placename.values):\n",
    "        place_df = pd.DataFrame(df.loc[df.placename == name, ['origin_date', 'doc_year', 'delta']].values,\n",
    "                        columns=['origin_date', 'year', 'delta'])\n",
    "        place_df['season'] = place_df.origin_date.apply(get_season)\n",
    "        place_df = place_df[['year', 'delta', 'season']]\n",
    "        place_df.to_csv(f'../streamlit/data/places/{name}.tsv', sep='\\t', encoding='utf8', index=False) "
   ]
  },
  {
   "cell_type": "code",
   "execution_count": null,
   "id": "b69960cc",
   "metadata": {},
   "outputs": [],
   "source": [
    "write_place_files()"
   ]
  },
  {
   "cell_type": "code",
   "execution_count": 26,
   "id": "6c1d2033",
   "metadata": {},
   "outputs": [],
   "source": [
    "def custom_topic_wordcloud(top, savepath=None, show=False):\n",
    "    \n",
    "    cloudwidth = 2400\n",
    "    cloudheight = 800\n",
    "    \n",
    "    topic_words = t2v.get_topics(reduced=True)[0][top]\n",
    "    word_scores = t2v.get_topics(reduced=True)[1][top]\n",
    "    \n",
    "    topic_words_dict = dict(zip(topic_words, softmax(word_scores)))\n",
    "    \n",
    "    wc = WordCloud(background_color='white', width=cloudwidth, height=cloudheight,\n",
    "                   font_path='../references/cmunrm.ttf')\n",
    "    \n",
    "    wc.generate_from_frequencies(topic_words_dict)\n",
    "    \n",
    "    plt.figure(figsize=(12, 4))\n",
    "    plt.imshow(wc)\n",
    "    plt.axis('off')\n",
    "        \n",
    "    plt.tight_layout()\n",
    "    \n",
    "    if savepath:\n",
    "        plt.savefig(f'{savepath}\\\\{top}.png', bbox_inches='tight')\n",
    "        \n",
    "    if show:\n",
    "        plt.show()\n",
    "    else:\n",
    "        plt.clf()"
   ]
  },
  {
   "cell_type": "code",
   "execution_count": 27,
   "id": "779e7955",
   "metadata": {},
   "outputs": [],
   "source": [
    "def get_topic_stats(top, savepath=None, show=False):\n",
    "    \n",
    "    topic_size = t2v.get_topic_sizes(reduced=True)[0][top]\n",
    "    topic_document_ids = t2v.search_documents_by_topic(top, topic_size, reduced=True)[2]\n",
    "    \n",
    "    doc_ids = [int(ID.split('_')[1]) for ID in topic_document_ids]\n",
    "    \n",
    "    top_df = rz.loc[doc_ids]\n",
    "    \n",
    "    define_plot_fonts()\n",
    "    fig, (ax1, ax2) = plt.subplots(1, 2, figsize=(12, 4))\n",
    "    \n",
    "    top_df.year.hist(bins=87, ax=ax1)\n",
    "    ax1.set_xlim(1802, 1889)\n",
    "    \n",
    "    top_df.heading2.value_counts()[:10].plot.bar(ax=ax2)\n",
    "    ax2.set_xticklabels(labels=top_df.heading2.value_counts()[:10].index, rotation=45, ha='right')\n",
    "        \n",
    "    if savepath:\n",
    "        plt.savefig(f'{savepath}\\\\topic_{str(top)}.png', bbox_inches='tight')\n",
    "    \n",
    "    if show:\n",
    "        plt.show()\n",
    "    else:\n",
    "        plt.clf()"
   ]
  },
  {
   "cell_type": "code",
   "execution_count": 38,
   "id": "162041b0",
   "metadata": {},
   "outputs": [],
   "source": [
    "def get_topic_examples(top, n, savepath=None):\n",
    "    \n",
    "    examples = t2v.search_documents_by_topic(top, n, reduced=True)[2]\n",
    "    \n",
    "    msg_ids = [int(ex.split('_')[0]) for ex in examples]\n",
    "    doc_ids = [int(ex.split('_')[1]) for ex in examples]\n",
    "        \n",
    "    example_texts = []\n",
    "    \n",
    "    for msg_id, doc_id in zip(msg_ids, doc_ids):\n",
    "        article = df.loc[df.doc_id == doc_id]\n",
    "        return article\n",
    "        \n",
    "        if len(article) == 1:# or article.index[-1] == msg_id:\n",
    "            span_start = article.start.values[0]\n",
    "            span_end = -1\n",
    "\n",
    "        elif len(article) > 1:\n",
    "            span_start = article.loc[msg_id, 'start']\n",
    "            span_end = article.loc[msg_id+1, 'start']\n",
    "            \n",
    "        example_texts.append(\n",
    "                                {\"msg_id\": msg_id,\n",
    "                                 \"doc_id\": doc_id,\n",
    "                                 \"date\": rz.loc[doc_id, 'date'],\n",
    "                                 \"heading\": rz.loc[doc_id, 'heading'],\n",
    "                                 \"text\": rz.loc[doc_id, 'full_text'][span_start:span_end]\n",
    "                                }\n",
    "                            )\n",
    "        \n",
    "    if savepath:\n",
    "        with open(savepath+'\\\\examples.json', 'w', encoding='utf8') as f:\n",
    "            json.dump(example_texts, f)\n",
    "            \n",
    "    return example_texts"
   ]
  },
  {
   "cell_type": "code",
   "execution_count": 39,
   "id": "79beae71",
   "metadata": {},
   "outputs": [
    {
     "data": {
      "text/plain": [
       "([86008, 79929, 86138, 126369], [123484, 117754, 123611, 153437])"
      ]
     },
     "execution_count": 39,
     "metadata": {},
     "output_type": "execute_result"
    }
   ],
   "source": [
    "get_topic_examples(40, 4)"
   ]
  },
  {
   "cell_type": "code",
   "execution_count": 44,
   "id": "f54f60da",
   "metadata": {},
   "outputs": [
    {
     "data": {
      "text/plain": [
       "False"
      ]
     },
     "execution_count": 44,
     "metadata": {},
     "output_type": "execute_result"
    }
   ],
   "source": [
    "123484 in df.doc_id.values"
   ]
  },
  {
   "cell_type": "code",
   "execution_count": 41,
   "id": "cd7bf91c",
   "metadata": {},
   "outputs": [
    {
     "data": {
      "text/html": [
       "<div>\n",
       "<style scoped>\n",
       "    .dataframe tbody tr th:only-of-type {\n",
       "        vertical-align: middle;\n",
       "    }\n",
       "\n",
       "    .dataframe tbody tr th {\n",
       "        vertical-align: top;\n",
       "    }\n",
       "\n",
       "    .dataframe thead th {\n",
       "        text-align: right;\n",
       "    }\n",
       "</style>\n",
       "<table border=\"1\" class=\"dataframe\">\n",
       "  <thead>\n",
       "    <tr style=\"text-align: right;\">\n",
       "      <th></th>\n",
       "      <th>doc_id</th>\n",
       "      <th>doc_date</th>\n",
       "      <th>placename</th>\n",
       "      <th>day</th>\n",
       "      <th>day2</th>\n",
       "      <th>month</th>\n",
       "      <th>month2</th>\n",
       "      <th>origin_year</th>\n",
       "      <th>start</th>\n",
       "      <th>end</th>\n",
       "      <th>origin_date</th>\n",
       "      <th>delta</th>\n",
       "      <th>doc_year</th>\n",
       "    </tr>\n",
       "  </thead>\n",
       "  <tbody>\n",
       "  </tbody>\n",
       "</table>\n",
       "</div>"
      ],
      "text/plain": [
       "Empty DataFrame\n",
       "Columns: [doc_id, doc_date, placename, day, day2, month, month2, origin_year, start, end, origin_date, delta, doc_year]\n",
       "Index: []"
      ]
     },
     "execution_count": 41,
     "metadata": {},
     "output_type": "execute_result"
    }
   ],
   "source": [
    "df.loc[df.doc_id == 123484]"
   ]
  },
  {
   "cell_type": "code",
   "execution_count": null,
   "id": "9aecf930",
   "metadata": {},
   "outputs": [],
   "source": [
    "def create_topic_data_for_streamlit(reduction):\n",
    "    \n",
    "    directory = f'C:\\\\Users\\\\krister\\\\py_projects\\\\rz_acta\\\\streamlit\\\\data\\\\topics\\\\reduction_{reduction}'    \n",
    "    if not os.path.exists(directory):\n",
    "        os.mkdir(directory)\n",
    "    \n",
    "    \n",
    "    print(f'Performing reduction to {reduction} topics')\n",
    "    t2v.hierarchical_topic_reduction(reduction)\n",
    "    \n",
    "    print('Generating wordclouds')\n",
    "    if not os.path.exists(directory+'\\\\wordclouds'):\n",
    "        os.mkdir(directory+'\\\\wordclouds')\n",
    "        \n",
    "    for top in tqdm(range(reduction)):\n",
    "        custom_topic_wordcloud(top, show=False, savepath=directory+'\\\\wordclouds')\n",
    "        \n",
    "    \n",
    "    print('Generating statistics')\n",
    "    if not os.path.exists(directory+'\\\\statistics'):\n",
    "        os.mkdir(directory+'\\\\statistics')\n",
    "        \n",
    "    for top in tqdm(range(reduction)):\n",
    "        get_topic_stats(top, show=False, savepath=directory+'\\\\statistics')\n",
    "        \n",
    "        \n",
    "    print('Fetching examples')\n",
    "    if not os.path.exists(directory+'\\\\examples'):\n",
    "        os.mkdir(directory+'\\\\examples')\n",
    "        \n",
    "    for top in tqdm(range(reduction)):\n",
    "        get_topic_examples(top, 10, directory+'\\\\examples')\n",
    "        \n",
    "        \n",
    "    print('Finished')"
   ]
  },
  {
   "cell_type": "code",
   "execution_count": null,
   "id": "f6db65c9",
   "metadata": {},
   "outputs": [],
   "source": []
  },
  {
   "cell_type": "code",
   "execution_count": null,
   "id": "3c432c83",
   "metadata": {},
   "outputs": [],
   "source": []
  },
  {
   "cell_type": "code",
   "execution_count": null,
   "id": "75792b15",
   "metadata": {},
   "outputs": [],
   "source": []
  },
  {
   "cell_type": "code",
   "execution_count": null,
   "id": "dde85cbb",
   "metadata": {},
   "outputs": [],
   "source": []
  },
  {
   "cell_type": "code",
   "execution_count": null,
   "id": "1136cc88",
   "metadata": {},
   "outputs": [],
   "source": []
  },
  {
   "cell_type": "code",
   "execution_count": null,
   "id": "2d5af747",
   "metadata": {},
   "outputs": [],
   "source": []
  },
  {
   "cell_type": "code",
   "execution_count": null,
   "id": "42c54bb2",
   "metadata": {},
   "outputs": [],
   "source": []
  },
  {
   "cell_type": "code",
   "execution_count": null,
   "id": "d3133caa",
   "metadata": {},
   "outputs": [],
   "source": []
  }
 ],
 "metadata": {
  "kernelspec": {
   "display_name": "acta_env",
   "language": "python",
   "name": "acta_env"
  },
  "language_info": {
   "codemirror_mode": {
    "name": "ipython",
    "version": 3
   },
   "file_extension": ".py",
   "mimetype": "text/x-python",
   "name": "python",
   "nbconvert_exporter": "python",
   "pygments_lexer": "ipython3",
   "version": "3.9.12"
  }
 },
 "nbformat": 4,
 "nbformat_minor": 5
}
