{
 "cells": [
  {
   "cell_type": "code",
   "execution_count": 7,
   "id": "fdfaa00e",
   "metadata": {},
   "outputs": [],
   "source": [
    "import numpy as np\n",
    "import pandas as pd\n",
    "from tqdm import tqdm\n",
    "import matplotlib\n",
    "import matplotlib.pyplot as plt\n",
    "import matplotlib.font_manager as fm\n",
    "import json\n",
    "import string\n",
    "from top2vec import Top2Vec\n",
    "import multiprocessing\n",
    "from scipy.special import softmax\n",
    "from wordcloud import WordCloud\n",
    "import os"
   ]
  },
  {
   "cell_type": "code",
   "execution_count": 2,
   "id": "1e15a2ad",
   "metadata": {},
   "outputs": [],
   "source": [
    "rz = pd.read_parquet('../data/raw/RZ_processed.parquet')"
   ]
  },
  {
   "cell_type": "code",
   "execution_count": 3,
   "id": "f8c3a679",
   "metadata": {},
   "outputs": [],
   "source": [
    "df = pd.read_csv('../data/processed_data.tsv', sep='\\t', encoding='utf8').convert_dtypes()\n",
    "df.doc_date = pd.to_datetime(df.doc_date)\n",
    "df.origin_date = pd.to_datetime(df.origin_date)\n",
    "df['doc_year'] = df.doc_date.dt.year"
   ]
  },
  {
   "cell_type": "code",
   "execution_count": 4,
   "id": "4a49a6cc",
   "metadata": {},
   "outputs": [],
   "source": [
    "places = pd.read_csv('../data/places/places.tsv', sep='\\t', encoding='utf8')"
   ]
  },
  {
   "cell_type": "code",
   "execution_count": 47,
   "id": "12e9bfe9",
   "metadata": {},
   "outputs": [],
   "source": [
    "t2v = Top2Vec.load('../data/models/t2v_211122_100_deep.pkl')"
   ]
  },
  {
   "cell_type": "code",
   "execution_count": 2,
   "id": "f88d7ca7",
   "metadata": {},
   "outputs": [],
   "source": [
    "def define_plot_fonts():\n",
    "    fm.fontManager.addfont('../references/cmunorm.ttf')\n",
    "    matplotlib.rc('xtick', labelsize=14) \n",
    "    matplotlib.rc('ytick', labelsize=14)\n",
    "    matplotlib.rcParams['font.family'] = 'CMU Concrete'"
   ]
  },
  {
   "cell_type": "code",
   "execution_count": 8,
   "id": "6bdd6003",
   "metadata": {},
   "outputs": [],
   "source": [
    "def get_averages(place):\n",
    "    \n",
    "    return df[df.placename == place].groupby('doc_year')['delta'].mean().round(2).reindex(range(1802, 1889))"
   ]
  },
  {
   "cell_type": "code",
   "execution_count": 12,
   "id": "4fb83020",
   "metadata": {},
   "outputs": [],
   "source": [
    "def create_streamlit_df():\n",
    "    \n",
    "    data = {}\n",
    "    \n",
    "    for place in tqdm(places.placename.values):\n",
    "        data[place] = (get_averages(place).values)\n",
    "        \n",
    "    return pd.DataFrame(data, index=range(1802, 1889))"
   ]
  },
  {
   "cell_type": "code",
   "execution_count": 15,
   "id": "338c9826",
   "metadata": {},
   "outputs": [
    {
     "name": "stderr",
     "output_type": "stream",
     "text": [
      "100%|████████████████████████████████████████████████████████████████████████████████| 351/351 [00:10<00:00, 33.36it/s]\n"
     ]
    }
   ],
   "source": [
    "streamlit_df = create_streamlit_df()\n",
    "streamlit_df.to_csv('../streamlit/data/streamlit_data.tsv', sep='\\t')"
   ]
  },
  {
   "cell_type": "code",
   "execution_count": 17,
   "id": "8760aa0a",
   "metadata": {},
   "outputs": [],
   "source": [
    "def create_placename_counts():\n",
    "    placename_counts = {place: len(df[df.placename == place]) for place in places.placename}\n",
    "    with open('../streamlit/data/placename_counts.json', 'w', encoding='utf8') as f:\n",
    "        json.dump(placename_counts, f)"
   ]
  },
  {
   "cell_type": "code",
   "execution_count": 18,
   "id": "7bfa2887",
   "metadata": {},
   "outputs": [],
   "source": [
    "create_placename_counts()"
   ]
  },
  {
   "cell_type": "code",
   "execution_count": null,
   "id": "28f61976",
   "metadata": {},
   "outputs": [],
   "source": [
    "def get_season(origin_date):\n",
    "    if origin_date.month in range(4, 10):\n",
    "        return 's'\n",
    "    elif origin_date.month in [10, 11, 12, 1, 2, 3]:\n",
    "        return 'w'\n",
    "\n",
    "def write_place_files():\n",
    "    \n",
    "    for name in tqdm(places.placename.values):\n",
    "        place_df = pd.DataFrame(df.loc[df.placename == name, ['origin_date', 'doc_year', 'delta']].values,\n",
    "                        columns=['origin_date', 'year', 'delta'])\n",
    "        place_df['season'] = place_df.origin_date.apply(get_season)\n",
    "        place_df = place_df[['year', 'delta', 'season']]\n",
    "        place_df.to_csv(f'../streamlit/data/places/{name}.tsv', sep='\\t', encoding='utf8', index=False) "
   ]
  },
  {
   "cell_type": "code",
   "execution_count": null,
   "id": "b69960cc",
   "metadata": {},
   "outputs": [],
   "source": [
    "write_place_files()"
   ]
  },
  {
   "cell_type": "code",
   "execution_count": 26,
   "id": "6c1d2033",
   "metadata": {},
   "outputs": [],
   "source": [
    "def custom_topic_wordcloud(top, savepath=None, show=False):\n",
    "    \n",
    "    cloudwidth = 2400\n",
    "    cloudheight = 800\n",
    "    \n",
    "    topic_words = t2v.get_topics(reduced=True)[0][top]\n",
    "    word_scores = t2v.get_topics(reduced=True)[1][top]\n",
    "    \n",
    "    topic_words_dict = dict(zip(topic_words, softmax(word_scores)))\n",
    "    \n",
    "    wc = WordCloud(background_color='white', width=cloudwidth, height=cloudheight,\n",
    "                   font_path='../references/cmunrm.ttf')\n",
    "    \n",
    "    wc.generate_from_frequencies(topic_words_dict)\n",
    "    \n",
    "    plt.figure(figsize=(12, 4))\n",
    "    plt.imshow(wc)\n",
    "    plt.axis('off')\n",
    "        \n",
    "    plt.tight_layout()\n",
    "    \n",
    "    if savepath:\n",
    "        plt.savefig(f'{savepath}\\\\{top}.png', bbox_inches='tight')\n",
    "        \n",
    "    if show:\n",
    "        plt.show()\n",
    "    else:\n",
    "        plt.clf()"
   ]
  },
  {
   "cell_type": "code",
   "execution_count": 27,
   "id": "779e7955",
   "metadata": {},
   "outputs": [],
   "source": [
    "def get_topic_stats(top, savepath=None, show=False):\n",
    "    \n",
    "    topic_size = t2v.get_topic_sizes(reduced=True)[0][top]\n",
    "    topic_document_ids = t2v.search_documents_by_topic(top, topic_size, reduced=True)[2]\n",
    "    \n",
    "    doc_ids = [int(ID.split('_')[1]) for ID in topic_document_ids]\n",
    "    \n",
    "    top_df = rz.loc[doc_ids]\n",
    "    \n",
    "    define_plot_fonts()\n",
    "    fig, (ax1, ax2) = plt.subplots(1, 2, figsize=(12, 4))\n",
    "    \n",
    "    top_df.year.hist(bins=87, ax=ax1)\n",
    "    ax1.set_xlim(1802, 1889)\n",
    "    \n",
    "    top_df.heading2.value_counts()[:10].plot.bar(ax=ax2)\n",
    "    ax2.set_xticklabels(labels=top_df.heading2.value_counts()[:10].index, rotation=45, ha='right')\n",
    "        \n",
    "    if savepath:\n",
    "        plt.savefig(f'{savepath}\\\\topic_{str(top)}.png', bbox_inches='tight')\n",
    "    \n",
    "    if show:\n",
    "        plt.show()\n",
    "    else:\n",
    "        plt.clf()"
   ]
  },
  {
   "cell_type": "code",
   "execution_count": 31,
   "id": "162041b0",
   "metadata": {},
   "outputs": [],
   "source": [
    "def get_topic_examples(top, n, savepath=None):\n",
    "    \n",
    "    examples = t2v.search_documents_by_topic(top, n, reduced=True)[2]\n",
    "    \n",
    "    msg_ids = [int(ex.split('_')[0]) for ex in examples]\n",
    "    doc_ids = [int(ex.split('_')[1]) for ex in examples]\n",
    "        \n",
    "    example_texts = []\n",
    "    \n",
    "    for msg_id, doc_id in zip(msg_ids, doc_ids):\n",
    "        article = df.loc[df.doc_id == doc_id]\n",
    "        \n",
    "        if len(article) == 1:\n",
    "            span_start = article.start.values[0]\n",
    "            span_end = -1\n",
    "    \n",
    "        elif article.index[-1] == msg_id:\n",
    "            print('here')\n",
    "            span_start = article.loc[msg_id, 'start']\n",
    "            span_end = -1\n",
    "            \n",
    "        elif len(article) > 1:\n",
    "            span_start = article.loc[msg_id, 'start']\n",
    "            span_end = article.loc[msg_id+1, 'start']\n",
    "            print(span_start, span_end)\n",
    "                    \n",
    "        example_texts.append(\n",
    "                                {\"msg_id\": msg_id,\n",
    "                                 \"doc_id\": doc_id,\n",
    "                                 \"date\": rz.loc[doc_id, 'date'],\n",
    "                                 \"heading\": rz.loc[doc_id, 'heading'],\n",
    "                                 \"text\": rz.loc[doc_id, 'full_text'][span_start:span_end]\n",
    "                                }\n",
    "                            )\n",
    "        \n",
    "    if savepath:\n",
    "        with open(savepath+f'\\\\examples_{top}.json', 'w', encoding='utf8') as f:\n",
    "            json.dump(example_texts, f)\n",
    "    else:\n",
    "        return example_texts"
   ]
  },
  {
   "cell_type": "code",
   "execution_count": 82,
   "id": "9aecf930",
   "metadata": {},
   "outputs": [],
   "source": [
    "def create_topic_data_for_streamlit(reduction):\n",
    "    \n",
    "    directory = f'C:\\\\Users\\\\krister\\\\py_projects\\\\rz_acta\\\\streamlit\\\\data\\\\topics\\\\reduction_{reduction}'    \n",
    "    if not os.path.exists(directory):\n",
    "        os.mkdir(directory)\n",
    "    \n",
    "    \n",
    "    print(f'Performing reduction to {reduction} topics')\n",
    "    t2v.hierarchical_topic_reduction(reduction)\n",
    "    \n",
    "    \n",
    "    print('Generating wordclouds')\n",
    "    if not os.path.exists(directory+'\\\\wordclouds'):\n",
    "        os.mkdir(directory+'\\\\wordclouds')\n",
    "        \n",
    "    for top in tqdm(range(reduction)):\n",
    "        custom_topic_wordcloud(top, show=False, savepath=directory+'\\\\wordclouds')\n",
    "        \n",
    "    \n",
    "    print('Generating statistics')\n",
    "    if not os.path.exists(directory+'\\\\statistics'):\n",
    "        os.mkdir(directory+'\\\\statistics')\n",
    "        \n",
    "    for top in tqdm(range(reduction)):\n",
    "        get_topic_stats(top, show=False, savepath=directory+'\\\\statistics')\n",
    "        \n",
    "        \n",
    "    print('Fetching examples')\n",
    "    if not os.path.exists(directory+'\\\\examples'):\n",
    "        os.mkdir(directory+'\\\\examples')\n",
    "        \n",
    "    for top in tqdm(range(reduction)):\n",
    "        get_topic_examples(top, 10, directory+'\\\\examples')\n",
    "        \n",
    "        \n",
    "    with open(directory+'\\\\sizes.json', 'w', encoding='utf8') as f:\n",
    "        sizes = [int(i) for i in list(t2v.get_topic_sizes(reduced=True)[0])]\n",
    "        json.dump(sizes, f)\n",
    "        \n",
    "        \n",
    "    print('Finished')"
   ]
  },
  {
   "cell_type": "code",
   "execution_count": 83,
   "id": "e40bc1a2",
   "metadata": {
    "scrolled": true
   },
   "outputs": [
    {
     "name": "stdout",
     "output_type": "stream",
     "text": [
      "Performing reduction to 15 topics\n",
      "Generating wordclouds\n"
     ]
    },
    {
     "name": "stderr",
     "output_type": "stream",
     "text": [
      "100%|██████████████████████████████████████████████████████████████████████████████████| 15/15 [01:11<00:00,  4.80s/it]\n"
     ]
    },
    {
     "name": "stdout",
     "output_type": "stream",
     "text": [
      "Generating statistics\n"
     ]
    },
    {
     "name": "stderr",
     "output_type": "stream",
     "text": [
      " 33%|███████████████████████████▋                                                       | 5/15 [00:04<00:09,  1.03it/s]C:\\Users\\krister\\AppData\\Local\\Temp\\ipykernel_13840\\2825017126.py:11: RuntimeWarning: More than 20 figures have been opened. Figures created through the pyplot interface (`matplotlib.pyplot.figure`) are retained until explicitly closed and may consume too much memory. (To control this warning, see the rcParam `figure.max_open_warning`). Consider using `matplotlib.pyplot.close()`.\n",
      "  fig, (ax1, ax2) = plt.subplots(1, 2, figsize=(12, 4))\n",
      "100%|██████████████████████████████████████████████████████████████████████████████████| 15/15 [00:14<00:00,  1.04it/s]\n"
     ]
    },
    {
     "name": "stdout",
     "output_type": "stream",
     "text": [
      "Fetching examples\n"
     ]
    },
    {
     "name": "stderr",
     "output_type": "stream",
     "text": [
      "100%|██████████████████████████████████████████████████████████████████████████████████| 15/15 [00:00<00:00, 27.87it/s]"
     ]
    },
    {
     "name": "stdout",
     "output_type": "stream",
     "text": [
      "Finished\n"
     ]
    },
    {
     "name": "stderr",
     "output_type": "stream",
     "text": [
      "\n"
     ]
    },
    {
     "data": {
      "text/plain": [
       "<Figure size 1200x400 with 0 Axes>"
      ]
     },
     "metadata": {},
     "output_type": "display_data"
    },
    {
     "data": {
      "text/plain": [
       "<Figure size 1200x400 with 0 Axes>"
      ]
     },
     "metadata": {},
     "output_type": "display_data"
    },
    {
     "data": {
      "text/plain": [
       "<Figure size 1200x400 with 0 Axes>"
      ]
     },
     "metadata": {},
     "output_type": "display_data"
    },
    {
     "data": {
      "text/plain": [
       "<Figure size 1200x400 with 0 Axes>"
      ]
     },
     "metadata": {},
     "output_type": "display_data"
    },
    {
     "data": {
      "text/plain": [
       "<Figure size 1200x400 with 0 Axes>"
      ]
     },
     "metadata": {},
     "output_type": "display_data"
    },
    {
     "data": {
      "text/plain": [
       "<Figure size 1200x400 with 0 Axes>"
      ]
     },
     "metadata": {},
     "output_type": "display_data"
    },
    {
     "data": {
      "text/plain": [
       "<Figure size 1200x400 with 0 Axes>"
      ]
     },
     "metadata": {},
     "output_type": "display_data"
    },
    {
     "data": {
      "text/plain": [
       "<Figure size 1200x400 with 0 Axes>"
      ]
     },
     "metadata": {},
     "output_type": "display_data"
    },
    {
     "data": {
      "text/plain": [
       "<Figure size 1200x400 with 0 Axes>"
      ]
     },
     "metadata": {},
     "output_type": "display_data"
    },
    {
     "data": {
      "text/plain": [
       "<Figure size 1200x400 with 0 Axes>"
      ]
     },
     "metadata": {},
     "output_type": "display_data"
    },
    {
     "data": {
      "text/plain": [
       "<Figure size 1200x400 with 0 Axes>"
      ]
     },
     "metadata": {},
     "output_type": "display_data"
    },
    {
     "data": {
      "text/plain": [
       "<Figure size 1200x400 with 0 Axes>"
      ]
     },
     "metadata": {},
     "output_type": "display_data"
    },
    {
     "data": {
      "text/plain": [
       "<Figure size 1200x400 with 0 Axes>"
      ]
     },
     "metadata": {},
     "output_type": "display_data"
    },
    {
     "data": {
      "text/plain": [
       "<Figure size 1200x400 with 0 Axes>"
      ]
     },
     "metadata": {},
     "output_type": "display_data"
    },
    {
     "data": {
      "text/plain": [
       "<Figure size 1200x400 with 0 Axes>"
      ]
     },
     "metadata": {},
     "output_type": "display_data"
    },
    {
     "data": {
      "text/plain": [
       "<Figure size 1200x400 with 0 Axes>"
      ]
     },
     "metadata": {},
     "output_type": "display_data"
    },
    {
     "data": {
      "text/plain": [
       "<Figure size 1200x400 with 0 Axes>"
      ]
     },
     "metadata": {},
     "output_type": "display_data"
    },
    {
     "data": {
      "text/plain": [
       "<Figure size 1200x400 with 0 Axes>"
      ]
     },
     "metadata": {},
     "output_type": "display_data"
    },
    {
     "data": {
      "text/plain": [
       "<Figure size 1200x400 with 0 Axes>"
      ]
     },
     "metadata": {},
     "output_type": "display_data"
    },
    {
     "data": {
      "text/plain": [
       "<Figure size 1200x400 with 0 Axes>"
      ]
     },
     "metadata": {},
     "output_type": "display_data"
    },
    {
     "data": {
      "text/plain": [
       "<Figure size 1200x400 with 0 Axes>"
      ]
     },
     "metadata": {},
     "output_type": "display_data"
    },
    {
     "data": {
      "text/plain": [
       "<Figure size 1200x400 with 0 Axes>"
      ]
     },
     "metadata": {},
     "output_type": "display_data"
    },
    {
     "data": {
      "text/plain": [
       "<Figure size 1200x400 with 0 Axes>"
      ]
     },
     "metadata": {},
     "output_type": "display_data"
    },
    {
     "data": {
      "text/plain": [
       "<Figure size 1200x400 with 0 Axes>"
      ]
     },
     "metadata": {},
     "output_type": "display_data"
    },
    {
     "data": {
      "text/plain": [
       "<Figure size 1200x400 with 0 Axes>"
      ]
     },
     "metadata": {},
     "output_type": "display_data"
    },
    {
     "data": {
      "text/plain": [
       "<Figure size 1200x400 with 0 Axes>"
      ]
     },
     "metadata": {},
     "output_type": "display_data"
    },
    {
     "data": {
      "text/plain": [
       "<Figure size 1200x400 with 0 Axes>"
      ]
     },
     "metadata": {},
     "output_type": "display_data"
    },
    {
     "data": {
      "text/plain": [
       "<Figure size 1200x400 with 0 Axes>"
      ]
     },
     "metadata": {},
     "output_type": "display_data"
    },
    {
     "data": {
      "text/plain": [
       "<Figure size 1200x400 with 0 Axes>"
      ]
     },
     "metadata": {},
     "output_type": "display_data"
    },
    {
     "data": {
      "text/plain": [
       "<Figure size 1200x400 with 0 Axes>"
      ]
     },
     "metadata": {},
     "output_type": "display_data"
    }
   ],
   "source": [
    "create_topic_data_for_streamlit(15)"
   ]
  },
  {
   "cell_type": "code",
   "execution_count": 84,
   "id": "322d3e8e",
   "metadata": {},
   "outputs": [
    {
     "name": "stdout",
     "output_type": "stream",
     "text": [
      "Performing reduction to 30 topics\n",
      "Generating wordclouds\n"
     ]
    },
    {
     "name": "stderr",
     "output_type": "stream",
     "text": [
      " 67%|██████████████████████████████████████████████████████▋                           | 20/30 [01:31<00:45,  4.57s/it]C:\\Users\\krister\\AppData\\Local\\Temp\\ipykernel_13840\\1835710219.py:16: RuntimeWarning: More than 20 figures have been opened. Figures created through the pyplot interface (`matplotlib.pyplot.figure`) are retained until explicitly closed and may consume too much memory. (To control this warning, see the rcParam `figure.max_open_warning`). Consider using `matplotlib.pyplot.close()`.\n",
      "  plt.figure(figsize=(12, 4))\n",
      "100%|██████████████████████████████████████████████████████████████████████████████████| 30/30 [02:21<00:00,  4.70s/it]\n"
     ]
    },
    {
     "name": "stdout",
     "output_type": "stream",
     "text": [
      "Generating statistics\n"
     ]
    },
    {
     "name": "stderr",
     "output_type": "stream",
     "text": [
      "100%|██████████████████████████████████████████████████████████████████████████████████| 30/30 [00:35<00:00,  1.17s/it]\n"
     ]
    },
    {
     "name": "stdout",
     "output_type": "stream",
     "text": [
      "Fetching examples\n"
     ]
    },
    {
     "name": "stderr",
     "output_type": "stream",
     "text": [
      "100%|██████████████████████████████████████████████████████████████████████████████████| 30/30 [00:01<00:00, 24.88it/s]"
     ]
    },
    {
     "name": "stdout",
     "output_type": "stream",
     "text": [
      "Finished\n"
     ]
    },
    {
     "name": "stderr",
     "output_type": "stream",
     "text": [
      "\n"
     ]
    },
    {
     "data": {
      "text/plain": [
       "<Figure size 1200x400 with 0 Axes>"
      ]
     },
     "metadata": {},
     "output_type": "display_data"
    },
    {
     "data": {
      "text/plain": [
       "<Figure size 1200x400 with 0 Axes>"
      ]
     },
     "metadata": {},
     "output_type": "display_data"
    },
    {
     "data": {
      "text/plain": [
       "<Figure size 1200x400 with 0 Axes>"
      ]
     },
     "metadata": {},
     "output_type": "display_data"
    },
    {
     "data": {
      "text/plain": [
       "<Figure size 1200x400 with 0 Axes>"
      ]
     },
     "metadata": {},
     "output_type": "display_data"
    },
    {
     "data": {
      "text/plain": [
       "<Figure size 1200x400 with 0 Axes>"
      ]
     },
     "metadata": {},
     "output_type": "display_data"
    },
    {
     "data": {
      "text/plain": [
       "<Figure size 1200x400 with 0 Axes>"
      ]
     },
     "metadata": {},
     "output_type": "display_data"
    },
    {
     "data": {
      "text/plain": [
       "<Figure size 1200x400 with 0 Axes>"
      ]
     },
     "metadata": {},
     "output_type": "display_data"
    },
    {
     "data": {
      "text/plain": [
       "<Figure size 1200x400 with 0 Axes>"
      ]
     },
     "metadata": {},
     "output_type": "display_data"
    },
    {
     "data": {
      "text/plain": [
       "<Figure size 1200x400 with 0 Axes>"
      ]
     },
     "metadata": {},
     "output_type": "display_data"
    },
    {
     "data": {
      "text/plain": [
       "<Figure size 1200x400 with 0 Axes>"
      ]
     },
     "metadata": {},
     "output_type": "display_data"
    },
    {
     "data": {
      "text/plain": [
       "<Figure size 1200x400 with 0 Axes>"
      ]
     },
     "metadata": {},
     "output_type": "display_data"
    },
    {
     "data": {
      "text/plain": [
       "<Figure size 1200x400 with 0 Axes>"
      ]
     },
     "metadata": {},
     "output_type": "display_data"
    },
    {
     "data": {
      "text/plain": [
       "<Figure size 1200x400 with 0 Axes>"
      ]
     },
     "metadata": {},
     "output_type": "display_data"
    },
    {
     "data": {
      "text/plain": [
       "<Figure size 1200x400 with 0 Axes>"
      ]
     },
     "metadata": {},
     "output_type": "display_data"
    },
    {
     "data": {
      "text/plain": [
       "<Figure size 1200x400 with 0 Axes>"
      ]
     },
     "metadata": {},
     "output_type": "display_data"
    },
    {
     "data": {
      "text/plain": [
       "<Figure size 1200x400 with 0 Axes>"
      ]
     },
     "metadata": {},
     "output_type": "display_data"
    },
    {
     "data": {
      "text/plain": [
       "<Figure size 1200x400 with 0 Axes>"
      ]
     },
     "metadata": {},
     "output_type": "display_data"
    },
    {
     "data": {
      "text/plain": [
       "<Figure size 1200x400 with 0 Axes>"
      ]
     },
     "metadata": {},
     "output_type": "display_data"
    },
    {
     "data": {
      "text/plain": [
       "<Figure size 1200x400 with 0 Axes>"
      ]
     },
     "metadata": {},
     "output_type": "display_data"
    },
    {
     "data": {
      "text/plain": [
       "<Figure size 1200x400 with 0 Axes>"
      ]
     },
     "metadata": {},
     "output_type": "display_data"
    },
    {
     "data": {
      "text/plain": [
       "<Figure size 1200x400 with 0 Axes>"
      ]
     },
     "metadata": {},
     "output_type": "display_data"
    },
    {
     "data": {
      "text/plain": [
       "<Figure size 1200x400 with 0 Axes>"
      ]
     },
     "metadata": {},
     "output_type": "display_data"
    },
    {
     "data": {
      "text/plain": [
       "<Figure size 1200x400 with 0 Axes>"
      ]
     },
     "metadata": {},
     "output_type": "display_data"
    },
    {
     "data": {
      "text/plain": [
       "<Figure size 1200x400 with 0 Axes>"
      ]
     },
     "metadata": {},
     "output_type": "display_data"
    },
    {
     "data": {
      "text/plain": [
       "<Figure size 1200x400 with 0 Axes>"
      ]
     },
     "metadata": {},
     "output_type": "display_data"
    },
    {
     "data": {
      "text/plain": [
       "<Figure size 1200x400 with 0 Axes>"
      ]
     },
     "metadata": {},
     "output_type": "display_data"
    },
    {
     "data": {
      "text/plain": [
       "<Figure size 1200x400 with 0 Axes>"
      ]
     },
     "metadata": {},
     "output_type": "display_data"
    },
    {
     "data": {
      "text/plain": [
       "<Figure size 1200x400 with 0 Axes>"
      ]
     },
     "metadata": {},
     "output_type": "display_data"
    },
    {
     "data": {
      "text/plain": [
       "<Figure size 1200x400 with 0 Axes>"
      ]
     },
     "metadata": {},
     "output_type": "display_data"
    },
    {
     "data": {
      "text/plain": [
       "<Figure size 1200x400 with 0 Axes>"
      ]
     },
     "metadata": {},
     "output_type": "display_data"
    },
    {
     "data": {
      "text/plain": [
       "<Figure size 1200x400 with 0 Axes>"
      ]
     },
     "metadata": {},
     "output_type": "display_data"
    },
    {
     "data": {
      "text/plain": [
       "<Figure size 1200x400 with 0 Axes>"
      ]
     },
     "metadata": {},
     "output_type": "display_data"
    },
    {
     "data": {
      "text/plain": [
       "<Figure size 1200x400 with 0 Axes>"
      ]
     },
     "metadata": {},
     "output_type": "display_data"
    },
    {
     "data": {
      "text/plain": [
       "<Figure size 1200x400 with 0 Axes>"
      ]
     },
     "metadata": {},
     "output_type": "display_data"
    },
    {
     "data": {
      "text/plain": [
       "<Figure size 1200x400 with 0 Axes>"
      ]
     },
     "metadata": {},
     "output_type": "display_data"
    },
    {
     "data": {
      "text/plain": [
       "<Figure size 1200x400 with 0 Axes>"
      ]
     },
     "metadata": {},
     "output_type": "display_data"
    },
    {
     "data": {
      "text/plain": [
       "<Figure size 1200x400 with 0 Axes>"
      ]
     },
     "metadata": {},
     "output_type": "display_data"
    },
    {
     "data": {
      "text/plain": [
       "<Figure size 1200x400 with 0 Axes>"
      ]
     },
     "metadata": {},
     "output_type": "display_data"
    },
    {
     "data": {
      "text/plain": [
       "<Figure size 1200x400 with 0 Axes>"
      ]
     },
     "metadata": {},
     "output_type": "display_data"
    },
    {
     "data": {
      "text/plain": [
       "<Figure size 1200x400 with 0 Axes>"
      ]
     },
     "metadata": {},
     "output_type": "display_data"
    },
    {
     "data": {
      "text/plain": [
       "<Figure size 1200x400 with 0 Axes>"
      ]
     },
     "metadata": {},
     "output_type": "display_data"
    },
    {
     "data": {
      "text/plain": [
       "<Figure size 1200x400 with 0 Axes>"
      ]
     },
     "metadata": {},
     "output_type": "display_data"
    },
    {
     "data": {
      "text/plain": [
       "<Figure size 1200x400 with 0 Axes>"
      ]
     },
     "metadata": {},
     "output_type": "display_data"
    },
    {
     "data": {
      "text/plain": [
       "<Figure size 1200x400 with 0 Axes>"
      ]
     },
     "metadata": {},
     "output_type": "display_data"
    },
    {
     "data": {
      "text/plain": [
       "<Figure size 1200x400 with 0 Axes>"
      ]
     },
     "metadata": {},
     "output_type": "display_data"
    },
    {
     "data": {
      "text/plain": [
       "<Figure size 1200x400 with 0 Axes>"
      ]
     },
     "metadata": {},
     "output_type": "display_data"
    },
    {
     "data": {
      "text/plain": [
       "<Figure size 1200x400 with 0 Axes>"
      ]
     },
     "metadata": {},
     "output_type": "display_data"
    },
    {
     "data": {
      "text/plain": [
       "<Figure size 1200x400 with 0 Axes>"
      ]
     },
     "metadata": {},
     "output_type": "display_data"
    },
    {
     "data": {
      "text/plain": [
       "<Figure size 1200x400 with 0 Axes>"
      ]
     },
     "metadata": {},
     "output_type": "display_data"
    },
    {
     "data": {
      "text/plain": [
       "<Figure size 1200x400 with 0 Axes>"
      ]
     },
     "metadata": {},
     "output_type": "display_data"
    },
    {
     "data": {
      "text/plain": [
       "<Figure size 1200x400 with 0 Axes>"
      ]
     },
     "metadata": {},
     "output_type": "display_data"
    },
    {
     "data": {
      "text/plain": [
       "<Figure size 1200x400 with 0 Axes>"
      ]
     },
     "metadata": {},
     "output_type": "display_data"
    },
    {
     "data": {
      "text/plain": [
       "<Figure size 1200x400 with 0 Axes>"
      ]
     },
     "metadata": {},
     "output_type": "display_data"
    },
    {
     "data": {
      "text/plain": [
       "<Figure size 1200x400 with 0 Axes>"
      ]
     },
     "metadata": {},
     "output_type": "display_data"
    },
    {
     "data": {
      "text/plain": [
       "<Figure size 1200x400 with 0 Axes>"
      ]
     },
     "metadata": {},
     "output_type": "display_data"
    },
    {
     "data": {
      "text/plain": [
       "<Figure size 1200x400 with 0 Axes>"
      ]
     },
     "metadata": {},
     "output_type": "display_data"
    },
    {
     "data": {
      "text/plain": [
       "<Figure size 1200x400 with 0 Axes>"
      ]
     },
     "metadata": {},
     "output_type": "display_data"
    },
    {
     "data": {
      "text/plain": [
       "<Figure size 1200x400 with 0 Axes>"
      ]
     },
     "metadata": {},
     "output_type": "display_data"
    },
    {
     "data": {
      "text/plain": [
       "<Figure size 1200x400 with 0 Axes>"
      ]
     },
     "metadata": {},
     "output_type": "display_data"
    },
    {
     "data": {
      "text/plain": [
       "<Figure size 1200x400 with 0 Axes>"
      ]
     },
     "metadata": {},
     "output_type": "display_data"
    }
   ],
   "source": [
    "create_topic_data_for_streamlit(30)"
   ]
  },
  {
   "cell_type": "code",
   "execution_count": 79,
   "id": "16f02dee",
   "metadata": {},
   "outputs": [
    {
     "name": "stdout",
     "output_type": "stream",
     "text": [
      "Performing reduction to 60 topics\n",
      "Generating wordclouds\n"
     ]
    },
    {
     "name": "stderr",
     "output_type": "stream",
     "text": [
      " 33%|███████████████████████████▎                                                      | 20/60 [01:23<02:51,  4.29s/it]C:\\Users\\krister\\AppData\\Local\\Temp\\ipykernel_13840\\1835710219.py:16: RuntimeWarning: More than 20 figures have been opened. Figures created through the pyplot interface (`matplotlib.pyplot.figure`) are retained until explicitly closed and may consume too much memory. (To control this warning, see the rcParam `figure.max_open_warning`). Consider using `matplotlib.pyplot.close()`.\n",
      "  plt.figure(figsize=(12, 4))\n",
      "100%|██████████████████████████████████████████████████████████████████████████████████| 60/60 [05:31<00:00,  5.52s/it]\n"
     ]
    },
    {
     "name": "stdout",
     "output_type": "stream",
     "text": [
      "Generating statistics\n"
     ]
    },
    {
     "name": "stderr",
     "output_type": "stream",
     "text": [
      "100%|██████████████████████████████████████████████████████████████████████████████████| 60/60 [01:15<00:00,  1.25s/it]\n"
     ]
    },
    {
     "name": "stdout",
     "output_type": "stream",
     "text": [
      "Fetching examples\n"
     ]
    },
    {
     "name": "stderr",
     "output_type": "stream",
     "text": [
      "100%|██████████████████████████████████████████████████████████████████████████████████| 60/60 [00:02<00:00, 27.66it/s]\n"
     ]
    },
    {
     "name": "stdout",
     "output_type": "stream",
     "text": [
      "Finished\n"
     ]
    },
    {
     "data": {
      "text/plain": [
       "<Figure size 1200x400 with 0 Axes>"
      ]
     },
     "metadata": {},
     "output_type": "display_data"
    },
    {
     "data": {
      "text/plain": [
       "<Figure size 1200x400 with 0 Axes>"
      ]
     },
     "metadata": {},
     "output_type": "display_data"
    },
    {
     "data": {
      "text/plain": [
       "<Figure size 1200x400 with 0 Axes>"
      ]
     },
     "metadata": {},
     "output_type": "display_data"
    },
    {
     "data": {
      "text/plain": [
       "<Figure size 1200x400 with 0 Axes>"
      ]
     },
     "metadata": {},
     "output_type": "display_data"
    },
    {
     "data": {
      "text/plain": [
       "<Figure size 1200x400 with 0 Axes>"
      ]
     },
     "metadata": {},
     "output_type": "display_data"
    },
    {
     "data": {
      "text/plain": [
       "<Figure size 1200x400 with 0 Axes>"
      ]
     },
     "metadata": {},
     "output_type": "display_data"
    },
    {
     "data": {
      "text/plain": [
       "<Figure size 1200x400 with 0 Axes>"
      ]
     },
     "metadata": {},
     "output_type": "display_data"
    },
    {
     "data": {
      "text/plain": [
       "<Figure size 1200x400 with 0 Axes>"
      ]
     },
     "metadata": {},
     "output_type": "display_data"
    },
    {
     "data": {
      "text/plain": [
       "<Figure size 1200x400 with 0 Axes>"
      ]
     },
     "metadata": {},
     "output_type": "display_data"
    },
    {
     "data": {
      "text/plain": [
       "<Figure size 1200x400 with 0 Axes>"
      ]
     },
     "metadata": {},
     "output_type": "display_data"
    },
    {
     "data": {
      "text/plain": [
       "<Figure size 1200x400 with 0 Axes>"
      ]
     },
     "metadata": {},
     "output_type": "display_data"
    },
    {
     "data": {
      "text/plain": [
       "<Figure size 1200x400 with 0 Axes>"
      ]
     },
     "metadata": {},
     "output_type": "display_data"
    },
    {
     "data": {
      "text/plain": [
       "<Figure size 1200x400 with 0 Axes>"
      ]
     },
     "metadata": {},
     "output_type": "display_data"
    },
    {
     "data": {
      "text/plain": [
       "<Figure size 1200x400 with 0 Axes>"
      ]
     },
     "metadata": {},
     "output_type": "display_data"
    },
    {
     "data": {
      "text/plain": [
       "<Figure size 1200x400 with 0 Axes>"
      ]
     },
     "metadata": {},
     "output_type": "display_data"
    },
    {
     "data": {
      "text/plain": [
       "<Figure size 1200x400 with 0 Axes>"
      ]
     },
     "metadata": {},
     "output_type": "display_data"
    },
    {
     "data": {
      "text/plain": [
       "<Figure size 1200x400 with 0 Axes>"
      ]
     },
     "metadata": {},
     "output_type": "display_data"
    },
    {
     "data": {
      "text/plain": [
       "<Figure size 1200x400 with 0 Axes>"
      ]
     },
     "metadata": {},
     "output_type": "display_data"
    },
    {
     "data": {
      "text/plain": [
       "<Figure size 1200x400 with 0 Axes>"
      ]
     },
     "metadata": {},
     "output_type": "display_data"
    },
    {
     "data": {
      "text/plain": [
       "<Figure size 1200x400 with 0 Axes>"
      ]
     },
     "metadata": {},
     "output_type": "display_data"
    },
    {
     "data": {
      "text/plain": [
       "<Figure size 1200x400 with 0 Axes>"
      ]
     },
     "metadata": {},
     "output_type": "display_data"
    },
    {
     "data": {
      "text/plain": [
       "<Figure size 1200x400 with 0 Axes>"
      ]
     },
     "metadata": {},
     "output_type": "display_data"
    },
    {
     "data": {
      "text/plain": [
       "<Figure size 1200x400 with 0 Axes>"
      ]
     },
     "metadata": {},
     "output_type": "display_data"
    },
    {
     "data": {
      "text/plain": [
       "<Figure size 1200x400 with 0 Axes>"
      ]
     },
     "metadata": {},
     "output_type": "display_data"
    },
    {
     "data": {
      "text/plain": [
       "<Figure size 1200x400 with 0 Axes>"
      ]
     },
     "metadata": {},
     "output_type": "display_data"
    },
    {
     "data": {
      "text/plain": [
       "<Figure size 1200x400 with 0 Axes>"
      ]
     },
     "metadata": {},
     "output_type": "display_data"
    },
    {
     "data": {
      "text/plain": [
       "<Figure size 1200x400 with 0 Axes>"
      ]
     },
     "metadata": {},
     "output_type": "display_data"
    },
    {
     "data": {
      "text/plain": [
       "<Figure size 1200x400 with 0 Axes>"
      ]
     },
     "metadata": {},
     "output_type": "display_data"
    },
    {
     "data": {
      "text/plain": [
       "<Figure size 1200x400 with 0 Axes>"
      ]
     },
     "metadata": {},
     "output_type": "display_data"
    },
    {
     "data": {
      "text/plain": [
       "<Figure size 1200x400 with 0 Axes>"
      ]
     },
     "metadata": {},
     "output_type": "display_data"
    },
    {
     "data": {
      "text/plain": [
       "<Figure size 1200x400 with 0 Axes>"
      ]
     },
     "metadata": {},
     "output_type": "display_data"
    },
    {
     "data": {
      "text/plain": [
       "<Figure size 1200x400 with 0 Axes>"
      ]
     },
     "metadata": {},
     "output_type": "display_data"
    },
    {
     "data": {
      "text/plain": [
       "<Figure size 1200x400 with 0 Axes>"
      ]
     },
     "metadata": {},
     "output_type": "display_data"
    },
    {
     "data": {
      "text/plain": [
       "<Figure size 1200x400 with 0 Axes>"
      ]
     },
     "metadata": {},
     "output_type": "display_data"
    },
    {
     "data": {
      "text/plain": [
       "<Figure size 1200x400 with 0 Axes>"
      ]
     },
     "metadata": {},
     "output_type": "display_data"
    },
    {
     "data": {
      "text/plain": [
       "<Figure size 1200x400 with 0 Axes>"
      ]
     },
     "metadata": {},
     "output_type": "display_data"
    },
    {
     "data": {
      "text/plain": [
       "<Figure size 1200x400 with 0 Axes>"
      ]
     },
     "metadata": {},
     "output_type": "display_data"
    },
    {
     "data": {
      "text/plain": [
       "<Figure size 1200x400 with 0 Axes>"
      ]
     },
     "metadata": {},
     "output_type": "display_data"
    },
    {
     "data": {
      "text/plain": [
       "<Figure size 1200x400 with 0 Axes>"
      ]
     },
     "metadata": {},
     "output_type": "display_data"
    },
    {
     "data": {
      "text/plain": [
       "<Figure size 1200x400 with 0 Axes>"
      ]
     },
     "metadata": {},
     "output_type": "display_data"
    },
    {
     "data": {
      "text/plain": [
       "<Figure size 1200x400 with 0 Axes>"
      ]
     },
     "metadata": {},
     "output_type": "display_data"
    },
    {
     "data": {
      "text/plain": [
       "<Figure size 1200x400 with 0 Axes>"
      ]
     },
     "metadata": {},
     "output_type": "display_data"
    },
    {
     "data": {
      "text/plain": [
       "<Figure size 1200x400 with 0 Axes>"
      ]
     },
     "metadata": {},
     "output_type": "display_data"
    },
    {
     "data": {
      "text/plain": [
       "<Figure size 1200x400 with 0 Axes>"
      ]
     },
     "metadata": {},
     "output_type": "display_data"
    },
    {
     "data": {
      "text/plain": [
       "<Figure size 1200x400 with 0 Axes>"
      ]
     },
     "metadata": {},
     "output_type": "display_data"
    },
    {
     "data": {
      "text/plain": [
       "<Figure size 1200x400 with 0 Axes>"
      ]
     },
     "metadata": {},
     "output_type": "display_data"
    },
    {
     "data": {
      "text/plain": [
       "<Figure size 1200x400 with 0 Axes>"
      ]
     },
     "metadata": {},
     "output_type": "display_data"
    },
    {
     "data": {
      "text/plain": [
       "<Figure size 1200x400 with 0 Axes>"
      ]
     },
     "metadata": {},
     "output_type": "display_data"
    },
    {
     "data": {
      "text/plain": [
       "<Figure size 1200x400 with 0 Axes>"
      ]
     },
     "metadata": {},
     "output_type": "display_data"
    },
    {
     "data": {
      "text/plain": [
       "<Figure size 1200x400 with 0 Axes>"
      ]
     },
     "metadata": {},
     "output_type": "display_data"
    },
    {
     "data": {
      "text/plain": [
       "<Figure size 1200x400 with 0 Axes>"
      ]
     },
     "metadata": {},
     "output_type": "display_data"
    },
    {
     "data": {
      "text/plain": [
       "<Figure size 1200x400 with 0 Axes>"
      ]
     },
     "metadata": {},
     "output_type": "display_data"
    },
    {
     "data": {
      "text/plain": [
       "<Figure size 1200x400 with 0 Axes>"
      ]
     },
     "metadata": {},
     "output_type": "display_data"
    },
    {
     "data": {
      "text/plain": [
       "<Figure size 1200x400 with 0 Axes>"
      ]
     },
     "metadata": {},
     "output_type": "display_data"
    },
    {
     "data": {
      "text/plain": [
       "<Figure size 1200x400 with 0 Axes>"
      ]
     },
     "metadata": {},
     "output_type": "display_data"
    },
    {
     "data": {
      "text/plain": [
       "<Figure size 1200x400 with 0 Axes>"
      ]
     },
     "metadata": {},
     "output_type": "display_data"
    },
    {
     "data": {
      "text/plain": [
       "<Figure size 1200x400 with 0 Axes>"
      ]
     },
     "metadata": {},
     "output_type": "display_data"
    },
    {
     "data": {
      "text/plain": [
       "<Figure size 1200x400 with 0 Axes>"
      ]
     },
     "metadata": {},
     "output_type": "display_data"
    },
    {
     "data": {
      "text/plain": [
       "<Figure size 1200x400 with 0 Axes>"
      ]
     },
     "metadata": {},
     "output_type": "display_data"
    },
    {
     "data": {
      "text/plain": [
       "<Figure size 1200x400 with 0 Axes>"
      ]
     },
     "metadata": {},
     "output_type": "display_data"
    },
    {
     "data": {
      "text/plain": [
       "<Figure size 1200x400 with 0 Axes>"
      ]
     },
     "metadata": {},
     "output_type": "display_data"
    },
    {
     "data": {
      "text/plain": [
       "<Figure size 1200x400 with 0 Axes>"
      ]
     },
     "metadata": {},
     "output_type": "display_data"
    },
    {
     "data": {
      "text/plain": [
       "<Figure size 1200x400 with 0 Axes>"
      ]
     },
     "metadata": {},
     "output_type": "display_data"
    },
    {
     "data": {
      "text/plain": [
       "<Figure size 1200x400 with 0 Axes>"
      ]
     },
     "metadata": {},
     "output_type": "display_data"
    },
    {
     "data": {
      "text/plain": [
       "<Figure size 1200x400 with 0 Axes>"
      ]
     },
     "metadata": {},
     "output_type": "display_data"
    },
    {
     "data": {
      "text/plain": [
       "<Figure size 1200x400 with 0 Axes>"
      ]
     },
     "metadata": {},
     "output_type": "display_data"
    },
    {
     "data": {
      "text/plain": [
       "<Figure size 1200x400 with 0 Axes>"
      ]
     },
     "metadata": {},
     "output_type": "display_data"
    },
    {
     "data": {
      "text/plain": [
       "<Figure size 1200x400 with 0 Axes>"
      ]
     },
     "metadata": {},
     "output_type": "display_data"
    },
    {
     "data": {
      "text/plain": [
       "<Figure size 1200x400 with 0 Axes>"
      ]
     },
     "metadata": {},
     "output_type": "display_data"
    },
    {
     "data": {
      "text/plain": [
       "<Figure size 1200x400 with 0 Axes>"
      ]
     },
     "metadata": {},
     "output_type": "display_data"
    },
    {
     "data": {
      "text/plain": [
       "<Figure size 1200x400 with 0 Axes>"
      ]
     },
     "metadata": {},
     "output_type": "display_data"
    },
    {
     "data": {
      "text/plain": [
       "<Figure size 1200x400 with 0 Axes>"
      ]
     },
     "metadata": {},
     "output_type": "display_data"
    },
    {
     "data": {
      "text/plain": [
       "<Figure size 1200x400 with 0 Axes>"
      ]
     },
     "metadata": {},
     "output_type": "display_data"
    },
    {
     "data": {
      "text/plain": [
       "<Figure size 1200x400 with 0 Axes>"
      ]
     },
     "metadata": {},
     "output_type": "display_data"
    },
    {
     "data": {
      "text/plain": [
       "<Figure size 1200x400 with 0 Axes>"
      ]
     },
     "metadata": {},
     "output_type": "display_data"
    },
    {
     "data": {
      "text/plain": [
       "<Figure size 1200x400 with 0 Axes>"
      ]
     },
     "metadata": {},
     "output_type": "display_data"
    },
    {
     "data": {
      "text/plain": [
       "<Figure size 1200x400 with 0 Axes>"
      ]
     },
     "metadata": {},
     "output_type": "display_data"
    },
    {
     "data": {
      "text/plain": [
       "<Figure size 1200x400 with 0 Axes>"
      ]
     },
     "metadata": {},
     "output_type": "display_data"
    },
    {
     "data": {
      "text/plain": [
       "<Figure size 1200x400 with 0 Axes>"
      ]
     },
     "metadata": {},
     "output_type": "display_data"
    },
    {
     "data": {
      "text/plain": [
       "<Figure size 1200x400 with 0 Axes>"
      ]
     },
     "metadata": {},
     "output_type": "display_data"
    },
    {
     "data": {
      "text/plain": [
       "<Figure size 1200x400 with 0 Axes>"
      ]
     },
     "metadata": {},
     "output_type": "display_data"
    },
    {
     "data": {
      "text/plain": [
       "<Figure size 1200x400 with 0 Axes>"
      ]
     },
     "metadata": {},
     "output_type": "display_data"
    },
    {
     "data": {
      "text/plain": [
       "<Figure size 1200x400 with 0 Axes>"
      ]
     },
     "metadata": {},
     "output_type": "display_data"
    },
    {
     "data": {
      "text/plain": [
       "<Figure size 1200x400 with 0 Axes>"
      ]
     },
     "metadata": {},
     "output_type": "display_data"
    },
    {
     "data": {
      "text/plain": [
       "<Figure size 1200x400 with 0 Axes>"
      ]
     },
     "metadata": {},
     "output_type": "display_data"
    },
    {
     "data": {
      "text/plain": [
       "<Figure size 1200x400 with 0 Axes>"
      ]
     },
     "metadata": {},
     "output_type": "display_data"
    },
    {
     "data": {
      "text/plain": [
       "<Figure size 1200x400 with 0 Axes>"
      ]
     },
     "metadata": {},
     "output_type": "display_data"
    },
    {
     "data": {
      "text/plain": [
       "<Figure size 1200x400 with 0 Axes>"
      ]
     },
     "metadata": {},
     "output_type": "display_data"
    },
    {
     "data": {
      "text/plain": [
       "<Figure size 1200x400 with 0 Axes>"
      ]
     },
     "metadata": {},
     "output_type": "display_data"
    },
    {
     "data": {
      "text/plain": [
       "<Figure size 1200x400 with 0 Axes>"
      ]
     },
     "metadata": {},
     "output_type": "display_data"
    },
    {
     "data": {
      "text/plain": [
       "<Figure size 1200x400 with 0 Axes>"
      ]
     },
     "metadata": {},
     "output_type": "display_data"
    },
    {
     "data": {
      "text/plain": [
       "<Figure size 1200x400 with 0 Axes>"
      ]
     },
     "metadata": {},
     "output_type": "display_data"
    },
    {
     "data": {
      "text/plain": [
       "<Figure size 1200x400 with 0 Axes>"
      ]
     },
     "metadata": {},
     "output_type": "display_data"
    },
    {
     "data": {
      "text/plain": [
       "<Figure size 1200x400 with 0 Axes>"
      ]
     },
     "metadata": {},
     "output_type": "display_data"
    },
    {
     "data": {
      "text/plain": [
       "<Figure size 1200x400 with 0 Axes>"
      ]
     },
     "metadata": {},
     "output_type": "display_data"
    },
    {
     "data": {
      "text/plain": [
       "<Figure size 1200x400 with 0 Axes>"
      ]
     },
     "metadata": {},
     "output_type": "display_data"
    },
    {
     "data": {
      "text/plain": [
       "<Figure size 1200x400 with 0 Axes>"
      ]
     },
     "metadata": {},
     "output_type": "display_data"
    },
    {
     "data": {
      "text/plain": [
       "<Figure size 1200x400 with 0 Axes>"
      ]
     },
     "metadata": {},
     "output_type": "display_data"
    },
    {
     "data": {
      "text/plain": [
       "<Figure size 1200x400 with 0 Axes>"
      ]
     },
     "metadata": {},
     "output_type": "display_data"
    },
    {
     "data": {
      "text/plain": [
       "<Figure size 1200x400 with 0 Axes>"
      ]
     },
     "metadata": {},
     "output_type": "display_data"
    },
    {
     "data": {
      "text/plain": [
       "<Figure size 1200x400 with 0 Axes>"
      ]
     },
     "metadata": {},
     "output_type": "display_data"
    },
    {
     "data": {
      "text/plain": [
       "<Figure size 1200x400 with 0 Axes>"
      ]
     },
     "metadata": {},
     "output_type": "display_data"
    },
    {
     "data": {
      "text/plain": [
       "<Figure size 1200x400 with 0 Axes>"
      ]
     },
     "metadata": {},
     "output_type": "display_data"
    },
    {
     "data": {
      "text/plain": [
       "<Figure size 1200x400 with 0 Axes>"
      ]
     },
     "metadata": {},
     "output_type": "display_data"
    },
    {
     "data": {
      "text/plain": [
       "<Figure size 1200x400 with 0 Axes>"
      ]
     },
     "metadata": {},
     "output_type": "display_data"
    },
    {
     "data": {
      "text/plain": [
       "<Figure size 1200x400 with 0 Axes>"
      ]
     },
     "metadata": {},
     "output_type": "display_data"
    },
    {
     "data": {
      "text/plain": [
       "<Figure size 1200x400 with 0 Axes>"
      ]
     },
     "metadata": {},
     "output_type": "display_data"
    },
    {
     "data": {
      "text/plain": [
       "<Figure size 1200x400 with 0 Axes>"
      ]
     },
     "metadata": {},
     "output_type": "display_data"
    },
    {
     "data": {
      "text/plain": [
       "<Figure size 1200x400 with 0 Axes>"
      ]
     },
     "metadata": {},
     "output_type": "display_data"
    },
    {
     "data": {
      "text/plain": [
       "<Figure size 1200x400 with 0 Axes>"
      ]
     },
     "metadata": {},
     "output_type": "display_data"
    },
    {
     "data": {
      "text/plain": [
       "<Figure size 1200x400 with 0 Axes>"
      ]
     },
     "metadata": {},
     "output_type": "display_data"
    },
    {
     "data": {
      "text/plain": [
       "<Figure size 1200x400 with 0 Axes>"
      ]
     },
     "metadata": {},
     "output_type": "display_data"
    },
    {
     "data": {
      "text/plain": [
       "<Figure size 1200x400 with 0 Axes>"
      ]
     },
     "metadata": {},
     "output_type": "display_data"
    },
    {
     "data": {
      "text/plain": [
       "<Figure size 1200x400 with 0 Axes>"
      ]
     },
     "metadata": {},
     "output_type": "display_data"
    },
    {
     "data": {
      "text/plain": [
       "<Figure size 1200x400 with 0 Axes>"
      ]
     },
     "metadata": {},
     "output_type": "display_data"
    },
    {
     "data": {
      "text/plain": [
       "<Figure size 1200x400 with 0 Axes>"
      ]
     },
     "metadata": {},
     "output_type": "display_data"
    },
    {
     "data": {
      "text/plain": [
       "<Figure size 1200x400 with 0 Axes>"
      ]
     },
     "metadata": {},
     "output_type": "display_data"
    },
    {
     "data": {
      "text/plain": [
       "<Figure size 1200x400 with 0 Axes>"
      ]
     },
     "metadata": {},
     "output_type": "display_data"
    },
    {
     "data": {
      "text/plain": [
       "<Figure size 1200x400 with 0 Axes>"
      ]
     },
     "metadata": {},
     "output_type": "display_data"
    },
    {
     "data": {
      "text/plain": [
       "<Figure size 1200x400 with 0 Axes>"
      ]
     },
     "metadata": {},
     "output_type": "display_data"
    }
   ],
   "source": [
    "create_topic_data_for_streamlit(60)"
   ]
  },
  {
   "cell_type": "code",
   "execution_count": 34,
   "id": "9255f154",
   "metadata": {},
   "outputs": [
    {
     "data": {
      "text/plain": [
       "[[3, 4, 5], [3, 4, 7]]"
      ]
     },
     "execution_count": 34,
     "metadata": {},
     "output_type": "execute_result"
    }
   ],
   "source": [
    "lst = []\n",
    "lst.append([3,4,5])\n",
    "lst.append([3,4,7])\n",
    "lst"
   ]
  },
  {
   "cell_type": "code",
   "execution_count": null,
   "id": "1d5c8b5b",
   "metadata": {},
   "outputs": [],
   "source": []
  },
  {
   "cell_type": "code",
   "execution_count": 37,
   "id": "bcde92f3",
   "metadata": {},
   "outputs": [
    {
     "data": {
      "text/plain": [
       "[[0],\n",
       " [141, 145, 165, 2],\n",
       " [83, 1],\n",
       " [173, 100, 119, 164, 235, 9],\n",
       " [129, 146, 177, 5],\n",
       " [253, 325, 204, 180, 339, 106, 307, 232, 322, 187, 3],\n",
       " [89, 94, 50],\n",
       " [71, 6],\n",
       " [67, 72, 118, 8],\n",
       " [47, 230, 318, 112, 261, 80, 182, 13],\n",
       " [239, 104, 4],\n",
       " [59, 48, 90, 53],\n",
       " [181, 10],\n",
       " [117, 183, 11],\n",
       " [255, 58, 55, 262, 249, 131, 174, 192, 39],\n",
       " [157, 267, 69, 144, 190, 105, 176, 300, 217, 225, 248, 56],\n",
       " [333,\n",
       "  228,\n",
       "  288,\n",
       "  308,\n",
       "  186,\n",
       "  263,\n",
       "  266,\n",
       "  312,\n",
       "  324,\n",
       "  199,\n",
       "  241,\n",
       "  354,\n",
       "  299,\n",
       "  275,\n",
       "  349,\n",
       "  178,\n",
       "  366,\n",
       "  329,\n",
       "  379,\n",
       "  301,\n",
       "  305,\n",
       "  155],\n",
       " [137, 130, 96, 12],\n",
       " [378,\n",
       "  269,\n",
       "  196,\n",
       "  367,\n",
       "  278,\n",
       "  224,\n",
       "  359,\n",
       "  216,\n",
       "  294,\n",
       "  370,\n",
       "  203,\n",
       "  360,\n",
       "  320,\n",
       "  343,\n",
       "  364,\n",
       "  311,\n",
       "  338,\n",
       "  348,\n",
       "  380,\n",
       "  317,\n",
       "  197,\n",
       "  374,\n",
       "  298,\n",
       "  234,\n",
       "  327,\n",
       "  287,\n",
       "  309,\n",
       "  304,\n",
       "  356,\n",
       "  363,\n",
       "  350,\n",
       "  351,\n",
       "  340,\n",
       "  358,\n",
       "  169],\n",
       " [140, 218, 86, 92, 236, 161, 123, 207, 168, 111, 132, 70],\n",
       " [7],\n",
       " [285, 84, 97, 171, 19],\n",
       " [211, 254, 61, 337, 150, 49],\n",
       " [122, 65, 18],\n",
       " [20],\n",
       " [24],\n",
       " [293,\n",
       "  330,\n",
       "  371,\n",
       "  357,\n",
       "  376,\n",
       "  290,\n",
       "  282,\n",
       "  208,\n",
       "  316,\n",
       "  273,\n",
       "  277,\n",
       "  238,\n",
       "  302,\n",
       "  336,\n",
       "  375,\n",
       "  166,\n",
       "  369,\n",
       "  332,\n",
       "  342,\n",
       "  283,\n",
       "  368,\n",
       "  179],\n",
       " [222, 212, 310, 257, 260, 51, 361, 206, 341, 108, 214, 154, 156, 36],\n",
       " [102, 17],\n",
       " [22],\n",
       " [200, 205, 21],\n",
       " [14],\n",
       " [139, 256, 27],\n",
       " [75, 124, 33],\n",
       " [91, 46],\n",
       " [219, 115, 114, 175, 52],\n",
       " [110, 101, 268, 42],\n",
       " [158, 81, 172, 98, 221, 116, 189, 95],\n",
       " [162, 44, 31],\n",
       " [82, 109, 35],\n",
       " [276, 188, 202, 78],\n",
       " [68, 143, 292, 134, 210, 63],\n",
       " [126, 74],\n",
       " [170, 85, 355, 195, 306, 99],\n",
       " [16],\n",
       " [142, 23],\n",
       " [15],\n",
       " [41, 128, 62],\n",
       " [45],\n",
       " [28],\n",
       " [148, 30],\n",
       " [198, 79, 37],\n",
       " [135, 107, 88, 54],\n",
       " [93, 163, 66],\n",
       " [226, 26],\n",
       " [149, 133, 152, 193, 40],\n",
       " [25],\n",
       " [315, 258, 250, 247, 344, 281, 314, 223, 185, 233, 271, 127],\n",
       " [73, 121, 57],\n",
       " [136, 34],\n",
       " [251, 242, 313, 270, 76],\n",
       " [237, 103, 331, 279, 328, 303, 43],\n",
       " [160, 125, 229, 215, 64],\n",
       " [87, 60],\n",
       " [184, 38],\n",
       " [345, 372, 272, 346, 352, 365, 297, 213, 220, 246, 264, 284, 280],\n",
       " [335, 209, 243, 295, 373, 227, 291, 347, 377, 244, 321, 259, 201],\n",
       " [159, 240, 265, 138, 245, 153, 120],\n",
       " [286, 32],\n",
       " [29],\n",
       " [296, 353, 323, 231, 334, 274, 289, 194, 319, 326, 362, 252, 191, 167, 113],\n",
       " [151, 147, 77]]"
      ]
     },
     "execution_count": 37,
     "metadata": {},
     "output_type": "execute_result"
    }
   ],
   "source": [
    "t2v.hierarchical_topic_reduction(72)"
   ]
  },
  {
   "cell_type": "code",
   "execution_count": 38,
   "id": "9e5fa5b7",
   "metadata": {},
   "outputs": [],
   "source": [
    "h71_1 = t2v.get_topic_hierarchy()"
   ]
  },
  {
   "cell_type": "code",
   "execution_count": 48,
   "id": "3357e3fd",
   "metadata": {},
   "outputs": [
    {
     "data": {
      "text/plain": [
       "[[0],\n",
       " [141, 145, 165, 2],\n",
       " [83, 1],\n",
       " [173, 100, 119, 164, 235, 9],\n",
       " [129, 146, 177, 5],\n",
       " [253, 325, 204, 180, 339, 106, 307, 232, 322, 187, 3],\n",
       " [89, 94, 50],\n",
       " [71, 6],\n",
       " [67, 72, 118, 8],\n",
       " [47, 230, 318, 112, 261, 80, 182, 13],\n",
       " [239, 104, 4],\n",
       " [59, 48, 90, 53],\n",
       " [181, 10],\n",
       " [117, 183, 11],\n",
       " [255, 58, 55, 262, 249, 131, 174, 192, 39],\n",
       " [157, 267, 69, 144, 190, 105, 176, 300, 217, 225, 248, 56],\n",
       " [333,\n",
       "  228,\n",
       "  288,\n",
       "  308,\n",
       "  186,\n",
       "  263,\n",
       "  266,\n",
       "  312,\n",
       "  324,\n",
       "  199,\n",
       "  241,\n",
       "  354,\n",
       "  299,\n",
       "  275,\n",
       "  349,\n",
       "  178,\n",
       "  366,\n",
       "  329,\n",
       "  379,\n",
       "  301,\n",
       "  305,\n",
       "  155],\n",
       " [137, 130, 96, 12],\n",
       " [378,\n",
       "  269,\n",
       "  196,\n",
       "  367,\n",
       "  278,\n",
       "  224,\n",
       "  359,\n",
       "  216,\n",
       "  294,\n",
       "  370,\n",
       "  203,\n",
       "  360,\n",
       "  320,\n",
       "  343,\n",
       "  364,\n",
       "  311,\n",
       "  338,\n",
       "  348,\n",
       "  380,\n",
       "  317,\n",
       "  197,\n",
       "  374,\n",
       "  298,\n",
       "  234,\n",
       "  327,\n",
       "  287,\n",
       "  309,\n",
       "  304,\n",
       "  356,\n",
       "  363,\n",
       "  350,\n",
       "  351,\n",
       "  340,\n",
       "  358,\n",
       "  169],\n",
       " [140, 218, 86, 92, 236, 161, 123, 207, 168, 111, 132, 70],\n",
       " [7],\n",
       " [285, 84, 97, 171, 19],\n",
       " [211, 254, 61, 337, 150, 49],\n",
       " [122, 65, 18],\n",
       " [20],\n",
       " [24],\n",
       " [293,\n",
       "  330,\n",
       "  371,\n",
       "  357,\n",
       "  376,\n",
       "  290,\n",
       "  282,\n",
       "  208,\n",
       "  316,\n",
       "  273,\n",
       "  277,\n",
       "  238,\n",
       "  302,\n",
       "  336,\n",
       "  375,\n",
       "  166,\n",
       "  369,\n",
       "  332,\n",
       "  342,\n",
       "  283,\n",
       "  368,\n",
       "  179],\n",
       " [222, 212, 310, 257, 260, 51, 361, 206, 341, 108, 214, 154, 156, 36],\n",
       " [102, 17],\n",
       " [22],\n",
       " [200, 205, 21],\n",
       " [14],\n",
       " [139, 256, 27],\n",
       " [75, 124, 33],\n",
       " [91, 46],\n",
       " [219, 115, 114, 175, 52],\n",
       " [110, 101, 268, 42],\n",
       " [158, 81, 172, 98, 221, 116, 189, 95],\n",
       " [162, 44, 31],\n",
       " [82, 109, 35],\n",
       " [276, 188, 202, 78],\n",
       " [68, 143, 292, 134, 210, 63],\n",
       " [126, 74],\n",
       " [170, 85, 355, 195, 306, 99],\n",
       " [16],\n",
       " [142, 23],\n",
       " [15],\n",
       " [41, 128, 62],\n",
       " [45],\n",
       " [28],\n",
       " [148, 30],\n",
       " [198, 79, 37],\n",
       " [135, 107, 88, 54],\n",
       " [93, 163, 66],\n",
       " [226, 26],\n",
       " [149, 133, 152, 193, 40],\n",
       " [25],\n",
       " [315, 258, 250, 247, 344, 281, 314, 223, 185, 233, 271, 127],\n",
       " [73, 121, 57],\n",
       " [136, 34],\n",
       " [251, 242, 313, 270, 76],\n",
       " [237, 103, 331, 279, 328, 303, 43],\n",
       " [160, 125, 229, 215, 64],\n",
       " [87, 60],\n",
       " [184, 38],\n",
       " [345, 372, 272, 346, 352, 365, 297, 213, 220, 246, 264, 284, 280],\n",
       " [335, 209, 243, 295, 373, 227, 291, 347, 377, 244, 321, 259, 201],\n",
       " [159, 240, 265, 138, 245, 153, 120],\n",
       " [286, 32],\n",
       " [29],\n",
       " [296, 353, 323, 231, 334, 274, 289, 194, 319, 326, 362, 252, 191, 167, 113],\n",
       " [151, 147, 77]]"
      ]
     },
     "execution_count": 48,
     "metadata": {},
     "output_type": "execute_result"
    }
   ],
   "source": [
    "t2v.hierarchical_topic_reduction(72)"
   ]
  },
  {
   "cell_type": "code",
   "execution_count": 49,
   "id": "c8fde7d9",
   "metadata": {},
   "outputs": [],
   "source": [
    "h71_2 = t2v.get_topic_hierarchy()"
   ]
  },
  {
   "cell_type": "code",
   "execution_count": 50,
   "id": "b90e4f13",
   "metadata": {},
   "outputs": [
    {
     "data": {
      "text/plain": [
       "True"
      ]
     },
     "execution_count": 50,
     "metadata": {},
     "output_type": "execute_result"
    }
   ],
   "source": [
    "h71_1 == h71_2"
   ]
  },
  {
   "cell_type": "code",
   "execution_count": 77,
   "id": "1138c4b9",
   "metadata": {},
   "outputs": [
    {
     "data": {
      "text/plain": [
       "[151, 147, 77]"
      ]
     },
     "execution_count": 77,
     "metadata": {},
     "output_type": "execute_result"
    }
   ],
   "source": [
    "t2v.get_topic_hierarchy()[-1]"
   ]
  },
  {
   "cell_type": "code",
   "execution_count": 82,
   "id": "9bd6ac70",
   "metadata": {},
   "outputs": [
    {
     "name": "stdout",
     "output_type": "stream",
     "text": [
      "499\n",
      "521\n",
      "980\n"
     ]
    },
    {
     "data": {
      "text/plain": [
       "2000"
      ]
     },
     "execution_count": 82,
     "metadata": {},
     "output_type": "execute_result"
    }
   ],
   "source": [
    "size = 0\n",
    "\n",
    "for subtop in [151, 147, 77]:\n",
    "    subtop_size = t2v.get_topic_sizes()[0][subtop]\n",
    "    print(subtop_size)\n",
    "    size += subtop_size\n",
    "    \n",
    "size"
   ]
  },
  {
   "cell_type": "code",
   "execution_count": 83,
   "id": "14f4b459",
   "metadata": {},
   "outputs": [
    {
     "data": {
      "text/plain": [
       "False"
      ]
     },
     "execution_count": 83,
     "metadata": {},
     "output_type": "execute_result"
    }
   ],
   "source": [
    "size in t2v.get_topic_sizes(reduced=True)[0]"
   ]
  },
  {
   "cell_type": "code",
   "execution_count": 72,
   "id": "355be9ac",
   "metadata": {},
   "outputs": [
    {
     "data": {
      "text/plain": [
       "5121"
      ]
     },
     "execution_count": 72,
     "metadata": {},
     "output_type": "execute_result"
    }
   ],
   "source": [
    "sum([555, 524, 435, 3607])"
   ]
  },
  {
   "cell_type": "code",
   "execution_count": 69,
   "id": "1d2b0f6d",
   "metadata": {},
   "outputs": [
    {
     "data": {
      "text/plain": [
       "(array([4700, 4609, 3607, 3448, 3361, 3294, 3140, 3020, 2944, 2909, 2701,\n",
       "        2688, 2548, 2335, 2303, 2291, 2290, 2244, 2154, 2082, 2059, 1985,\n",
       "        1893, 1870, 1765, 1713, 1706, 1686, 1621, 1610, 1574, 1525, 1505,\n",
       "        1476, 1454, 1426, 1400, 1385, 1381, 1375, 1361, 1354, 1348, 1334,\n",
       "        1279, 1278, 1259, 1245, 1204, 1197, 1188, 1185, 1160, 1156, 1151,\n",
       "        1149, 1144, 1136, 1130, 1116, 1110, 1107, 1106, 1098, 1079, 1078,\n",
       "        1069, 1065, 1059, 1057, 1042, 1033, 1023, 1013, 1002,  987,  983,\n",
       "         980,  953,  949,  934,  931,  928,  907,  896,  884,  880,  875,\n",
       "         863,  852,  847,  838,  837,  833,  813,  810,  800,  796,  796,\n",
       "         790,  789,  785,  784,  781,  766,  752,  740,  733,  726,  724,\n",
       "         704,  704,  704,  696,  694,  683,  679,  678,  677,  660,  654,\n",
       "         649,  644,  643,  632,  631,  627,  624,  608,  604,  600,  599,\n",
       "         595,  591,  587,  581,  577,  571,  570,  561,  555,  555,  549,\n",
       "         546,  535,  524,  521,  521,  512,  510,  499,  499,  486,  476,\n",
       "         472,  468,  462,  460,  459,  453,  452,  448,  444,  443,  439,\n",
       "         435,  432,  424,  420,  412,  404,  404,  400,  396,  396,  394,\n",
       "         392,  382,  377,  375,  372,  366,  364,  362,  362,  359,  357,\n",
       "         356,  346,  346,  343,  341,  341,  340,  339,  337,  336,  335,\n",
       "         333,  333,  331,  324,  320,  315,  307,  300,  299,  298,  296,\n",
       "         295,  294,  292,  289,  285,  283,  281,  280,  280,  276,  274,\n",
       "         273,  272,  272,  269,  268,  267,  263,  260,  257,  256,  254,\n",
       "         252,  250,  250,  247,  247,  247,  244,  243,  241,  237,  234,\n",
       "         231,  230,  230,  228,  227,  225,  224,  223,  222,  221,  220,\n",
       "         217,  217,  216,  215,  211,  210,  206,  206,  203,  199,  198,\n",
       "         193,  190,  186,  185,  185,  185,  180,  179,  178,  176,  171,\n",
       "         170,  168,  165,  165,  165,  163,  163,  162,  162,  160,  158,\n",
       "         156,  155,  152,  151,  149,  148,  148,  148,  148,  146,  146,\n",
       "         144,  143,  143,  142,  139,  138,  133,  131,  130,  129,  126,\n",
       "         126,  123,  121,  121,  120,  120,  120,  118,  118,  117,  117,\n",
       "         116,  114,  111,  111,  111,  110,  108,  107,  107,  107,  104,\n",
       "         103,  102,  100,   99,   98,   98,   96,   95,   94,   94,   93,\n",
       "          91,   91,   84,   81,   81,   78,   75,   72,   71,   70,   70,\n",
       "          70,   68,   68,   67,   67,   67,   64,   63,   62,   60,   58,\n",
       "          56,   56,   55,   55,   55,   54,   52,   51,   50,   49,   48,\n",
       "          48,   45,   44,   42,   39,   38,   33], dtype=int64),\n",
       " array([  0,   1,   2,   3,   4,   5,   6,   7,   8,   9,  10,  11,  12,\n",
       "         13,  14,  15,  16,  17,  18,  19,  20,  21,  22,  23,  24,  25,\n",
       "         26,  27,  28,  29,  30,  31,  32,  33,  34,  35,  36,  37,  38,\n",
       "         39,  40,  41,  42,  43,  44,  45,  46,  47,  48,  49,  50,  51,\n",
       "         52,  53,  54,  55,  56,  57,  58,  59,  60,  61,  62,  63,  64,\n",
       "         65,  66,  67,  68,  69,  70,  71,  72,  73,  74,  75,  76,  77,\n",
       "         78,  79,  80,  81,  82,  83,  84,  85,  86,  87,  88,  89,  90,\n",
       "         91,  92,  93,  94,  95,  96,  97,  98,  99, 100, 101, 102, 103,\n",
       "        104, 105, 106, 107, 108, 109, 110, 111, 112, 113, 114, 115, 116,\n",
       "        117, 118, 119, 120, 121, 122, 123, 124, 125, 126, 127, 128, 129,\n",
       "        130, 131, 132, 133, 134, 135, 136, 137, 138, 139, 140, 141, 142,\n",
       "        143, 144, 145, 146, 147, 148, 149, 150, 151, 152, 153, 154, 155,\n",
       "        156, 157, 158, 159, 160, 161, 162, 163, 164, 165, 166, 167, 168,\n",
       "        169, 170, 171, 172, 173, 174, 175, 176, 177, 178, 179, 180, 181,\n",
       "        182, 183, 184, 185, 186, 187, 188, 189, 190, 191, 192, 193, 194,\n",
       "        195, 196, 197, 198, 199, 200, 201, 202, 203, 204, 205, 206, 207,\n",
       "        208, 209, 210, 211, 212, 213, 214, 215, 216, 217, 218, 219, 220,\n",
       "        221, 222, 223, 224, 225, 226, 227, 228, 229, 230, 231, 232, 233,\n",
       "        234, 235, 236, 237, 238, 239, 240, 241, 242, 243, 244, 245, 246,\n",
       "        247, 248, 249, 250, 251, 252, 253, 254, 255, 256, 257, 258, 259,\n",
       "        260, 261, 262, 263, 264, 265, 266, 267, 268, 269, 270, 271, 272,\n",
       "        273, 274, 275, 276, 277, 278, 279, 280, 281, 282, 283, 284, 285,\n",
       "        286, 287, 288, 289, 290, 291, 292, 293, 294, 295, 296, 297, 298,\n",
       "        299, 300, 301, 302, 303, 304, 305, 306, 307, 308, 309, 310, 311,\n",
       "        312, 313, 314, 315, 316, 317, 318, 319, 320, 321, 322, 323, 324,\n",
       "        325, 326, 327, 328, 329, 330, 331, 332, 333, 334, 335, 336, 337,\n",
       "        338, 339, 340, 341, 342, 343, 344, 345, 346, 347, 348, 349, 350,\n",
       "        351, 352, 353, 354, 355, 356, 357, 358, 359, 360, 361, 362, 363,\n",
       "        364, 365, 366, 367, 368, 369, 370, 371, 372, 373, 374, 375, 376,\n",
       "        377, 378, 379, 380], dtype=int64))"
      ]
     },
     "execution_count": 69,
     "metadata": {},
     "output_type": "execute_result"
    }
   ],
   "source": [
    "t2v.get_topic_sizes(reduced=False)"
   ]
  },
  {
   "cell_type": "code",
   "execution_count": 81,
   "id": "9d6e6989",
   "metadata": {},
   "outputs": [],
   "source": [
    "for top in range(60):\n",
    "    get_topic_examples(top, 20, savepath='../streamlit/data/topics/reduction_60/examples/')"
   ]
  },
  {
   "cell_type": "code",
   "execution_count": null,
   "id": "a9513e14",
   "metadata": {},
   "outputs": [],
   "source": [
    "#Kopenhagen, 17. (5.) März. ellend,  London, 17 (5 ) März."
   ]
  },
  {
   "cell_type": "code",
   "execution_count": 100,
   "id": "c1eb1477",
   "metadata": {},
   "outputs": [],
   "source": [
    "test_df = df[(df.doc_date.dt.year == 1886) & (df.doc_date.dt.month == 2) & (df.doc_date.dt.day == 13)]"
   ]
  },
  {
   "cell_type": "code",
   "execution_count": 9,
   "id": "88f6ea61",
   "metadata": {},
   "outputs": [],
   "source": [
    "def simple_segmentation(df, rz):\n",
    "    \n",
    "    for ix in tqdm(df.doc_id.unique()):\n",
    "        \n",
    "        article = df.loc[df.doc_id == ix]\n",
    "        full_text = rz.loc[ix, 'full_text']\n",
    "        \n",
    "        msg_ids, placenames, starts, ends = list(article.index), list(article.placename), list(article.start), list(article.end)\n",
    "        \n",
    "        for msg_id, placename, end, start in zip(msg_ids, placenames, ends, starts[1:]+[len(full_text)]):\n",
    "            \n",
    "            yield {\"msg_id\": msg_id,\n",
    "                   \"doc_id\": int(ix),\n",
    "                   \"placename\": placename,\n",
    "                   \"text\": full_text[end:start]}"
   ]
  },
  {
   "cell_type": "code",
   "execution_count": null,
   "id": "8cfc372b",
   "metadata": {},
   "outputs": [],
   "source": []
  },
  {
   "cell_type": "code",
   "execution_count": null,
   "id": "e77f9387",
   "metadata": {},
   "outputs": [],
   "source": []
  },
  {
   "cell_type": "code",
   "execution_count": 11,
   "id": "2a039f1a",
   "metadata": {},
   "outputs": [
    {
     "data": {
      "text/html": [
       "<div>\n",
       "<style scoped>\n",
       "    .dataframe tbody tr th:only-of-type {\n",
       "        vertical-align: middle;\n",
       "    }\n",
       "\n",
       "    .dataframe tbody tr th {\n",
       "        vertical-align: top;\n",
       "    }\n",
       "\n",
       "    .dataframe thead th {\n",
       "        text-align: right;\n",
       "    }\n",
       "</style>\n",
       "<table border=\"1\" class=\"dataframe\">\n",
       "  <thead>\n",
       "    <tr style=\"text-align: right;\">\n",
       "      <th></th>\n",
       "      <th>doc_id</th>\n",
       "      <th>doc_date</th>\n",
       "      <th>placename</th>\n",
       "      <th>day</th>\n",
       "      <th>day2</th>\n",
       "      <th>month</th>\n",
       "      <th>month2</th>\n",
       "      <th>origin_year</th>\n",
       "      <th>start</th>\n",
       "      <th>end</th>\n",
       "      <th>origin_date</th>\n",
       "      <th>delta</th>\n",
       "      <th>doc_year</th>\n",
       "    </tr>\n",
       "  </thead>\n",
       "  <tbody>\n",
       "    <tr>\n",
       "      <th>95260</th>\n",
       "      <td>130633</td>\n",
       "      <td>1856-06-11</td>\n",
       "      <td>St. Petersburg</td>\n",
       "      <td>6</td>\n",
       "      <td>&lt;NA&gt;</td>\n",
       "      <td>6</td>\n",
       "      <td>&lt;NA&gt;</td>\n",
       "      <td>&lt;NA&gt;</td>\n",
       "      <td>26</td>\n",
       "      <td>52</td>\n",
       "      <td>1856-06-06</td>\n",
       "      <td>5</td>\n",
       "      <td>1856</td>\n",
       "    </tr>\n",
       "    <tr>\n",
       "      <th>95261</th>\n",
       "      <td>130634</td>\n",
       "      <td>1856-06-11</td>\n",
       "      <td>Kopenhagen</td>\n",
       "      <td>18</td>\n",
       "      <td>&lt;NA&gt;</td>\n",
       "      <td>6</td>\n",
       "      <td>&lt;NA&gt;</td>\n",
       "      <td>&lt;NA&gt;</td>\n",
       "      <td>11</td>\n",
       "      <td>34</td>\n",
       "      <td>1856-06-06</td>\n",
       "      <td>5</td>\n",
       "      <td>1856</td>\n",
       "    </tr>\n",
       "    <tr>\n",
       "      <th>95262</th>\n",
       "      <td>130635</td>\n",
       "      <td>1856-06-11</td>\n",
       "      <td>Berlin</td>\n",
       "      <td>19</td>\n",
       "      <td>&lt;NA&gt;</td>\n",
       "      <td>6</td>\n",
       "      <td>&lt;NA&gt;</td>\n",
       "      <td>&lt;NA&gt;</td>\n",
       "      <td>14</td>\n",
       "      <td>33</td>\n",
       "      <td>1856-06-07</td>\n",
       "      <td>4</td>\n",
       "      <td>1856</td>\n",
       "    </tr>\n",
       "    <tr>\n",
       "      <th>95263</th>\n",
       "      <td>130635</td>\n",
       "      <td>1856-06-11</td>\n",
       "      <td>Berlin</td>\n",
       "      <td>20</td>\n",
       "      <td>&lt;NA&gt;</td>\n",
       "      <td>6</td>\n",
       "      <td>&lt;NA&gt;</td>\n",
       "      <td>&lt;NA&gt;</td>\n",
       "      <td>798</td>\n",
       "      <td>816</td>\n",
       "      <td>1856-06-08</td>\n",
       "      <td>3</td>\n",
       "      <td>1856</td>\n",
       "    </tr>\n",
       "    <tr>\n",
       "      <th>95264</th>\n",
       "      <td>130635</td>\n",
       "      <td>1856-06-11</td>\n",
       "      <td>Wiesbaden</td>\n",
       "      <td>17</td>\n",
       "      <td>&lt;NA&gt;</td>\n",
       "      <td>6</td>\n",
       "      <td>&lt;NA&gt;</td>\n",
       "      <td>&lt;NA&gt;</td>\n",
       "      <td>1079</td>\n",
       "      <td>1100</td>\n",
       "      <td>1856-06-05</td>\n",
       "      <td>6</td>\n",
       "      <td>1856</td>\n",
       "    </tr>\n",
       "    <tr>\n",
       "      <th>95265</th>\n",
       "      <td>130635</td>\n",
       "      <td>1856-06-11</td>\n",
       "      <td>Darmstadt</td>\n",
       "      <td>17</td>\n",
       "      <td>&lt;NA&gt;</td>\n",
       "      <td>6</td>\n",
       "      <td>&lt;NA&gt;</td>\n",
       "      <td>&lt;NA&gt;</td>\n",
       "      <td>1374</td>\n",
       "      <td>1395</td>\n",
       "      <td>1856-06-05</td>\n",
       "      <td>6</td>\n",
       "      <td>1856</td>\n",
       "    </tr>\n",
       "    <tr>\n",
       "      <th>95266</th>\n",
       "      <td>130635</td>\n",
       "      <td>1856-06-11</td>\n",
       "      <td>Stuttgart</td>\n",
       "      <td>17</td>\n",
       "      <td>&lt;NA&gt;</td>\n",
       "      <td>6</td>\n",
       "      <td>&lt;NA&gt;</td>\n",
       "      <td>&lt;NA&gt;</td>\n",
       "      <td>1885</td>\n",
       "      <td>1906</td>\n",
       "      <td>1856-06-05</td>\n",
       "      <td>6</td>\n",
       "      <td>1856</td>\n",
       "    </tr>\n",
       "    <tr>\n",
       "      <th>95267</th>\n",
       "      <td>130635</td>\n",
       "      <td>1856-06-11</td>\n",
       "      <td>Stuttgart</td>\n",
       "      <td>18</td>\n",
       "      <td>&lt;NA&gt;</td>\n",
       "      <td>6</td>\n",
       "      <td>&lt;NA&gt;</td>\n",
       "      <td>&lt;NA&gt;</td>\n",
       "      <td>2046</td>\n",
       "      <td>2067</td>\n",
       "      <td>1856-06-06</td>\n",
       "      <td>5</td>\n",
       "      <td>1856</td>\n",
       "    </tr>\n",
       "    <tr>\n",
       "      <th>95268</th>\n",
       "      <td>130636</td>\n",
       "      <td>1856-06-11</td>\n",
       "      <td>Wien</td>\n",
       "      <td>17</td>\n",
       "      <td>&lt;NA&gt;</td>\n",
       "      <td>6</td>\n",
       "      <td>&lt;NA&gt;</td>\n",
       "      <td>&lt;NA&gt;</td>\n",
       "      <td>0</td>\n",
       "      <td>16</td>\n",
       "      <td>1856-06-05</td>\n",
       "      <td>6</td>\n",
       "      <td>1856</td>\n",
       "    </tr>\n",
       "    <tr>\n",
       "      <th>95269</th>\n",
       "      <td>130636</td>\n",
       "      <td>1856-06-11</td>\n",
       "      <td>Wien</td>\n",
       "      <td>19</td>\n",
       "      <td>&lt;NA&gt;</td>\n",
       "      <td>6</td>\n",
       "      <td>&lt;NA&gt;</td>\n",
       "      <td>&lt;NA&gt;</td>\n",
       "      <td>840</td>\n",
       "      <td>856</td>\n",
       "      <td>1856-06-07</td>\n",
       "      <td>4</td>\n",
       "      <td>1856</td>\n",
       "    </tr>\n",
       "    <tr>\n",
       "      <th>95270</th>\n",
       "      <td>130637</td>\n",
       "      <td>1856-06-11</td>\n",
       "      <td>Bern</td>\n",
       "      <td>15</td>\n",
       "      <td>&lt;NA&gt;</td>\n",
       "      <td>6</td>\n",
       "      <td>&lt;NA&gt;</td>\n",
       "      <td>&lt;NA&gt;</td>\n",
       "      <td>0</td>\n",
       "      <td>15</td>\n",
       "      <td>1856-06-03</td>\n",
       "      <td>8</td>\n",
       "      <td>1856</td>\n",
       "    </tr>\n",
       "    <tr>\n",
       "      <th>95271</th>\n",
       "      <td>130638</td>\n",
       "      <td>1856-06-11</td>\n",
       "      <td>Paris</td>\n",
       "      <td>16</td>\n",
       "      <td>&lt;NA&gt;</td>\n",
       "      <td>6</td>\n",
       "      <td>&lt;NA&gt;</td>\n",
       "      <td>&lt;NA&gt;</td>\n",
       "      <td>0</td>\n",
       "      <td>17</td>\n",
       "      <td>1856-06-04</td>\n",
       "      <td>7</td>\n",
       "      <td>1856</td>\n",
       "    </tr>\n",
       "    <tr>\n",
       "      <th>95272</th>\n",
       "      <td>130638</td>\n",
       "      <td>1856-06-11</td>\n",
       "      <td>Paris</td>\n",
       "      <td>17</td>\n",
       "      <td>&lt;NA&gt;</td>\n",
       "      <td>6</td>\n",
       "      <td>&lt;NA&gt;</td>\n",
       "      <td>&lt;NA&gt;</td>\n",
       "      <td>1245</td>\n",
       "      <td>1262</td>\n",
       "      <td>1856-06-05</td>\n",
       "      <td>6</td>\n",
       "      <td>1856</td>\n",
       "    </tr>\n",
       "    <tr>\n",
       "      <th>95273</th>\n",
       "      <td>130638</td>\n",
       "      <td>1856-06-11</td>\n",
       "      <td>Paris</td>\n",
       "      <td>18</td>\n",
       "      <td>&lt;NA&gt;</td>\n",
       "      <td>6</td>\n",
       "      <td>&lt;NA&gt;</td>\n",
       "      <td>&lt;NA&gt;</td>\n",
       "      <td>2422</td>\n",
       "      <td>2439</td>\n",
       "      <td>1856-06-06</td>\n",
       "      <td>5</td>\n",
       "      <td>1856</td>\n",
       "    </tr>\n",
       "    <tr>\n",
       "      <th>95274</th>\n",
       "      <td>130638</td>\n",
       "      <td>1856-06-11</td>\n",
       "      <td>Paris</td>\n",
       "      <td>18</td>\n",
       "      <td>&lt;NA&gt;</td>\n",
       "      <td>6</td>\n",
       "      <td>&lt;NA&gt;</td>\n",
       "      <td>&lt;NA&gt;</td>\n",
       "      <td>2909</td>\n",
       "      <td>2926</td>\n",
       "      <td>1856-06-06</td>\n",
       "      <td>5</td>\n",
       "      <td>1856</td>\n",
       "    </tr>\n",
       "    <tr>\n",
       "      <th>95275</th>\n",
       "      <td>130638</td>\n",
       "      <td>1856-06-11</td>\n",
       "      <td>Paris</td>\n",
       "      <td>20</td>\n",
       "      <td>&lt;NA&gt;</td>\n",
       "      <td>6</td>\n",
       "      <td>&lt;NA&gt;</td>\n",
       "      <td>&lt;NA&gt;</td>\n",
       "      <td>4072</td>\n",
       "      <td>4089</td>\n",
       "      <td>1856-06-08</td>\n",
       "      <td>3</td>\n",
       "      <td>1856</td>\n",
       "    </tr>\n",
       "    <tr>\n",
       "      <th>95276</th>\n",
       "      <td>130639</td>\n",
       "      <td>1856-06-11</td>\n",
       "      <td>Madrid</td>\n",
       "      <td>16</td>\n",
       "      <td>&lt;NA&gt;</td>\n",
       "      <td>6</td>\n",
       "      <td>&lt;NA&gt;</td>\n",
       "      <td>&lt;NA&gt;</td>\n",
       "      <td>345</td>\n",
       "      <td>369</td>\n",
       "      <td>1856-06-04</td>\n",
       "      <td>7</td>\n",
       "      <td>1856</td>\n",
       "    </tr>\n",
       "    <tr>\n",
       "      <th>95277</th>\n",
       "      <td>130639</td>\n",
       "      <td>1856-06-11</td>\n",
       "      <td>Madrid</td>\n",
       "      <td>17</td>\n",
       "      <td>&lt;NA&gt;</td>\n",
       "      <td>6</td>\n",
       "      <td>&lt;NA&gt;</td>\n",
       "      <td>&lt;NA&gt;</td>\n",
       "      <td>482</td>\n",
       "      <td>506</td>\n",
       "      <td>1856-06-05</td>\n",
       "      <td>6</td>\n",
       "      <td>1856</td>\n",
       "    </tr>\n",
       "    <tr>\n",
       "      <th>95278</th>\n",
       "      <td>130640</td>\n",
       "      <td>1856-06-11</td>\n",
       "      <td>London</td>\n",
       "      <td>16</td>\n",
       "      <td>&lt;NA&gt;</td>\n",
       "      <td>6</td>\n",
       "      <td>&lt;NA&gt;</td>\n",
       "      <td>&lt;NA&gt;</td>\n",
       "      <td>28</td>\n",
       "      <td>47</td>\n",
       "      <td>1856-06-04</td>\n",
       "      <td>7</td>\n",
       "      <td>1856</td>\n",
       "    </tr>\n",
       "    <tr>\n",
       "      <th>95279</th>\n",
       "      <td>130640</td>\n",
       "      <td>1856-06-11</td>\n",
       "      <td>London</td>\n",
       "      <td>17</td>\n",
       "      <td>&lt;NA&gt;</td>\n",
       "      <td>6</td>\n",
       "      <td>&lt;NA&gt;</td>\n",
       "      <td>&lt;NA&gt;</td>\n",
       "      <td>2562</td>\n",
       "      <td>2580</td>\n",
       "      <td>1856-06-05</td>\n",
       "      <td>6</td>\n",
       "      <td>1856</td>\n",
       "    </tr>\n",
       "    <tr>\n",
       "      <th>95280</th>\n",
       "      <td>130640</td>\n",
       "      <td>1856-06-11</td>\n",
       "      <td>London</td>\n",
       "      <td>18</td>\n",
       "      <td>&lt;NA&gt;</td>\n",
       "      <td>6</td>\n",
       "      <td>&lt;NA&gt;</td>\n",
       "      <td>&lt;NA&gt;</td>\n",
       "      <td>4534</td>\n",
       "      <td>4552</td>\n",
       "      <td>1856-06-06</td>\n",
       "      <td>5</td>\n",
       "      <td>1856</td>\n",
       "    </tr>\n",
       "  </tbody>\n",
       "</table>\n",
       "</div>"
      ],
      "text/plain": [
       "       doc_id   doc_date       placename  day  day2  month  month2  \\\n",
       "95260  130633 1856-06-11  St. Petersburg    6  <NA>      6    <NA>   \n",
       "95261  130634 1856-06-11      Kopenhagen   18  <NA>      6    <NA>   \n",
       "95262  130635 1856-06-11          Berlin   19  <NA>      6    <NA>   \n",
       "95263  130635 1856-06-11          Berlin   20  <NA>      6    <NA>   \n",
       "95264  130635 1856-06-11       Wiesbaden   17  <NA>      6    <NA>   \n",
       "95265  130635 1856-06-11       Darmstadt   17  <NA>      6    <NA>   \n",
       "95266  130635 1856-06-11       Stuttgart   17  <NA>      6    <NA>   \n",
       "95267  130635 1856-06-11       Stuttgart   18  <NA>      6    <NA>   \n",
       "95268  130636 1856-06-11            Wien   17  <NA>      6    <NA>   \n",
       "95269  130636 1856-06-11            Wien   19  <NA>      6    <NA>   \n",
       "95270  130637 1856-06-11            Bern   15  <NA>      6    <NA>   \n",
       "95271  130638 1856-06-11           Paris   16  <NA>      6    <NA>   \n",
       "95272  130638 1856-06-11           Paris   17  <NA>      6    <NA>   \n",
       "95273  130638 1856-06-11           Paris   18  <NA>      6    <NA>   \n",
       "95274  130638 1856-06-11           Paris   18  <NA>      6    <NA>   \n",
       "95275  130638 1856-06-11           Paris   20  <NA>      6    <NA>   \n",
       "95276  130639 1856-06-11          Madrid   16  <NA>      6    <NA>   \n",
       "95277  130639 1856-06-11          Madrid   17  <NA>      6    <NA>   \n",
       "95278  130640 1856-06-11          London   16  <NA>      6    <NA>   \n",
       "95279  130640 1856-06-11          London   17  <NA>      6    <NA>   \n",
       "95280  130640 1856-06-11          London   18  <NA>      6    <NA>   \n",
       "\n",
       "       origin_year  start   end origin_date  delta  doc_year  \n",
       "95260         <NA>     26    52  1856-06-06      5      1856  \n",
       "95261         <NA>     11    34  1856-06-06      5      1856  \n",
       "95262         <NA>     14    33  1856-06-07      4      1856  \n",
       "95263         <NA>    798   816  1856-06-08      3      1856  \n",
       "95264         <NA>   1079  1100  1856-06-05      6      1856  \n",
       "95265         <NA>   1374  1395  1856-06-05      6      1856  \n",
       "95266         <NA>   1885  1906  1856-06-05      6      1856  \n",
       "95267         <NA>   2046  2067  1856-06-06      5      1856  \n",
       "95268         <NA>      0    16  1856-06-05      6      1856  \n",
       "95269         <NA>    840   856  1856-06-07      4      1856  \n",
       "95270         <NA>      0    15  1856-06-03      8      1856  \n",
       "95271         <NA>      0    17  1856-06-04      7      1856  \n",
       "95272         <NA>   1245  1262  1856-06-05      6      1856  \n",
       "95273         <NA>   2422  2439  1856-06-06      5      1856  \n",
       "95274         <NA>   2909  2926  1856-06-06      5      1856  \n",
       "95275         <NA>   4072  4089  1856-06-08      3      1856  \n",
       "95276         <NA>    345   369  1856-06-04      7      1856  \n",
       "95277         <NA>    482   506  1856-06-05      6      1856  \n",
       "95278         <NA>     28    47  1856-06-04      7      1856  \n",
       "95279         <NA>   2562  2580  1856-06-05      6      1856  \n",
       "95280         <NA>   4534  4552  1856-06-06      5      1856  "
      ]
     },
     "execution_count": 11,
     "metadata": {},
     "output_type": "execute_result"
    }
   ],
   "source": [
    "df.loc[(df.doc_date.dt.year == 1856) & (df.doc_date.dt.month == 6) & (df.doc_date.dt.day == 11)]"
   ]
  },
  {
   "cell_type": "code",
   "execution_count": 29,
   "id": "ace90655",
   "metadata": {},
   "outputs": [
    {
     "name": "stdout",
     "output_type": "stream",
     "text": [
      "here\n",
      "Stuttgart, 18. Juni. St.-A) Gestern Nachmittag 3 Uhr langten Ihre Majestät die verwittwete Kaiserin von Rußland und Se. Kaiserl. Hoheit der Großfürst Michael mit hohem Gefolge auf der Station Feuerbach, von Frankfurt kommend, mit einem Extrazuge an und begaben fich von dort aus zu Wagen in die Kronprinzltche Villa bei Berg. Se. Majestät der König waren Ihrer Majestät bis Ludwigsburg, Ihre Königl. Hoheiten der Kronprinz und die Kronprinzessin bis Bruchsal entgegengefahren. Abends 7 Uhr langten Se. Majestät der König von Preußen, empfangen von Sr. Majestät dem Könige, Ihren Königl. Hoheiten dem Kronprinzen und der Kronprinzesstu, Seiner Hoheit dem Prinzen vonSachsen-Weimar u. s. w.. im hiesigen Bahnhofe an und nahmen Ihr Absteigequartier im Königlichen Refidenzschlosse. Gestern fand im Königlichen Schlosse Familien-Souper statt. Heute wird große Tafel daselbst und nach Beendigung derselben Festvorstellung im Königl. Hoftheater stattfinden. Morgen ist große Tafel in der Wilhelms, nachher Vorstellung im Cannstatter Hostheater\n"
     ]
    }
   ],
   "source": [
    "msg_id, doc_id = 95267, 130635\n",
    "\n",
    "article = df.loc[df.doc_id == doc_id]\n",
    "\n",
    "if len(article) == 1:\n",
    "    span_start = article.start.values[0]\n",
    "    span_end = -1\n",
    "    \n",
    "elif article.index[-1] == msg_id:\n",
    "    print('here')\n",
    "    span_start = article.loc[msg_id, 'start']\n",
    "    span_end = -1\n",
    "    \n",
    "elif len(article) > 1:\n",
    "    span_start = article.loc[msg_id, 'start']\n",
    "    span_end = article.loc[msg_id+1, 'start']\n",
    "    print(span_start, span_end)\n",
    "    \n",
    "print(rz.loc[doc_id, 'full_text'][span_start:span_end])"
   ]
  },
  {
   "cell_type": "code",
   "execution_count": 27,
   "id": "d23eaf5b",
   "metadata": {},
   "outputs": [
    {
     "data": {
      "text/html": [
       "<div>\n",
       "<style scoped>\n",
       "    .dataframe tbody tr th:only-of-type {\n",
       "        vertical-align: middle;\n",
       "    }\n",
       "\n",
       "    .dataframe tbody tr th {\n",
       "        vertical-align: top;\n",
       "    }\n",
       "\n",
       "    .dataframe thead th {\n",
       "        text-align: right;\n",
       "    }\n",
       "</style>\n",
       "<table border=\"1\" class=\"dataframe\">\n",
       "  <thead>\n",
       "    <tr style=\"text-align: right;\">\n",
       "      <th></th>\n",
       "      <th>doc_id</th>\n",
       "      <th>doc_date</th>\n",
       "      <th>placename</th>\n",
       "      <th>day</th>\n",
       "      <th>day2</th>\n",
       "      <th>month</th>\n",
       "      <th>month2</th>\n",
       "      <th>origin_year</th>\n",
       "      <th>start</th>\n",
       "      <th>end</th>\n",
       "      <th>origin_date</th>\n",
       "      <th>delta</th>\n",
       "      <th>doc_year</th>\n",
       "    </tr>\n",
       "  </thead>\n",
       "  <tbody>\n",
       "    <tr>\n",
       "      <th>95262</th>\n",
       "      <td>130635</td>\n",
       "      <td>1856-06-11</td>\n",
       "      <td>Berlin</td>\n",
       "      <td>19</td>\n",
       "      <td>&lt;NA&gt;</td>\n",
       "      <td>6</td>\n",
       "      <td>&lt;NA&gt;</td>\n",
       "      <td>&lt;NA&gt;</td>\n",
       "      <td>14</td>\n",
       "      <td>33</td>\n",
       "      <td>1856-06-07</td>\n",
       "      <td>4</td>\n",
       "      <td>1856</td>\n",
       "    </tr>\n",
       "    <tr>\n",
       "      <th>95263</th>\n",
       "      <td>130635</td>\n",
       "      <td>1856-06-11</td>\n",
       "      <td>Berlin</td>\n",
       "      <td>20</td>\n",
       "      <td>&lt;NA&gt;</td>\n",
       "      <td>6</td>\n",
       "      <td>&lt;NA&gt;</td>\n",
       "      <td>&lt;NA&gt;</td>\n",
       "      <td>798</td>\n",
       "      <td>816</td>\n",
       "      <td>1856-06-08</td>\n",
       "      <td>3</td>\n",
       "      <td>1856</td>\n",
       "    </tr>\n",
       "    <tr>\n",
       "      <th>95264</th>\n",
       "      <td>130635</td>\n",
       "      <td>1856-06-11</td>\n",
       "      <td>Wiesbaden</td>\n",
       "      <td>17</td>\n",
       "      <td>&lt;NA&gt;</td>\n",
       "      <td>6</td>\n",
       "      <td>&lt;NA&gt;</td>\n",
       "      <td>&lt;NA&gt;</td>\n",
       "      <td>1079</td>\n",
       "      <td>1100</td>\n",
       "      <td>1856-06-05</td>\n",
       "      <td>6</td>\n",
       "      <td>1856</td>\n",
       "    </tr>\n",
       "    <tr>\n",
       "      <th>95265</th>\n",
       "      <td>130635</td>\n",
       "      <td>1856-06-11</td>\n",
       "      <td>Darmstadt</td>\n",
       "      <td>17</td>\n",
       "      <td>&lt;NA&gt;</td>\n",
       "      <td>6</td>\n",
       "      <td>&lt;NA&gt;</td>\n",
       "      <td>&lt;NA&gt;</td>\n",
       "      <td>1374</td>\n",
       "      <td>1395</td>\n",
       "      <td>1856-06-05</td>\n",
       "      <td>6</td>\n",
       "      <td>1856</td>\n",
       "    </tr>\n",
       "    <tr>\n",
       "      <th>95266</th>\n",
       "      <td>130635</td>\n",
       "      <td>1856-06-11</td>\n",
       "      <td>Stuttgart</td>\n",
       "      <td>17</td>\n",
       "      <td>&lt;NA&gt;</td>\n",
       "      <td>6</td>\n",
       "      <td>&lt;NA&gt;</td>\n",
       "      <td>&lt;NA&gt;</td>\n",
       "      <td>1885</td>\n",
       "      <td>1906</td>\n",
       "      <td>1856-06-05</td>\n",
       "      <td>6</td>\n",
       "      <td>1856</td>\n",
       "    </tr>\n",
       "    <tr>\n",
       "      <th>95267</th>\n",
       "      <td>130635</td>\n",
       "      <td>1856-06-11</td>\n",
       "      <td>Stuttgart</td>\n",
       "      <td>18</td>\n",
       "      <td>&lt;NA&gt;</td>\n",
       "      <td>6</td>\n",
       "      <td>&lt;NA&gt;</td>\n",
       "      <td>&lt;NA&gt;</td>\n",
       "      <td>2046</td>\n",
       "      <td>2067</td>\n",
       "      <td>1856-06-06</td>\n",
       "      <td>5</td>\n",
       "      <td>1856</td>\n",
       "    </tr>\n",
       "  </tbody>\n",
       "</table>\n",
       "</div>"
      ],
      "text/plain": [
       "       doc_id   doc_date  placename  day  day2  month  month2  origin_year  \\\n",
       "95262  130635 1856-06-11     Berlin   19  <NA>      6    <NA>         <NA>   \n",
       "95263  130635 1856-06-11     Berlin   20  <NA>      6    <NA>         <NA>   \n",
       "95264  130635 1856-06-11  Wiesbaden   17  <NA>      6    <NA>         <NA>   \n",
       "95265  130635 1856-06-11  Darmstadt   17  <NA>      6    <NA>         <NA>   \n",
       "95266  130635 1856-06-11  Stuttgart   17  <NA>      6    <NA>         <NA>   \n",
       "95267  130635 1856-06-11  Stuttgart   18  <NA>      6    <NA>         <NA>   \n",
       "\n",
       "       start   end origin_date  delta  doc_year  \n",
       "95262     14    33  1856-06-07      4      1856  \n",
       "95263    798   816  1856-06-08      3      1856  \n",
       "95264   1079  1100  1856-06-05      6      1856  \n",
       "95265   1374  1395  1856-06-05      6      1856  \n",
       "95266   1885  1906  1856-06-05      6      1856  \n",
       "95267   2046  2067  1856-06-06      5      1856  "
      ]
     },
     "execution_count": 27,
     "metadata": {},
     "output_type": "execute_result"
    }
   ],
   "source": [
    "article"
   ]
  },
  {
   "cell_type": "code",
   "execution_count": 12,
   "id": "f34e212e",
   "metadata": {},
   "outputs": [],
   "source": [
    "def get_topic_examples2(top, n, savepath=None):\n",
    "    \n",
    "    examples = t2v.search_documents_by_topic(top, n, reduced=True)[2]\n",
    "    \n",
    "    msg_ids = [int(ex.split('_')[0]) for ex in examples]\n",
    "    doc_ids = [int(ex.split('_')[1]) for ex in examples]\n",
    "        \n",
    "    example_texts = []\n",
    "    \n",
    "    for msg_id, doc_id in zip(msg_ids, doc_ids):\n",
    "        article = df.loc[df.doc_id == doc_id]\n",
    "        \n",
    "        if len(article) == 1 or article.index[-1] == msg_id:\n",
    "            span_start = article.start.values[0]\n",
    "            span_end = -1\n",
    "\n",
    "        elif len(article) > 1:\n",
    "            span_start = article.loc[msg_id, 'start']\n",
    "            span_end = article.loc[msg_id+1, 'start']\n",
    "            print(span_start, span_end)\n",
    "            \n",
    "        example_texts.append(\n",
    "                                {\"msg_id\": msg_id,\n",
    "                                 \"doc_id\": doc_id,\n",
    "                                 \"date\": rz.loc[doc_id, 'date'],\n",
    "                                 \"heading\": rz.loc[doc_id, 'heading'],\n",
    "                                 \"text\": rz.loc[doc_id, 'full_text'][span_start:span_end]\n",
    "                                }\n",
    "                            )\n",
    "        \n",
    "    if savepath:\n",
    "        with open(savepath+f'\\\\examples_{top}.json', 'w', encoding='utf8') as f:\n",
    "            json.dump(example_texts, f)\n",
    "    else:\n",
    "        return example_texts"
   ]
  },
  {
   "cell_type": "code",
   "execution_count": null,
   "id": "d48545c2",
   "metadata": {},
   "outputs": [],
   "source": []
  },
  {
   "cell_type": "code",
   "execution_count": null,
   "id": "bb1011bb",
   "metadata": {},
   "outputs": [],
   "source": []
  },
  {
   "cell_type": "code",
   "execution_count": null,
   "id": "b3e3b35c",
   "metadata": {},
   "outputs": [],
   "source": []
  },
  {
   "cell_type": "code",
   "execution_count": null,
   "id": "381872a4",
   "metadata": {},
   "outputs": [],
   "source": []
  },
  {
   "cell_type": "code",
   "execution_count": null,
   "id": "22c75cfa",
   "metadata": {},
   "outputs": [],
   "source": []
  },
  {
   "cell_type": "code",
   "execution_count": null,
   "id": "e310727d",
   "metadata": {},
   "outputs": [],
   "source": []
  },
  {
   "cell_type": "code",
   "execution_count": null,
   "id": "6119d5c8",
   "metadata": {},
   "outputs": [],
   "source": []
  },
  {
   "cell_type": "code",
   "execution_count": null,
   "id": "a6d9dfda",
   "metadata": {},
   "outputs": [],
   "source": []
  },
  {
   "cell_type": "code",
   "execution_count": 117,
   "id": "645b6767",
   "metadata": {
    "scrolled": false
   },
   "outputs": [
    {
     "name": "stdout",
     "output_type": "stream",
     "text": [
      "\tPest, 21. (9.) Januar. Der „Pester Lloyd\" äußert sich heute in bemerkenswerther Weise über die orientalische Frage. Im Gegensatze zu Wien, wo man über jeden den Stab bricht, der nicht in der Türkei Alles gut und recht findet, wünscht man in Pest mit den Südslawischen Völkerschaften in gutem Einvernehmen zu bleiben. Das Wort Andrassy's, die Delegationsinstitution sei auf jeden anderen Staat anwendbar, der mit Ungarn in nähere Verbindung treten wolle, ließ eine speciellere Deutung auf den Südosten zu. Den Serbischen osficiösen Blättern erwidert der „Pester Lloyd\": „In dem Augenblicke, als „Jedinstvo\" es offen ausspricht, daß „auch Serbiens Interesse, ja sein Bedürfniß die Consolidirung aller Länder der Stephanskrone erheische\", ist für das gegenseitige Einverständniß eine feste Basis gewonnen; es ist damit aber auch der wesentliche Unterschied zwischen der Serbischen und der Rumänischen Politik klar gekennzeichnet. Die Herren, die in Rumänien das große Wort führen, haben nicht nur ein so loyales Bekenntniß, wie wir es nun von Serbischer Seite vernehmen, niemals über die Lippen gebracht, sondern vielmehr offen gegen die Integrität der Länder\n",
      "\n",
      "\tder Stephanskrone agitirl. Man msge in BeW die Reden der Herren Bratiano und Consorten nah lesen, die sammt und sonders von „SiebenburgisÄ Schmerzensschreien\" widerhallen, und dann mög man selber darüber urtheilen, ob ein solcher Nachbm auf Wohlwollen und Vertrauen auch nur den entferntesten Anspruch habe, ob er uns nicht vielmehr in die Nothwendigkeit versetze, jede seiner Beweguw gen mit Vorsicht, ja mit Argwohn zu begleiten, »m nicht in einem unbewachten Momente aus irgend einem Hinterhalte überfallen zu werden. Fürwahr nicht wir sind es, die der Freiheit, dem Wohlstände, der Entwickelung Rumäniens irgend ein Hindernis in den Weg zu legen gedenken; allein nicht auf m \\ sere Kosten darf Alles das geschehen. Wir achten' das Selbstbestimmungsrecht einer jeden Nation; wir sympathistren mit allen edlen Aspirationen und halten uns nicht berufen, der Geltendmachung dchlben \\ irgendwie hindernd in den Weg zu treten, aber ш \\ so lange sie nicht jene Grenze überschreiten, wo Щ \\ uns die Pflicht der Selbsterhaltung beginnt und wo uns eine Großmuth zugemuthet wird, di! bei einem einzelnen Menschen Tugend sein mag, bit aber bei Staaten und Nationen geradezu zum Verbrechen wird. Diejenigen Völker des Orients, welche die Integrität des Stephansreiches zu achten ; entschlossen find, können stets aus unser herzlichstes Wohlwollen rechnen und zwar nicht blos in ihm gegenwärtigen Lage, sondern auch bezüglich solcher Expansions-Bestrebungen, zu denen sie m möge ihrer historischen, territorialen und ethnographischen Verhältnisse, ganz besonders aber im A teresse der Verbreitung der Civilisation unter beti Christen des Orients berechtigt sind.\"\n",
      "Pest, 22. (10.) Januar. „Napio\", das Deakisw Organ, bespricht die Einstellung des Federkriegeder inspirirten Oesterreichischen und Preußischer : Presse und sagt v. A. : Angesichts der hohen In- , telligenz unserer Norddeutschen Nachbarn find m , überzeugt, daß auch sie aus dem Ereignisse eich { beachtenswetthe Erfahrungen geschöpft, welche h t Verhältniß der beiden Staaten zu einander belech ten. Wir hoffen, daß fie vor Allem zur Heb zeugung gelangt find, daß in dem OesterreiaM , Ungarischen Staate jede Cabinetspolitik unmW geworden ist und daß gegenwärtig Regierung uni Volk von gleichen Gefühlen beseelt sind hinfichW der Ausrechterhaltung und Wahrung der Selbstà digkeit, fern von allen Répressions- oder Restarn tions-Gedanken. Und wenn die traurigen Momeá\n",
      "an welchen der Federkrieg so reich war, gar itii Spur jenseits der nördlichen Grenzen der Monarch« zurückgelassen hätten, so hält dies uns doch niß ab, den Schleier der Vergessenheit überdiesebb trübende Episode zu breiten. Auch werden Nitz wir es sein, die wir zuerst die Hände ausstrecke um diesen Schleier zu lüften. Ja, wir könne« unseren Preußischen College» die Versicherung gebe«, daß, wenn sie in Wahrheit das gute Einvernehmi mit der Oesterreichisch-Ungarischen Monarchisch recht erhalten wollen, fie auf unsere größte Duck Willigkeit in dieser Richtung rechnen können. St fern liegt uns jeder Gedanke, die Verhältnisse |j verbittern, so sehr liegen uns die Interessen de! Friedens und der Humanität am Herzen, daß m direct ihrethalben die Aufforderung an die gesamt Oesterreichisch-Ungarische Presse richten wollen, ß möge diesen unglücklichen Conflict als vollständig beseitigt und als radical behoben ansehen und v« jeder Discutirung desselben ablassen. Inder beiden feite eingetretenen Wendung sehen wir einen Schrill zur vollständigen Wiederherstellung der sreundnch barlichen Verhältnisse. Wir besorgen nicht, daß dd letzteren Ereignisse sie getrübt haben könnte« Wahrlich, jeder der beiden Staaten, sowohl Preuße, als unsere Monarchie, ist von dem Ringens endlicher Consolidirung vollauf in Anspruch genw men. Diese im Nachbarstaate zu trüben, ist keim vernünftigen Menschen unter uns eingefallen ml\n",
      "\n",
      "\tvon dem Augenblicke &lt;m, da wir überzeugt sind,' daß man in Berlin nicht bestrebt ist, unsere fried-Щт Arbeiten zu trüben, kann der Norddeutsche Bund unserer ausrichtigsten Sympathien überzeugt |sln, Wir wollen nicht in der einen Hand die Kelle, ! dl der anderen den Degen halten, und die moderne Mtur hat viel zu tief Wurzel gesaßt im Norddeut-Ken Bunde, als daß man dort an solchen Zustänkn Gefallen finden könnte. Intriguen haben fich »jemals und werden fich nie vertragen mit dem Charakter der Oesterreichisch – Ungarischen Völker. Äer uns к unserem eigenen Lande in Frieden läßt, der kann überzeugt sein, daß wir ihn unbehelligt lassen werden\n",
      "-------------------\n",
      "Berlin, 5. September (24. August).\n",
      "Auf den 27. October find die Wahlen zum Reichstag ausgeschrieben und man hat fich also darauf gefaßt zu machen, daß der Wahlkampf noch etwas stärkere Dimensionen annimmt, als eS bisher schon der Fall war, obgleich manche Leute geglaubt haben, daß der Lärm jetzt schon nicht mehr größer sein könnte.\n",
      "Tie Wahlaufrufe der verschiedenen Parteien werden nun auch bald erscheinen und vor der Hand hat die „Norbd.Allg. Ztg.\" eine Art Wahlaufruf — anonym, aber offenbar inspirirt — auf ihre eigene Verantwortlichkeit hin gebracht, der in dem ganzen liberalen Lager einen Sturm der Ent-\n",
      "\n",
      "\tDer Siegespreis.\n",
      "\n",
      "\ti rüstung hervorgerufen hat, auch von conservativer Seite theilweise angefochten und schwerlich irgend eine freiwillige Unterstützung finden wird.\n",
      "Cr erklärt in wenigen Worten, daß Diejenigen, welche die Feinde der Regierung seien, auch Feinde deS Kaisers seien, daß heißt, er entwickelt eine Theorie, welcher in Zeiten der schwärzesten Reaction von den schwärzesten Reactionairen gehuldigt wurde, zu der sich daS Ministerium Manteuffel bekannte und die Friedrich Wilhelm IV auch gern geltend machte.\n",
      "Wie weit fich Fürst Bismarck mit diesem Wahlspruch identificirt, mag dahin gestellt bleiben. Die „Nordd. Allg. Ztg.\" ist schon mehr al» einmal verleugnet worden, der Kanzler ist überdies augenblicklich nicht hier und die unermüdlichen Zwischenträger zwischen Varzin und den BüreauS der „Rordd. Allg. Ztg.\" mögen die Redaction gewisser Emanationen oft nicht verbessern.\n",
      "Thatsächlich wird der allergemäßigtste, wie der größte Verehrer Bismarcks nur wünschen können, daß, wenn auch daS gesprochene Wort nicht zurückgerufen werden kann, der Parole doch keine Folge gegeben werden möge. Denn fie hat den Erfolg, daß fie die gemäßigt Conservativen, welche schon bedeutende Erfolge hinter fich haben, in ihren Bestrebungen lahmt.\n",
      "Man rühmt als Kern deS englischen ParlamentariSmuS, daß die beiden Parteien der regierenden Klassen in schweren Kämpfen allmülich' die Ueberzeugung gewonnen haben, gewisse Freiheiten und Rechte seien beiden gleich ersprießlich, und daß deshalb beide einen gemeinsamen Boden haben.\n",
      "DieseS Ziel ist erreicht worden, nachdem der Parteihaß die Gegner auf die Echaffote getrieben, waS glücklicher Weife in dem konstitutionellen Teutschland des 19. Jahrhunderts noch nicht vorgekommen ist. Solche abschreckende Beispiele fehlen also, trotz dessen aber hat ein mehr als dreißigjähriger Constitutionalisnms Denjenigen, welche ihm zuerst am Feindseligsten entgegentraten, nämlich den Reactionairen, bewiesen, daß er doch für jede Partei etwa« Gutes hat. Die Welt ist alleweile rund gewesen und hat fich gedreht, heute ab-? noch etwas schneller, aIS sonst, und wer oben steht, mag immerhin dessen eingedenk sein, daß er mo gen unten sein kann. Dann wird auch er eS aU höchste Wohlthat empfinden, wenn ihm Rechte bleuen, die ihm Niemand nehmen kann.\n",
      "Sollten jetzt — was fich noch nicht mit Bestimmtheit sagen läßt — die eigentliche KreuzzeitungS-Partei und die Deutschconservativen nicht ausdrücklich gegen die Wahlpartei der „Nordd. Allg. Ztg.\" Protestiren, so liegt der Grund nur darin, daß fie für die Wahlen die Unterstützung der Regierung haben wollen, und deshalb auf's Ernstlichste jeden Conflict mit dem Kanzler vermeiden.\n",
      "\n",
      "\tDie eigenthümlichen Verhältnisse Preußens und deS Reiches find Ursache, daß auch bei diesen Wahlen ein einfacher Gegensatz zwischen den Parteien nicht besteht. Nach manchen Aeußerungen der Fortschrittspartei konnte man sagen: die Frage steht f ft r oder gegen Bismarck ; aber in Wirklichkeit ist die» nicht der Fall. Nur eine sehr kleine Zahl äußerster Fortschrittler und Secessionists hat diese Consequenz ihrer Opposition gezogen, die ungeheure Mehrheit der Nation will den Mann nicht entbehren, welcher seit zwei Jahrzehnten die auswärtige Politik so glänzend geleitet hat.\n",
      "Ebensowenig kann man sagen, die Fragen stehen f ü r oder gegen die neue WirthschaftSpolitik. Vielmehr liegt eine Um- und Rückkehr zu der manchesterlichen Politikfür längere Zeit absolut außerhalb der Möglichkeit vor. Wenn man Delbrück sammt Bamberger und Rickert heute an die Spitze des Staate» stellte, so könnten fie da» wirtschaftliche System, welches bis zum Jahre 1878 herrschte, nicht wieder herstellen. Bei dem erste:- Versuch würden fie einem Widerstand begegnen, der ihnen erst zeigen würde, welchen Widerstand sie während ihrer Herrschaft schon gegen fich herausbeschworen hatten; denn niemal« wären BiSmarck'S wirthschaftliche Reformplüne möglich gewesen, wenn nicht schon vorher die Strömung dazu vorhanden gewesen wäre und wenn die Herrschenden nicht vollständig im Gefühl ihrer Unfehlbarkeit besangen, mit einer Selbstüberschätzung ohne Gleichen jedes Zeichen der ihnen drohenden Gefahr übersehen hätten.\n",
      "Die Sache liegt also so, daß eine Gefährdung der wirtschaftlichen Politik de» Kanzler» al» Resultat der nächsten Wahlen in keiner Weise zu erwarten ist. Ebensowenig scheint eine Gefährdung der politischen Stellung de» Kanzlers möglich, und damit ist auch gegeben, daß die Fortschrittspartei mit ihren secesfionistischen Freunden kein Ziel hat, welche» ihre Anhänger für die Wahlen recht begeistern und zu äußersten Anstrengungen ermuthigte.\n",
      "Die nationalliberale Partei, welche noch im Jahre 1878, obgleich schon in der Decadence noch ziemlich I*/« Millionen Wahlstimmen auf fich vereinigt hatte, fleht beinahe aussichtslos da und trotz alles Redenî von der Einigkeit aller Liberalen arbeitet die Fortschrittspartei unermüdlich daran, ihr soviel Mandate abzunehmen, als möglich!\n",
      "DaS Centrum wird ungefähr in derselben Stärke, wie früher widerkehren und wird seine Mannschaften wie früher, bald auf dieser, bald aus jener Seite verwenden. ES kann nach wie vor die ausschlaggebende Partei, nie die herrschende\n",
      "werden.\n",
      "Am günstigsten stehen die Chancen für die Conservativen. Mag man sich darüber freuen oder eS beklagen, wie die Situativ« jetzt liegt, ist eS so und nicht anders. Die Conservativen find ferner vorzüglich geleitet, vermeiden vorsichtig jede\n",
      "\n",
      "\tOpposition gegen den Kanzler, zerbrechen fich niemals seinen Kopf (waî z. B. andere tieffinnige Politiker thun, wenn sie anS lauter Gewissenhaftigkeit darüber gar nicht wegkommen können, wie denn der Staat allen Forderungen gerecht werden soll, welche er in dem Unsallgesetz an fich stellt) und können, wenn fie die stärkste Partei find, auch Anspruch auf eine stärkere Vertretung in der Regierung erheben.\n",
      "Daß diese Partei also einzig unter den bisher betrachteten von einem SiegeSpreiS bei dem Wahlkamps reden kann, ist unzweifelhaft. Neben ihr kann nur noch Jemand von einem solchen sprechen und daS ist Fürst Bismarck selbst. Hat er eine Majorität, welche an der Wirthschafts. Politik nicht rührt und seine Socialpolitik unterstützt, so ist ihm für die nächste Wahlperiode ein ungeheures und beinahe unbeschränktes Feld der Thätigkeit geöffnet, er bleibt der leitende Staatsmann in der g esam m t e » Politik.\n",
      "Dazu würde er fich allerdings mit der confervativen Partei auseinandersetzen müffen; wie weit dies ohne große Schwierigkeiten gehen würde. daS kann erst die Zukunft zeigen\n",
      "-------------------\n",
      "Berlin, 18. October 1867 \" (folgen die Unterschriften.)\n",
      "— Von dem Comite der national-liberalen Partei für die Berliner Wahlen wird folgender Aufruf veröffentlicht: НШ unsere Parteigenosten in Berlin. Eine Versammlung von Vertrauensmännern der national -liberalen Partei hat unS (am 16 October) beauftragt, unsere politischen Freunde dadier zu reger Theilnahme an den bevorstehenden LandtagSwahlen aufzufordern. Diese Wahlen haben dieSmal eine um so größere Wichtigkeit, als zum ersten Male die Bewohner der neuen Provinzen  theilnehmen und der so verstärkte Landtag die Gesetze zu v-schließen hat. welche sich auf die inneren Einrichtungen der neuen Provinzen beziehen. Auch daS Verhältniß der Landes- zur Bundesverfassung ist eine der schwierigsten und dedentendften Aufgaben, welche jemals eine Landesv.rtr,lung ,u lösen hatte. Zu diesen und anderen damit verknüpften Aufgaben, von welchen die ganze Neugestaltung Deilticl'lants abhängt, hat die nationall&gt;berale Partei von Ansang eine feste Position einqenommm; sie hat es ohne Zögern aIS dringenvste Pflicht erkannt, der Deutschen Einheit ein kräftiges und mächtiges Organ zu errichten, daS, mit der Autorität des allgemeinen Stimmrechtes von 30 Millionen Seelen ausgestattet, darauf hinarbeite, vie noch getrennten Glieder der Nation wiedereinzufügeir und den Geiammtstaat unabhängig nach außen, frei im Innern zu gestalten. Gerade darum brauchte sie die rühmlichen Freiheitsbenredüngen der letzten parlamentarischen Epochen in feimr Weise zu verleugnen; sie sieht auch jetzt noch im Preußischen Abgeordnetenhause ein unentbehrltches Werkzeug zum Ausbau des Rechtsstaates und zur Begründung -er Selbstverwaltung und Volks-\n",
      "\n",
      "\tbilduna, welche die Voraussetzung des allgemeinen Stimmrechtes und die Bedingung der nationalen Stärke sind. Wir erklären eS ausdrücklich, daß wir alle Sätze des Programms der Fortschrittsparlei von 1861 aufrechterhalten, soweit dieselben roch auf die gegenwärtigen Zustände anwendbar sind, und glauben wir. alle lücht inhaltsleer gewordenen Forderungen jeneS Programms schärfer und bei stimmte?' in uuscr Programm vom Juni diese»' Jahres aufgenommen zu haben. Dieser Erklärung bedarf eS wohl nicht erst, um wiederholt zu bestätigen,. daß wir uns der alten Fortschrittspartei näher verwandt fühlen, aIS irgend einer änderen Partei — wenn sie auch die geschichtlich gebotene Entwickelung unserer gemeinsamen Grundsätze nicht tn unserer Weise auffaßt. Wir glauben sogar nach einigen neueren Kundgebungen hoffen zu dürfen, daß unsere alten bisher zurückgebliebenen Kampfgefährten den Werth der ReichSversassung allmählich besser zu würdigen lernen und ans die breiteren Pfade der neuen Entwickelung einzugchen dereit sein werden. So lange aber hierüber noch keine offenkundige Verständigung ersolgt ist, müssen wir — auch aus ungünstigem Voden — mit Energie und klarem Willen unsere Betheiligung bet der Auswahl der Candtdaten von der Anerkennung unseres speciellen Parteiprogramms abhängig machen. Jn diesem Sinne erluchen . wir unsere Parteigenessen, daß Jeder für seine Person tn s.inem Bezirke thätig sei und mit den Gleichgesinnten Fühlung zu gewinnen suche. Nur wenn jeder Einzelne iei; e ganze Pflicht erfüllt, wächst und gedeiht die Partei — zur Ehre jedes Einzelnen, der dazu beiträgt, zur Ehre des Vaterlandes! \n",
      "-------------------\n",
      "Berlin. 31. (19.) Januar\n",
      "Heute ist der 25. Jahrestag der preußischen Ver. sassung. Aeußerl'ch geht derftlbe lo still als möglich\n",
      "\n",
      "\tvorüber, kein öffentliche« Fest bezeichnet ihn. und selbst in der Art und Weise, »ic ibn die Zeitungen be sprechen, möchte man eine Andeutung setze«. d&gt;ß fie ihn beinahe »ergessen halten. Bei einzelnen Zeitungen, wie der .Kreuzzeitung. der .Volkszeitung', de» .Tageblatts scheint die« wicklich der Fall geweseu ju sein.\n",
      "Zu verwundern ist die« nicht. Die preußische Derfossung ist allezeit ein Schmerzenskind gewesen. Widerwillig gegeben, ohne Freude empfange« war fie zwanzig Jahre hindurch das Feld, aus welche« sich die reaetionrir« uud die freisinnige Partei ihre Schlachten lieferten, und da der erstere« die staatliche Macht zur Seite stand, so war sür die letztere im Ganzen wenig z« holen.\n",
      "Und als sich dann die Zeiten bester gestalteten, da trat jene große Umgestaltung ein. durch welche die preußische Verfassung aus einmal zu Gunsten erst des norddeutschen Bundes, dann des deutschen Reiches die größten Гучт bringen mußte, durch welche Preußen überhaupt, fo weit c« fich Parlamentär sch-constitutionell äußert, in eine Linie mit den kleinen Staaten gestellt\n",
      "wurde.\n",
      "Denn das empfindet Jedermann, daß das deutsche\n",
      "Reich nicht blos eine fictive, sondern eine wirkliche Staatsgewalt, und der deutsche Reichstag die erste Vertretung der ganzen Ration ist. gegenüber welcher alle particularen Vertretungen in die zweite Linie rangirt werden.\n",
      "Allerdings gilt dies nicht absolut. Der preußische Staat ist vieimedr immer noch ein mächligrs Gefüge, weitaus das stärkste in ganz Deutschland, und in allen entscheidenden Beziehung«« geradezu Ausschlag gebend, aber es geschieht dies ia einer so eigenthümlichen Welse, daß die preußische Besooderheit dabei kaum deme'k» wird, und daß di« Thätigkeit sowohl des preußischen Landtags wie des pieußi ehe« Htaale« im», r nur einen vorbereitenden Charakter hat. Sie wirkt durch ihre innere Schwert und als Beispiel, keineswegs durch äußere« Zwang, und es würde dieser jetzt kaum bemeikbare Charakter derselben erst empfind« lich werden, wenn, was zum Heile Deutschland« hoffentlich nicht zu bald eintritt, de? schöpler sche Geist, welcher heule in Preußen lebt, einmal versiegen sollte.\n",
      "Es sind di s Alles kaum faßbare, wenigstens für die Menge kaum faßbare Momente. Der regulären Tat in, welche nichts anerkennt als fich selbst, hat die nach Ш6 eingetretene Veränderung nicht ge« fallen. Sie hätte, unbekümmert um Alles, was iv der Welt vorgeht, die preußische Verfassung «ach ihre» Sinne „ausgebaut', bis die parlamentarischen Rechte\n",
      "\n",
      "\tin höchster Vollendung dagestanden  und die Krone zu dem Punkte auf de« i herabgedrückt worden wäre. Deshalb hat die eigentlich demokratische, die alte Derjassungspartei heute keine Lust zur Feier« Sie steht nur die .Lücken' in der Verfassung, und da etwa« recht Vollkommenes doch nicht «ehr ans dieser durch da» Reich beschränkten Verfassung werden kann, so wird fie ihre Bestrebungen auf die Reichs« Verfassung übertragen und diese möglichst vollkommen, d. h. möglichst nach der constitutionellen Schablone zu gestalten suche», obgleich jetzt wieder die vergebliche» Anstrengungen der französischen Nationalversammlung c« recht kl»r machen sollte», wie wenig Werth eine solche Schablone hat.\n",
      "Ander» stehen die Dinge, wenn man fie von einem »»befangenen historischen Gesichtspunkte aus betrachtet. T» »ar im Zahre 1848. nach dem Rückschläge, welcher »er Revolution folgte, keineswegs ficher, daß Preußen j» einer Verfassung gelangen würde. Nicht die Weis« heit, sonder» vielleicht mehr die Uaentschlosseaheit der Regierung veranlaßte, daß die Arbeiten der Verfassung«« commission der Nationalversammlung im Weseullichen ia die oetrovirte Verfassung vom 5. December 1848 herüdergeuommen wurden und daß die Revifion«ardeit, welche zu der Verfassung vom 31. Zanuar »850 führte, aus diese Verfassung gerichtet «ar. E« war damal« die Zeit der gewaltsamen Verfassungsbrüche, uud die Regierung in Preußen hätte vollkommen die Macht de« feflen. auch mit der Verfassung, «elche ihr durchaus nicht sympathisch war, auszuräumen. Sie that es aber nicht uud so ist die Coatinuität der Verfassung durch alle Stürme hindurch gerettet worden. Das ist. aaa kann nicht sogen, ein Vortheil, sondern ei« wirk« licher Segen sür Preußen gewesen, den» ohne diese Tovti»uilät wäre Preußen 1863 nicht im Stande ge« »esen. den feindlichen Absichten Oesterreichs entgegen zu treten. Es wäre durch da» Volksdewußlfein ei» unheilbarer Riß. ein uvvertilgdares Mißtrauen ge« gangen, welche c» der Regierung unmöglich gemacht hätten, auf die Zustimmung und Opsersrendigteit de» Volke» bei den große» Unternehmungen, welche sie plante, zu rechnen, und der schoa vorhandene Wider« stand gegen die preußische Hegemonie wäre in dem nichtpreußischen Deutschland zu einer unbesieglichen Stärke geichwollen. Daß in Preußen trotz aller Krisen die Verfassung doch immer erhalten blieb, während ia Oesterreich die Verfassung sehr bald ia die Brüche ging — da» ist vielleicht da» wichtigste und schwerwiegendste moralische Moment gewesen, welches ia dem Rivalitätstampfe zwischen Oesterreich und Preußen sür das letztere entschieden hat.\n",
      "Außerdem giebt c» noch ei» andere» Moment, welche» die Preußen mit Ehrfurcht und Pietät gegen ihre Verfassung erfüllen muß. Sie ist nämlich da» Feld ge« »esen. auf welchem fich ihre politische Schulung vollzogen hat. Denn bi» zum Zahre 1848 war Preußen ein absoluter Staat, dann trat die Revolution ein. »Elche, wie fich erschreckend zeigte, üderau» wenig Po« littfehes Bewußtsein vorfand. Zn der octrcyirten Beifassung von 1848. in der Verfassung vom 31. Zanuar 1850 war ein positiver Boden sür praktische Thätigkeil gegeben. Die Reaction ließ es fich sauer «erden, ihr »»liebsome Bestimmungea an» der Verfassung herau»juschassen. die liberale Partei vertheidigte ant«, den ungünstigster. Verhältnissen mit dewunternswürdiger Zähigkeit das Terrain Schritt für Schritt und rettete den besseren Theil der Verfassung glücklich hm« über bis zu helleren Zeiten.\n",
      "Fünfundzwanzig Zahre find im Leben der Völker nur eine kurze Frrst. Das Burteljabrhnndert seit dem Bestehen der preußischen Verfassung kann gewisser« «aßen als die politischen Lehrjahre des preußischen Volkes angesehen werden, und es ist nicht schlecht de« uutzt worden. Die Lehrjahre schließe» die Ausbildung noch nicht ab, aber «er die heutigen Zustände mit denen vor fünfundzwanzig Zähren vergleicht, «iid die Ueberzeugung gewinnen, daß es das deutsche Volk all« malich auch, wenn sonst das Glück ihm nicht ganz untreu wird oder es sich nicht selbst verläßt, auch bis\n",
      "\n",
      "\tzur Meisterschaft in politische« Dingt«. ». h. bis zu einem verfeuerte« Eelbstregiment in monarchischen Forme« dringen wird\n",
      "-------------------\n",
      "\tWien, 28. (16.) December. Ueber deu viel besprochenen Artikel, der .Provinzial-Korrespondenz\" liegt iv dem Leitartikel der letzten Ausgabe de? .Montag« fttbiu' non auch eine offieiöfe Auslassung österreichischerseit« vor. Die Wiener Offieiöse glaubt gleichfalls nicht au die .politische Solidarität von Interessen, die so grelle Widersprüche, wie die Ideen der Centralisation (Ritter von Schmerling) und deS Föderalismus (Graf Thun), die josephinischeu Grundsätze deS AltliberaliSmuS vud den UltramontaaiSmuS der staatsrechtlichen Opposition zu einem Garze» von politischer Bedeutung zu verknüpfe» vermöchte.\" Dc-gegen ka»a sich da» Blatt in allen übrigen Punkten den Anschaumigen der .Prov-Conesp.' nur rückhaltSloS anschließen. .TS ist eine durchaus staatSmärmiiche Auffassung,' heißt c» in dem Artikel, .wenn daS preußische Blatt die Bürgschaften eine» innigen Zn« sammeagehevS Oesterreichs mit Deutschland durch keine BnfaffungSform der Moaarchie in gleicher Weise gewährleistet sieht. AIS dorch die dualistische. I» der That vermöchte weder die centralistische Zosammeuschließnug der ReichSeinheit. noch die fSderalistische Lockerung oajelbeo. die Bedingungen dies-r politischeu Verbindung gleich kräftig zu entwickeln und gleich unversehrt aufrecht zu erhalten. DaS eentralifirte Oesterreich müßte nothwendig durch seine Tendenz. daS föderalifirtc durch die Machtembuße, die c» erfahren, den Werth jener Allianz abschwächen. Wie man immer di« Frage vom Standpunkte unserer inneren Verhältnisse beurtheilen mag. vom deutschen Stand« punkte auS betrachtet, wäre Oesterreich mit dem CeotraliSmuS ein weniger verläßlicher. Oesterreich mit der Föderation ein weniger mächtiger Bundesgenosse aIS Oesterreich-Ungar» mit dem DualiSmuS.' DaS Blatt verzeichnet .nicht ohne lebhafte Befriedigung deu Ausdruck deS Vertrauen», welche« da» Berliner ministerielle Blatt den gegenwärtige»\n",
      "\n",
      "\tleitenden Staatsmänner« der Monarchie e n tge g e v b r in g t*\n",
      "-------------------\n",
      "Berlin. 10. August (29. Juli).\n",
      "Es war ja wohl Friedrich' der Große, welcher sagte, daß derjenige Feldherr den Sieg davon trage, welcher die wenigsten Fehler mache. Wenn man diesen Satz auch auf die politischen Kämpfe anwenden darf, so wird man wirklich mit einer berechtigten Neugierde dem jetzt schon begonnenen Wahlkampf zusehen müssen. Denn augenblicklich scheinen in der That beide Parteien nur in den von ihnen begangenen Fehlern wetteisern zu\n",
      "wollen.\n",
      "Wenn wir sagen beide Parteien, so geschieht die« insofern mit gutem Grunde, als sich allerdings die Konservativen und Liberalen so ziemlich in geschlossenen Reihen und ohne Vermittelung gegen«\n",
      "über treten werden. Du Uliramontanen werden ihre gesonderte Stellung beibehalten und sich bestreben, sich soviel Sitze aIS irgend möglich zu erhalten. An V.rgrößerung der Partei ist gegenwärtig wohl nicht zu denken, da in ihren Reihen starke Zwistiakeiten ausgebrochen sind und der gegenwärtige ruhigere Stand des KirchenstretteS naturgemäß ein Nachlassen jenes Eisers bewirken muß, der seit acht Jahren den Ulttamontanen so sehr zu Statten kam.\n",
      "Bettachtet man nun zunächst die Conferv a t i v e n, so ist es offenbar von dem einfachsten\n",
      "\n",
      "\tParteifehler.\n",
      "\n",
      "\tpolitischen Standpunkte aus bettachtet, unklug, wenn die .Nordd. Allg. Ztg.' jetzt mrt allerlei Ansichten hervortritt, welche aar nicht anders gedeutet Werden können, aIS daß sie wirklich reactionaire Tendenzen in den regierenden Kreisen verrathen. Dies ist z. B. der Fall mit der Beschränkung des freien Rechts der Eheschließung und mit der Anregung der Wiedereinführung der Prügelstrafe. Es kann ganz dahingestellt bleiben, ob in beiden Richtungen irgend ein Bedürfniß vorliegt; jedenfalls ist jetzt keine dringliche Nothwendigkeit zu einer umfassenden Rückbildung der Gesetzgebung des letzten Jahrzehnts oder JahrzwölftS vorhanden, und wenn der Liberalismus in dieser Periode etwas zu rasch vorgegangen ist, so würde eine Uebcrstürtung der konservativen Bestrebungen einen chaotischen Zustand hervorbringen, den kein Staatsmann wünschen kann. Die Ansicht, daß das allerdringendste Bedürfniß des ganzen Landes eine Ruhe in der Gesetzgebung sei, wird ja von der großen Mehrheit getheilt. Selbst Herr v. Forckenbeck hat ihr noch vor wenigen Monaten, allerdings ehe er in das Lager der entschiedenen Opposition überging, Ausdruck gegeben, und die Gemäßigt-Liberalen und Gemaßigt-Conservativen haben daS Gleiche gethan. Nun denke man fich einmal, daß jetzt, wo die Umgeftaltung des Justizwesen» erst in der Praxis deginnen soll, eine Umwälzung, welche außerordentliche Unruhe und Unbequemlichkeit hervorruft, wo der wirthschaftlichen Politik dasselbe vorausgesagt werden muß, noch eine umfassende Revision der .liberalen\" Gesetze erfolgen sollte, so würde man zu ganz unerträglichen Zuständen kommen, welche den Conservation noch vielmehr als den Liberalen die Lust an der parlamentarischen Thätiakeit verleiden müßte. Dabei fehlt eS innerhalb der konservativen Parteien an einem ausreichenden Gegengewicht gegen solche Ausschreitungen. Ein solches könnte durch die F re i c o n s er v at i v e n gebildet werden, aber gerade diese Partei wird durch die fortdauernde Heranziehung ihrer Mitglieder zu hohen Regierungsposten (eine Heranziehung um welche man sie sehr thörichter Weise beneidet) decimirt und ihrer besten Kräfte beraubt.\n",
      "Indessen läßt eS auch die andere Seite nicht an Fehlern fehlen. Zuerst zeigt fich schon jetzt, daß die Parole der .großen liberalen Partei', sür welche besonders Herr v. Forckenbeck so stark ins\n",
      " gegangen ist, ein sehr unglücklicher Griff war, denn im Ernst will Niemand etwas davon wissen, und Fortschritt und Nationalliberale werden auch in Zukunft neben einander gehen. Diese Cooperation kann unter Umständen eine aewisse Wirkung haben, aber eine große liberie Partei entsteht daraus nicht. Ein zweiter größerer Fehler war die Ausgabe der Losung .Weg mit Bismarck!\" Ein fortschrittliches Blatt nach dem anderen, ein nationalliberales nach dem anderen lehnt die Solidarität mit diesem Programm ab, offenbar weil es allgemein empfunden wird, daß diese Parole bei den nächsten Wahlen die allerunglücklichste sür die Liberalen wäre. Der dritte und\n",
      "\n",
      "\tgrößte Fehler endlich ist der Ausspruch der.Volts-Zeitung\", daß der Fortschrittspartei ein Socialdemokrat acceptable? sei, als ein Ministerieller oder ein Minister. Auch hier reguct eS förmlich Absagen, und man sucht die Sache so darzustellen, als ob die .VolkSzeitung\" nur ihre eigene persönliche Meinung ausgesprochen habe.\n",
      "Das Unglück rst nur, daß in den beiden letzterwähnten Punkten eine wirklich energische Oppositionspolitik gar nicht anders kann, als so zu handeln, wie hier vorgeschlagen wird, nämlich auf die Beseitigung Bismarcks hinzudrängen und ein besseres Einvernehmen mit den Socialdemokraten herzustellen, welche eine so bedeutende Ziffer der Bevölkerung bilden, daß die Fortschrittspartei den gleichzeitigen Kampf gegen sie und gegen die Conservattven, bezüglich die ihr mißliebigen National liberalen des rechten Flügels, unmöglich führen kann. Und die Fortschrittspartei mag fich in Protesten erschöpfen, fie wird doch daS Wort nicht vergessen machen.\n",
      "Im Punkte der Febler ist also auf beiden Seiten ein recht vielversprechender Ansang gemacht — wo aber die klugen, leitenden, wirklich ftaatSmänmschen und patriotischen Gedanken sind oder von wo sie kommen sollen — daS läßt fich leider noch nicht absehen\n",
      "-------------------\n",
      "Berlin. 19. (7.) September.\n",
      "Staatsmänner und politische Dichter haben es für eine patriotische Pflicht erklärt, in den Kämpfen des Staates Partei zu nehmen. Niemand allgemeiner nnd wahrer, als Schiller, wenn er sagt: Und kannst du selber kein Ganzes werden, schließ' an ein Ganzes dich an!\n",
      "Aber so schön sich theoretisch diese Parteinahme mac' \\ in der Wirklichkeit hat sie ihre Schattenseiten, und viele recht häßliche Eigenschaften der menschlichen Natur finden gerade in den Parteikämpfen den weitesten Raum zu ihrer Entfaltung.\n",
      "Glücklicher Weise kann man von dem jetzigen Deutschland sagen, daß die Parteileidenschast sich in maßvollen Ausdrücken bewegt. Die Krastausdrücke der 1848 er Demokratie, die Denunciationswuth der ihr folgenden Neactionsperiode liegen hinter uns, mit den Gesetzen in stetem Conflicte liegen eigentlich nur die Ultramontanen und die Socialdemokraten, während die drei großen Parteien, welche die Majorität jedes Parlaments bilden, wenn sie zusammengehen würden oder könnten: die Nationalliberalen, die Fortschrittspartei und die Conservativen, in ihren gegenseitigen Be-Ziehungen zwar nicht so zart sind, sich immer mit Handschuhen anzufassen, aber doch bei Weitem nicht solche Extravaganzen begehen, wie sie z. B. in Amerika gang und gäbe sind.\n",
      "Von dieser Seite, der der Aeußerlichkeit, betrachtet, konnte man also mit dem Parteileben, wie es sich jetzt in Deutschland vor Beginn der Wahlen zeigt, zufrieden sein. Es giebt indessen einige Erscheinungen, welche viel weniger befriedigen können, wenn sie auch fast überall wiederkehren mögen, da sie sich auf Eigenschaften gründen, welche in großen Vereinigungen, seien es ganze Völker, seien es Klassen oder Parteien, sast unvermeidlich sind.\n",
      "Diese üblen Erscheinungen sind die Vergeßlichkeit und die damit zusammenhängende Wandelbarkeit der Gesinnungen einmal, anderentheils die Ungerechtigkeit gegen Andere und die Selbstüberhebung.\n",
      "Wenn man einen Blick auf die gegenwärtige Eon« stellation wirst, so sieht man, daß dieselbe sich in zwei Wechselbeziehungen bewegt, in derjenigen der Fortschrittspartei zu den Nationalliberalen und in derjenigen der neuen Conservativen zu der kleinen, aber höchst bedeutsamen Fraction der Freiconservativen.\n",
      "Die Nationalliberalen haben beschlossen, für die nächsten Wahlen Hand in Hand mit der Fortschritts-Partei zu gehen. Es ist nicht zu verkennen, daß die Nationalliberalen dazu einen sehr mächtigen Beweggründ gehabt haben. Zwischen ihnen und der Regie-\n",
      "\n",
      "\trung ist in der letzten Session eine Disharmonie entstanden, und wenn die Nationalliberalen sagen, daß fie eine drohende Reaction fürchten, so kann man wenigstens nicht leugnen, daß die Regierung absolut nichts gethan hat, um diese Befürchtungen zu zerstreuen.\n",
      "Ueberblickt man die Gesetzgebung der letzten sechs Jahre, so ist eines unzweifelhaft, daß die Regierung niemals gegen ihren Willen oder gegen ihre bessere Einsicht gezwungen worden ist. ein Gesttz anzunehmen. So liegt ja das Machtverhältniß gar nicht. Es ist wohl vorgekommen, daß die Regierung in einem Gesetze sich gegen eine oder die andere Bestimmung gesträubt und daß sie nachgegeben hat. um das Zustandekommen dieses Gesetzes nicht zu hindern, aber wenn fie nicht einmal eine solche Concession machen wollte, so wäre ja der ganze Parlamentarismus eine Spiegelsechterei und die Abgeordneten wären nichts anderes als Jasager! Wo die Regierung ein Gesetz überhaupt nicht wollte oder eine Bestimmung in einem Gesetze für so gefährlich hielt, daß sie lieber das Gesetz opferte, als sich dem Parlament beugte, da hat sie stets ihren Willen durchgesetzt, ohne daß es des königlichen Vetos bedurfte.\n",
      "Die Thatsache ist also, daß die Regierung vollkommen solidarisch mit der Gesetzgebung der letzten Jahre ist, und wenn sie nun die Miene annimmt, als ob die liberale Majorität sie nur gedrängt habe und als ob eine conservative Majorität durchaus nothwendig sei, um einige Ruhe in die Gesetzgebung zu bringen, so ist dies eine Entstellung des Thatbestandes und eine , Heuchelei, welche allerdings die Nationalliberaleu erbittern oder wenigstens besorgt machen muß.\n",
      "Deshalb erklärt es sich, daß sie die freundschaftlichen Beziehungen zu der Fortschrittspartei nicht aufgeben will, aber sie geht ebenso wie die Regierung über die Grenzen des Erlaubten hinaus. wenn sie alle Disserenzen mit der Fortschrittspartei leugnet. Ehrlicher und klüger wäre eS, aus diesen gar kein Hehl zu machen und daS jetzige Verhalten deutlich als ein Bündniß ad hoc zu bezeichnen, lediglich veranlaßt durch die Haltung der Regierung.\n",
      "Extra n:uros, d. b. unter den Conservativen, wird in gleicher Weise gesündigt. Die Freiconscrvativen haben zehn Jahre hindurch an der Gesetzgebung mitgearbeitet, sie haben einem verständigen, sehr gemäßigten Liberalismus gehuldigt, aber auch die conservativen Anschauungen zur Geltung gebracht. Jede Einigung der Conservativen mußte mit ihnen rechnen. Das ist nicht geschehen, und das wirft auf die Deutsch-Conservativen entschieden ein schlechtes Licht, denn wenn ihre Absichten wirklich keine anderen wären, als diejenigen, welche die „Nordd. Allg. Ztg.\" in ihr Programm hinein interpretirt, so hätte eine Einigung gar keine Schwitrigkeiten gehabt. Wie die Sachen jetzt angelegt sind, kann auf der trügerischen Einigung unmöglich ein festes Gebäude errichtet werden, sondern nur ein solches, welches bald wieder und sehr zum Schaden des Staates zerfällt.\n",
      "Die Wahlvorbereitungen sind übrigens schon so weit vorgeschritten, daß man einigermaßen zuverlässige Urtheile über den Ausfall der Wahlen hört. Sie gehen durchaus dahin, daß die Parteiverhältnisse unverändert bleiben werden. Dann ist viel Mühe umsonst — doch vielleicht nicht ganz umsonst, denn früher oder später muß immerhin einmal größere Klarheit eintreten\n",
      "-------------------\n",
      "Wien, 21. (9.) October. Um da» ganz neue Verhältniß zu verstehen, das sich bei unö zwischen Parlament und Regierung entwickelt, und das durchaus geeignet ist, uns noch mit den merk, würdigsten Confequenzen zu überraschen, ist eS ge.\n",
      "\n",
      "\tboten, von der Bewegung um die Adresse, mit der in jedem der beiden Hcuscr des Reichs« rath« die Thronrede beantwt&gt;rtet werden soll, Notiz zu nehmen. Vorläufig haben die Majorität und die Minorität des Herrenhauses ihre Entwürfe ausgearbeitet. Ich verschone selbstver« ständlich Ihre Leser mit dem vollen oder auch nur mit dem auSzugsweisen Inhalt dieser umfangreichen Actenstücke, ich will nur auf einige besonders beachtenswerthe und charakteristische Kernpunkte auf« merksam machen.\n",
      "ES ist besonder« hervorzuheben, daß sowohl von verfassungstreuer wie von föderalistischer Seite Alles vermieden wurde, um nicht die thatsächlich zwischen beiden Parteien bestehende Spannung auf die Kundgebung an die Krone zu übertragen. Aber an einzelnen Stellen der beiden Adreßentwürfe wird doch nur knapp die Grenze beobachtet, welche dem Lesplatzen der divergirenden Parteianschauungen gezogen ist. Schon die Klammen-\n",
      "\n",
      "\tWorte, welche der alte Schmerling an der Spitze der Verfassungspartei gegen die von dem Fürsten Karl Sehwarzenberg und Genossen eingebrachte Rechtsverwahrung schleuderte, bekundeten das entschiedenste Mißtrauen der Verfassungspartei deS Herrenhauses gegen die Gesinnung und Pläne der wieder auf den parlamentarischen Boden zurück, gekehrten föderalistischen Mitglieder unserer PairSkammer, fie ließen aber auch nicht den geringsten AuSdruck de« Vertrauens auf die Regierung, auf die Lauterkeit der dem Versöhnungsprogramme der Regierung zu Grunde liegenden Tendenzen errathen. ES ist daher wohl bezeichnend, daß der Majoritätsentwurs von einer .durch Se. Majestät beauftragten Regierung' spricht. Dieser Passus sagt deutlich genug, daß fir die Majorität des Herrenhauses das Cabinet Taaffe wohl die von dein Monarchen .beauftragte Regierung', nicht aber die Regierung ihres Vertrauens ist. Graf\n",
      "\n",
      "\t-Assecuranz –\n",
      "\n",
      "\tTaaffe ist zum Kaiser beschieben worden, um dem Herrscher über die letzten Verginge im Herrenhause Bericht zu erstatten Vielleicht dürfte bei dieser Gelegenheit der Monarch an den Chef der Regierung die Frage richten, worin der Grund desteht, daß gerade die erste Körperschaft deS Reiche«, welche doch die besonnenen Vertreter der Staat«« Traditionen in sich schließt, gegen seine, die Versöhnung verheißende Action Stellung genommen hat. Der Entwurf der M in o rit a t « a d resse hält sich jeder ernstlichen Anregung der staatsrecht« lichen Frage fern und betont den gemeinsamen Boden der Versassung. Der Schluß de« Entwurf« spricht die Ueberzeugung aus, .daß c« stet« dem weisen, gütigen und gerechten.Walten der Kronegelungen ist, die gestörte Eintracht zwischen den Völkern und Ländern de« Reiche« wieder herzu-\n",
      "\n",
      "\tstellen.\" Diese Stelle läßt manche Deutung zu, denn fie erwartet nur von der Initiative der Krone, nicht aber von dem Votum deS Parlaments die Herstellung des von der Minorität trstrebten staatS. rechtlichen VerkältnisseS. Was die sehr zweideutige Stelle dieses Entwurfs besagen will, daß .zur Verminderung der Administrationskosten einewesentliche Aenderung dermaliger Einrichtungen als nothwendig erscheine\", muß der Verlauf der Debatte\n",
      "über die Adrcßcntirürfe befunde\n",
      "-------------------\n",
      "Berlin, 2. October (20. September). „Zur letzten Wahlentscheidung.- So ist in der beute erschitnentn ministeriellen „Provinzial. Corre spondenz\" ein längerer Artikel überschrieben, der über die Stellung der Regierung zu den wichtigsten der schwebenden inneren Fragen interessante Fingerzeige giebt.\n",
      "In dem ersten Theile deS Artikels erir.nert daS\n",
      "ministerielle Organ, zur Charakteristik des Partei-Wesens und zur Klarstellung der Aussichten, welche eine liberal.oppositionelle Mehrheit eröffnen würde, an den Ruf Richters, ..der Kanzler muß aufhören zu regieren\", an die Aeußerung der „fortschrittlichen parlamentarischen Correspondent, .Bismarck muß fort von seinem Platze\", an daS Wort eintS na« tionalliberalen Abgeordneten. „Bismarck brauche nicht erst von der Nachwelt verurlheilt zu werden, er fei schon gerichtet\", sowie an die zur Zeit in der Rede auf dem Städtetagsbanket von Forckenbeck gemachten Aeußerungen erinnert und das $&gt; geständniß gemäßigt liberaler Organe hervorhebt, daß eine liberale Partei bei systematischer Opposition, ein äußersterFortschritt nach dem Maße Eugen RichterS dahin gelangen würde, dem Fürsten Bismarck den Weg in Bezug auf seine wesentlichen nationalen Ziele zu verlegen. Die Wahlmänner, welche bisher an dem äußeren und inneren Aufschwünge Preußens nnd Deutschland» eine patriotische Befriedigung und Frende gehabt hätten und Bismarck die Fortsetzung seines Wirken» und Schaffen» erleichtern und ihm helfen wollten, würden daher ihre Stimme nicht Männern aeden können, welche voraussichtlich jener politi« schen Gemeinschaft verfielen, die dem Kanzler die Wege zu seinen nationalen Zielen verlegen würde. — Der zweite Theil de» Artikels sagt: Liberaler, seit» würden täuschende Wahlparolen ausgegeben, um die Wähler glauben zu machen, daß in der Regierung ein Umschwung zu einer freiheirsfeindlichen Reaction eingetreten ware. Alle solche Be. hauptungen seien lediglich Erfindungen des Partei-Wesen?', 111 Regierung sei e S allerdings voller Ernst mit der Pflicht, die um« fassende Gesetzgebung der letzten /lehn Jahre vor dem wünschenswerten weiteren Fortbau gründlich darauf zu prüfen, inwieweit sie sich im wirklichen Leben\n",
      "\n",
      "\tbewährt hade. Betreffs der Reform der inneren Verwaltung habe die bereits stattgehabte eingehendste Prüfung ergeben, daß die Gesetz, gebung vielfacher Verbesserungen sowohl betreffs der Zuständigkeit wie des Verfahrens bedürfe, daß jedoch kein Anlaß vorliege, an den Grundzügen der Reform zu ändern, vielmehr es sich empfehle, gleichzeitig mit den durch das praktische Bedürfniß gebotenen Verbesserungen auch die weitere Au«« debnung der Gesamm reform in Angriff zu nehmen. Von einem Aufgeben der die Reiorm bisher leitenden Grundsätze sei keine Rede. Namentlich habe aber die liberale Agitation die schwebenden Verhandlungen zwischen der Regierung und der römischen Curie zu Besorgnissen auszudeuten versucht. Da« Wort deS Kanzlers von dem Gang nach Eanossa werde leichtfertig gegen ihn gewandt; bei den bezüglichen Verdäch. tigungen vergesse man, daß der Ausspruch des Kanzler« nicht eine rednerische Wendung, sondern der Ausdruck einer seit Jahren gereiften Ueber, z e v g v n g gewesen, daß Bismarck schon in den vorbereitenden Stadien deS vatikanischen Cone is in Mahnungen nach Rom die grundsätzlich maß. gebende Stellung der preußischen Kirchenpolitik festgestellt und diesen staatlichen Standpunkt gleich nach dem Concil den Bischöfen gegenüber gewahrt habe, daß seitdem alles weitere Borgeben der Re. gierung durch feine Autorität ermöglicht und gedeckt worden wäre, vi.d daß von der Durchführung des gewaltigen Kampfes ohne seine grundsätzliche Mitwirkung überhaupt nicht die Rede sein konnte. Man vergesse aber ferner, dc.ß der Kanzler in der Rede, worin er laut verkündete: „Nach Canossa gehen wir nicht\" die Pflicht der Regierung gegen die katholischen Mitbürger hervorgehoben habe, die Wege aufzusuchen, aus denen die Regelung der Grenze zwischen der geistlichen und weltlichen Macht am schonendsten und ,n tiner confeistonell am wenigsten verstimmenden Weise gefunden werden könne, daß der Kanzler endlich turz darauf unter Hinweis auf die Möglichkeit, daß demnächst ein friedlich er Papst an die Regierung gelange, der Hoffnung Ausdruck gegeben habe, den Frieden zu finden, unter dem unsere Vater Jahrhunderte lang m confessioneller Einigkeit gelebt hätten. Der vom Kanzler in Aussicht genommene Fall sei eingetreten. Papst Leo habe seine friedliebende Gesinnung vielfach bekundet; die Friedens grundlagt habe im Schreiben des Kronprinzen an den Papst ibrtn Ausdruck gefunden. Wenn nun auf beiden Seiten der redliche Wille bestehe, zu dem Frieden zu gelangen, wenn daS ganze Ver. hallen LiSmarck's in dieser Frage bisher von dem Vertrauen deS preußischen und deutschen Volks getragen war, wie sollte man glauben, eS könne gelingen, durch emen ohne Begründung dinge, worfenen Zweifel, dieses Vertrauen zu erschüttern und den Kanzler, welcher im eminentesten Sinne der geistig politische Führer in dem langjâhugen Kampfe gewes:», in den Verdacht zu bringen, von seinem eigenen Streben abzufallen. Wie sollte daS gesammte Volk nicht gerade in diesem Augenblickemil noch erhöhtem Vertrauen auf den Mann blicken, welcher soeben auf's Neue bethätigte, daß sein unermüdliches Streben nur der Größe und dem Glucke des Vaterlandes vnd der Sicherung eines gedeihlichen FncdenS gilt, welcher um dieses Strebens willen Ansehen und Vertrauen weit über daS Vaterland hinaus genießt und dessen Stellung in Europa unseren Nationalen Ansehen, und der Förderung unserer Interessen zum höchsten Vortheil gereicht. Wohlan denn, mögen die Wahlmänner der Regierung bei der Lösung ihrer schwierigen Aufgaben zur Seite stehen, indem sie m den Landtag nicht mißmülhige und mißtrauische Tadler und Kritiker, sondern ernste und gewisjenhaste, aber zum Vertrauen und zum fruchtbringenden Mitarbeiter willige Helfer entsenden.\n",
      "\n",
      "-------------------\n",
      "— Berlin. 10. April (29. MSrz).\n",
      "Nach altem guten Brauch, der allerdings einmal schon ziemlich eingeschlafen war, bringen die hiesigen Blätter so ziemlich aller Richtungen Oster-Betrachtungen, welche alle daS Gemeinsame haben, daß fie, an den Gedanken deS großen christlichen Feste« anknüpfend, etwa» mehr oder weniger Politik mit hineinfließen lasten. Die strenger religiösen vermeiden dieS so viel als möglich, von den deutsch-sreifinnigen gehen einige in ihrem Sinne so weit, daß fie fast jene Blasphemie streifen, welche immer mit einer Fructificirung deS göttlichen Worte« sür reinweltliche Zwecke verbunden ist.\n",
      "EineS dieser Blätter, dasjenige, welche» fich selbst die allein richtige Tradition freifinniger Lehre zuschreibt, da eS unter der Leitung deS Parteiführer» steht und sich eine Ketzerrichterei ohne Gleichen gegen Jedermann erlaubt, der fich die geringste Abweichung von der „maßgebenden\" Stelle gestattet, benutzt diese Gelegenheit zu der Be» hauptung. daß eigentlich Niemand mit den gegenwärtigen Zuständen in Deutschland zufrieden sei. waS doch logischer Weise die denkbar schlimmste Verurteilung dieser Zustände ist. denn allgemeine Unzufriedenheit ist eigentlich der Vorläufer deS allgemeinen Zusammenbruchs und zwar eines bald bevorstehenden.\n",
      "Die Aeußerung ift allerdings eine grobe und beleidigende Neberhebung, man wird fich aber leicht darüber trösten, wenn man fie eben als ein Zeugniß der überaus großen Verblendung einer Partei anficht, deren Herrschast im vaterländischen Interesse, im Interesse deS Staates nicht wünschen«, werth ist. Parteien find nothwendig, ja sie find sogar in hohem Grade erwünscht, wenn sie sich nur gegenseitig aus den Boden der Gleichberechtigung stellen, wenn eine der anderen daS Recht der Existenz zugesteht, wenn fie nicht als ihr Ziel die Vernichtung der gegnerischen Partei ansehen, sondern den Gewinn derselben für ein von eigener Seite als nothwendig oder heilsam erkanntes Ziel oder die Erreichung dieses Zieles auch gegen dm Willen der gegnerischen Partei, unter der Boraussetzung, daß fich dann beide wieder zu gemeinsamer Arbeit aus dem neugeschaffen Boden vereinigen.\n",
      "Menschliche Zustände und somit auch staatliche, find allerdings niemals vollkommen und werden eS auch nie sein, und ganz wird ein solcher idealer Zustand deS Parteiwesens nie und nirgends existirt haben, aber annähernd ist er doch z. B. in England lange Zeit vorhanden gewesen und man hat dort eingesehen, daß von den beiden großen Gegensätzen des Parteilebens: konservativ und Liberal, keiner einen unbedingten, absoluten Werth an sich hat, auf Grund dessen er inS Unendliche sortgesetzt werden könnte, sondern daß eben von Zeit zu Zeit Ausgleiche erfolgen müßten.\n",
      "\n",
      "\tWenn man sich den geringsten Gegensatz im ge. wöhnlichen Leben denkt, so wird doch von zwei Streitenden Jeder seine Ansicht, sein Recht u. s. w. vertreten, nicht auch das deS Gegners, und wenn die Sache entschieden ift, der Sieg der einen Seite zugefallen ist, so liegt darin immer eine, sei c» auch noch so geringe. Ungerechtigkeit für den Sieger, die sich allmalich summirt. bi» endlich daS Uebergewicht deS Rechts auf der anderen Seite ist. DaS Gegentheil würde Unterdrückung, Knechtschaft, Verknöcherung, Kasten-Herrfchaft sein oder werden.\n",
      "Nun sollen in Deutschland die Conservativ-n nicht etwa als Engel deS Lichts gepriesen werden. Die Geschichte der Reaction von 1815 bis 1840, von dem Herbst 1848 bi« zur neuen Aera, spricht hinreichend dagegegen, und c« hat ihnen oft sehr fern gelegen, ihren Gegnern die Cxistmzberechtigung zuzugestehen, aber in den letzten zehn Jahren hat sich die fortschrittliche Partei immer mehr in den Satz festgerannt, daß fie allein Wahrheit, Freiheit, Recht vertritt und daß die Gegner, die Conservativen jeder, auch der sanftesten Nüance. ja selbst auch die Nationalliberalen, gleich verwerflich seien, daß »ieselb-n überhaupt gar nicht au« Ueberzeugung, sondern au« selbstischen Interessen handelten uud daß fie auf daS Unerbittlichste bekämpft werden müssen, um denjenigen Liberalen Raum zu schaffen, welche die Politik verwirklichen würden, die von der großen Mehrheit deS Volke« gewünscht werde. Wenn diese Mehrheit sich gegen die freisinnige Partei erkläre, wie bei den letzten Wahlen, so sei dieS nur ein Irrthum de« Volke«, ein entschuldbarer Irrthum, in welchen eS daS Lüg-nshftem der Regierung und deren Anhänger versetzt, indem fie ihm eine Kriegsgefahr vorgegaukelt, welche in Wahrheit gar nicht existirt habe. Deshalb werde auch jetzt, wo das Gespenst verschwunden sei, die wahre Stimme deS Volke« wieder zur Geltung gelangen, wie c« bei der letzten Ersatzwahl in Varel-Jever geschehen, wo der freisinnige Albert Träger tausend Stimmen mehr al« bei der Stich, wähl, der nationalliberale aber soviel weniger erhalten.\n",
      "E« gehört wirklich sehr viel Dreistigkeit dazv, jetzt noch behaupten zu wollen, die KriegSbeforgnisse der letzten Zeit hätten nur in der Einbildung existirt. Bon dem Tage an, wo sich im Reich«« tage die oppositionelle Majorität zusammenfand, welche die Militairvorlage nicht im Plenum zu berathen beschloß, sondern fie an eine Commission wie«, um sie zu verschleppen, stieg jene Krieg«gesahr, wie klein oder wie groß sie vorher ge« wesen sein mochte, riesengroß, wie eine Gewitter. Wolke am Horizont, die allmalich zu einer schwarzen Wand wird, au« der fahle Blitze leuchten, bis der Tag fich in Nacht wandelt und der Donner zu brüllen anfängt. Da« Resultat de« 21. Februar hätte nur ein andere« sein sollen, als eS gewesen und die Tage de« Friedens sür Europa wären\n",
      "\n",
      "\tsicher gezählt gewesen, denn die Franzosen hätten wirklich geglaubt, daß da« deutsche Volk der Regierung de« Kaiser« Wilhelm überdrüssig sei und daß da« Gebäude von 1870 mit Krachen zu» sammenstürzen werde, sobald nur Jemand mit der Fußspitze daran stößt.\n",
      "Der große Lessing hat einmal die Verblendung einer gewissen Art von Leuten dahin charakterifirt, sie meinten, daß ein Schloß, wenn c« nach link« nicht ausgehe, nach recht« ausgehen müsse. So beurtheilen die Fortschritt!«: seit zehn Jahren die auswärtige Politik de« Fürsten Bismarck. ES gelingt ihm nicht mit den Franzosen auf einen guten Fuß zu kommen : folglich müsse er eS auf andere Weife versuchen. Er ist eben ein Stümper. Man sollte nur die Fortschrittspartei machen laffen, die würde c« schon verstehen. Und wenn sie eS doch nicht verstände? Wenn c« eben nicht möglich wäre, man möchte c« so oder so anfangen? Ja, fenim hätte doch die Fortschrittspartei den Vortheil, daß fie am Ruder wäre und fie würde alle Schuld auf den Vorgänger schieben, der den Karren unheilbar Versahren.\n",
      "Aber selbst die Fragen der auswärtigen Politik find vielleicht nicht so verhängnisvoll al« die* jenigen der socialen Umgestaltung, welche in der einen oder der anderen Gestalt so ziemlich alle Staaten bedroht. Rasche« Anwachsen der Be» völkerung, Andauer deS Friedens, Verbreitung der Bildung, Fortschritt der mechanischen HilsSmittel zur Erleichterung und dem Ersatz menschlicher Arbeit — alleS diese« vereinigt fich, um eine nachbaltige Umgestaltung der gesellschaftlichen Verhältnisse unerläßlich zu machen, welche menschliche Weisheit nnd Vorsicht nur so milde und so wenig aIS möglich destructiv machen kann. In dieser Beziebung aber gerade zeigt fich die sreifinnige Partei am allerunsruchtbarsten und am allerverblendetsten. denn fie bleibt dabei, daß die bloße Freiheit die Panacee sein s-11. welche alle gesellschaftlichen Uebel heilt, und fie übersieht, daß de? Bau deS gesellschaftlichen Körper«, seitdem man von einem solchen überhaupt sprechen kann, fortwährend großen Umwandlungen unterlegen hat, die sich sehr häufig mit Gewalt vollzogen haben. Sie kündigen sich jetzt unter ganz besonder« drohenden Aspecten an, und wenn der Welt wirklich wieder eine Spanne Frieden beschieden wäre, so würde sie von allen denkenden und vorausfichtSvollen Männern zu nichts weniger al« zu einer Zeit de« gedankenlosen Hinleben« benutzt werden, sondern zu der alleren, festen Arbeit, um sür den Augenblick der Gefahr vorbereitet zu sein.\n",
      "Nur so könnte c« gelingen, den äußeren Frieden weniger gefährlich zu machen, als c« selbst der Krieg sein würde\n",
      "-------------------\n",
      "Berlin, 15. (3.) Januar.\n",
      "XU am 25. (13.) November v. I. der deutsche Reichstag eröffnet wurde, herrschte im Lande eine Stimmung, welche die Regierung hoffen laffen mußte, daß ihr dringender Wunsch, den Stand der KriedenSpräsenzstärke der Armee in mäßiger Weise erhöht zu sehen, in dieser Hersammlung trotz ihrer nicht eben regierungsfreundlichen Mehr, heit auf keine unüberwindlichen Hinderniffe stoßen werde. E» war bekannt, daß die Continental.' mächte feit der Festsetzung de» bestehenden Septennat» in Teutschland ihre Armeen verstärkt hatten, während die Bundesregierungen, an die Bestimmungen deS SeptennatS gebunden, c» bei der bestehenden  bewenden laffen wußten und nicht daran denken konnten, auf Grund der fortwährend wesentlich steigenden Bevölkerung wieder da» alte Verhältniß einer Friedensstärke don ungefähr 1 pCt. der Bevölkerung herzustellen. Es war ganz klar, daß die Opposition, wenn fie fich zusammenschloß, die regierung»fteundlichen Parteien niederstimmen und jede Vorlage der Negierung verwerfen konnte. Indessen konnte man vielleicht annehmen, daß da» Centrum in Folge de» jetzigen freundlichen Verhältnisse» zwischen Deutschland und der Curie die Opposition nicht auf'» Aeußerste treiben und daß die De»tfch«Frei. finnigen fich von einem nationalen Gefühl beseelt »eigen würden, dessen fie fich gelegentlich rühmen »nd welche» fie eine glänzende Gelegenheit gehabt hätten, jetzt geltend zu machen. Die 16 Jahre, welche der Friede schon gedauert hat, haben gezeigt, daß Kaiser Wilhelm aufrichtig bemüht ist, da» Programm zu erfüllen, welche» er, nach dem Frieden, aufgestellt hatte, nämlich den Frieden zu wahren und t» war auch, so konnte man wohl annehmen, zum »gemeinen Bewußtsein gelangt, daß die mili»irische Stärke de» Reiche» ein sehr bedeutender Factor zur Erreichung diese» Zweckes war. Der materielle Fortschritt de» Lande» in diesen sechszehn lahren war sehr bedeutend, da» angesammelte Nationalvermögen war in dem Maße gewachsen, daß daS Land einen bedeutend größeren Auswand al» vorher für Militairzwecke ohne größere Befchwerde ertragen konnte und da» Wachsthum der Bevölkerung machte den Satz der bisherigen Friedens« armee ungeeignet, noch weiter die Verfassung», mäßige allgemeine Wehrpflicht auszuführen. Die Zahl Derjenigen, welche in die FriedenScadreS nicht aufgenommen werden konnten, vergrößerte fich von Jahr zu Jahr. Man soll zwar nicht mit WennS in Geschichte und Politik arbeiten, aber c» ist nur nöthig fich vorzustellen, waS geschehen wäre, wenn die Majorität de» Reichstages ohne lange Umschweife und Vorbereitungen auf die Regierungsvorlage eingegangen wäre, um sich mit Schrecken bewußt zu werden, daß fich die\n",
      "\n",
      "\tParlamentsmajorität in den verflossenen 7 Wochen fortwährend auf einer schiefen Ebene abwärts bewegt hat und daß das Land durch fie in einen schweren Conflict gebracht worden ist, während c», wenn die Annahme möglichst schnell erfolgt wäre, sich für eine Reihe von Jahren wieder eine» sicheren Friedens — nach Außen und im Innern zu erfreuen hätte.\n",
      "Parlamente verlieren häufig den Zusammenhang mit der Nation und eS war dies auch hier der Fall, indem diejenige Partei in der Oppofition, welche ihrer Geschichte und ihrem Wesen nach unzweifelhaft national ist, nämlich die der Deutschfreifinnigen, al» fie bemerkte, daß durch eine Vereinigung aller oppositionellen Elemente die Regierung unbedingt in die Minderheit gebracht würde, dabei übersah, daß die Verbindung zu einem solchen Zwecke mit unzweifelhaft antinationalen Parteien, wke es die Polen und Welsen unbedingt find, — von dem Centrum und den Social» demokraten vorläufig nicht zu sprechen, — eine unnatürliche ist, die die Regierung zuletzt nöthigen würde, zu dem natürlichen Recht, d. h. zu der Gewalt zu greifen, um fich gegen die Vergewaltigung. die ihr angethan wird, zu wehren.\n",
      "Dieser Gedanke scheint, auffallender Weise, den Freifinnigen gar nicht gekommen zu sein. Sie würden nicht einmal mit dem Centrum und den Socialdemokraten zusammen eine Majorität haben, sondern fie bedürfen zu dieser noch der erwähnten kleinen Splitter, welche unzweifelhaft dem deutschen Reiche feindlich find, und es ist höchst seltsam, daß, wenn fie in gutem Glauben, so wollen wir einmal annehmen, der Regierung und der regierungSfteundlichen Minderheit ihren Patriotismu» und ihre nationale Gesinnung als durchaus gleichberechtigt entgegenstellen, fie niemal» dadurch beirrt werden, daß ihre Politik die fteudige Unterstützung Derjenigen findet, welche geschworene Feinde deS Reiches find und in dieser Politik ihren Vvrtheil erkennen.\n",
      "E» ist eben so unmoralisch und unnatürlich, daß sie fich mit dem Centrum und den Socialdemokraten verbinden, die allerding» nicht in gleichem Maße wie die erwähnten Parteien reich», feindlich find, die aber beide der Gesammtheit der übrigen Parteien feindlich gegenüberstehen. CS ist biS zum Jahre 1878 immer von allen Parteien anerkannt worden, daß daS Centrum eine anormale Bildung in dem politischen Leben der Nation sei, daß die reinpolitischen Parteien dagegen zusammenhalten müßten und wenn die» geschehe, glücklicherweise eine Gefahr sür den Staat nicht vorhanden sei, da da» Centrum es niemals höher al» auf etwa ein Drittel sämmtlicher Sitze bringen könnte. Ebenso ist lange Zeit anerkannt worden, daß die Parteien der Ordnung ein gemeinsame» Interesse der Socialdemokratie gegenüber vertreten und die Fortschritt»partei, wie die ihr nachgefolgten Deutsch.\n",
      "\n",
      "\tFreifinnigen haben immer ganz besonders betont, daß fie die entschiedensten Gegner der Socialdemokraten seien. Jetzt aber gehen alle diese Parteien Hand in Hand und fie haben fich gerade denjenigen Punkt zum Angriff ausgesucht, wo daS nationale Interesse am allermeisten inS Spiel kommt, nämlich die Armee.\n",
      "Daß die Deutsch-Freifinnigen diese schwache Seite ihrer eigenen Position nicht erkannten, ist ihr Fehler gewesen und wird aller Wahrscheiulich. keit nach der Grund ihrer späteren Niederlage sein.\n",
      "Zunächst wird freilich Alles von den bevorstehenden Wahlen abhängen und es ist schwer, etwas über deren Ausfall zu sagen, denn die Deutsch. Freisinnigen werden fich sofort an die Agitation machen, in der fie außerordentlich gewandt sind und eS ist sehr staglich, ob der im Volke unzweifelhast vorhandene Enthusiasmus für daS Reich, den Kaiser, die Armee, den Fürsten Bismarck wirklich so stark ist, daß dagegen eine geschickte Agitation nicht aufkommen kann, welche fich darauf beruft, daß die Partei .jeden Mann und jeden Groschen-, welchen die Regierung forderte, zu bewilligen bereit war und nur im Interesse deS steuerzahlenden Volkes die Dauer der Bewilligung kürzer bemessen wollte, als sie die Regierung forderte. Selbst der Kanzler scheint fich keineswegs einer sanguinischen Hoffnung hinzugeben, er hielt eS durchaus nicht für unmöglich, daß die Wahlen sür ihn ungünstig ausfallen und er ist im Begriff, eine zweite Linie von Vertheidigungswerken zu ziehen, wenn die erste genommen werden sollte.\n",
      "WaS wir schon angedeutet haben, beginnt fich zu erfüllen. Im preußischen Herrenhause ist ein Antrag aus eine Adresse eingebracht (siehe Rubrik Ausland. D. R.), welche dem Könige die Bereitwilligkeit des HauseS ausspricht, Opfer zu bringen, wenn er genöthigt wäre, fich an den Landlag zu wenden. Von dem Abgeordnetenhause verlautet bis jetzt nichts AehnlicheS, aber beide Körperschaften fühlen eine gewisse Rivalität gegen den Reichstag, nnd Mittel und Wege würden fich vielleicht finden laffen, den Reichstag etwaS kalt zu stellen. Daß jedeS solche Verfahren seine bedenklichen Seiten hat, kann zugegeben werden, indessen darf man eine Andeutung BiSmarck'S niemals leicht nehmen und er hat eine sehr verständliche gegeben.\n",
      "Die drei Parteien, welche der Regierung freundlich find, Eonservative, Reichspartei (Freiconservative) und Nationalliberale wollen bei den Wahlen zu« sammengehen, fich wenigstens nicht bekämpfen. DaS sieht mehr nach Defensive auS, während die Offensive die beste Vertheidigung ist. Der Wahlkämpf hat nur ein Ziel die Zahl der Deutsche Freifinnigen im Reichstag zu vermindern. Darauf müssen alle Bestrebungen gerichtet sein, wenn der künftige Reichstag eine der Regierung freundliche Majorität haben soll und eS wäre ein großer Fehler, wenn die stärkste der regierungSfteundlichen Parteien den Anlaß benutzen wollte, der Mehrheit\n",
      "\n",
      "\teinen conservativen Charakter zu geben. Es kommt nur daraus an, eine nationale Mehrheit zu erhalten und das kann erreicht werden\n",
      "-------------------\n",
      "Berlin. 27. (15.) November.\n",
      "Fürst Bismarck hat seit seiner Rückkehr nach Berlin nun schon eine so beträchtliche Menge von meistentheilS originellen und, wie immer, prägnanten Kundgebungen an die Oeffentlichkeit gelangen lassen, daß man fich eigentlich ein recht klares Bild von seinen Entschlüssen müßte machen können.\n",
      "Trotzdessen ist dies bisher noch nicht gelungen und zwar deshalb, weil diese Kundgebungen in einem unlösbaren Widerspruche miteinander stehen, bei welchem noch der eine Umstand Zweifelhaft ist, ob er nämlich beabsichtigt ist. oder nicht.\n",
      "Da« erstere ist überwiegend im ersten Augenblick angenommen worden, da Niemand an die sonderbaren kaleidoskopischen Bilder glauben wollte, welche bald eine conservativ-klerikale und bald eine klerikal-liberale Photosphäre um den Kanzler strahlen ließen.\n",
      "Betrachtet man aber ganz unbefangen Alle«, wa« bisher von ihm gesagt worden ist, so wird man wahrscheinlich eher zu der Ueberzeugung kommen, daß c« immer Endpunkte oder vorspringende Spitzen von Gedankenreihen sind, in welchen fich der Kanzler abarbeitet, um einen Ausweg au« der unzweifelhaft üblen Lage zu finden, in welche er gerathen ist und zwar durch seine Schuld.\n",
      "Spätere Zeiten werden mit noch mehr Deutlich» keit, al« jetzt möglich ist, die Wurzel der heutigen Zustände in dem Scheitern des Versuches einer Verständigung zwischen dem Kanzler und Bennigsen erkennen und dann entscheiden, ob Herr v. Bennigsen Recht gethan hat, die an ihn ergangene Einladung abzulehnen.\n",
      "Personen, welche den Kanzler genauer kennen, versichern, daß er noch bis zum Jahre 1880 gehofft habe, sich mit Bennigsen doch zu verständigen uud daß er deshalb seine Wahl zum Reichstagspräsidenten lebhaft gewünscht habe. Indessen hat er damals über diese seine Absicht «in tieseS Dunkel verbreitet und damals war schon die verhängnißvolle Wendung eingetreten, daß Bismarck glaubte, die Unterstützung der gemüßigten Ratioualliberalen und der deutschen Reichspartei entbehren zu können, und mit dem Centrum und den Deutschconservativen in nähere Beziehungen trat.\n",
      "Von diesem Fehler an datirt der Irrweg, den Fürst Bismarck betreten, und von dem er umkehren muß, denn die Kräfte auf welche er sich stützt, find keine ihm freundlichen. Wie sehr die Empfindung den Kanzler beunruhigt, kann man z. B. daraus ersehen, wie er sich die letzen Wahlen zurechtzulegen sucht. Da findet er denn hcrauS. daß die Wahlbetheiligung schwächer gewesen ist, aIS bei den letzten Wahlen und daß die Deutsch, konservativen die einzige Partei gewesen find, welche an Stimmenzahl gewonnen haben.\n",
      "Zn Wahrheit haben sie halb so diel Stimmen\n",
      "\n",
      "\tgewonnen, wie die eigentlich BiSmarck'sche Partei, die Frciconservativen (deutsche Reichspartei) verloren hat, und eS ist geradezu unbegreiflich, wie fich der Kanzler darüber freuen kann. Die Stocker und Eonsorten und ihresgleichen find naturgemäß die Feinde deS Kanzlers, mögen fie auch zeitweilig fich aIS seine eifrigsten Anhänger geberden. Diese Leute für solche Männer, wie den Fürsten Hohenlohe » Lonzenburg oder den Grafen Frankenberg einzutauschen, ist ein sonderbarer\n",
      "Gewinn.\n",
      "Daß die Wahlbetheiligung schwächer war, wie 1878 ist auch gerade keine angenehme Erscheinung, obgleich erklärlich genug, denn nach den Attentaten ging eine mächtige Bewegung durch daS ganze Land, und ihr folgte unter dem Eindruck vieler Enttäuschungen eine starke Abspannung, welche nur durch die Anstrengungen der Extremen und für diese bekämpft wurde.\n",
      "Sich darüber freuen, alt» ob das Land deS Parlamentarismus müde würde, ist eine solche Sünde gegen den gesunden Menschenverstand und gegen alle thatsächlichen Verhältnisse, daß eS nur ganz blind wüthende Reactionaire thun\n",
      "können.\n",
      "Einen Trost scheint dem Kanzler noch die Zustimmung deS jüngeren Geschlechts — oder doch eine« Theiles desselben — Ци geben und die Hoffnung, daß er der Zukunft wirtlich ein sociales Vermächtniß hinterlassen.\n",
      "Man hat allen Grund anzunehmen, daß auch dies eine Illusion ist. Nicht als ob die Idee, die Sorgfalt des Staates in viel höherem Maße als bisher den Armen und Enterbten zu Theil werden zu lassen, eine absolut utopische wäre. Aber diese Idee wird im allergünstigsten Falle nur sehr langsam und bruchstückweise verwirklicht werden können, ebenso wie alle großen Ideen, die politischen, die socialen und die religiösen, und fi« wird vielleicht endlich in einer Gestalt verwirklicht, die der Vorstellung sehr unähnlich ficht. welche fich Urheber und Freunde der Idee jetzt davon machen. So erklärt ja der Kanzler auch jetzt schon, daß die in der Botschaft angekündigten Vorlagen keineswegs auf einmal und in nächster Zeit, sondern nur nach und nach eingebracht werden sollten.\n",
      "Unter den Aeußerungen, welche noch besonders bemerkcnSwerth find, ist die bedeutendste jene, welche den Kanzler sagen läßt, seine personliche Stellung könne sich erst im Laufe der Session entscheiden.\n",
      "Vor Allem ersieht man daraus, daß mit der Audienz de» Kanzlers beim Kaiser gleich anch seiner Rückkehr keineswegs ein positives Programm vereinbart worden, sondern ÄieleS dem weiteren Verlaufe der Dinge vorbehalten worden ist.\n",
      "Daß dieser — im Innern wie im Aeußern — jeden Augenblick bisher ganz ungeahnte Wendüngen herbeiführen kann, ist sicher und eS mag\n",
      "\n",
      "\tdem Kanzler doppelt schwer fallen, grade jetzt den Rückzug anzutreten, wo er mit mehr Grund als der Hoffnung auf einen besonderen Zufall eine Chance erwarten darf, wie sie ihm schon einmal, als der Militairconflict seinen Höhepunkt erreicht hatte, zu Theil wurde.\n",
      "Bleibt sie aber auS, so wird allerdings das Schwanken ein Ende nehmen und nach irgend einer Richtung eine Entscheidung getroffen werden müssen, denn die Fortdauer deS jetzigen schwankenden Zustandes, welcher auch die General-Debatte über den Etat so merkwürdig beleuchtet hat, kann ohne schweren Schaden nicht über das Maß hinaus verlängert werden\n",
      "-------------------\n",
      "Berlin, 21. (9.) September. .Fürst Bismarcks Gtyner und unsere auswärtige Politik.\" So ist der neueste für die W a h&gt; l en berechnete Artikel der ministeriellen „Prov.» Corresp.\" überschrieben. (Derselbe ist in unserer gestrigen Nummer kurz erwähnt worden. D. R.)\n",
      "Aus verschiedenen Ursachen hat dieser Artikel auch für weitere Kreie. über Deutschland hinaus, ein besonderes Interesse, einmal durch die Art, wie in demselben die auswärtige Politik berührt wird, und dann weil der darin zu erkennenden Auffassung, daß, wie im deut» scheu Reiche die.Verhältnisse nun einmal liegen, daS Heil der inneren Entwickelung von der auswärtigen Politik untrennbar ist, entschiedene Berechtigung innewohnt. Man muß dieser Auffassung zustimmen, auch wenn man nicht Alles gutheißt, was in dem Artikel über die liberalen Parteien gesagt wird. Der Artikel\n",
      "lautet:\n",
      ".ES hatte etwas Befremdendes, um nicht zu sagen. Beschämendes, daß der zehnte Jahrestag des Frankfurter Friedens von manchen fremden Blättern ernster genommen und richtiger gewürdigt wurde, aIS von vielen einheimischen. Wer wohl am 10. Mai\n",
      "\n",
      "\t1871 die Zuverficht gehabt, daß Deutschland zehn Friedensjahre vor sich habe, daS war daS Thema, welches sich ausländischen Publicisten ausdrängte; und wurde eS auch mit verschiedenen Empfindungen behandelt, so waren doch wohlwollende und Übelwollende Stimmen einig in der Anerkennung des scharfen BlickeS, richtigen Urtheils und geschickten Handelns, womit der deutsche Reichskanzler die Intentionen Sr. Majestät des Kaisers unter den schwierigsten Verhältnissen durchgeführt hat. Wie groß die Schwierigkeiten, wie nahe zu Zeiten die Gefahren waren und auf welche Weise ihnen begegnet wurde, entzieht fich im Einzelnen noch der öffentlichen Kenntniß. DaS Ergebniß liegt vor Aller Augen, und wer außerhalb eineS Gebäudes steht, empfängt einen mächtigeren Eindruck von demselben, aIS der darin Wohnende. Aber wenn auch daS willige Verständniß und die Dankbarkeit unter den liberalen Wählern in der That nicht größer waren, als bei ihren Wortführern, so sollte das Interesse sie lehren, über den Frieden, den sie genossen haben und noch zu genießen wünschen, sich selbständig einige Gedanken zu machen.\n",
      "Der Geschäftsmann, dem (wenn er nicht sür Kriegsbedürfnisse arbeitet) der Friede die Voraus« fetzung jeder über die nächsten Tage hinausreichenden Unternehmung ist, wird fich doch der Besorgnisse vor einem Kriege mit Frankreich erinnern, die bis zum Jahre 1875 feine Thätigkeit beengten, welche während deS orientalischen Krieges mehr zurückgedrängt, doch nie ganz verstummt waren und welche im Frühjahr 1877 auf's Neue lebendig wurden, als Mac Mahon'S Verfuch eineS kleinen Staatsstreiches und die schwierige Stellung Deutschlands zwischen Oesterreich und Rußland Gefahren in sich bargen, denen gegenüber, um ein bekanntes Wort von Thiers anzuwenden, in der Leitung der deutschen Politik kein Fehler gemacht werden durfte, wenn Deutschland nicht in kriegerische Verwickelungen gerathen sollte. Nun möge sich ein Jeder ausmalen, wie die letzten zehn Jahre verlaufen fein würden unter einem preußi« schen Ministerium, zusammengesetzt auS den verfiìgbaren liberalen Größen, für deren Beruf zur Behandlung der auswärtigen Verhältnisse wir keine andere Garantie haben, als ihr Selbstvertrauen und über deren Befähigung für die innere Politik das, was sie in Gesetzgebung und Verwaltung geschassen, und daS, waS sie De« kämpft und gehindert haben, Zeugniß ablegt. „Macht mir gute Politik, ich werde Euch gute Finanzen machen\", fagte ein französischer Staatsmann. Nicht einmal daS haben die liberalen Koryphäen vermocht, sondern die finanziellen Früchte des franzöfifchen Krieges verzettelt und eine Wirtschaftspolitik betrieben, dem eigenen Lande zum schweren Schaden, anderen Völkern zur stillen Heiterkeit.\n",
      "Freilich begegnet man hier und da der Vorstellung, wenn die Gefahren jetzt vorüber, der Friede auf lange Zeit gesichert fei, so könne ja daS Steuer auch in weniger erfahrene Hände gelegt werden. Allerdings hat niemals der neueren Geschichte ein Reich fo mächtig lud zugleich so geachtet und so aIS Hort deS Friedens angesehen dagestanden, wie daS neue deutsche Reich. Aber die erste Vorbedingung sür daS Vertrauen des Auslande? liegt in der Person deS Ministers der auswärtigen Angelegenheiten ; und selbst wenn man unter den liberalen Kandidaten für dieseS Ressort einen zu nennen wüßte mit der größten natürlichen Begabung für daS Gefchäft und mit Erfahrung in demselben, würde er mit den Siegeln des AmteS zugleich das Vertrauen, die Autorität bei Souveränen und Regierungen übernehmen, deren fich der Fürst Bismarck nach einer dreißigjährigen Laufbahn ohne Gleichen, als der Frucht feines Könnens und WisseuS, seiner Krast und seiner Mäßigung erfreut? Die Frage liegt so nahe und ihre Beantwortung ist so unzweifelhaft, daß man, aIS vor etwa zwei Jabren Streberthun:, Eigensinn der Eitelkeit und Fractionsgelüfle die gehässigen Angrisse gegen die Person des Reichskanzlers begannen, in liberalen Blättern die Frage durch die Andeutung zu umgehen suchte, ein fortschrittlichsecessionis'.ischeS würde fo gütig fein, ihm daS auswärtige Ressort auch ferner zu über, lassen. Es ist wohl anzunehmen, daß die de« treffenden Journalisten diese Andeutung auf eigene Hand gemacht haben; denn, wenn eS auch richtig fein sollte, daß Ministerportefeuilles und andere höhere Beamtenstellen damals fchon im Voraus vertheilt worden seien, jo wird die Phantasie sich doch nicht so weit verirrt haben, sich an demselben BerathungStische mit dem Fürsten Bismarck zu denken.\n",
      "DaS Ministerium Bismarck, welches das unmögl'ch scheinende Ziel erreicht hat, zehn Jahre nach dem Frankfurter Frieden den politischen Horizont für uns von dem kleinsten Wölkchen frei zu machen, ist tie Garantie unseres Friedens, uud Friede die Vorbedingung einer schaffenden inneren Politik. Gegen daS Ministerium Bismarck wählen, die Einführung der parlamentarischen Re« gierung. d. h. die Einschränkung unseres Königt,ums verlangen, heißt an dem Frieden unseres Landes rütteln. Kein Kampf ist ohne Ziel, wenn eS auch möglich ist, daß in der Masse der Fortschrittspartei Viele daS Ziel nicht sehen. Viele nicht billig.'» würden, welche« die Führer verfolgen: Jnthronisirung der Herren Richter, v. Stauffenberg und Rickert. Würde daS Ziel erreicht, fo wären die Folgen: .Schwinden des Vertrauens der deutschen Souveraine und Zwist im Innern, mißtrauisches Abwenden der großen Nachbarliche, Verlust aller Fühlung in der auswärtigen Politik, die Entstehung von Feindseligkeiten, d«c Lähmung deS Unternehmung?geisteS und daS Sinken aller Werthe.\"\n",
      "*— Dem preußischen .Militair-Wochenblatt*\n",
      "blieb es vorbehalten, sehr interessante Aeuße« rungen der Vergessenheit zu entziehen, welche Gambetta in feiner großen Belleviller Rede vor den Wahlen über feine militairischen Ansichten gethan und welche von den politischen Tageöblättern nicht in ihrer vollen Bedeutung gewürdigt worden sind. In dem Artikel des &gt;Militair-Wochenblatts\". der .Gambetta's mili ta iris ehe SP rogramm\" überschrieben ist, heißt es über den betreffenden Theil der Rede des französischen Exdictators: ..Welche gewaltigen Reformen, welche tief einschneidenden Maßregeln! Die rücksichtslose Energie des Mannes von Cahors, welche in den Jahren\n",
      "\n",
      "\t1870 und 1871 die Heere der Republik aus der Erde stampfte, spricht steh in ungeschwächter Kraft darin aus; Jeder, der überhaupt die Waffen tragen kann, soll Soldat werden, und für Alle soll die gleiche Dienstverpflichtung eingeführt werden. Jeder soll drei volle Jahre dienen, kein Einjährig-Freiwilligerdienst. keine deuxième portion soll zu Gunsten des Ein. zelnen eine Ausnahmestellung herbeiführen. Um die Rahmen herzustellen, in welche diese Masse gesagt werden soll, und um der Armee die Dienste des intelligenteren Theiles der Bevölkerung zu sichern, deren sie bedarf, wird die Anstellung im (Zivildienst (nicht nur für subalterne Posten, wie wir das Verhältniß aufzufassen gewohnt sind, sondern für den gesammten Mechanismus des Staates) davon abhängig gemacht, daß der Anwärter mindestens ein Jahr Unteroffizier gewesen ist. Mag man über die Zweckmäßigkeit nnd über die Durchführbarkeit dieser Radicalcur denken, wie man will: der erhebende Ausdruck der Vaterlandsliebe, welcher den sür unwürdig erklärt. Franzose zu heißen, der an die Armee die Hand zu legen wagt, muß jeden Patrioten auf daS sympathischste berühren und mit Achtung vor der Nation erfüllen, in welcher dieser Gedanke, nachdem sie durch eine herbe Schule des Unglücks gegangen, zum herrschenden geworden ist.\" — Dieser Schluß ist viel galanter als der Zweck der Mittheilungen des „Militair-Wochenblattes\". Dieser Zweck ist zwar nicht ausdrücklich auSgesprochen, nichtsdestoweniger ist er zu erkennen und besteht darin, zu mahnen, daß man in Deutschland auf der Hut fein soll vor einem von Gambetta regierten Frankreich.\n",
      "— Von Seiten des \"teutschen auswärtigen Amtes ist folgendes Schreiben bei der amerikanischen Gesandtschaft eingelaufen: „\n",
      "-------------------\n",
      "Berlin, 10. April (29. März). Den bangen Zweifeln über die Absichten des Reichskanzlers ist heute durch die Erklärungen der ministeriellen „Prov.-Corr.\" ein Ende gemacht worden. Nach diesen Erklärungen ist der Kanzler entschlossen, mit der bisherigen Handels- und Steuerpolitik zu brechen und namentlich hinfichtlich der ersteren nur dann die Principien des Freihandels zur Geltung zu bringen, wenn er auf Gegenseitigkeit unter den Völkern rechnen darf. (Wir haben das Wesentlichste des Artikels in der gestrigen Nummer der „Rig. Ztg.\" gebracht. D. R) »Gerade unter den jetzigen Umständen und besonders kurz vor Schluß der Session hat eine so kategorische Erklärung, so viel dttselbe auch vorhergesagt und erwartet wurde, dennoch etwas sehr UebmaschendeS. Daß die Majorität des gegenwärtigen Reichstages und ebenso diejenige des Abgeordnetenhauses dem neuen Programm nicht zustimmen wirb, feheint mir wenigstens außer allem Zweifel zu stehen, und dann wäre allerdings die erst gestern in der parlamentarischen Soiröe von dem Kanzler sehr entschieden geleugnete Eventualität einer Auflösung des Reichstages sehr nahe gerückt. ES ist im Augenblicke noch nicht möglich, ein Urtheil über die Folgen abzugeben, welche dieser Entschluß des Reichskanzlers, d. h. den Reichstag nicht auszulösen, haben wird, jedenfalls ist auch auS seinen gestrigen Aeußerungen so viel zu ersehen, daß seine immer wieder durchbrechende Aniwofität gegen die Herren Camphausen und Achendach, welche zu dem Sturze beider Minister führte, in der That nicht etwa eine despotische Laune war, sondern daß fie aus der tiefen Differenz bafirte, welche den Kanzler von den beiden Ministern schied, die das Fr.ihandelS system repräsenttrten, und selbst, wo fie dem leitenden Staatsmanne eine Concession machten, dies ungern und gewissermaßen gegen ihre Ueberzeugung thaten. Darüber, daß er einen sehr ernsten Kamps übernommen hat, wird fich der Kanzler wohl keine Illufionen machen. In den Parlamenten find die Anhänger des Manchesterthums noch immer überwiegend; es ist aber allerdings sehr fraglich, ob ihnen eine verhältnißmäßige Mehrheit im Lande parallel geht. Wahrscheinlich hat fich der Fürst überzeugt, daß es auf dem bisherigen Wege nicht mehr weitergeht, wenn nicht der Staat ernstlich Gefahr lausen soll. Deutschland erfreut sich nach einem rühmvollen Kriege des tiefsten Friedens, der auch für eine absehbare Zukunft nicht bedroht ist, aber die wirthschaftlichen Verhältnisse werden immer schlechter. Das kann doch nicht ewig dauern, und es ist wirklich nothwendig, daß einmal etwas geschieht. Selbst wenn es ein Fehlgriff wäre, so würde dadurch immer noch kein großes Unheil entstehen, und man hätte den Vortheil, daß ein für alle Mal die Unmöglichkeit jeder Umkehr von der Freihandels-Politik bewiesen wäre. Daß die Regierung jetzt einen so weitaussehenden Feltzug unternimmt, scheint übrigens auch noch dafür zu sprechen, daß sie eine Störung des Friedens durch dieorientalische Frage nicht fürchtet, so umdüstert der Horizont auch jetzt noch aussieht. Ich will Sie nicht mit Betrachtungen über die Lage ermüden. Sie werden ja ohnedies Mühe genug haben, fich durch die endlosen Berichte über die letzten englischen Parlaments chatten hindurch zu arbeiten, aus denen schließlich doch Jeder heraus« lesen ta»n, was seinem Temperament, seinen Hoffnungen oder Befürchtungen am besten entspricht. Daß Oesterreich fich n i eh t mit E n g l a n d alliirt, ist so gut als gewiß, und lediglich eine solche Alltanz wäre eine große Gefahr sür den Frieden Europas. England wird — davon ist man in hiesiger» politischen Kreisen, soweit meine Nachrichten gehen, überzeugt — trotz alles Kriegslärms und unter allem KriegSlärm schließlich doch nichts wollen, als fich einen Theil der türkischen Erbschaft zu sichern, und wenn dabei das EaliSburr/sche Circulair etwas Schiffbruch leiden sollte, so wird eS angesichts des reellen Gewinnes heißen: Honny soit qui mal y pense!\n",
      "\n",
      "-------------------\n"
     ]
    }
   ],
   "source": [
    "for entry in get_topic_examples(0, 14):\n",
    "    print(entry['text'])\n",
    "    print('-------------------')"
   ]
  },
  {
   "cell_type": "code",
   "execution_count": null,
   "id": "f904608e",
   "metadata": {},
   "outputs": [],
   "source": []
  },
  {
   "cell_type": "code",
   "execution_count": 107,
   "id": "07f6c36c",
   "metadata": {},
   "outputs": [
    {
     "name": "stderr",
     "output_type": "stream",
     "text": [
      "100%|███████████████████████████████████████████████████████████████████████████████████| 4/4 [00:00<00:00, 285.20it/s]\n"
     ]
    },
    {
     "data": {
      "text/plain": [
       "[{'msg_id': 226712,\n",
       "  'doc_id': 275983,\n",
       "  'placename': 'St. Petersburg',\n",
       "  'text': 'Durch das Urtheil aller in Rußland bestehende« artenbaugesellschaften, sowie einer Anzahl land-\\n\\n\\twirthfchastlichen Gesellschaften und Specialisten aus dem Gebiete de» Gartenbaue» ist da» Factum erwiesen, daß die Gründung einer höheren Special-Lehranstalt für den Garten- und W e i n b o u in Rußland absolut nothwendig ist. DaS Domainenministerium nahm hieran» Beranlassung zu einer Umfrage welche Maßregel« etwa zu ergreifen wären, um den Gartenbau und die Weingärtnerei in Rußland auf eiue höhere Stufe zu heben. Die einlaufenden Antworten lautete» übereinstimmend dahin, daß eine Lehranstalt zu begründe« sei. welche wissenschaftlich gebildete Lehrer für die Garteybauschulen und Leiter der Krön»gartenanlagen heranbilden könne. Gegenwärtig ist denn auch ein Project, die Errichtung einer höheren Lehranstalt sür Garten- «nd Weinbau betreffend, ausgearbeitet worden, welches dem Reichsrath vor« gestellt werden soll. Dem Projecte zufolge soll diefe Anstalt in Petersburg beim Botanischen Garten errichtet werden. Ansang» soll dieselbe drei Professoren für folgende Specialfächer erhalten : ». Allgemeine Gartenbaulehre und Bodenkunde; b. Fruchtgältnerei; o. Gemüsebau; 6. Dendrologie; c. Cultur exotischer Pflanzen; f. Landschaft»gärtneret; g. Gartenarchitektur und Hydraulik; d. Garten.Entomologie; i. gärtnerische Bach- vnd Rechnungsführung.\\nDen erwähnte« drei Professoren soll ein Gage vo« je 2000 Rbl. gezahU werden. Jedem der Professoren wird ei« Assistent zur Seite stehen, welcher 1000 Rbl. Gage .rhält. Außerdem sollen am Gartenbau-Jnstitut angestellt werden: 1) drei Lehrer der Naturwissenschaften: der Phhfik, Chemie und der Botanik mit einem Gehalt von je 1200 Rbl. jährlich; 2) süns Lehrer für di« deutsche uud lateinische Sprache, da» Rivelliren und das Zeichneu mit einem Gehalt von je 900 Rbl. uud 3) ein Laborant «it einer Gage von 1000 Ril. Bei Eröffnung der Anstatt werden vorläufig 40 Bacanzeu für Stipendiaten eröffnet werden, von welchen jeder 800 Rbl. jährlich und außerdem die nöthige« Lehr- und Handbücher und Instrument- erhalten soll. I« dte Anstalt werben junge Leute ausgenommen werden, welche den Curf«» in Gymnasien und Realschulen beendet, sowie solche, welche den Cursus niederer Gartenbauschulen mit Auszeichnung abfolvirt haben. Auß.r den Stipendiaten werde« auch junge Levte die Vorträge hören können, welche auf eigene Kosten studiren wollen, und werden dieselben hinfichtlich der Anstellung im KronSdienst nach beendetem lursus dieselben Rechte wie die Stipendiäte« genießen.\\nRiga, 13. Februar. Die neueste Rümmer\\nder .9. Г. В.- veröffentlickt sorgendes (s.Z. bereits auSzuggweise mitgetheilte) Eirculair des Verwesers des Ministeriums des Inner- an den estlandischen Gouverneur vom 13. October 1885: .In einem Circulair vom 30. Januar\\n\\n\\t1862 eub Nr. 21 wurde mitgetheilt, daß Seine Majestät der Kaiser, für den Bau nicht, orthodoxer Kirchen die Erlaubniß der Civilobrigkeit und des Ministeriums deS Innern für genüge, .o befindend, am 6. Januar desselben Jahres zu desehlen geruht haben, auS den betreffenden Artikel« des Swod Sakonow den Punkt zu streichen, nach welchem die Gouvernements ■ Obrigkeiten sich hinsichtlich der Genehmigung zum Tau nicht-orthodoxer Kirchen vorläufig mit der orthodoxen Eparchialobrigkeit in Relation zu setzen hatten. Nunmehr hat Se. Majestät der Kaiser in Anbetracht der geänderte» Umstände auf meine Allerunterthänigste Unterlegung vom 10. October v. I. Allerhöchst geruht, de« oben angeführten Allerhöchsten Befehl abzuändern und die Wirkung des Art. 247 des Baustatuts in seiner volle« Kraft wieder herzustellen, wonach die Gouvernementebehörden, vorbehaltlich der Borstellung derartiger Vauprojecte an daß Ministerium, fich durch eiue Relation an die orthodoxe Eparchial Obrigkeit davon zu üb rzeugen haben, ob nicht irgend welche Hindernisse sür die Genehmigung de« Baues vorliegen.\"\\n— Se. Excellenz der livländische Landmarschall. Herr vr. Friedrich Baron Meyendorfs, hat fich nach Petersburg begeben.\\n— Seite»» be« Kurators Kapustiu, ist, wie die „N. D. Z\" meldet, dem Minister der BolkSaufklärung der Antrag unterlegt worden, mit dem 1. Januar kommenden JahreS das in Dorpat bestehende deutsche Lehrer-Seminar eingehen zu laffen.\\n— Dem Covegienassefior C Thimm ist, wie vir erfahren, in Anlaß seines fünfzigjährigen Dienstjubiläums von der Staatsregierung der St. Annen-Orden 2. Klaffe und eine  verliehe« Vörden.\\n4- Dorpat. Ueber be« Bestaub «üb die Beveguug der Studirenden vom 1. September\\n1885 bis zum 1. Februar 1886 geben folgende Daten Auskunft. Es studirten am 1. Februar 1886: (Die eingeklammerte Zahl weist auf dea Bestand vom 1. September 1885 hin): Theologie 219 (239), Rechtsw.ffenschaft 257 (284). Diplomatie 3 (3). Medicin 743 (716). Pharmacie 119 (124). Philosophie 1 (3), altclasfifche Philologie 65 (63). vergl. Sprachkunde 25 (23). rusfische Sprache und Literatur 8 (8), politische Oekonomie und Statistik 61 (62). Geschichte 52 (52), Mathemathit 36 (U), Astronomie 3 (3), Physik 6 (7). phyfik. Geographie 1 (l). Chemie 48 (42), Mineralogie 1 (3). Botanik 3 (5), Zoologie 5 (8). Oekonomie 24 (20), Technologie б (4). Summa 1685 (1704). Bo» den angegebenen 1685 Studirenden find gebürtig au« Livland 590, Kurland 352. Estland\\n\\n\\t142. auS anderen Theilen des russischen Reiche»\\n500. auS dem Zarthum Polen 76, auS dem Auslande 2b. — Nicht immotriculute Zuhörer 17.\\n* Dorpat. «« Dienstag den 11. Februar, hat Herr August Nauck aus Grund der Dissertation: .Ueber eine neue Eigenschaft der Producte der regresstven Metamo.phose der Eiveißkorper\" zum Dcc.or der Medicin promovirt.\\nDorpat. Zar Wahlbevegvug schreibt die »N. D. Z.\":\\nWährend im Jahre 1878 die Wahlbetoegung hier fich sehr ruhig abspielte, scheint fie diesmal weit tiefer in die Mafien eingedrungen zn sein und, allem Anscheine nach, werden insbesondere die Stadtverordnetenfitze der 8. Klaffe heiß um» stritten werben. Einen Hinweis daraus ertheilt die relativ äußerst Ittjl Betheiligung, welche seile«» der Wähler beim Abholen der Wahlkalten bekundet worden ist: während im Jahre 1878 innerhalb der 8. Wüh\\'erktoffe im Konzen nur etwa 430 Stimmen abgegeben worden find, haben, wie wir hören, dtetmal 944 Wähler ihre Karten abgeholt, uad von diesen dürsten gegen 700 der 8. Klaffe angehören DarouS dürste der Schluß gezogen werden können, daß diesmal die 8. Wühler» klaffe etwa um 250 Stimmen verstärkt au die Wahlurne herantreten wird.\\nWie nun werden, wie sollen zunächst diese 700 WSh.er der dritten Klaffe ihre Stimmen abgeben? Die Städteordnang giebt dem Wähler völlig freie Hand, au» der Zahl sämmtlicher, in der Wähle?» Ufte ausgesührten Personen 24 herauSzugreisen unb ihnen seine Stimme zu geben. Es liegt aber klar zu Tage, vaß bei einer solchen Stiwmenmaffe. wie diejenige, um die es fich hier handelt, das Votum des Einzelnen wenn S fich nicht au eine der geschloffen stimmenden Grvppen anschließt, völlig werthloS wird. Wer aus eigene Hand, nach seine» .Geschmack\", Diesem oder Jenem seiner guten Freunde und Bekannten seine Stimme giebt und fich .selbständig\" nach eigener Faeon eine eigene Eandidatenliste zusammenzimmert, der wirst seine Stimme hier, wo eine Majorität erst durch mehrere Hunderte von Stimmen zu erzieleu ist — und nur die absolute Majorität giebt den Ausschlag — seine Stimme nicht nnr einfach fort, sondern er arbeitet den geschloffen stimmenden Gegnern in die Hände. Wer wirklich Einfluß aus dea Ausgang der Wahlen ausüben will, muß fich daher aller persönlichen Sympathien und Antipathieen entschlagen und c» über fich gewinnen, eine der Vor» haadeuen Kandidatenlisten von A bi» Z zu acccptrren und ohne jegliche Aendernvg auf de» Wahlzettel niederzufchreibe».\\nWelche von dea ausgestellten Eandidatenliste« der Wähler zu «.er feinigen mache« will, ist Sache seine» Gewiff-nS nnd feiner aufgeklärten Erke«vt«rß; zweifelhaft kann aber uuter keinen Umstanden fein, daß er fich stricte au eine der vorhandenen Listen, und zwar an diejenige, die ihm im Allgemeinen am beste» gefällt, halten muß, will er nicht, trotz Wahlkarte und Wahlzettel, fein Wahlrecht einfach in den Wind schlagen. In keinem anderen Punkte documeutirt fich wahre politische Reife deS Bürger» deutlicher, al» iv dem Vermögen, seine Sonderinterrffen und Sonderanfchauungen dort unterzuordnen, wo c» gilt, mit der Allgemein heit zum Besten de» Gemeiuwohle» vorzug-ben, selbst wen» im Einzelne» hier und da sein Widerspruch fich rege» sollte. —\\n— Der Kurator Sapusti» hat fich am 6. Februar nach Petersburg begeben.\\n— In Ovenpäh ift eiue rusfische Mädchenschule mit 80 Schülerinnen eröffnet worden. Al» Lehrerin suvgirt die Frau de» ehemaligen. Walgu»\"-Redacteur» Lindenberg. —\\nWerro. «ach ber Bevölkerung«.Bewegung im Werroschtu Sprengel scheint, schreibt die „N. D. Z.\". da» verfloffene Jahr iv sanitärer\\n\\n\\tund zum Theile auch in ökonomischer Beziehung kein ungünstige» gewesen zu sein. Innerhalb de» genannten Sprengel» wurde« im Ganzen 4987 Kinder evanzelisch-lutherischen Bekenntntffe» ge» boren, während uur 8586 Personen starben, so daß in den evangelisch.lutherischen Gemeinde« der natürliche Ueberschuß der Bevölkerung fich im Jahre 1885 aus 1401 Seelen belief. Von den 4937 Geborenen waren 2565 Knaben vnd 2422 Mädchen, fo daß auf 100 Mädchen im Durchschnitt nahezu 106 Knabe« geboren wurden — eine Ziffer, welche nahezu der allgemein europäischen DurchschntttSziff-r sür Knaben-Mehrgebnrten gleichkommt. Die Zahl der unehelich Geborenen betrug 889 ober etwa 7.7 pSt. der Gesammtzahl der Geborenen. Von den Gestorbenen waren 1854 männlichen und 1782 weiblichen Geschlecht», vou besonderem Jntereffe ist jedoch, daß von den 8586 Gestorbenen nicht weniger al» 59 Personen oder über 1 » pCt. ein Lebensalter von über 80 Jahre erreichten — eine Ziffer, vie fie früher kaum zu verzeichnen gewesen sein dürfte; dieselbe legt entschiedene» Zeugniß dafür ab. daß die mittlere L.benSdauer unserer landischen Bevölkerung eine längere geworden und daß, dem entsprechend, die sanitären, bezw. ökonomischen Berhältniffe fich im Lause der Jahre gebeffert haben müffen. — Wa» die Statistik der Unglückisälle anlangt, fo verunglückten im Laufe de» veifiossenen Jahre» im Ganzen 55 Personen; die veitau» meisten Menschenleben erheischte anch diesmal der Tod durch Ertrinken, nämlich 28; demnach forderten die größte Zahl von Opfern der Übermäßige Genuß von Alkohol, nämlich 7, und der Selbstmord gleichfall» 7, von welchen 1 Mann fich erschoß, während die übrigen 6 Selbstmörder, darunter 1 Knabe, fich mittelst Erhängen» den Tod gäbe«. Bon den ver» einzelten Fälle« eine, unnatürlichen Tode» seien registrirt: 8 Ermordungen, 8 TodeSsälle in Folge von unvorsichtigem Umgehen mit Schießgewehren, 2 in Folge erlittener Brandwunden, 1 in Folge deS BiffeS eineS tollwüthigen HundeS, 1 in Folge Von Kohlendunst, 1 in Folge eineS Blitzschlages.\\nSurland Zum Pastor zn llgahlev ist, wie die .Mit. Ztg.\" meldet. Herr Wilhelm Rust, der bisherige Pastor Adjunct zu Bauske. berufen worden. Zum Pastor für Riogen ist Herr Emil V i e l e n st e i n , bisher Adjunct bei Postor Gurland in Mitau. berufen worden.\\n«US Jakobstadt erhält die .BalsS\" folgenden Bericht: .Bor einige» Wochen verstarb Hierselbst eine vor 15 Jahren zur Orthodoxie übergetretene Jüdin, die et» hier wohnhafter Ruffe geheirathet hatte. Der Mann der Verstorbenen wollte fie auf de» Kirchhofe der Rechtgläubigen beerdigen, die Anverwandten derselbe« jedoch, die Juden, waren dagege«, indem fie erklärte», die Verstorbene fei niemals getauft worden und müffe daher auf dem jüdischen Kirchhofe beigesetzt werden. Eine An» verwandte der verstorbenen hat sogar eine be» deutende Summe geboten, damit eS gestattet werde, die Leiche auf de« jüdischen Kirchhofe beizusetzen. Da uun der Gemahl der Verstorbenen in Bezug auf ihre Beerdigung mit den Verwandten derselben steh nicht verstündigen konnte unterbreitete er die Angelegenheit de« Magistrate zur Entscheidung, welche dahin lautete, daß die Verstorbene aus de« Friedhose der Rechtgläubigen beigesetzt werden müsse. Darüber find die\\' Juden sehr aufgebracht und eS circuliren selbst Gerüchte daß die Juden beschlossen hätten, die Leiche, falls fie auf dem russischen Kirchhofe beerdigt werden sollte, während der Nacht auszugraben und auf den jüdischen Kirchhof überzuführen. — Am 25 Januar d. I. wurdeu einige Händler fehr unangenehm überrascht: eS waren nämlich die Grenzwachen erschienen, um »ach Eontrebande zu suche». Um 6 Uhr Morgen» war eine Kleiderbude vo» Soldaten umstellt Wörde«\\n\\n\\tund wurde darin sehr eingehend nach Kontrebande\\ng-sncht. Mehrere Stücke Zeug »nrden auch als kontrebiude erkaaai uud von den Grenzwächtern mitgenommen. In diesen Tagen kam ein Schreiben an. laut deffen der Jude, bei dem die Kontrebande gefunden worden ist. 1700 Rbl. Strafe zu zahlen hat.\"\\nEßlano. Die .9. Г. В.* veröffentlichen folgende» Kircularr de« Gouverneur» von Estland an d i e Ki reh s pielSr ichte r, d. d. 22. Jauuar 1886 Nr. 2:\\nDer estlSndische ritt-rschastliche Ausschuß hat fich an die Bauerneommisfion mit der Bitte gewandt, Maßregeln dahin zu ergreifen, daß tote Arreudeverträge betreffend die Pacht von Landvellen allenthalben in die gesetzlich festgestellte Form schriftlicher Kontrakte zwischen den Gutsbesitzern «nd Bauern gekleidet werden. Hierbei hält c» der ritterschastliche Ausschuß zur vollständigere» Rcalifirung für nothwendig, einen Endtermin unter der Beb in ung festzusetzen, daß, wenn nach Ablauf desselben nichtsdestoweniger auf einigen Gütern Arrendeverträge vorkommen sollten, die nicht i« der vorgeschriebene« Ordnung abgefaßt wären, diese Verträge nach Erwägung aller Erklärungen der Jntereffente» unverzaglich in die Form schriftlicher Kontrakte einzukleide» fi«d, wobei alle hiermit verbundenen »»«gaben auf die GutSbesttzer zu entfallen haben.\\nDaS vorstehende Gesuch deS ritterfchaftlichen »uSschuffe» wurde seitens der Bauern Kommisfion geprüft, welche den Nutzen, den die Inkraftsetzung de»selb-n beiden Vertrag schließenden Parteien dringen würde, anerkannte, in Folge weffen ich Ew. Hochwohlgeboren ersuche, die erforderlichen Maßregeln dafür zu ergreifen, daß in Zukunft zwischen den Gutsbesitzern und Bauern der Abschluß keinerlei Arrendecontracte gestattet werde, außer schriftlicher, in gesetzlicher Form abzesaßter. In Anbetracht deffen, daß di- Bauern-Kommisfion al» Endtermin zur Erfüllung de» Vorstehenden den 28. April d. I. festgesetzt hat, ersuche ich Ew. Hochwohlgeboren bei den der Nichterfüllung Schuldigen die vom ritterschaftlichen AuSschuffe i« ««»ficht genommene Maßregel anzuwenden und jeden einzelnen Fall der Weigerung feiten» der SutSbefitzer oder Pächter, bie erwähnten Kontrakte zu unterschreiben, mit genauer Angabe der Ursachen der Weigerung zur Kenntniß der kommisfion zu bringen.\\nUeber die Erfüllung der vorstehenden Bersügung haben Sie mir zu berichten wobei, wenn Sie auf irgend welche Hindernde betreffs pünktliche, Er. Füllung stoßen sollte», eS Ihnen anheimgestellt bleibt, mir darüber seinerzeit eine besondere Vorstellung zu machen und die sodauu erfolgenden weiteren Anordnungen abzuwarten.\\n— Mit der Mittheilung, baß in ber Strehe zu HaggerS am 2. Februar der frühere Pastor zu Karufen, A. HSrfchelman«. als Pastor zu HaggerS durch den estlandischen Herr» Generalsuperintendeuten vr. Schultz introd«cirt worden sei, dringt der „PoltimeeS\" zugleich die Nachricht, daß im Kirchspiel HaggerS viele Leute zum griechisch-orthodoxe» Glaube» überzutrrte» beabfichtige«.\\n— Wie ber „»lrulaue\" berichtet, ist in der Genend de» Oberen See» , am 26. Januar ein Meteor beobachtet worden. Eine Feuerkugel, so groß wie der halb- Bollmond, mit einem lange» rothen Sehweis, haue fich von Süden nach Nord-Ost bewegt. — Eine gleiche Beobachtung fei im Kirchspiel Merjama ia der Wiek und an viele« anderen Orten gemocht worden.\\nPetersburg. Kürzlich finb, wie die ,Now. Wr.\" berichtet, die vou der CodifieationSabtherlung de» Reich»rath» hergestellten neuen Ausgaben der Gesetze «ud der Reglement« über die »on den Friede»»rieh ter n zu ver-\\n\\n\\thängende« Strafen in Umlo * gesetzt\\nworden. Hierbei wäre al» ans eine bemerken». Werthe Neuerung darauf aufmerksam &gt;u machen, daß sowohl die Gesetze, al» auh dte Reglement» gleichzeitig in zwei verschiedenen Formaten er« scheinen, in dem sür die Bücher de»Ewod üblichen Format und in Tcschenformat. Die letztere Au»« gäbe ift in Octav und mit etwa» kleinerer Schrift gedruckt; dabei find beide Werke in einen Deckel zusammen gebunden. Erfreulich ist server die außerordentliche Billigkeit dieser Au»gaben. Da» Gesetzbuch großen Format» kostet 66 Kop.; die Reglement» 10 Kop.; beide Werke zusammen in Taschenformat, in Eallico gebunden nur 85 Kop. Verkauft werden diese Ausgaben nicht nur. wie früher, in der Buchhandlung von «nisfimov, sondern auch im Eomptoir der Senat», typographie. Beide Ausgaben find bi» zum 1. Januar c. fortgesührt, so daß in den Verordnungen über die Strafen alle neueren Straf, gesetzt, z. B. die Gesetze über die Aushebung der Eintheilung der Zwangsarbeiten (каторга) in drei Kategorie««, über die Aufhebung der Zucht- «nd A.beitSbäuser, über die Verschärsung der Strafen für Verschleuderungen und dte Abänderung der Verordnungen über Diebstahl mit Einbruch, «ei der Durchficht de» Inhalt» der neuen Ausgabe deS Gesetzbuch» erweist c» fich. daß ungeachtet ihre» eodifieattven Eharakter» die Borarbeiten für diese Ausgabe die Nothwendigkeit hervorgerufen haben, daß seitens der LodificationSabtheilung dem Reichsrath einige Vorstellungen hinsichtlich der Bereiubarung der alten Gesetze mit den oben bezeichneten N um Gesetzen und der Entfernung einiger, wenn auch uur der hauptfächlichsten technischen Mängel unsere» veralteten Sriminalcodex gemacht werden mußten. Im Jntereffe der leichteren praktischen Anwendbarkeit der bestehenden Gesetze»bestimmungen, welche bi» jetzt in d-r AuSzabc vom Jahre 1866 uud eiuigen Fortsetzungen derselben zerstreut waren, muß man freilich die neue Ausgabe iv welcher dieses ganze Material beisammen ist, freudig be. grüßen; noch nothwendiger aber, meint die .New. Wremä\". erscheint eS im Hinblick auf da» Wesen der Sache, daß möglichst schnell da» Strafgesetzbuch vom Schauplatze verschwinde und durch einen neuen Eriminalcodex ersetzt werde, an dem Übrigen» sehr eifrig in der RedactionScommisfinv, welche zur Herstellung desselben auS Specialisten de» Kriminal, recht» gebildet worden, gearbeitet werden soll.\\n— Anläßlich ber Frage einer Aecisesteuer aus Naphtha wurde vor einige« Tagen von dem Präsidenten der Konferenz der Naphthaindustriellen an deu Finanzminister, wie die „Birshew. Wed.* mittheilen, folgende» Telegramm abgefertigt: „Die Zeitungen sprachen davon, da» Ministerium habe beschloffen, Rvhnaphtha mit einer Accifc zu belegen. In Folge dieser Gerüchte haben alle Verkäufe vo» Raphthaproducte» einge. stellt werde» müffen, do c» unmöglich ist, den Verkaufspreis festzustellen. Die Käufer wollen nicht auf einen Borbehalt tn deu BerkaufScontracten, daß der Prei» im Betrag- der fpäter auferlegten Aecise erhöht werden könne, eingehen, da fie darauf rechnen, durch ihre Weigerung zu gewinnen. Die Stockung in den GefchäftSab\\'chlüffen ist dadurch eiue »ugeheure. Der Ausschuß der Konferenz von Navhthaindustricllen hat mich beauftragt, Ew. hohe Excelleuz zu bitte«, un» darüber Mittheilung zu machen, inwiefern da» Gerücht begründet ist.\" Auf diefe» Telegramm gab ber Finanzminister folgende Antwort: „Die Frage, hinsichtlich der Besteuerung von Produkten der Raphthaiudustrie ist schon längst aufgeworfen morden, indeß noch kein oe»bezügliche« Projekt ausgearbeitet worden. Sobald aber ein BesteuerungSproject aufgestellt fein wirb, werde ich über daSfelbe die Meinung der Raphthaindustriellen einhole«.\"\\n— In ber am 6 Februar abgehaltenen Sitzung deSEifenbahnconfeilS, wurde über\\n\\n\\tdie Frage verhandelt: .Sind tn den Taristabelle« für den Versand de» düecten Berkehr» die An. theile an der Frachtfumme und den Zuschlag», gebühren, welche jeder Bahn, die an dem Transport betheiligt ist zufallen, getrennt, statt, wie c» jetzt üblich, iv einer allen «ahnen zusammen zustehender, Generalsumme aufzuführen?\" Da» Eonfeil hat. wie die ,Now. Wr.\" hört, beschloffe», den Bahrn« zur Pflicht zu machen, dte bezeichneten Auskünfte nicht nur in den Tabellen, sondern auch in de» Frachtbriefen in entsprechenden, gefonderte» «übrike» zu geben. Diefer Beschluß wird dadurch motivirt. daß bei der jetzt bestehenden Ordnung c» «amöglich ist. festzustellen, ob nicht irgend eine, am versande betheiligte Bahn eine höhere, al» die durch ihr Statut bestimmte Fracht erhebt. Die Praxi» hat gezeigt, daß sehr häufig, selbst wenn die Fracht, summe, die von allen Bahnen zufammen erhoben wurde, den normalen Frachtsatz nicht überstieg, doch der Antheil irgend einer Bahn den betr. Tarifsatz überschritt, wa», nach Meinung bei: Eonseils, unzulässig ist.\\nMi-sr. Zu« Gouverneur vou RiuSk ist, I wie der „Ruff. Jnv.\" meldet, der Beamte zu besonderen Aufträgen beim Kriegsminister, Generalmajor Fürst Trubetzkoi ernannt\\nworden.'},\n",
       " {'msg_id': 226713,\n",
       "  'doc_id': 275984,\n",
       "  'placename': 'Paris',\n",
       "  'text': 'Gewitterschwüle in der Lust trotz der eifigen Temperatur draußen. Pari» wacht und dröhnend rollen die Räder über da» hart gefrorene, rein gefegte Holzpflaster; man lispelt und fchaut fich unruhig um, man hält daS Batisttuch vor daS rothe Rät chen «ud begreift nicht, daß die nordische Kälte einen so ungehörigen Ortswechsel v-rzunehme« fich erlaube. Drei in einer Woche begangene Mordthaten, unter denen die Ermordung de» Präfecten von l\\'Cure im Eisenbahn.Coupe in de, Höhe der Maison Lasfite die unbegreiflichste und schauerlichste gewesen, halten selbst die un« ruhigsten Loulevardier« in Spannung und die stet» aus eiue Spur kommende und doch selten fangende Polizei in Athem. Iv der That scheint letztere nicht mehr Glück zu haben al» jede andere, denn anch die Mörder de» «»glücklichen, von ihre« Liebhaber au» Habsucht ermordeten Mädchen» au» der R»c Comartin und derjenige der Rue Moufieur le Priuee find spurlo» verschwunden.\\nDemnach sähe c» au», al» wäre Pari», nicht vie einst, der Ort magischen Zauber», sondern einer de» Schrecken». Uud dennoch, — die Hotel» find voll und selbst die berühwt-steu Gäste haben de« Muth, ihre bedeutenden Persönlichkeiten ruhig über die stet» an Ausdruck «nd Leben wechselnden Straßen spazieren zu führen.\\nUnter letztereu nennen wir zuerst den Erbprinz von Portugal, .Charles de Braganee-Savoie» Bourbon°Saxe.Cobourg&gt;et-Sotha\", wie die Fremdenliste de« Hotel Bristol fag». Dte Pariser habe» oft da» Vergnügen, ihn auf den Boulevard» zn sehen. Zweiundzwanzig Jahre alt, ist der Herzog von Bragaaza groß, schlank, blond, blauäugig, weiß »nd roth gleich einem jungen Mädchen, mit sanftem Blick und gewinnendem Lächeln, eine jene, Persönlichkeiten. die überall den vor. theilhastesten Eindruck hervorrufen. An feine» Schnurrbürtchen und der Beginn eine» Backenbartes, de« er а la гпвве trägt, vervollständigen die elegante Persönlichkeit de» jrkngen Fürsten. Man kennt ihn al» ausgezeichneten Schützen. Eine» Tage» joll er. am seinen Bater vo« dem Fortschritt i« seiner Knast zu überzeugen, einen in die Lust\\n\\n\\tgeschleuderten Vtein mitten durch, ein zweite« Mal die einzelnen Theile nochmals getroffen haben.\\nTer Fürst ist, vie mau sagt, entzückt von seinem Ausenthalt in Paris, trotzdem man annehmen dürste, daß der blaue Himmel LiffabonS bei dieser Külte einiges Hemweh im jugendlichen Herzen deS hohen Saste» hervorrufen müßte. «Mais eile m\\'aime, m\\'aime, la plus belle fille dn monde\" «... flüstern die jungen Lippen, — so sagt man. Und daS ее qn\\'on dit, hat schon manchmal Recht gehabt.\\nBegrüße« vir «och im Hotel Continental unter dem Namen eiueS Grafen Snircowitsch den hier weilenden Fürsten von Montenegro, Nikolai I, Petrositsch Niegosch.\\nDer Fürst Nikolai, der noch keine 40 Jahre zahlt, ist groß «nd wohlgebaut, energisch und sonnenverbrannt; wenn er spricht, nehme« seine dunklen, feurigen Augen einen seltsamen Stanz an, und fährt er in Begleitung feines Adjutanten über die Straßen, so bewundern alle seine gerade «nd stolze Haltung, fein schöne» Costüm.\\nIn dieser orientalisch reiche« Kleidung ist Fürst Nikolai walrhzft blendend — und eine jeuer Münnererscheinunge», zn der da» keuscheste Mädchen» herz fich hingezogen fühlt, der jede blonde und braune Evatochter Verse mit der Ueberschrift: „An den Helden meiner Träume-, widmen könnte. Man veiß wahrhaftig nicht, wa» man mehr bewundern soll: ihn selbst oder seine glänzende«, bt» aa dte Kniee reichende» Lackstiesel», seine dunkelblauen faltigen Seidenhofen, den kurzen, goldumsäumten Rock darüber, den reich gestickte«, mit laug herabfallenden Aermelu gefertigten Spencer, oder gar die kleine, schwarze Mütze, die, mit zwei Adlern geschmückt, da» krause, schwarze Haar nur halb deckt, «in Gürtel, i« welchem ein Säbel mit diamantengeschmücktem Griff und cmc prachtvoll damaScirte Pistole stecke«, eiu majestätisch Über die Schüttern geworfener Pelzmantel vervollständigen das malerische Costüm deS Fürsten.\\nIm Lycee LouiS-le-Graud erzogen, ist Nikolai I vou Seist, Geschmack und Manier uud seiner Liebe zu Frankreich nach Pariser.\\nGleichfalls Pariser ist fei» Schwiegersohn. Serbiens Don Carlo», der Prinz Karageorgewitfch, .Pierre Karo\", wie ih« die einstigen Gefährten\\n\\n\\tdes Lycee Lovis.le-Grand nennen. Auch er wird bald iv den gastlichen Mauern von Paris weilen.\\nDie Umstände, unter denen \\'er die Tochter Nikolai I heirathete, find heldenhaft und romantisch genug, u« dieselben den schönen Zeiten der Minnesänger und Ritter an die Ee»te zu stellen.\\nSS war zur Zeit de» serbisch-türkischen Kriege» 1876. Karageorgewitsch, dem c» nicht gelungen, eiue, feinem Range nach würdige Stellung bei de» Serben einzunehmen, hatte fich, um derselben Sache diene« zu können, den Reihe» der Montenegriuer angefchloffen. Gegangen, befanden fich die Kinder de» Fürsten Rikolai in den Hände» der Feinde, al» eine» Abend» diefelben plötzlich, wie durch eiu Wunder, der Grausamkeit der Feinde entrissen, im Generalquartier de» unglückliche« Bater» erschienen.\\nFürst Peter hatte diese» Wunder ohne jede Hilse vollbracht\\'; muthig war er bei nächtlicher Weile i» da» türkische Lager gebrochen uud hatte, trotz an\\'» Fabelhaste preisender Ersahren. da» Unerhörte vollbracht.\\nNach überwundener Uetzerraschung wandte fich Fürst Nikolai bewegt zu Karageorgewitsch. кШе soll ich Dir danken, wie mich meiner Schuld ent» ledigen, wa» Dir für solch einen Dienst geben?\" rief er au». Peter hatte nicht» zu bitten, nicht» zu erwidern.\\nllcbrigeu» hätte er auch keine Zeit dazu gehabt, denn die Tochter de» Prinzen von Montenegro, die reizende, kleine Prinzessin von 12—18 Jahren, di« er soeben gerettet, rief, ihrem Bater »m de» Hal» fallend, entschlossen au»: .Papa, gieb mich!\"\\n*\\n• *\\nDie Gemildegallerieen öffnen! Borgester» die Mirliton\\'S. gestern der Cercle de la Rae Volney, heute die Aquarellisten.\\nMan ist überschwemmt mit Gemälden, man spricht »nr von solchen und, um den letzten Tropfen in diese» überquellende« K««pbecher fließe« z« laffen, hat sogar Zola in fewem letzte», im „Gil Blas\" erscheinenden Roman „l\\'Oenvre\" einen Maler zum Heldeu desselben gemacht.\\nAu» der Fülle der «»»gestellten Sachen heben vir nnr knrz sorgende heran»:\\n«ei den Mirlitou\\'»:\\n\\n\\tAus dem Ehrenplatz. umringt von einer eleganten, mit Erepp überdeckte« Draperie, daS letzte Werk deS uuvergeffenen, kürzlich verstorbenen Beaud\\'y da» lebensgroße Portrait eineS fich au eiue» Schirm lehueuden blonden Knaben von 12 di« 18 Jahre».\\nBon Eabanel, dem berühmten Portrait-Maler, zwei Portrait».\\nvon Meiffonier. ein prachtvoller Reiter.\\nBon Gerome, Btldniß «tuet berühmten Advo» caten. des Herrn Clery. im üblichen talarartigen Kleide und Advoeatenkappchen.\\nBon Gervex tn sehr lebendiger Wiedergabe eine Ecke de» Treppenha»se» der Oper bei Gelegenheit eine» der jährlich stattfindenden großen Bälle.\\nIm Cercle de la Rae Volney :\\nVon Münks ksv ein prachtvoll gearbeiteter Frauen köpf.\\nVou Heuner, Kopf einer Bäuerin in weißer Haube, ei» wahre» Kunstwerk.\\nBon Roll, ein alter «aver zu Pferde, sei» Großtöchterchen zwischen fich haltend.\\nIm Salon der Aquarellisten wären z» verzeichnen:\\nDie Jagdbilder von Brown, der diesmal seine Sachen einem neuen. Vo» Bibert erfundenen Verfahren unterzogen, de« soge»a»»ten „procede d\\'aquarelle fixee an fco\". Diese Erfindung hat de» Farbe« nicht» von ihrer Frische genommen, dieselben dagegen haltbarer gemacht.\\nAuch andere Aquarellisten, uuter denen Leloir in seinen Seiltänzern, Worm» i« seinen spanischen Genrebildern und in der viel bewunderten .Mauer zu Terragova\" die bedeutendsten find, haben diese» neue Versahren angenommen.\\nBemerkenSwerth find noch die Seebilder vo» Eourant; Illustrationen zu ei«er Andante von Gounod von Dubnfe Sohn; Anficht vo« Elvsson und Villa m Nizza von Franeai»; die Katzen von Lambert tc.\\n*\\n* •\\nHier Gemälde, dort Tanz und Walzerkläage. Da» Hotel Continental, da» Grand Hotel vereinigen die internationale Gesellschaft, gekrönte »nd unge. krönte Häupter, Grafen, Barone «nd Spießbürger. Etz gehört zum guten Ton, feine\\n\\n\\tHand zum Besten der Arme« auszuthu», ohne darauf zu achten, ver «eben?,ei tanzt, geht oder fich räuspert. Mao »erschluckt sei« „fi doDc\" und gedenkt der 200.000 Arme» und Arbeitslosen, die Pari« haben soll. Ich sage soll — weil Niemand fie gesehe». Thatsächlich macht die Stadt jedoch unerhvrt- Anstrengungen, diesem Nothstande abzuhelfen «nd da« Somit« de» Handel« und der Industrie regt seine Hände ohne Unterlaß. Abgesehen von den. vom 1.—15. März zu er. wartenden, täglich stattfindende« Festen, ist schon viel geleistet worden. Im Judustrie.Palast brannten fech» Tage hinter einander mächtige Weihnacht», bäume, im Commerzgericht fand ein glänzender «all statt, in der Oper eine Gala – Vorstelln««. Bon diefer wollen wir sprechen.\\nMitten im Lichterglanz, im Auf. und Abwöge« de» Pnblicum». in einem Schimmern von Farbe« «ud Stoffen, von Diamaaten und Edelsteinen, saß man wie verzaubert do, verloren ia dem über» füllten, vom Parquet bi« z« de« Logen und höher hinauf mit den elegantesten Zuschauer« dicht be» setzten Raum.\\nJa der That, ein ebenso origineller al» gewagter Versuch, dem moderne», dem blafirte» Pari», beginnend mit dem aU.claffifche», aber durchau» primitive« Theater, Scenen in aufsteigender Gestaltung vorzuführen 1 Natürlich konnte man von einem solche» Publicum kein sofortige» Hineinversetzen i« da» Gebotene erwarten; » war ihm unmöglich, bei de» Klagernfen Klhtemnästra\\'» in Thränen o«»zubrechen oder dieselben sorgsam, vie bei einem Duma», schen Stück, hinter Batisttücher« z» verbergen; doch, vie stet»! erwie» c» fich anch jetzt al» da» wohl« erzogesdste Völkchen, da» man fich denke« la««. Obgleich enfent terrible wie immer, war c» liebenswürdig genug z» applaudire» «ud einfach zu lächeln, vo el gern gelacht. Die Konsequenz diese» Pariser Lächeln» ist bewundern»werth, wen» man c» z« schützen versteht.\\nEinigermaßen gespannt, erwartete man den „Agamemnon\" de» AeSchylu» «&gt;d intereffant war c», den Sindruck zu beobachte», den diese» Werk auf die fächerwehenden Damen und die mit Rosette» geschmückte« Cavaliere hervorrief. Die Wahrheit z» gestehe«, wurde« diesmal die Gesäuge der mit Rosen bekränzten Greife, welche die in eine offene\\n\\n\\tGZulknholle verwandelte Bühne einnahmen, nicht mit dem gehörigen Ernst aufgenommen. Die, von den AorhpbSen der Vowedie  on* geführten Chorsänger, welche die Reihen der Schüler de» Eonfervatorivm» gelichtet, waren eben etwa» würdelos jugendlich, schön dagegen die vom Bildhauer Dalou modellirte», tragische» Ma»ken, denen die noch tragischere» Stimmen Klvtemnästra\\'», Agamemnon\\'» und Kaffandra\\'» machtvoll entströmte». Dazu spielte, wie einst i« griechischen Theater, eine Flöte etwa» dünne, langgezogene Weifen. Nach dem griechischen erstand da» römische Theater, da», feiner lebensvolleren Färbung wegen, schon mehr ansprach, wenngleich die lärmende Heiterkeit der „Captifa de Plante\" nicht mit fort z» reißen vermochte. Dem folgte eine Jalrmarkt»scene au» dem Mittelalter, bie mit ihrer vollständig offenen Bühne, ihren flackernden Lichten und geigenden Musikanten, dem lebhasten Treiben einer malerisch gekleideten und gruppirten Menge, stürmischen Beifall hervorrief.\\nAa der daraus gegebene» „Farce de Maltre Patbalm\" wurde Herr «ot, der Liebling de» Panser Publicum», ei» Mau» von 60 Jahren, dem c» gelingt, «it vollster Natürlichkeit die jugendlichsten Rollen wiederzugeben, stürmisch applaudirt. Zwei Acte au» dem .Cid\" versetzten unS in einen prachtvoll geschmückte» Kalo», in welchem, der damaligen Sitte zemäß, vor einem a«ScUesenen KreisHofcavaliere und Dame», die Schöpfung iti großen Racine wie einst wieder zur Aufführung kam.\\nCorneille\\'» kleine» Lustspiel. .Die komische Illusion\", gab abermals Herrn «ot Gelegenheit, sein Talent voll zu entsalten und eine Rolle anszunehmen, die er vor zwanzig Jahren mit derselben Frische gespielt. Geschloffen wurde die glänzende Soiree mit einem überaus farbenprächtigen Ballet: .Die Zwillinge von Bergamo\", in welchem ma» Madame Subra nicht allein bewunderte, sondern auch mit Blumen überschüttete.\\nDie Einnahmen beliefen fich auf 100.000 Fraue», wovon 50 ООО für die Armen.\\nMit der Patti, die eben ihr dritte» Concert im Eden gegeben, — Plätze, auf denen man weder sehen, noch hören konnte, kosteten 2V Franc» — andere 40—100 Franc» -» köaueu wir «it einigen Variationen sagen: .Ich sah noch nie die Wände eine» Theater» oder Eoueertsaale»!\"\\nDt« »mal sahen wir vor lautet flkrriAtn bi* Oper nicht.\\n\\n\\tA. Reyher.'},\n",
       " {'msg_id': 226714,\n",
       "  'doc_id': 275995,\n",
       "  'placename': 'Berlin',\n",
       "  'text': 'Wie dem „Moniteur de Rome\" gemeldet wird, hat der Bischof Kopp, »elcher bekanntlich vor einigen Tagen .zur Theilnahme an den Sitzungen des Herrenhauses\" hier wieder eingetroffen ist, mehrere Besprechungen mit dem Cultusminister gehabt. Der Korrespondent er« wartet, daß die kirchenpolitische Vorlage alsbald nach dem Beginn der parlamentarischen Verhandlungen darüber .verbessert\" werden würde, natürlich im Sinne des Klerikalismus; diese Hoffnung stützt fich u. A. auf die Artikel der altconscrvativen Presse, welche, wie z. B. die .Kreuz-Ztg.\\\\ größere Zugeständnisse an die hierarchischen Forderungen verlangte. Nach demselben Correspondenten wird der zum Erzbischof von Posen bestimmte Propst Dinder demnächst hier erwartet. (N.-Z )\\nBerlia, 23. (11.) Februar. Der wegen Verdachts der Conspiratioa mit Sar a u w verhaftete Redacteur des .Kieler Tageblatts\". Prohl. hat thatsächlich 1884 mit Sarauw verkehrt und war früher Zahlmeisteraspirant bei der Marine. Tie Verhaftung und Haussuchung bei Prohl hat Director Krüger von der Berliner Criminalpolizei geleitet. (D. Z )\\n'},\n",
       " {'msg_id': 226715,\n",
       "  'doc_id': 275995,\n",
       "  'placename': 'Paris',\n",
       "  'text': 'Die Verlesung des pessimistischen C o m m i ss i o n s berichtes über den Vertrag mit Madagaskar hat in der Deputirtenkammer in hohem Grade verstimmt; es ist nicht ausgeschlossen, daß diese die Ratification verweigert, was den Sturz deS Cabinets bedeuten würde. Die Verhandlung findet am Donnerstag statt. (8. Tgbl.)\\n'},\n",
       " {'msg_id': 226716,\n",
       "  'doc_id': 275995,\n",
       "  'placename': 'London',\n",
       "  'text': 'Von einer NachgiebigkeitGr iech en lands ist im hiefigen Auswärtigen Amt- bisher noch nichts bekannt. Die griechische Flotte hat fich gestern angeblich nach Euböa begeben. (K. Z.)\\n'},\n",
       " {'msg_id': 226717,\n",
       "  'doc_id': 275995,\n",
       "  'placename': 'London',\n",
       "  'text': 'Die .Times\" veröffentlicht ein Schreiben Lord Darborough\\'s. in welchem derselbe seinen Austritt aus der liberalen Partei anzeigt, weil in der gegenwärtiges KrifiS feine politischen An. fchauungen mehr mit denjenigen der Torhpartei. als mit denen der jetzigen Regierung übereinstimmten. (W. T..8.)\\n\\n\\tNeueste Nachrichten.'},\n",
       " {'msg_id': 226718,\n",
       "  'doc_id': 275996,\n",
       "  'placename': 'St. Petersburg',\n",
       "  'text': 'Se. Kaiser, liche Hoheit der Großfürst Wladimir kehrte heute aus dem Auslande zurück.\\n(Nord. T.-A.)\\nPetersburg, 13. Februar. Der .Ron». Wr.\" zufolge soll der diesfeitlge Generalcousul ia Rewvork. Baroo Rosen, uach Sofia übergeführt werde». (Nord. T..A.)\\n'},\n",
       " {'msg_id': 226719,\n",
       "  'doc_id': 275996,\n",
       "  'placename': 'Berlin',\n",
       "  'text': 'Dem Ab. geordnetenhause ging eiu Gesetzentwurf zu, 200.000 Mark jährlich zur Errichtung und Unterhaltung vou Fortbildungsschule» behufs Stärkung deS Teutschthuns tu Weßpreuße« und Posen fordernd. (Nord. T..A.)\\n'},\n",
       " {'msg_id': 226720,\n",
       "  'doc_id': 275996,\n",
       "  'placename': 'London',\n",
       "  'text': 'Der Bericht der tzi quetc.Commisfion zur Untersuchung der jüngsten Unruhe» hier iv London schreibt dieselben de« umstchttlofeu Verhalte» der Polizei zu und verlangt eine gründliche Reorganisation derselbe». (Nord. X.-A)\\n'},\n",
       " {'msg_id': 226721,\n",
       "  'doc_id': 275996,\n",
       "  'placename': 'Sofia',\n",
       "  'text': 'Ter B-rschlag Serbiens, deu Zustand vor be« 14. November wieder herzustellen, verstimmte hier. Die bulgarische Regierung iustrutrte Teschow, de« Abschluß deS völligen Frieden», die Wieder, ausnähme der diplomatischen Beziehungen und Abrüstung zu fordern. (Nord. D.-A.)\\nCc ttiuje. 24. (12) Februar. In Folge dringender Schritte Montenegros eroauvte die Pforte eine» neve» Delegirte« für die Bojaaa-Reguliruvg. (Nord. D..A.)\\n\\n\\tTelegramme.'}]"
      ]
     },
     "execution_count": 107,
     "metadata": {},
     "output_type": "execute_result"
    }
   ],
   "source": [
    "list(simple_segmentation(test_df, rz))"
   ]
  },
  {
   "cell_type": "code",
   "execution_count": null,
   "id": "79288fb7",
   "metadata": {},
   "outputs": [],
   "source": []
  },
  {
   "cell_type": "code",
   "execution_count": null,
   "id": "664866da",
   "metadata": {},
   "outputs": [],
   "source": []
  },
  {
   "cell_type": "code",
   "execution_count": null,
   "id": "fb95c29f",
   "metadata": {},
   "outputs": [],
   "source": []
  }
 ],
 "metadata": {
  "kernelspec": {
   "display_name": "acta_env",
   "language": "python",
   "name": "acta_env"
  },
  "language_info": {
   "codemirror_mode": {
    "name": "ipython",
    "version": 3
   },
   "file_extension": ".py",
   "mimetype": "text/x-python",
   "name": "python",
   "nbconvert_exporter": "python",
   "pygments_lexer": "ipython3",
   "version": "3.9.12"
  }
 },
 "nbformat": 4,
 "nbformat_minor": 5
}
