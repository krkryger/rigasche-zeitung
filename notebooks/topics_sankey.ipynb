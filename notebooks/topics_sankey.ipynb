{
 "cells": [
  {
   "cell_type": "code",
   "execution_count": 5,
   "id": "edb1b4cc",
   "metadata": {},
   "outputs": [],
   "source": [
    "from top2vec import Top2Vec\n",
    "import plotly.graph_objects as go\n",
    "import copy\n",
    "from itertools import chain\n",
    "import json"
   ]
  },
  {
   "cell_type": "code",
   "execution_count": 2,
   "id": "0c29c149",
   "metadata": {},
   "outputs": [],
   "source": [
    "t2v = Top2Vec.load('../data/models/t2v_211122_100_deep.pkl')"
   ]
  },
  {
   "cell_type": "code",
   "execution_count": 3,
   "id": "5755f3d9",
   "metadata": {},
   "outputs": [],
   "source": [
    "def get_labels(t2v, n):\n",
    "    \n",
    "    labels = []\n",
    "    \n",
    "    for top_words in t2v.get_topics(reduced=True)[0]:\n",
    "        labels.append('-'.join(top_words[:n]))\n",
    "        \n",
    "    return labels"
   ]
  },
  {
   "cell_type": "code",
   "execution_count": 4,
   "id": "51ef0606",
   "metadata": {},
   "outputs": [],
   "source": [
    "def get_hierarchies_and_labels(t2v, reductions):\n",
    "    \n",
    "    hierarchies = []\n",
    "    labels = []\n",
    "    \n",
    "    for r in reductions:\n",
    "        print(f'Reducing to {r}')\n",
    "        t2v.hierarchical_topic_reduction(r)\n",
    "        hierarchies.append(t2v.get_topic_hierarchy())\n",
    "        labels.append(get_labels(t2v, 3))\n",
    "        \n",
    "    return hierarchies, labels"
   ]
  },
  {
   "cell_type": "code",
   "execution_count": 6,
   "id": "66113e89",
   "metadata": {},
   "outputs": [
    {
     "name": "stdout",
     "output_type": "stream",
     "text": [
      "Reducing to 10\n",
      "Reducing to 30\n",
      "Reducing to 50\n"
     ]
    }
   ],
   "source": [
    "hierarchies, labels = get_hierarchies_and_labels(t2v, [10, 30, 50])"
   ]
  },
  {
   "cell_type": "code",
   "execution_count": 7,
   "id": "516be9f8",
   "metadata": {},
   "outputs": [],
   "source": [
    "def create_link(t2v, hierarchies, labels=None, colors=None):\n",
    "    \n",
    "    levels = copy.deepcopy(hierarchies)\n",
    "    topic_dict = {}\n",
    "    sizes = {}\n",
    "    \n",
    "    nodes_flat = dict(enumerate(list(chain(*levels))))\n",
    "    nodes = []\n",
    "    \n",
    "    # makes a list of a dictionary for each level\n",
    "    for i, level in enumerate(levels):\n",
    "        nodes.append(dict(list(nodes_flat.items())[len(list(chain(*nodes))):len(list(chain(*nodes)))+len(level)]))\n",
    "    \n",
    "    for source_level, target_level in zip(nodes[:-1], nodes[1:]):\n",
    "        for key, group in source_level.items():\n",
    "            target_nodes_in_group = []\n",
    "            for topic in group:\n",
    "                for tkey, tvalue in target_level.items():\n",
    "                    if topic in tvalue:\n",
    "                        target_nodes_in_group.append(tkey)\n",
    "            source_level[key] = tuple(set(target_nodes_in_group))\n",
    "            \n",
    "    #return nodes\n",
    "                \n",
    "    weight_dict = {}\n",
    "    \n",
    "    for key, group in nodes[-1].items():\n",
    "        weight_dict[key] = sum([t2v.topic_sizes[top] for top in group])\n",
    "        \n",
    "    for level in nodes[-2:0:-1]: # in reverse, all levels except first and last\n",
    "        for key, group in level.items():\n",
    "            weight_dict[key] = sum([weight_dict[key2] for key2 in group])\n",
    "            \n",
    "            \n",
    "    sources = []\n",
    "    targets = []\n",
    "    weights = []\n",
    "    \n",
    "    for level in nodes[:-1]:\n",
    "        for source, group in level.items():\n",
    "            for target in group:\n",
    "                sources.append(source)\n",
    "                targets.append(target)\n",
    "                weights.append(weight_dict[target])\n",
    "    \n",
    "    link = dict(source = sources, target = targets, value = weights)\n",
    "    node = dict()\n",
    "    \n",
    "    #if labels:\n",
    "    print(sources)\n",
    "    print(targets)\n",
    "        \n",
    "    \n",
    "    return link"
   ]
  },
  {
   "cell_type": "code",
   "execution_count": 20,
   "id": "24493190",
   "metadata": {},
   "outputs": [
    {
     "name": "stdout",
     "output_type": "stream",
     "text": [
      "[0, 0, 0, 0, 0, 1, 1, 1, 1, 2, 2, 2, 3, 3, 3, 3, 4, 4, 5, 5, 6, 6, 7, 7, 7, 8, 8, 9, 9, 9, 10, 10, 10, 11, 11, 11, 11, 12, 12, 12, 12, 13, 13, 13, 14, 15, 16, 17, 17, 17, 18, 18, 19, 19, 20, 21, 21, 21, 21, 22, 22, 23, 23, 24, 24, 25, 26, 27, 28, 29, 30, 31, 32, 33, 34, 35, 36, 37, 38, 39]\n",
      "[36, 13, 20, 23, 25, 24, 26, 10, 29, 16, 19, 15, 17, 35, 21, 38, 18, 12, 33, 14, 32, 11, 34, 27, 30, 28, 22, 31, 37, 39, 64, 50, 68, 70, 74, 78, 47, 80, 41, 83, 87, 56, 76, 69, 42, 40, 49, 82, 67, 71, 81, 75, 89, 44, 43, 88, 84, 85, 86, 66, 58, 65, 73, 61, 79, 46, 53, 45, 48, 51, 52, 54, 60, 62, 59, 55, 57, 63, 72, 77]\n"
     ]
    }
   ],
   "source": [
    "link = create_link(t2v, hierarchies)\n",
    "node = dict(label = list(chain(*labels)), pad=5, thickness=100)\n",
    "data = go.Sankey(link=link, node=node)\n",
    "fig = go.Figure(data)"
   ]
  },
  {
   "cell_type": "code",
   "execution_count": 21,
   "id": "46ac7ada",
   "metadata": {},
   "outputs": [
    {
     "data": {
      "application/vnd.plotly.v1+json": {
       "config": {
        "plotlyServerURL": "https://plot.ly"
       },
       "data": [
        {
         "link": {
          "source": [
           0,
           0,
           0,
           0,
           0,
           1,
           1,
           1,
           1,
           2,
           2,
           2,
           3,
           3,
           3,
           3,
           4,
           4,
           5,
           5,
           6,
           6,
           7,
           7,
           7,
           8,
           8,
           9,
           9,
           9,
           10,
           10,
           10,
           11,
           11,
           11,
           11,
           12,
           12,
           12,
           12,
           13,
           13,
           13,
           14,
           15,
           16,
           17,
           17,
           17,
           18,
           18,
           19,
           19,
           20,
           21,
           21,
           21,
           21,
           22,
           22,
           23,
           23,
           24,
           24,
           25,
           26,
           27,
           28,
           29,
           30,
           31,
           32,
           33,
           34,
           35,
           36,
           37,
           38,
           39
          ],
          "target": [
           36,
           13,
           20,
           23,
           25,
           24,
           26,
           10,
           29,
           16,
           19,
           15,
           17,
           35,
           21,
           38,
           18,
           12,
           33,
           14,
           32,
           11,
           34,
           27,
           30,
           28,
           22,
           31,
           37,
           39,
           64,
           50,
           68,
           70,
           74,
           78,
           47,
           80,
           41,
           83,
           87,
           56,
           76,
           69,
           42,
           40,
           49,
           82,
           67,
           71,
           81,
           75,
           89,
           44,
           43,
           88,
           84,
           85,
           86,
           66,
           58,
           65,
           73,
           61,
           79,
           46,
           53,
           45,
           48,
           51,
           52,
           54,
           60,
           62,
           59,
           55,
           57,
           63,
           72,
           77
          ],
          "value": [
           4368,
           9533,
           5464,
           7531,
           5516,
           6854,
           6300,
           13025,
           5357,
           11721,
           8099,
           9916,
           13172,
           5944,
           13130,
           5110,
           5484,
           17794,
           4080,
           5121,
           4389,
           18158,
           5781,
           5440,
           6354,
           7435,
           8714,
           3067,
           5628,
           6077,
           4336,
           4173,
           4516,
           1893,
           3028,
           3271,
           9966,
           3407,
           7367,
           3732,
           3288,
           5709,
           2059,
           1765,
           5121,
           9916,
           11721,
           4777,
           4519,
           3876,
           3022,
           2462,
           3298,
           4801,
           5464,
           2291,
           4693,
           3078,
           3068,
           3935,
           4779,
           4511,
           3020,
           3606,
           3248,
           5516,
           6300,
           5440,
           7435,
           5357,
           6354,
           3067,
           4389,
           4080,
           5781,
           5944,
           4368,
           5628,
           5110,
           6077
          ]
         },
         "node": {
          "label": [
           "republik-soir-thiers",
           "centrumspartei-culturkampf-maigesetze",
           "inland-estland-ortlichen",
           "sherman-bragg-meade",
           "kronprinzessin-besuche-herrschaften",
           "pforte-machte-psorte",
           "polizei-thater-verhasteten",
           "budgets-cortes-budget",
           "austern-korbe-gummi",
           "leck-gestrandet-lootsen",
           "glucklichen-vaterlande-monarchen",
           "fenster-verwundungen-herbeigeeilten",
           "kronprinzessin-herrschaften-großherzogin",
           "elysee-thiers-prafecten",
           "pforte-machte-psorte",
           "tagesbesehls-dirigirende-dirigirender",
           "kunst-clavier-neustraße",
           "mehmed-paschas-pascha",
           "ischl-schonbrunn-hofburg",
           "ortlichen-russk-jahrmarkte",
           "groszbritannien-herald-globe",
           "komorn-gorgey-theiß",
           "beginn-sicht-ballen",
           "della-quirinal-terracina",
           "geistlichen-geistlicher-geistliche",
           "madrider-serrano-concha",
           "kreisordnung-reichsregierung-centrumspartei",
           "lesung-gesetzentwurf-gesetzentwurfs",
           "austern-gummi-pack",
           "zollvereins-bundestags-bundesstaaten",
           "freycinet-fourtou-waddington",
           "nargen-kanonenboten-segel",
           "verurtheilte-verurtheilt-angeklagten",
           "sofia-bulgarische-bulgarischen",
           "zinsen-anleihen-deckung",
           "sherman-sudstaatlichen-davis",
           "unterhause-unterhaus-bill",
           "fadrelandet-schleswiger-tidende",
           "kabul-kandahar-afghanen",
           "leck-gestrandet-capt",
           "tagesbesehls-dirigirender-dirigirende",
           "herrschaften-kronprinzessin-großherzogin",
           "pforte-machte-psorte",
           "groszbritannien-herald-globe",
           "ortlichen-nowosti-russk",
           "lesung-gesetzentwurf-gesetzentwurfs",
           "madrider-serrano-concha",
           "menschenleben-einsturz-dach",
           "austern-gummi-meitzer",
           "sandpforte-neustraße-mullerschen",
           "fortschrittler-culturkampf-centrumspartei",
           "zollvereins-bundesstaaten-bundestags",
           "freycinet-waddington-fourtou",
           "kreisordnung-preußischen-reichsregierung",
           "kanonenboten-nargen-kanonenbote",
           "sherman-sudstaatlichen-davis",
           "republik-gambetta-thiers",
           "unterhause-unterhaus-bill",
           "beginn-ballen-kastanien",
           "zinsen-anleihen-tilgung",
           "verurtheilte-verurtheilt-freigesprochen",
           "theologie-theologischen-prediger",
           "sofia-bulgarische-bulgarischen",
           "fadrelandet-schleswiger-tidende",
           "vaterlande-vaterlandes-treuen",
           "garibaldi-caprera-cialdini",
           "sicht-tinte-austern",
           "mehmed-egypten-kahira",
           "ungarischen-ungarn-ausgleichs",
           "tuilerieen-boulevards-prafectur",
           "pistol-morder-pistole",
           "eupatoria-rustschuk-dobrudscha",
           "kabul-kandahar-afghanen",
           "pius-papst-vatican",
           "ruhestorer-tumultuanten-volkshaufen",
           "schonbrunn-erzherzog-erzherzoge",
           "france-tuilerien-pays",
           "capt-hartlepool-leck",
           "erkrankt-epidemie-cholera",
           "bischoflichen-excommunication-bischofs",
           "barometer-uleaborg-sudwestwind",
           "botschafter-gastein-metternich",
           "piraus-athen-griechische",
           "moniteur-cloud-officiel",
           "feindes-feind-komorn",
           "rekruten-beurlaubten-regimentern",
           "komorn-gorgey-preßburg",
           "belgischen-brussel-haag",
           "waadt-eidgenossischen-kantonen",
           "waare-preise-verkaufer"
          ],
          "pad": 5,
          "thickness": 100
         },
         "type": "sankey"
        }
       ],
       "layout": {
        "autosize": false,
        "height": 1500,
        "template": {
         "data": {
          "bar": [
           {
            "error_x": {
             "color": "#2a3f5f"
            },
            "error_y": {
             "color": "#2a3f5f"
            },
            "marker": {
             "line": {
              "color": "#E5ECF6",
              "width": 0.5
             },
             "pattern": {
              "fillmode": "overlay",
              "size": 10,
              "solidity": 0.2
             }
            },
            "type": "bar"
           }
          ],
          "barpolar": [
           {
            "marker": {
             "line": {
              "color": "#E5ECF6",
              "width": 0.5
             },
             "pattern": {
              "fillmode": "overlay",
              "size": 10,
              "solidity": 0.2
             }
            },
            "type": "barpolar"
           }
          ],
          "carpet": [
           {
            "aaxis": {
             "endlinecolor": "#2a3f5f",
             "gridcolor": "white",
             "linecolor": "white",
             "minorgridcolor": "white",
             "startlinecolor": "#2a3f5f"
            },
            "baxis": {
             "endlinecolor": "#2a3f5f",
             "gridcolor": "white",
             "linecolor": "white",
             "minorgridcolor": "white",
             "startlinecolor": "#2a3f5f"
            },
            "type": "carpet"
           }
          ],
          "choropleth": [
           {
            "colorbar": {
             "outlinewidth": 0,
             "ticks": ""
            },
            "type": "choropleth"
           }
          ],
          "contour": [
           {
            "colorbar": {
             "outlinewidth": 0,
             "ticks": ""
            },
            "colorscale": [
             [
              0,
              "#0d0887"
             ],
             [
              0.1111111111111111,
              "#46039f"
             ],
             [
              0.2222222222222222,
              "#7201a8"
             ],
             [
              0.3333333333333333,
              "#9c179e"
             ],
             [
              0.4444444444444444,
              "#bd3786"
             ],
             [
              0.5555555555555556,
              "#d8576b"
             ],
             [
              0.6666666666666666,
              "#ed7953"
             ],
             [
              0.7777777777777778,
              "#fb9f3a"
             ],
             [
              0.8888888888888888,
              "#fdca26"
             ],
             [
              1,
              "#f0f921"
             ]
            ],
            "type": "contour"
           }
          ],
          "contourcarpet": [
           {
            "colorbar": {
             "outlinewidth": 0,
             "ticks": ""
            },
            "type": "contourcarpet"
           }
          ],
          "heatmap": [
           {
            "colorbar": {
             "outlinewidth": 0,
             "ticks": ""
            },
            "colorscale": [
             [
              0,
              "#0d0887"
             ],
             [
              0.1111111111111111,
              "#46039f"
             ],
             [
              0.2222222222222222,
              "#7201a8"
             ],
             [
              0.3333333333333333,
              "#9c179e"
             ],
             [
              0.4444444444444444,
              "#bd3786"
             ],
             [
              0.5555555555555556,
              "#d8576b"
             ],
             [
              0.6666666666666666,
              "#ed7953"
             ],
             [
              0.7777777777777778,
              "#fb9f3a"
             ],
             [
              0.8888888888888888,
              "#fdca26"
             ],
             [
              1,
              "#f0f921"
             ]
            ],
            "type": "heatmap"
           }
          ],
          "heatmapgl": [
           {
            "colorbar": {
             "outlinewidth": 0,
             "ticks": ""
            },
            "colorscale": [
             [
              0,
              "#0d0887"
             ],
             [
              0.1111111111111111,
              "#46039f"
             ],
             [
              0.2222222222222222,
              "#7201a8"
             ],
             [
              0.3333333333333333,
              "#9c179e"
             ],
             [
              0.4444444444444444,
              "#bd3786"
             ],
             [
              0.5555555555555556,
              "#d8576b"
             ],
             [
              0.6666666666666666,
              "#ed7953"
             ],
             [
              0.7777777777777778,
              "#fb9f3a"
             ],
             [
              0.8888888888888888,
              "#fdca26"
             ],
             [
              1,
              "#f0f921"
             ]
            ],
            "type": "heatmapgl"
           }
          ],
          "histogram": [
           {
            "marker": {
             "pattern": {
              "fillmode": "overlay",
              "size": 10,
              "solidity": 0.2
             }
            },
            "type": "histogram"
           }
          ],
          "histogram2d": [
           {
            "colorbar": {
             "outlinewidth": 0,
             "ticks": ""
            },
            "colorscale": [
             [
              0,
              "#0d0887"
             ],
             [
              0.1111111111111111,
              "#46039f"
             ],
             [
              0.2222222222222222,
              "#7201a8"
             ],
             [
              0.3333333333333333,
              "#9c179e"
             ],
             [
              0.4444444444444444,
              "#bd3786"
             ],
             [
              0.5555555555555556,
              "#d8576b"
             ],
             [
              0.6666666666666666,
              "#ed7953"
             ],
             [
              0.7777777777777778,
              "#fb9f3a"
             ],
             [
              0.8888888888888888,
              "#fdca26"
             ],
             [
              1,
              "#f0f921"
             ]
            ],
            "type": "histogram2d"
           }
          ],
          "histogram2dcontour": [
           {
            "colorbar": {
             "outlinewidth": 0,
             "ticks": ""
            },
            "colorscale": [
             [
              0,
              "#0d0887"
             ],
             [
              0.1111111111111111,
              "#46039f"
             ],
             [
              0.2222222222222222,
              "#7201a8"
             ],
             [
              0.3333333333333333,
              "#9c179e"
             ],
             [
              0.4444444444444444,
              "#bd3786"
             ],
             [
              0.5555555555555556,
              "#d8576b"
             ],
             [
              0.6666666666666666,
              "#ed7953"
             ],
             [
              0.7777777777777778,
              "#fb9f3a"
             ],
             [
              0.8888888888888888,
              "#fdca26"
             ],
             [
              1,
              "#f0f921"
             ]
            ],
            "type": "histogram2dcontour"
           }
          ],
          "mesh3d": [
           {
            "colorbar": {
             "outlinewidth": 0,
             "ticks": ""
            },
            "type": "mesh3d"
           }
          ],
          "parcoords": [
           {
            "line": {
             "colorbar": {
              "outlinewidth": 0,
              "ticks": ""
             }
            },
            "type": "parcoords"
           }
          ],
          "pie": [
           {
            "automargin": true,
            "type": "pie"
           }
          ],
          "scatter": [
           {
            "fillpattern": {
             "fillmode": "overlay",
             "size": 10,
             "solidity": 0.2
            },
            "type": "scatter"
           }
          ],
          "scatter3d": [
           {
            "line": {
             "colorbar": {
              "outlinewidth": 0,
              "ticks": ""
             }
            },
            "marker": {
             "colorbar": {
              "outlinewidth": 0,
              "ticks": ""
             }
            },
            "type": "scatter3d"
           }
          ],
          "scattercarpet": [
           {
            "marker": {
             "colorbar": {
              "outlinewidth": 0,
              "ticks": ""
             }
            },
            "type": "scattercarpet"
           }
          ],
          "scattergeo": [
           {
            "marker": {
             "colorbar": {
              "outlinewidth": 0,
              "ticks": ""
             }
            },
            "type": "scattergeo"
           }
          ],
          "scattergl": [
           {
            "marker": {
             "colorbar": {
              "outlinewidth": 0,
              "ticks": ""
             }
            },
            "type": "scattergl"
           }
          ],
          "scattermapbox": [
           {
            "marker": {
             "colorbar": {
              "outlinewidth": 0,
              "ticks": ""
             }
            },
            "type": "scattermapbox"
           }
          ],
          "scatterpolar": [
           {
            "marker": {
             "colorbar": {
              "outlinewidth": 0,
              "ticks": ""
             }
            },
            "type": "scatterpolar"
           }
          ],
          "scatterpolargl": [
           {
            "marker": {
             "colorbar": {
              "outlinewidth": 0,
              "ticks": ""
             }
            },
            "type": "scatterpolargl"
           }
          ],
          "scatterternary": [
           {
            "marker": {
             "colorbar": {
              "outlinewidth": 0,
              "ticks": ""
             }
            },
            "type": "scatterternary"
           }
          ],
          "surface": [
           {
            "colorbar": {
             "outlinewidth": 0,
             "ticks": ""
            },
            "colorscale": [
             [
              0,
              "#0d0887"
             ],
             [
              0.1111111111111111,
              "#46039f"
             ],
             [
              0.2222222222222222,
              "#7201a8"
             ],
             [
              0.3333333333333333,
              "#9c179e"
             ],
             [
              0.4444444444444444,
              "#bd3786"
             ],
             [
              0.5555555555555556,
              "#d8576b"
             ],
             [
              0.6666666666666666,
              "#ed7953"
             ],
             [
              0.7777777777777778,
              "#fb9f3a"
             ],
             [
              0.8888888888888888,
              "#fdca26"
             ],
             [
              1,
              "#f0f921"
             ]
            ],
            "type": "surface"
           }
          ],
          "table": [
           {
            "cells": {
             "fill": {
              "color": "#EBF0F8"
             },
             "line": {
              "color": "white"
             }
            },
            "header": {
             "fill": {
              "color": "#C8D4E3"
             },
             "line": {
              "color": "white"
             }
            },
            "type": "table"
           }
          ]
         },
         "layout": {
          "annotationdefaults": {
           "arrowcolor": "#2a3f5f",
           "arrowhead": 0,
           "arrowwidth": 1
          },
          "autotypenumbers": "strict",
          "coloraxis": {
           "colorbar": {
            "outlinewidth": 0,
            "ticks": ""
           }
          },
          "colorscale": {
           "diverging": [
            [
             0,
             "#8e0152"
            ],
            [
             0.1,
             "#c51b7d"
            ],
            [
             0.2,
             "#de77ae"
            ],
            [
             0.3,
             "#f1b6da"
            ],
            [
             0.4,
             "#fde0ef"
            ],
            [
             0.5,
             "#f7f7f7"
            ],
            [
             0.6,
             "#e6f5d0"
            ],
            [
             0.7,
             "#b8e186"
            ],
            [
             0.8,
             "#7fbc41"
            ],
            [
             0.9,
             "#4d9221"
            ],
            [
             1,
             "#276419"
            ]
           ],
           "sequential": [
            [
             0,
             "#0d0887"
            ],
            [
             0.1111111111111111,
             "#46039f"
            ],
            [
             0.2222222222222222,
             "#7201a8"
            ],
            [
             0.3333333333333333,
             "#9c179e"
            ],
            [
             0.4444444444444444,
             "#bd3786"
            ],
            [
             0.5555555555555556,
             "#d8576b"
            ],
            [
             0.6666666666666666,
             "#ed7953"
            ],
            [
             0.7777777777777778,
             "#fb9f3a"
            ],
            [
             0.8888888888888888,
             "#fdca26"
            ],
            [
             1,
             "#f0f921"
            ]
           ],
           "sequentialminus": [
            [
             0,
             "#0d0887"
            ],
            [
             0.1111111111111111,
             "#46039f"
            ],
            [
             0.2222222222222222,
             "#7201a8"
            ],
            [
             0.3333333333333333,
             "#9c179e"
            ],
            [
             0.4444444444444444,
             "#bd3786"
            ],
            [
             0.5555555555555556,
             "#d8576b"
            ],
            [
             0.6666666666666666,
             "#ed7953"
            ],
            [
             0.7777777777777778,
             "#fb9f3a"
            ],
            [
             0.8888888888888888,
             "#fdca26"
            ],
            [
             1,
             "#f0f921"
            ]
           ]
          },
          "colorway": [
           "#636efa",
           "#EF553B",
           "#00cc96",
           "#ab63fa",
           "#FFA15A",
           "#19d3f3",
           "#FF6692",
           "#B6E880",
           "#FF97FF",
           "#FECB52"
          ],
          "font": {
           "color": "#2a3f5f"
          },
          "geo": {
           "bgcolor": "white",
           "lakecolor": "white",
           "landcolor": "#E5ECF6",
           "showlakes": true,
           "showland": true,
           "subunitcolor": "white"
          },
          "hoverlabel": {
           "align": "left"
          },
          "hovermode": "closest",
          "mapbox": {
           "style": "light"
          },
          "paper_bgcolor": "white",
          "plot_bgcolor": "#E5ECF6",
          "polar": {
           "angularaxis": {
            "gridcolor": "white",
            "linecolor": "white",
            "ticks": ""
           },
           "bgcolor": "#E5ECF6",
           "radialaxis": {
            "gridcolor": "white",
            "linecolor": "white",
            "ticks": ""
           }
          },
          "scene": {
           "xaxis": {
            "backgroundcolor": "#E5ECF6",
            "gridcolor": "white",
            "gridwidth": 2,
            "linecolor": "white",
            "showbackground": true,
            "ticks": "",
            "zerolinecolor": "white"
           },
           "yaxis": {
            "backgroundcolor": "#E5ECF6",
            "gridcolor": "white",
            "gridwidth": 2,
            "linecolor": "white",
            "showbackground": true,
            "ticks": "",
            "zerolinecolor": "white"
           },
           "zaxis": {
            "backgroundcolor": "#E5ECF6",
            "gridcolor": "white",
            "gridwidth": 2,
            "linecolor": "white",
            "showbackground": true,
            "ticks": "",
            "zerolinecolor": "white"
           }
          },
          "shapedefaults": {
           "line": {
            "color": "#2a3f5f"
           }
          },
          "ternary": {
           "aaxis": {
            "gridcolor": "white",
            "linecolor": "white",
            "ticks": ""
           },
           "baxis": {
            "gridcolor": "white",
            "linecolor": "white",
            "ticks": ""
           },
           "bgcolor": "#E5ECF6",
           "caxis": {
            "gridcolor": "white",
            "linecolor": "white",
            "ticks": ""
           }
          },
          "title": {
           "x": 0.05
          },
          "xaxis": {
           "automargin": true,
           "gridcolor": "white",
           "linecolor": "white",
           "ticks": "",
           "title": {
            "standoff": 15
           },
           "zerolinecolor": "white",
           "zerolinewidth": 2
          },
          "yaxis": {
           "automargin": true,
           "gridcolor": "white",
           "linecolor": "white",
           "ticks": "",
           "title": {
            "standoff": 15
           },
           "zerolinecolor": "white",
           "zerolinewidth": 2
          }
         }
        },
        "width": 1000
       }
      },
      "text/html": [
       "<div>                            <div id=\"5e8134d3-b2ae-47a0-84ab-99aa6ca594fd\" class=\"plotly-graph-div\" style=\"height:1500px; width:1000px;\"></div>            <script type=\"text/javascript\">                require([\"plotly\"], function(Plotly) {                    window.PLOTLYENV=window.PLOTLYENV || {};                                    if (document.getElementById(\"5e8134d3-b2ae-47a0-84ab-99aa6ca594fd\")) {                    Plotly.newPlot(                        \"5e8134d3-b2ae-47a0-84ab-99aa6ca594fd\",                        [{\"link\":{\"source\":[0,0,0,0,0,1,1,1,1,2,2,2,3,3,3,3,4,4,5,5,6,6,7,7,7,8,8,9,9,9,10,10,10,11,11,11,11,12,12,12,12,13,13,13,14,15,16,17,17,17,18,18,19,19,20,21,21,21,21,22,22,23,23,24,24,25,26,27,28,29,30,31,32,33,34,35,36,37,38,39],\"target\":[36,13,20,23,25,24,26,10,29,16,19,15,17,35,21,38,18,12,33,14,32,11,34,27,30,28,22,31,37,39,64,50,68,70,74,78,47,80,41,83,87,56,76,69,42,40,49,82,67,71,81,75,89,44,43,88,84,85,86,66,58,65,73,61,79,46,53,45,48,51,52,54,60,62,59,55,57,63,72,77],\"value\":[4368,9533,5464,7531,5516,6854,6300,13025,5357,11721,8099,9916,13172,5944,13130,5110,5484,17794,4080,5121,4389,18158,5781,5440,6354,7435,8714,3067,5628,6077,4336,4173,4516,1893,3028,3271,9966,3407,7367,3732,3288,5709,2059,1765,5121,9916,11721,4777,4519,3876,3022,2462,3298,4801,5464,2291,4693,3078,3068,3935,4779,4511,3020,3606,3248,5516,6300,5440,7435,5357,6354,3067,4389,4080,5781,5944,4368,5628,5110,6077]},\"node\":{\"label\":[\"republik-soir-thiers\",\"centrumspartei-culturkampf-maigesetze\",\"inland-estland-ortlichen\",\"sherman-bragg-meade\",\"kronprinzessin-besuche-herrschaften\",\"pforte-machte-psorte\",\"polizei-thater-verhasteten\",\"budgets-cortes-budget\",\"austern-korbe-gummi\",\"leck-gestrandet-lootsen\",\"glucklichen-vaterlande-monarchen\",\"fenster-verwundungen-herbeigeeilten\",\"kronprinzessin-herrschaften-gro\\u00dfherzogin\",\"elysee-thiers-prafecten\",\"pforte-machte-psorte\",\"tagesbesehls-dirigirende-dirigirender\",\"kunst-clavier-neustra\\u00dfe\",\"mehmed-paschas-pascha\",\"ischl-schonbrunn-hofburg\",\"ortlichen-russk-jahrmarkte\",\"groszbritannien-herald-globe\",\"komorn-gorgey-thei\\u00df\",\"beginn-sicht-ballen\",\"della-quirinal-terracina\",\"geistlichen-geistlicher-geistliche\",\"madrider-serrano-concha\",\"kreisordnung-reichsregierung-centrumspartei\",\"lesung-gesetzentwurf-gesetzentwurfs\",\"austern-gummi-pack\",\"zollvereins-bundestags-bundesstaaten\",\"freycinet-fourtou-waddington\",\"nargen-kanonenboten-segel\",\"verurtheilte-verurtheilt-angeklagten\",\"sofia-bulgarische-bulgarischen\",\"zinsen-anleihen-deckung\",\"sherman-sudstaatlichen-davis\",\"unterhause-unterhaus-bill\",\"fadrelandet-schleswiger-tidende\",\"kabul-kandahar-afghanen\",\"leck-gestrandet-capt\",\"tagesbesehls-dirigirender-dirigirende\",\"herrschaften-kronprinzessin-gro\\u00dfherzogin\",\"pforte-machte-psorte\",\"groszbritannien-herald-globe\",\"ortlichen-nowosti-russk\",\"lesung-gesetzentwurf-gesetzentwurfs\",\"madrider-serrano-concha\",\"menschenleben-einsturz-dach\",\"austern-gummi-meitzer\",\"sandpforte-neustra\\u00dfe-mullerschen\",\"fortschrittler-culturkampf-centrumspartei\",\"zollvereins-bundesstaaten-bundestags\",\"freycinet-waddington-fourtou\",\"kreisordnung-preu\\u00dfischen-reichsregierung\",\"kanonenboten-nargen-kanonenbote\",\"sherman-sudstaatlichen-davis\",\"republik-gambetta-thiers\",\"unterhause-unterhaus-bill\",\"beginn-ballen-kastanien\",\"zinsen-anleihen-tilgung\",\"verurtheilte-verurtheilt-freigesprochen\",\"theologie-theologischen-prediger\",\"sofia-bulgarische-bulgarischen\",\"fadrelandet-schleswiger-tidende\",\"vaterlande-vaterlandes-treuen\",\"garibaldi-caprera-cialdini\",\"sicht-tinte-austern\",\"mehmed-egypten-kahira\",\"ungarischen-ungarn-ausgleichs\",\"tuilerieen-boulevards-prafectur\",\"pistol-morder-pistole\",\"eupatoria-rustschuk-dobrudscha\",\"kabul-kandahar-afghanen\",\"pius-papst-vatican\",\"ruhestorer-tumultuanten-volkshaufen\",\"schonbrunn-erzherzog-erzherzoge\",\"france-tuilerien-pays\",\"capt-hartlepool-leck\",\"erkrankt-epidemie-cholera\",\"bischoflichen-excommunication-bischofs\",\"barometer-uleaborg-sudwestwind\",\"botschafter-gastein-metternich\",\"piraus-athen-griechische\",\"moniteur-cloud-officiel\",\"feindes-feind-komorn\",\"rekruten-beurlaubten-regimentern\",\"komorn-gorgey-pre\\u00dfburg\",\"belgischen-brussel-haag\",\"waadt-eidgenossischen-kantonen\",\"waare-preise-verkaufer\"],\"pad\":5,\"thickness\":100},\"type\":\"sankey\"}],                        {\"template\":{\"data\":{\"histogram2dcontour\":[{\"type\":\"histogram2dcontour\",\"colorbar\":{\"outlinewidth\":0,\"ticks\":\"\"},\"colorscale\":[[0.0,\"#0d0887\"],[0.1111111111111111,\"#46039f\"],[0.2222222222222222,\"#7201a8\"],[0.3333333333333333,\"#9c179e\"],[0.4444444444444444,\"#bd3786\"],[0.5555555555555556,\"#d8576b\"],[0.6666666666666666,\"#ed7953\"],[0.7777777777777778,\"#fb9f3a\"],[0.8888888888888888,\"#fdca26\"],[1.0,\"#f0f921\"]]}],\"choropleth\":[{\"type\":\"choropleth\",\"colorbar\":{\"outlinewidth\":0,\"ticks\":\"\"}}],\"histogram2d\":[{\"type\":\"histogram2d\",\"colorbar\":{\"outlinewidth\":0,\"ticks\":\"\"},\"colorscale\":[[0.0,\"#0d0887\"],[0.1111111111111111,\"#46039f\"],[0.2222222222222222,\"#7201a8\"],[0.3333333333333333,\"#9c179e\"],[0.4444444444444444,\"#bd3786\"],[0.5555555555555556,\"#d8576b\"],[0.6666666666666666,\"#ed7953\"],[0.7777777777777778,\"#fb9f3a\"],[0.8888888888888888,\"#fdca26\"],[1.0,\"#f0f921\"]]}],\"heatmap\":[{\"type\":\"heatmap\",\"colorbar\":{\"outlinewidth\":0,\"ticks\":\"\"},\"colorscale\":[[0.0,\"#0d0887\"],[0.1111111111111111,\"#46039f\"],[0.2222222222222222,\"#7201a8\"],[0.3333333333333333,\"#9c179e\"],[0.4444444444444444,\"#bd3786\"],[0.5555555555555556,\"#d8576b\"],[0.6666666666666666,\"#ed7953\"],[0.7777777777777778,\"#fb9f3a\"],[0.8888888888888888,\"#fdca26\"],[1.0,\"#f0f921\"]]}],\"heatmapgl\":[{\"type\":\"heatmapgl\",\"colorbar\":{\"outlinewidth\":0,\"ticks\":\"\"},\"colorscale\":[[0.0,\"#0d0887\"],[0.1111111111111111,\"#46039f\"],[0.2222222222222222,\"#7201a8\"],[0.3333333333333333,\"#9c179e\"],[0.4444444444444444,\"#bd3786\"],[0.5555555555555556,\"#d8576b\"],[0.6666666666666666,\"#ed7953\"],[0.7777777777777778,\"#fb9f3a\"],[0.8888888888888888,\"#fdca26\"],[1.0,\"#f0f921\"]]}],\"contourcarpet\":[{\"type\":\"contourcarpet\",\"colorbar\":{\"outlinewidth\":0,\"ticks\":\"\"}}],\"contour\":[{\"type\":\"contour\",\"colorbar\":{\"outlinewidth\":0,\"ticks\":\"\"},\"colorscale\":[[0.0,\"#0d0887\"],[0.1111111111111111,\"#46039f\"],[0.2222222222222222,\"#7201a8\"],[0.3333333333333333,\"#9c179e\"],[0.4444444444444444,\"#bd3786\"],[0.5555555555555556,\"#d8576b\"],[0.6666666666666666,\"#ed7953\"],[0.7777777777777778,\"#fb9f3a\"],[0.8888888888888888,\"#fdca26\"],[1.0,\"#f0f921\"]]}],\"surface\":[{\"type\":\"surface\",\"colorbar\":{\"outlinewidth\":0,\"ticks\":\"\"},\"colorscale\":[[0.0,\"#0d0887\"],[0.1111111111111111,\"#46039f\"],[0.2222222222222222,\"#7201a8\"],[0.3333333333333333,\"#9c179e\"],[0.4444444444444444,\"#bd3786\"],[0.5555555555555556,\"#d8576b\"],[0.6666666666666666,\"#ed7953\"],[0.7777777777777778,\"#fb9f3a\"],[0.8888888888888888,\"#fdca26\"],[1.0,\"#f0f921\"]]}],\"mesh3d\":[{\"type\":\"mesh3d\",\"colorbar\":{\"outlinewidth\":0,\"ticks\":\"\"}}],\"scatter\":[{\"fillpattern\":{\"fillmode\":\"overlay\",\"size\":10,\"solidity\":0.2},\"type\":\"scatter\"}],\"parcoords\":[{\"type\":\"parcoords\",\"line\":{\"colorbar\":{\"outlinewidth\":0,\"ticks\":\"\"}}}],\"scatterpolargl\":[{\"type\":\"scatterpolargl\",\"marker\":{\"colorbar\":{\"outlinewidth\":0,\"ticks\":\"\"}}}],\"bar\":[{\"error_x\":{\"color\":\"#2a3f5f\"},\"error_y\":{\"color\":\"#2a3f5f\"},\"marker\":{\"line\":{\"color\":\"#E5ECF6\",\"width\":0.5},\"pattern\":{\"fillmode\":\"overlay\",\"size\":10,\"solidity\":0.2}},\"type\":\"bar\"}],\"scattergeo\":[{\"type\":\"scattergeo\",\"marker\":{\"colorbar\":{\"outlinewidth\":0,\"ticks\":\"\"}}}],\"scatterpolar\":[{\"type\":\"scatterpolar\",\"marker\":{\"colorbar\":{\"outlinewidth\":0,\"ticks\":\"\"}}}],\"histogram\":[{\"marker\":{\"pattern\":{\"fillmode\":\"overlay\",\"size\":10,\"solidity\":0.2}},\"type\":\"histogram\"}],\"scattergl\":[{\"type\":\"scattergl\",\"marker\":{\"colorbar\":{\"outlinewidth\":0,\"ticks\":\"\"}}}],\"scatter3d\":[{\"type\":\"scatter3d\",\"line\":{\"colorbar\":{\"outlinewidth\":0,\"ticks\":\"\"}},\"marker\":{\"colorbar\":{\"outlinewidth\":0,\"ticks\":\"\"}}}],\"scattermapbox\":[{\"type\":\"scattermapbox\",\"marker\":{\"colorbar\":{\"outlinewidth\":0,\"ticks\":\"\"}}}],\"scatterternary\":[{\"type\":\"scatterternary\",\"marker\":{\"colorbar\":{\"outlinewidth\":0,\"ticks\":\"\"}}}],\"scattercarpet\":[{\"type\":\"scattercarpet\",\"marker\":{\"colorbar\":{\"outlinewidth\":0,\"ticks\":\"\"}}}],\"carpet\":[{\"aaxis\":{\"endlinecolor\":\"#2a3f5f\",\"gridcolor\":\"white\",\"linecolor\":\"white\",\"minorgridcolor\":\"white\",\"startlinecolor\":\"#2a3f5f\"},\"baxis\":{\"endlinecolor\":\"#2a3f5f\",\"gridcolor\":\"white\",\"linecolor\":\"white\",\"minorgridcolor\":\"white\",\"startlinecolor\":\"#2a3f5f\"},\"type\":\"carpet\"}],\"table\":[{\"cells\":{\"fill\":{\"color\":\"#EBF0F8\"},\"line\":{\"color\":\"white\"}},\"header\":{\"fill\":{\"color\":\"#C8D4E3\"},\"line\":{\"color\":\"white\"}},\"type\":\"table\"}],\"barpolar\":[{\"marker\":{\"line\":{\"color\":\"#E5ECF6\",\"width\":0.5},\"pattern\":{\"fillmode\":\"overlay\",\"size\":10,\"solidity\":0.2}},\"type\":\"barpolar\"}],\"pie\":[{\"automargin\":true,\"type\":\"pie\"}]},\"layout\":{\"autotypenumbers\":\"strict\",\"colorway\":[\"#636efa\",\"#EF553B\",\"#00cc96\",\"#ab63fa\",\"#FFA15A\",\"#19d3f3\",\"#FF6692\",\"#B6E880\",\"#FF97FF\",\"#FECB52\"],\"font\":{\"color\":\"#2a3f5f\"},\"hovermode\":\"closest\",\"hoverlabel\":{\"align\":\"left\"},\"paper_bgcolor\":\"white\",\"plot_bgcolor\":\"#E5ECF6\",\"polar\":{\"bgcolor\":\"#E5ECF6\",\"angularaxis\":{\"gridcolor\":\"white\",\"linecolor\":\"white\",\"ticks\":\"\"},\"radialaxis\":{\"gridcolor\":\"white\",\"linecolor\":\"white\",\"ticks\":\"\"}},\"ternary\":{\"bgcolor\":\"#E5ECF6\",\"aaxis\":{\"gridcolor\":\"white\",\"linecolor\":\"white\",\"ticks\":\"\"},\"baxis\":{\"gridcolor\":\"white\",\"linecolor\":\"white\",\"ticks\":\"\"},\"caxis\":{\"gridcolor\":\"white\",\"linecolor\":\"white\",\"ticks\":\"\"}},\"coloraxis\":{\"colorbar\":{\"outlinewidth\":0,\"ticks\":\"\"}},\"colorscale\":{\"sequential\":[[0.0,\"#0d0887\"],[0.1111111111111111,\"#46039f\"],[0.2222222222222222,\"#7201a8\"],[0.3333333333333333,\"#9c179e\"],[0.4444444444444444,\"#bd3786\"],[0.5555555555555556,\"#d8576b\"],[0.6666666666666666,\"#ed7953\"],[0.7777777777777778,\"#fb9f3a\"],[0.8888888888888888,\"#fdca26\"],[1.0,\"#f0f921\"]],\"sequentialminus\":[[0.0,\"#0d0887\"],[0.1111111111111111,\"#46039f\"],[0.2222222222222222,\"#7201a8\"],[0.3333333333333333,\"#9c179e\"],[0.4444444444444444,\"#bd3786\"],[0.5555555555555556,\"#d8576b\"],[0.6666666666666666,\"#ed7953\"],[0.7777777777777778,\"#fb9f3a\"],[0.8888888888888888,\"#fdca26\"],[1.0,\"#f0f921\"]],\"diverging\":[[0,\"#8e0152\"],[0.1,\"#c51b7d\"],[0.2,\"#de77ae\"],[0.3,\"#f1b6da\"],[0.4,\"#fde0ef\"],[0.5,\"#f7f7f7\"],[0.6,\"#e6f5d0\"],[0.7,\"#b8e186\"],[0.8,\"#7fbc41\"],[0.9,\"#4d9221\"],[1,\"#276419\"]]},\"xaxis\":{\"gridcolor\":\"white\",\"linecolor\":\"white\",\"ticks\":\"\",\"title\":{\"standoff\":15},\"zerolinecolor\":\"white\",\"automargin\":true,\"zerolinewidth\":2},\"yaxis\":{\"gridcolor\":\"white\",\"linecolor\":\"white\",\"ticks\":\"\",\"title\":{\"standoff\":15},\"zerolinecolor\":\"white\",\"automargin\":true,\"zerolinewidth\":2},\"scene\":{\"xaxis\":{\"backgroundcolor\":\"#E5ECF6\",\"gridcolor\":\"white\",\"linecolor\":\"white\",\"showbackground\":true,\"ticks\":\"\",\"zerolinecolor\":\"white\",\"gridwidth\":2},\"yaxis\":{\"backgroundcolor\":\"#E5ECF6\",\"gridcolor\":\"white\",\"linecolor\":\"white\",\"showbackground\":true,\"ticks\":\"\",\"zerolinecolor\":\"white\",\"gridwidth\":2},\"zaxis\":{\"backgroundcolor\":\"#E5ECF6\",\"gridcolor\":\"white\",\"linecolor\":\"white\",\"showbackground\":true,\"ticks\":\"\",\"zerolinecolor\":\"white\",\"gridwidth\":2}},\"shapedefaults\":{\"line\":{\"color\":\"#2a3f5f\"}},\"annotationdefaults\":{\"arrowcolor\":\"#2a3f5f\",\"arrowhead\":0,\"arrowwidth\":1},\"geo\":{\"bgcolor\":\"white\",\"landcolor\":\"#E5ECF6\",\"subunitcolor\":\"white\",\"showland\":true,\"showlakes\":true,\"lakecolor\":\"white\"},\"title\":{\"x\":0.05},\"mapbox\":{\"style\":\"light\"}}},\"autosize\":false,\"width\":1000,\"height\":1500},                        {\"responsive\": true}                    ).then(function(){\n",
       "                            \n",
       "var gd = document.getElementById('5e8134d3-b2ae-47a0-84ab-99aa6ca594fd');\n",
       "var x = new MutationObserver(function (mutations, observer) {{\n",
       "        var display = window.getComputedStyle(gd).display;\n",
       "        if (!display || display === 'none') {{\n",
       "            console.log([gd, 'removed!']);\n",
       "            Plotly.purge(gd);\n",
       "            observer.disconnect();\n",
       "        }}\n",
       "}});\n",
       "\n",
       "// Listen for the removal of the full notebook cells\n",
       "var notebookContainer = gd.closest('#notebook-container');\n",
       "if (notebookContainer) {{\n",
       "    x.observe(notebookContainer, {childList: true});\n",
       "}}\n",
       "\n",
       "// Listen for the clearing of the current output cell\n",
       "var outputEl = gd.closest('.output');\n",
       "if (outputEl) {{\n",
       "    x.observe(outputEl, {childList: true});\n",
       "}}\n",
       "\n",
       "                        })                };                });            </script>        </div>"
      ]
     },
     "metadata": {},
     "output_type": "display_data"
    }
   ],
   "source": [
    "fig.update_layout(\n",
    "    autosize=False,\n",
    "    width=1000,\n",
    "    height=1500)\n",
    "fig.show()"
   ]
  },
  {
   "cell_type": "code",
   "execution_count": 23,
   "id": "7fc53a02",
   "metadata": {},
   "outputs": [],
   "source": [
    "with open('../temp/topics_sankey_diagram.html', 'w', encoding='utf8') as f:\n",
    "    f.write(fig.to_html())"
   ]
  },
  {
   "cell_type": "code",
   "execution_count": 324,
   "id": "c81cbd3a",
   "metadata": {},
   "outputs": [
    {
     "data": {
      "text/plain": [
       "{0: (18, 5, 6, 14),\n",
       " 1: (10, 20, 13),\n",
       " 2: (8, 11, 12, 17, 19),\n",
       " 3: (24, 21, 15),\n",
       " 4: (7, 9, 16, 22, 23),\n",
       " 5: (26, 52, 39),\n",
       " 6: (25, 74, 58, 69),\n",
       " 7: (49, 30, 47),\n",
       " 8: (42, 27),\n",
       " 9: (33, 45, 62),\n",
       " 10: (65, 66, 70, 56, 61),\n",
       " 11: (28, 63),\n",
       " 12: (32, 34),\n",
       " 13: (48, 43, 44, 53),\n",
       " 14: (38, 54, 71),\n",
       " 15: (67, 31),\n",
       " 16: (57, 36),\n",
       " 17: (59, 55),\n",
       " 18: (73, 50),\n",
       " 19: (72, 51),\n",
       " 20: (41, 46),\n",
       " 21: (35, 60, 68),\n",
       " 22: (64, 40),\n",
       " 23: (29,),\n",
       " 24: (37,),\n",
       " 25: [83, 151, 169, 0],\n",
       " 26: [38, 183, 214, 39, 180, 115, 160, 118, 84, 166, 9],\n",
       " 27: [104, 94, 96, 3],\n",
       " 28: [148, 2],\n",
       " 29: [322,\n",
       "  199,\n",
       "  238,\n",
       "  273,\n",
       "  339,\n",
       "  201,\n",
       "  192,\n",
       "  304,\n",
       "  233,\n",
       "  257,\n",
       "  290,\n",
       "  342,\n",
       "  218,\n",
       "  268,\n",
       "  288,\n",
       "  215,\n",
       "  305,\n",
       "  264,\n",
       "  191,\n",
       "  333,\n",
       "  310,\n",
       "  345,\n",
       "  326,\n",
       "  278,\n",
       "  281,\n",
       "  311,\n",
       "  302,\n",
       "  213,\n",
       "  244,\n",
       "  250,\n",
       "  253,\n",
       "  188,\n",
       "  346,\n",
       "  255,\n",
       "  249,\n",
       "  189,\n",
       "  348,\n",
       "  289,\n",
       "  297,\n",
       "  237,\n",
       "  275,\n",
       "  241,\n",
       "  243,\n",
       "  216],\n",
       " 30: [167, 80, 185, 221, 54, 162, 254, 75, 4],\n",
       " 31: [63, 1],\n",
       " 32: [130, 229, 212, 57, 234, 6],\n",
       " 33: [270,\n",
       "  261,\n",
       "  247,\n",
       "  338,\n",
       "  219,\n",
       "  317,\n",
       "  323,\n",
       "  284,\n",
       "  282,\n",
       "  336,\n",
       "  296,\n",
       "  318,\n",
       "  329,\n",
       "  341,\n",
       "  314,\n",
       "  340,\n",
       "  331,\n",
       "  232,\n",
       "  327,\n",
       "  308,\n",
       "  277,\n",
       "  226,\n",
       "  81,\n",
       "  330,\n",
       "  325,\n",
       "  211,\n",
       "  178,\n",
       "  299,\n",
       "  347,\n",
       "  195,\n",
       "  265,\n",
       "  343,\n",
       "  223,\n",
       "  271,\n",
       "  203,\n",
       "  287,\n",
       "  295,\n",
       "  324,\n",
       "  138],\n",
       " 34: [272, 198, 283, 303, 141, 174, 156, 321, 5],\n",
       " 35: [97, 163, 7],\n",
       " 36: [165, 240, 8],\n",
       " 37: [120, 171, 259, 209, 145, 175, 70, 127, 105, 177, 10],\n",
       " 38: [128, 197, 66, 124, 73, 18],\n",
       " 39: [29, 41, 154, 15],\n",
       " 40: [227, 76, 236, 88, 65, 263, 246, 12],\n",
       " 41: [31, 61, 152, 90, 159, 56],\n",
       " 42: [51, 89, 117, 196, 33],\n",
       " 43: [32, 149, 91, 153, 220, 126, 99, 157, 109],\n",
       " 44: [28, 146, 16],\n",
       " 45: [306,\n",
       "  349,\n",
       "  285,\n",
       "  312,\n",
       "  186,\n",
       "  334,\n",
       "  182,\n",
       "  307,\n",
       "  319,\n",
       "  337,\n",
       "  202,\n",
       "  193,\n",
       "  292,\n",
       "  230,\n",
       "  335,\n",
       "  298,\n",
       "  313,\n",
       "  208,\n",
       "  320,\n",
       "  251,\n",
       "  210,\n",
       "  293,\n",
       "  260,\n",
       "  280,\n",
       "  187,\n",
       "  274,\n",
       "  344,\n",
       "  350,\n",
       "  231,\n",
       "  262,\n",
       "  328,\n",
       "  316,\n",
       "  332,\n",
       "  119],\n",
       " 46: [40, 17],\n",
       " 47: [139, 53, 111, 286, 242, 71],\n",
       " 48: [108, 173, 22],\n",
       " 49: [43, 110, 116, 239, 37],\n",
       " 50: [150, 101, 92, 200, 68, 300, 269, 147, 222, 235, 52],\n",
       " 51: [279, 294, 135, 143, 82, 132, 23],\n",
       " 52: [24],\n",
       " 53: [87, 19],\n",
       " 54: [123, 170, 225, 55, 95, 267, 20],\n",
       " 55: [106, 206, 205, 77, 59, 122, 74],\n",
       " 56: [100, 85, 93, 164, 133, 136, 78],\n",
       " 57: [45, 217, 98, 131, 228, 42],\n",
       " 58: [72, 113, 137, 46],\n",
       " 59: [309, 102, 301, 258, 103, 21],\n",
       " 60: [13],\n",
       " 61: [50, 184, 158, 44],\n",
       " 62: [248, 47, 245, 27],\n",
       " 63: [11],\n",
       " 64: [30, 256, 266, 34],\n",
       " 65: [176, 194, 112, 134, 142, 172, 107],\n",
       " 66: [86, 125, 36],\n",
       " 67: [181, 114, 129, 60, 144, 49],\n",
       " 68: [79, 35],\n",
       " 69: [207, 69, 48],\n",
       " 70: [14],\n",
       " 71: [179, 190, 140, 64, 26],\n",
       " 72: [224, 67, 276, 121, 58],\n",
       " 73: [25],\n",
       " 74: [291, 161, 155, 168, 315, 204, 252, 62]}"
      ]
     },
     "execution_count": 324,
     "metadata": {},
     "output_type": "execute_result"
    }
   ],
   "source": [
    "nodes"
   ]
  },
  {
   "cell_type": "code",
   "execution_count": null,
   "id": "14a9da67",
   "metadata": {},
   "outputs": [],
   "source": []
  },
  {
   "cell_type": "code",
   "execution_count": null,
   "id": "bb37be4a",
   "metadata": {},
   "outputs": [],
   "source": []
  },
  {
   "cell_type": "code",
   "execution_count": null,
   "id": "0d4fa9dd",
   "metadata": {},
   "outputs": [],
   "source": []
  },
  {
   "cell_type": "code",
   "execution_count": 333,
   "id": "1a56faa3",
   "metadata": {},
   "outputs": [
    {
     "ename": "IndentationError",
     "evalue": "expected an indented block (2300367558.py, line 14)",
     "output_type": "error",
     "traceback": [
      "\u001b[1;36m  Cell \u001b[1;32mIn [333], line 14\u001b[1;36m\u001b[0m\n\u001b[1;33m    if i in sizes.keys():\u001b[0m\n\u001b[1;37m    ^\u001b[0m\n\u001b[1;31mIndentationError\u001b[0m\u001b[1;31m:\u001b[0m expected an indented block\n"
     ]
    }
   ],
   "source": [
    "def create_link(t2v, input_levels):\n",
    "    \n",
    "    levels = copy.deepcopy(input_levels)\n",
    "    topic_dict = {}\n",
    "    sizes = {}\n",
    "    n_nodes = sum([len(level) for level in levels])\n",
    "    \n",
    "    for i, group in enumerate(levels[-1], start=n_nodes-len(levels[-1])):\n",
    "        print(i, group)\n",
    "        for top in group:\n",
    "            if len(top) > 1:\n",
    "                topic_dict[top] = i\n",
    "            else:\n",
    "            if i in sizes.keys():\n",
    "                sizes[i] += t2v.topic_sizes[top]\n",
    "            else:\n",
    "                sizes[i] = t2v.topic_sizes[top]\n",
    "        levels[-1][i] = i\n",
    "            \n",
    "    #levels[-1] = list(range(len(levels[-1])))\n",
    "        \n",
    "        \n",
    "    for level in levels[:-1]:\n",
    "        for i, group in enumerate(level):\n",
    "            level[i] = tuple(set([topic_dict[top] for top in group]))\n",
    "                \n",
    "    \n",
    "    nodes = {}\n",
    "    ids_used = 0\n",
    "    \n",
    "    # assign nmbers to nodes\n",
    "    for level in levels:\n",
    "        for i, group in enumerate(level, start=ids_used):\n",
    "            nodes[i] = group\n",
    "            ids_used += 1\n",
    "            \n",
    "    \n",
    "    sources = []\n",
    "    targets = []\n",
    "    weigths = []\n",
    "        \n",
    "    #for key, topics in nodes.items():\n",
    "    #    for topic\n",
    "        \n",
    "        \n",
    "        \n",
    "            \n",
    "    return levels, sizes\n",
    "        "
   ]
  },
  {
   "cell_type": "code",
   "execution_count": 111,
   "id": "6d350918",
   "metadata": {},
   "outputs": [],
   "source": [
    "def create_link(source_list, target_list, source_labels, target_labels):\n",
    "    \n",
    "    label_set = set(source_labels + target_labels)\n",
    "    label_dict = dict(zip(label_set, range(len(label_set))))\n",
    "    \n",
    "    sources = []\n",
    "    targets = []\n",
    "    values  = []\n",
    "    \n",
    "    # for each target group (more detailed)\n",
    "    for target_group, target_label in zip(target_list, target_labels):\n",
    "        \n",
    "        # for each source group (more general)\n",
    "        for source_group, source_label in zip(source_list, source_labels):\n",
    "                       \n",
    "            # if any of the topics in the target group is in the source group\n",
    "            if target_group[0] in source_group:\n",
    "                       \n",
    "                # ergo all of them are\n",
    "                sources.append(label_dict[source_label])\n",
    "                targets.append(label_dict[target_label])\n",
    "                values.append(sum([t2v.get_topic_sizes()[0][top]/100 for top in target_group]))\n",
    "                \n",
    "                continue\n",
    "                       \n",
    "                       \n",
    "    return dict(source = sources, target = targets, value = values)"
   ]
  },
  {
   "cell_type": "code",
   "execution_count": 236,
   "id": "5473b41d",
   "metadata": {
    "scrolled": false
   },
   "outputs": [
    {
     "name": "stdout",
     "output_type": "stream",
     "text": [
      "25 [83, 151, 169, 0]\n",
      "26 [38, 183, 214, 39, 180, 115, 160, 118, 84, 166, 9]\n",
      "27 [104, 94, 96, 3]\n",
      "28 [148, 2]\n",
      "29 [322, 199, 238, 273, 339, 201, 192, 304, 233, 257, 290, 342, 218, 268, 288, 215, 305, 264, 191, 333, 310, 345, 326, 278, 281, 311, 302, 213, 244, 250, 253, 188, 346, 255, 249, 189, 348, 289, 297, 237, 275, 241, 243, 216]\n",
      "30 [167, 80, 185, 221, 54, 162, 254, 75, 4]\n",
      "31 [63, 1]\n",
      "32 [130, 229, 212, 57, 234, 6]\n",
      "33 [270, 261, 247, 338, 219, 317, 323, 284, 282, 336, 296, 318, 329, 341, 314, 340, 331, 232, 327, 308, 277, 226, 81, 330, 325, 211, 178, 299, 347, 195, 265, 343, 223, 271, 203, 287, 295, 324, 138]\n",
      "34 [272, 198, 283, 303, 141, 174, 156, 321, 5]\n",
      "35 [97, 163, 7]\n",
      "36 [165, 240, 8]\n",
      "37 [120, 171, 259, 209, 145, 175, 70, 127, 105, 177, 10]\n",
      "38 [128, 197, 66, 124, 73, 18]\n",
      "39 [29, 41, 154, 15]\n",
      "40 [227, 76, 236, 88, 65, 263, 246, 12]\n",
      "41 [31, 61, 152, 90, 159, 56]\n",
      "42 [51, 89, 117, 196, 33]\n",
      "43 [32, 149, 91, 153, 220, 126, 99, 157, 109]\n",
      "44 [28, 146, 16]\n",
      "45 [306, 349, 285, 312, 186, 334, 182, 307, 319, 337, 202, 193, 292, 230, 335, 298, 313, 208, 320, 251, 210, 293, 260, 280, 187, 274, 344, 350, 231, 262, 328, 316, 332, 119]\n",
      "46 [40, 17]\n",
      "47 [139, 53, 111, 286, 242, 71]\n",
      "48 [108, 173, 22]\n",
      "49 [43, 110, 116, 239, 37]\n",
      "50 25\n"
     ]
    },
    {
     "ename": "TypeError",
     "evalue": "'int' object is not iterable",
     "output_type": "error",
     "traceback": [
      "\u001b[1;31m---------------------------------------------------------------------------\u001b[0m",
      "\u001b[1;31mTypeError\u001b[0m                                 Traceback (most recent call last)",
      "Cell \u001b[1;32mIn [236], line 1\u001b[0m\n\u001b[1;32m----> 1\u001b[0m \u001b[43mcreate_link_data\u001b[49m\u001b[43m(\u001b[49m\u001b[43mt2v\u001b[49m\u001b[43m,\u001b[49m\u001b[43m \u001b[49m\u001b[43m[\u001b[49m\u001b[43mtopics_5\u001b[49m\u001b[43m,\u001b[49m\u001b[43m \u001b[49m\u001b[43mtopics_20\u001b[49m\u001b[43m,\u001b[49m\u001b[43m \u001b[49m\u001b[43mtopics_50\u001b[49m\u001b[43m]\u001b[49m\u001b[43m)\u001b[49m\n",
      "Cell \u001b[1;32mIn [235], line 10\u001b[0m, in \u001b[0;36mcreate_link_data\u001b[1;34m(t2v, input_levels)\u001b[0m\n\u001b[0;32m      8\u001b[0m \u001b[38;5;28;01mfor\u001b[39;00m i, group \u001b[38;5;129;01min\u001b[39;00m \u001b[38;5;28menumerate\u001b[39m(levels[\u001b[38;5;241m-\u001b[39m\u001b[38;5;241m1\u001b[39m], start\u001b[38;5;241m=\u001b[39mn_nodes\u001b[38;5;241m-\u001b[39m\u001b[38;5;28mlen\u001b[39m(levels[\u001b[38;5;241m-\u001b[39m\u001b[38;5;241m1\u001b[39m])):\n\u001b[0;32m      9\u001b[0m     \u001b[38;5;28mprint\u001b[39m(i, group)\n\u001b[1;32m---> 10\u001b[0m     \u001b[38;5;28;01mfor\u001b[39;00m top \u001b[38;5;129;01min\u001b[39;00m group:\n\u001b[0;32m     11\u001b[0m         topic_dict[top] \u001b[38;5;241m=\u001b[39m i\n\u001b[0;32m     12\u001b[0m         \u001b[38;5;28;01mif\u001b[39;00m i \u001b[38;5;129;01min\u001b[39;00m sizes\u001b[38;5;241m.\u001b[39mkeys():\n",
      "\u001b[1;31mTypeError\u001b[0m: 'int' object is not iterable"
     ]
    }
   ],
   "source": [
    "create_link_data(t2v, [topics_5, topics_20, topics_50])"
   ]
  },
  {
   "cell_type": "code",
   "execution_count": 240,
   "id": "7dbda021",
   "metadata": {},
   "outputs": [
    {
     "data": {
      "text/plain": [
       "[224, 67, 276, 121, 58]"
      ]
     },
     "execution_count": 240,
     "metadata": {},
     "output_type": "execute_result"
    }
   ],
   "source": [
    "topics_50[-3]"
   ]
  },
  {
   "cell_type": "code",
   "execution_count": 143,
   "id": "6628fa7d",
   "metadata": {},
   "outputs": [
    {
     "name": "stdout",
     "output_type": "stream",
     "text": [
      "[291, 161, 155, 168, 315, 204, 252, 62, 207, 69, 48, 72, 113, 137, 46, 83, 151, 169, 0, 123, 170, 225, 55, 95, 267, 20, 179, 190, 140, 64, 26, 128, 197, 66, 124, 73, 18, 25, 150, 101, 92, 200, 68, 300, 269, 147, 222, 235, 52, 29, 41, 154, 15, 24, 38, 183, 214, 39, 180, 115, 160, 118, 84, 166, 9]\n",
      "\n",
      "\n",
      "[[29, 41, 154, 15, 24, 38, 183, 214, 39, 180, 115, 160, 118, 84, 166, 9], [291, 161, 155, 168, 315, 204, 252, 62, 207, 69, 48, 72, 113, 137, 46, 83, 151, 169, 0], [43, 110, 116, 239, 37, 139, 53, 111, 286, 242, 71, 167, 80, 185, 221, 54, 162, 254, 75, 4], [51, 89, 117, 196, 33, 104, 94, 96, 3]]\n",
      "\n",
      "\n",
      "[[83, 151, 169, 0], [38, 183, 214, 39, 180, 115, 160, 118, 84, 166, 9], [104, 94, 96, 3], [148, 2], [322, 199, 238, 273, 339, 201, 192, 304, 233, 257, 290, 342, 218, 268, 288, 215, 305, 264, 191, 333, 310, 345, 326, 278, 281, 311, 302, 213, 244, 250, 253, 188, 346, 255, 249, 189, 348, 289, 297, 237, 275, 241, 243, 216], [167, 80, 185, 221, 54, 162, 254, 75, 4]]\n"
     ]
    }
   ],
   "source": [
    "print(topics_5[0])\n",
    "print('\\n')\n",
    "print(topics_20[:4])\n",
    "print('\\n')\n",
    "print(topics_50[:6])"
   ]
  },
  {
   "cell_type": "code",
   "execution_count": 130,
   "id": "ee107de3",
   "metadata": {},
   "outputs": [
    {
     "data": {
      "text/plain": [
       "[4, 3, 2, 1]"
      ]
     },
     "execution_count": 130,
     "metadata": {},
     "output_type": "execute_result"
    }
   ],
   "source": [
    "[1,2,3,4,5][:-1][::-1]"
   ]
  },
  {
   "cell_type": "code",
   "execution_count": null,
   "id": "f189a2cd",
   "metadata": {},
   "outputs": [],
   "source": []
  },
  {
   "cell_type": "code",
   "execution_count": 123,
   "id": "8a64cdfa",
   "metadata": {},
   "outputs": [
    {
     "data": {
      "text/plain": [
       "[[29, 41, 154, 15, 24, 38, 183, 214, 39, 180, 115, 160, 118, 84, 166, 9],\n",
       " [291,\n",
       "  161,\n",
       "  155,\n",
       "  168,\n",
       "  315,\n",
       "  204,\n",
       "  252,\n",
       "  62,\n",
       "  207,\n",
       "  69,\n",
       "  48,\n",
       "  72,\n",
       "  113,\n",
       "  137,\n",
       "  46,\n",
       "  83,\n",
       "  151,\n",
       "  169,\n",
       "  0],\n",
       " [43,\n",
       "  110,\n",
       "  116,\n",
       "  239,\n",
       "  37,\n",
       "  139,\n",
       "  53,\n",
       "  111,\n",
       "  286,\n",
       "  242,\n",
       "  71,\n",
       "  167,\n",
       "  80,\n",
       "  185,\n",
       "  221,\n",
       "  54,\n",
       "  162,\n",
       "  254,\n",
       "  75,\n",
       "  4],\n",
       " [51, 89, 117, 196, 33, 104, 94, 96, 3],\n",
       " [306,\n",
       "  349,\n",
       "  285,\n",
       "  312,\n",
       "  186,\n",
       "  334,\n",
       "  182,\n",
       "  307,\n",
       "  319,\n",
       "  337,\n",
       "  202,\n",
       "  193,\n",
       "  292,\n",
       "  230,\n",
       "  335,\n",
       "  298,\n",
       "  313,\n",
       "  208,\n",
       "  320,\n",
       "  251,\n",
       "  210,\n",
       "  293,\n",
       "  260,\n",
       "  280,\n",
       "  187,\n",
       "  274,\n",
       "  344,\n",
       "  350,\n",
       "  231,\n",
       "  262,\n",
       "  328,\n",
       "  316,\n",
       "  332,\n",
       "  119,\n",
       "  248,\n",
       "  47,\n",
       "  245,\n",
       "  27,\n",
       "  270,\n",
       "  261,\n",
       "  247,\n",
       "  338,\n",
       "  219,\n",
       "  317,\n",
       "  323,\n",
       "  284,\n",
       "  282,\n",
       "  336,\n",
       "  296,\n",
       "  318,\n",
       "  329,\n",
       "  341,\n",
       "  314,\n",
       "  340,\n",
       "  331,\n",
       "  232,\n",
       "  327,\n",
       "  308,\n",
       "  277,\n",
       "  226,\n",
       "  81,\n",
       "  330,\n",
       "  325,\n",
       "  211,\n",
       "  178,\n",
       "  299,\n",
       "  347,\n",
       "  195,\n",
       "  265,\n",
       "  343,\n",
       "  223,\n",
       "  271,\n",
       "  203,\n",
       "  287,\n",
       "  295,\n",
       "  324,\n",
       "  138],\n",
       " [14,\n",
       "  100,\n",
       "  85,\n",
       "  93,\n",
       "  164,\n",
       "  133,\n",
       "  136,\n",
       "  78,\n",
       "  86,\n",
       "  125,\n",
       "  36,\n",
       "  176,\n",
       "  194,\n",
       "  112,\n",
       "  134,\n",
       "  142,\n",
       "  172,\n",
       "  107,\n",
       "  50,\n",
       "  184,\n",
       "  158,\n",
       "  44],\n",
       " [11, 148, 2],\n",
       " [272, 198, 283, 303, 141, 174, 156, 321, 5, 130, 229, 212, 57, 234, 6],\n",
       " [28, 146, 16, 87, 19, 108, 173, 22, 32, 149, 91, 153, 220, 126, 99, 157, 109],\n",
       " [123,\n",
       "  170,\n",
       "  225,\n",
       "  55,\n",
       "  95,\n",
       "  267,\n",
       "  20,\n",
       "  179,\n",
       "  190,\n",
       "  140,\n",
       "  64,\n",
       "  26,\n",
       "  128,\n",
       "  197,\n",
       "  66,\n",
       "  124,\n",
       "  73,\n",
       "  18],\n",
       " [181, 114, 129, 60, 144, 49, 63, 1],\n",
       " [45, 217, 98, 131, 228, 42, 165, 240, 8],\n",
       " [106, 206, 205, 77, 59, 122, 74, 309, 102, 301, 258, 103, 21],\n",
       " [25, 150, 101, 92, 200, 68, 300, 269, 147, 222, 235, 52],\n",
       " [224, 67, 276, 121, 58, 279, 294, 135, 143, 82, 132, 23],\n",
       " [40, 17, 31, 61, 152, 90, 159, 56],\n",
       " [13, 79, 35, 97, 163, 7],\n",
       " [30, 256, 266, 34, 227, 76, 236, 88, 65, 263, 246, 12],\n",
       " [322,\n",
       "  199,\n",
       "  238,\n",
       "  273,\n",
       "  339,\n",
       "  201,\n",
       "  192,\n",
       "  304,\n",
       "  233,\n",
       "  257,\n",
       "  290,\n",
       "  342,\n",
       "  218,\n",
       "  268,\n",
       "  288,\n",
       "  215,\n",
       "  305,\n",
       "  264,\n",
       "  191,\n",
       "  333,\n",
       "  310,\n",
       "  345,\n",
       "  326,\n",
       "  278,\n",
       "  281,\n",
       "  311,\n",
       "  302,\n",
       "  213,\n",
       "  244,\n",
       "  250,\n",
       "  253,\n",
       "  188,\n",
       "  346,\n",
       "  255,\n",
       "  249,\n",
       "  189,\n",
       "  348,\n",
       "  289,\n",
       "  297,\n",
       "  237,\n",
       "  275,\n",
       "  241,\n",
       "  243,\n",
       "  216],\n",
       " [120, 171, 259, 209, 145, 175, 70, 127, 105, 177, 10]]"
      ]
     },
     "execution_count": 123,
     "metadata": {},
     "output_type": "execute_result"
    }
   ],
   "source": [
    "topics_20"
   ]
  },
  {
   "cell_type": "code",
   "execution_count": 122,
   "id": "4785ed41",
   "metadata": {
    "scrolled": true
   },
   "outputs": [
    {
     "data": {
      "text/plain": [
       "[[83, 151, 169, 0],\n",
       " [38, 183, 214, 39, 180, 115, 160, 118, 84, 166, 9],\n",
       " [104, 94, 96, 3],\n",
       " [148, 2],\n",
       " [322,\n",
       "  199,\n",
       "  238,\n",
       "  273,\n",
       "  339,\n",
       "  201,\n",
       "  192,\n",
       "  304,\n",
       "  233,\n",
       "  257,\n",
       "  290,\n",
       "  342,\n",
       "  218,\n",
       "  268,\n",
       "  288,\n",
       "  215,\n",
       "  305,\n",
       "  264,\n",
       "  191,\n",
       "  333,\n",
       "  310,\n",
       "  345,\n",
       "  326,\n",
       "  278,\n",
       "  281,\n",
       "  311,\n",
       "  302,\n",
       "  213,\n",
       "  244,\n",
       "  250,\n",
       "  253,\n",
       "  188,\n",
       "  346,\n",
       "  255,\n",
       "  249,\n",
       "  189,\n",
       "  348,\n",
       "  289,\n",
       "  297,\n",
       "  237,\n",
       "  275,\n",
       "  241,\n",
       "  243,\n",
       "  216],\n",
       " [167, 80, 185, 221, 54, 162, 254, 75, 4],\n",
       " [63, 1],\n",
       " [130, 229, 212, 57, 234, 6],\n",
       " [270,\n",
       "  261,\n",
       "  247,\n",
       "  338,\n",
       "  219,\n",
       "  317,\n",
       "  323,\n",
       "  284,\n",
       "  282,\n",
       "  336,\n",
       "  296,\n",
       "  318,\n",
       "  329,\n",
       "  341,\n",
       "  314,\n",
       "  340,\n",
       "  331,\n",
       "  232,\n",
       "  327,\n",
       "  308,\n",
       "  277,\n",
       "  226,\n",
       "  81,\n",
       "  330,\n",
       "  325,\n",
       "  211,\n",
       "  178,\n",
       "  299,\n",
       "  347,\n",
       "  195,\n",
       "  265,\n",
       "  343,\n",
       "  223,\n",
       "  271,\n",
       "  203,\n",
       "  287,\n",
       "  295,\n",
       "  324,\n",
       "  138],\n",
       " [272, 198, 283, 303, 141, 174, 156, 321, 5],\n",
       " [97, 163, 7],\n",
       " [165, 240, 8],\n",
       " [120, 171, 259, 209, 145, 175, 70, 127, 105, 177, 10],\n",
       " [128, 197, 66, 124, 73, 18],\n",
       " [29, 41, 154, 15],\n",
       " [227, 76, 236, 88, 65, 263, 246, 12],\n",
       " [31, 61, 152, 90, 159, 56],\n",
       " [51, 89, 117, 196, 33],\n",
       " [32, 149, 91, 153, 220, 126, 99, 157, 109],\n",
       " [28, 146, 16],\n",
       " [306,\n",
       "  349,\n",
       "  285,\n",
       "  312,\n",
       "  186,\n",
       "  334,\n",
       "  182,\n",
       "  307,\n",
       "  319,\n",
       "  337,\n",
       "  202,\n",
       "  193,\n",
       "  292,\n",
       "  230,\n",
       "  335,\n",
       "  298,\n",
       "  313,\n",
       "  208,\n",
       "  320,\n",
       "  251,\n",
       "  210,\n",
       "  293,\n",
       "  260,\n",
       "  280,\n",
       "  187,\n",
       "  274,\n",
       "  344,\n",
       "  350,\n",
       "  231,\n",
       "  262,\n",
       "  328,\n",
       "  316,\n",
       "  332,\n",
       "  119],\n",
       " [40, 17],\n",
       " [139, 53, 111, 286, 242, 71],\n",
       " [108, 173, 22],\n",
       " [43, 110, 116, 239, 37],\n",
       " [150, 101, 92, 200, 68, 300, 269, 147, 222, 235, 52],\n",
       " [279, 294, 135, 143, 82, 132, 23],\n",
       " [24],\n",
       " [87, 19],\n",
       " [123, 170, 225, 55, 95, 267, 20],\n",
       " [106, 206, 205, 77, 59, 122, 74],\n",
       " [100, 85, 93, 164, 133, 136, 78],\n",
       " [45, 217, 98, 131, 228, 42],\n",
       " [72, 113, 137, 46],\n",
       " [309, 102, 301, 258, 103, 21],\n",
       " [13],\n",
       " [50, 184, 158, 44],\n",
       " [248, 47, 245, 27],\n",
       " [11],\n",
       " [30, 256, 266, 34],\n",
       " [176, 194, 112, 134, 142, 172, 107],\n",
       " [86, 125, 36],\n",
       " [181, 114, 129, 60, 144, 49],\n",
       " [79, 35],\n",
       " [207, 69, 48],\n",
       " [14],\n",
       " [179, 190, 140, 64, 26],\n",
       " [224, 67, 276, 121, 58],\n",
       " [25],\n",
       " [291, 161, 155, 168, 315, 204, 252, 62]]"
      ]
     },
     "execution_count": 122,
     "metadata": {},
     "output_type": "execute_result"
    }
   ],
   "source": [
    "topics_50"
   ]
  },
  {
   "cell_type": "code",
   "execution_count": 118,
   "id": "7aacadd4",
   "metadata": {},
   "outputs": [],
   "source": [
    "# viimase kihi gruppidele anna konkreetsed väärtused"
   ]
  },
  {
   "cell_type": "code",
   "execution_count": 33,
   "id": "7c7dd7a1",
   "metadata": {},
   "outputs": [],
   "source": [
    "for group in topics_20:\n",
    "    for top in group:\n",
    "        top_in = 0\n",
    "        for root in topics_5:\n",
    "            if top in root:\n",
    "                top_in += 1\n",
    "            else:\n",
    "                pass\n",
    "        if top_in != 1:\n",
    "            print(top)\n",
    "            break\n",
    "            #print(f'Topic {top} in group {root}')"
   ]
  },
  {
   "cell_type": "code",
   "execution_count": 30,
   "id": "b33eaeea",
   "metadata": {},
   "outputs": [],
   "source": [
    "ex = {}\n",
    "\n",
    "for group in range(len(topics_20)):\n",
    "    for top in topics_20[group]:\n",
    "        for i in range(len(topics_5)):\n",
    "            if top in topics_5[i]:\n",
    "                if i in ex.keys():\n",
    "                    ex[i].append(top)\n",
    "                else:\n",
    "                    ex[i] = [top]\n",
    "            else:\n",
    "                pass"
   ]
  },
  {
   "cell_type": "code",
   "execution_count": 34,
   "id": "ac978488",
   "metadata": {},
   "outputs": [
    {
     "data": {
      "text/plain": [
       "[29, 41, 154, 15, 24, 38, 183, 214, 39, 180, 115, 160, 118, 84, 166, 9]"
      ]
     },
     "execution_count": 34,
     "metadata": {},
     "output_type": "execute_result"
    }
   ],
   "source": [
    "topics_20[0]"
   ]
  },
  {
   "cell_type": "code",
   "execution_count": 36,
   "id": "b6ae6c36",
   "metadata": {},
   "outputs": [],
   "source": [
    "for top in topics_20[0]:\n",
    "    if top not in topics_5[0]:\n",
    "        print(top)"
   ]
  },
  {
   "cell_type": "code",
   "execution_count": null,
   "id": "5b394df2",
   "metadata": {},
   "outputs": [],
   "source": []
  },
  {
   "cell_type": "code",
   "execution_count": null,
   "id": "285095c0",
   "metadata": {},
   "outputs": [],
   "source": []
  },
  {
   "cell_type": "code",
   "execution_count": null,
   "id": "6173a90c",
   "metadata": {},
   "outputs": [],
   "source": []
  },
  {
   "cell_type": "code",
   "execution_count": null,
   "id": "106fb5f8",
   "metadata": {},
   "outputs": [],
   "source": []
  }
 ],
 "metadata": {
  "kernelspec": {
   "display_name": "acta_env",
   "language": "python",
   "name": "acta_env"
  },
  "language_info": {
   "codemirror_mode": {
    "name": "ipython",
    "version": 3
   },
   "file_extension": ".py",
   "mimetype": "text/x-python",
   "name": "python",
   "nbconvert_exporter": "python",
   "pygments_lexer": "ipython3",
   "version": "3.9.12"
  }
 },
 "nbformat": 4,
 "nbformat_minor": 5
}
