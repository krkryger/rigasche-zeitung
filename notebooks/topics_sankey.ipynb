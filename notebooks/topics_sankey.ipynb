{
 "cells": [
  {
   "cell_type": "code",
   "execution_count": 451,
   "id": "edb1b4cc",
   "metadata": {},
   "outputs": [],
   "source": [
    "import os\n",
    "import copy\n",
    "from itertools import chain\n",
    "import json\n",
    "import pandas as pd\n",
    "import plotly.graph_objects as go\n",
    "from top2vec import Top2Vec\n",
    "import colorcet as cc\n",
    "import colorsys\n",
    "import matplotlib.pyplot as plt\n",
    "from matplotlib.colors import rgb2hex\n",
    "from pylab import cm"
   ]
  },
  {
   "cell_type": "code",
   "execution_count": 52,
   "id": "dff41f17",
   "metadata": {},
   "outputs": [],
   "source": [
    "t2v = Top2Vec.load('../data/models/t2v_211122_100_deep.pkl')"
   ]
  },
  {
   "cell_type": "code",
   "execution_count": 6,
   "id": "fa70eb5f",
   "metadata": {},
   "outputs": [],
   "source": [
    "reductions = [12, 36, 72]"
   ]
  },
  {
   "cell_type": "code",
   "execution_count": 112,
   "id": "f0c71027",
   "metadata": {},
   "outputs": [],
   "source": [
    "# hierarchy_df = pd.read_csv('../data/topics/topic_hierarchy.tsv', sep='\\t', encoding='utf8')"
   ]
  },
  {
   "cell_type": "code",
   "execution_count": 111,
   "id": "d3cd1dce",
   "metadata": {},
   "outputs": [],
   "source": [
    "### DEPRECATED\n",
    "\n",
    "# def get_sizes(reductions):\n",
    "#     \n",
    "#     sizes = []\n",
    "#     \n",
    "#     for r in reductions:\n",
    "#         with open(f'../data/topics/reduction_{r}/sizes.json', 'r', encoding='utf8') as f:\n",
    "#             reduction_sizes = json.load(f)\n",
    "#             sizes += reduction_sizes\n",
    "#             \n",
    "#     return dict(zip(range(sum(reductions)), sizes))\n",
    "\n",
    "# sizes = get_sizes(reductions)"
   ]
  },
  {
   "cell_type": "code",
   "execution_count": 9,
   "id": "e34bf3aa",
   "metadata": {},
   "outputs": [],
   "source": [
    "def get_labels(reduction):\n",
    "    \n",
    "    labels = []\n",
    "    \n",
    "    for r in reductions:\n",
    "        with open(f'../data/topics/reduction_{r}/default_labels.json', 'r', encoding='utf8') as f:\n",
    "            reduction_labels = json.load(f)\n",
    "            labels += reduction_labels\n",
    "            \n",
    "    return dict(zip(range(sum(reductions)), labels))"
   ]
  },
  {
   "cell_type": "code",
   "execution_count": 10,
   "id": "db0dc698",
   "metadata": {},
   "outputs": [],
   "source": [
    "labels = get_labels(reductions)"
   ]
  },
  {
   "cell_type": "code",
   "execution_count": 113,
   "id": "7b1ac4fb",
   "metadata": {},
   "outputs": [],
   "source": [
    "def get_hierarchies(reductions):\n",
    "\n",
    "    all_hierarchies = []\n",
    "\n",
    "    for r in reductions:\n",
    "        with open(f'../data/topics/reduction_{str(r)}/reduction_hierarchy.json', 'r', encoding='utf8') as f:\n",
    "            hierarchies = json.load(f)\n",
    "            all_hierarchies.append(hierarchies)\n",
    "\n",
    "    return all_hierarchies"
   ]
  },
  {
   "cell_type": "code",
   "execution_count": 114,
   "id": "08feb816",
   "metadata": {},
   "outputs": [],
   "source": [
    "hierarchies = get_hierarchies(reductions)"
   ]
  },
  {
   "cell_type": "code",
   "execution_count": 115,
   "id": "84ea2a50",
   "metadata": {},
   "outputs": [],
   "source": [
    "def create_sizes(t2v, hierarchies):\n",
    "    \n",
    "    levels = copy.deepcopy(hierarchies)\n",
    "    nodes_flat = dict(enumerate(list(chain(*levels))))\n",
    "    sizes_list = [sum(t2v.topic_sizes[group]) for group in nodes_flat.values()]\n",
    "    sizes = dict(zip(range(len(nodes_flat)), sizes_list))\n",
    "\n",
    "    return sizes"
   ]
  },
  {
   "cell_type": "code",
   "execution_count": 116,
   "id": "a9579ad2",
   "metadata": {},
   "outputs": [],
   "source": [
    "sizes = create_sizes(t2v, hierarchies)"
   ]
  },
  {
   "cell_type": "code",
   "execution_count": 117,
   "id": "7237f771",
   "metadata": {},
   "outputs": [],
   "source": [
    "def create_hierarchy_df(t2v, hierarchies):\n",
    "    \n",
    "    levels = copy.deepcopy(hierarchies)\n",
    "    nodes_flat = dict(enumerate(list(chain(*levels))))\n",
    "    nodes = []\n",
    "    \n",
    "    # makes a list of a dictionary for each level with unique id for each topic\n",
    "    for level in levels:\n",
    "        nodes.append(dict(list(nodes_flat.items())[len(list(chain(*nodes))):len(list(chain(*nodes)))+len(level)]))\n",
    "                \n",
    "    paths = [[key] for key in nodes[-1].keys()]\n",
    "    #print(len(paths))\n",
    "\n",
    "    # starts from the penultimate level and looks if the topic is a subset of anything in that level\n",
    "    for path in paths:\n",
    "        for level in nodes[-2::-1]:\n",
    "            last_subtopic = set(nodes[len(nodes)-len(path)][path[-1]])\n",
    "            for root_key, root_topic in level.items():\n",
    "                if last_subtopic.issubset(set(root_topic)):\n",
    "                    path.append(root_key)\n",
    "    \n",
    "    paths = [path[::-1] for path in paths]\n",
    "    \n",
    "    #return paths\n",
    "    \n",
    "    hierarchy_df = pd.DataFrame(paths)#.apply(lambda x: x.sort_values().values)\n",
    "    hierarchy_df.columns = [f'reduction_{len(level)}' for level in nodes]\n",
    "    \n",
    "    return hierarchy_df"
   ]
  },
  {
   "cell_type": "code",
   "execution_count": 118,
   "id": "079772f7",
   "metadata": {
    "scrolled": true
   },
   "outputs": [],
   "source": [
    "df = create_hierarchy_df(t2v, hierarchies)"
   ]
  },
  {
   "cell_type": "code",
   "execution_count": 325,
   "id": "48007633",
   "metadata": {},
   "outputs": [],
   "source": [
    "def hex_to_rgb(hex_code):\n",
    "    hex_code = hex_code.lstrip('#')\n",
    "    return tuple(int(hex_code[i:i+2], 16) for i in (0, 2, 4))\n",
    "\n",
    "def rgb_to_hex(rgb):\n",
    "    return '#%02x%02x%02x' % rgb\n",
    "\n",
    "def rgb_to_string(rgb):\n",
    "    return f'rgb({rgb[0]},{rgb[1]},{rgb[2]})'\n",
    "\n",
    "def scale_lightness(color, scale):\n",
    "    \n",
    "    if type(color) == str:\n",
    "        rgb = hex_to_rgb(color)\n",
    "        scaled_rgb = tuple([min(round(i + scale*256), 255) for i in rgb])\n",
    "        return rgb_to_hex(scaled_rgb)\n",
    "    elif type(color) == tuple:\n",
    "        scaled_rgb = tuple([min(round(i + scale*256), 255) for i in color])\n",
    "        return scaled_rgb"
   ]
  },
  {
   "cell_type": "code",
   "execution_count": 452,
   "id": "1a1ee629",
   "metadata": {},
   "outputs": [],
   "source": [
    "def create_colors(colormap, hierarchy_df, scale):\n",
    "    \n",
    "    colors = {}\n",
    "    \n",
    "    for top in sorted(df[df.columns[0]].unique()):\n",
    "        colors[top] = hex_to_rgb(colormap[top])\n",
    "    #print(colors.values())abs\n",
    "        \n",
    "    for source_col, target_col, step in zip(df.columns[0:-1], df.columns[1:], range(1, len(df.columns))):\n",
    "        for top in df[target_col].unique():\n",
    "            root_top = df.loc[(df[target_col] == top), source_col].unique()[0]\n",
    "            colors[top] = scale_lightness(colors[root_top], scale*step)\n",
    "                        \n",
    "    colors = {key: rgb_to_string(col) for key, col in colors.items()}\n",
    "            \n",
    "    return colors"
   ]
  },
  {
   "cell_type": "code",
   "execution_count": 453,
   "id": "9da19946",
   "metadata": {},
   "outputs": [],
   "source": [
    "cmap = cm.get_cmap('tab20')\n",
    "cmap = [rgb2hex(cmap(i)) for i in range(20)]"
   ]
  },
  {
   "cell_type": "code",
   "execution_count": 454,
   "id": "b6fbf2c7",
   "metadata": {},
   "outputs": [],
   "source": [
    "colors = create_colors(cmap, df, 0)"
   ]
  },
  {
   "cell_type": "code",
   "execution_count": 455,
   "id": "a756b00c",
   "metadata": {},
   "outputs": [],
   "source": [
    "def create_sankey_node(hierarchy_df, labels, colors):\n",
    "    \n",
    "    node_ids = list(labels.keys())\n",
    "    \n",
    "    return dict(label=[str(ID)+'_'+value for ID, value in zip(node_ids, labels.values())],\n",
    "                color=list(colors.values()),\n",
    "                pad=5,\n",
    "                thickness=100)"
   ]
  },
  {
   "cell_type": "code",
   "execution_count": 456,
   "id": "cde98d3c",
   "metadata": {},
   "outputs": [],
   "source": [
    "def create_sankey_link(hierarchy_df, sizes, labels, colors):\n",
    "    \n",
    "    source = []\n",
    "    target = []\n",
    "    value  = []\n",
    "    \n",
    "    for source_col, target_col in zip(hierarchy_df.columns[0:-1], hierarchy_df.columns[1:]):\n",
    "        unique_combinations = hierarchy_df[[source_col, target_col]].drop_duplicates().sort_values(by=source_col)\n",
    "        sources = list(unique_combinations[source_col])\n",
    "        targets = list(unique_combinations[target_col])\n",
    "        \n",
    "        source += sources\n",
    "        target += targets\n",
    "        \n",
    "    value = [sizes[top] for top in target]\n",
    "    color = [colors[top] for top in target]\n",
    "    \n",
    "    assert len(source) == len(target) == len(value)\n",
    "        \n",
    "    link = dict(source=source, target=target, value=value, color=color)\n",
    "    \n",
    "    return link"
   ]
  },
  {
   "cell_type": "code",
   "execution_count": 457,
   "id": "efe41605",
   "metadata": {},
   "outputs": [],
   "source": [
    "node = create_sankey_node(df, labels, colors)\n",
    "link = create_sankey_link(df, sizes, labels, colors)\n",
    "            \n",
    "sankey_data = go.Sankey(link=link, node=node)\n",
    "\n",
    "fig = go.Figure(sankey_data)"
   ]
  },
  {
   "cell_type": "code",
   "execution_count": 458,
   "id": "1f237845",
   "metadata": {
    "scrolled": false
   },
   "outputs": [
    {
     "data": {
      "application/vnd.plotly.v1+json": {
       "config": {
        "plotlyServerURL": "https://plot.ly"
       },
       "data": [
        {
         "link": {
          "color": [
           "rgb(31,119,180)",
           "rgb(31,119,180)",
           "rgb(31,119,180)",
           "rgb(31,119,180)",
           "rgb(31,119,180)",
           "rgb(31,119,180)",
           "rgb(174,199,232)",
           "rgb(174,199,232)",
           "rgb(174,199,232)",
           "rgb(174,199,232)",
           "rgb(174,199,232)",
           "rgb(174,199,232)",
           "rgb(255,127,14)",
           "rgb(255,127,14)",
           "rgb(255,187,120)",
           "rgb(255,187,120)",
           "rgb(44,160,44)",
           "rgb(44,160,44)",
           "rgb(44,160,44)",
           "rgb(152,223,138)",
           "rgb(152,223,138)",
           "rgb(152,223,138)",
           "rgb(214,39,40)",
           "rgb(214,39,40)",
           "rgb(214,39,40)",
           "rgb(214,39,40)",
           "rgb(255,152,150)",
           "rgb(255,152,150)",
           "rgb(148,103,189)",
           "rgb(148,103,189)",
           "rgb(197,176,213)",
           "rgb(140,86,75)",
           "rgb(140,86,75)",
           "rgb(196,156,148)",
           "rgb(196,156,148)",
           "rgb(196,156,148)",
           "rgb(255,187,120)",
           "rgb(255,187,120)",
           "rgb(255,187,120)",
           "rgb(255,187,120)",
           "rgb(255,187,120)",
           "rgb(31,119,180)",
           "rgb(31,119,180)",
           "rgb(31,119,180)",
           "rgb(255,152,150)",
           "rgb(255,152,150)",
           "rgb(255,152,150)",
           "rgb(255,127,14)",
           "rgb(152,223,138)",
           "rgb(152,223,138)",
           "rgb(152,223,138)",
           "rgb(152,223,138)",
           "rgb(152,223,138)",
           "rgb(152,223,138)",
           "rgb(148,103,189)",
           "rgb(148,103,189)",
           "rgb(255,152,150)",
           "rgb(255,152,150)",
           "rgb(31,119,180)",
           "rgb(31,119,180)",
           "rgb(197,176,213)",
           "rgb(197,176,213)",
           "rgb(197,176,213)",
           "rgb(255,187,120)",
           "rgb(255,187,120)",
           "rgb(148,103,189)",
           "rgb(148,103,189)",
           "rgb(148,103,189)",
           "rgb(174,199,232)",
           "rgb(31,119,180)",
           "rgb(44,160,44)",
           "rgb(174,199,232)",
           "rgb(174,199,232)",
           "rgb(44,160,44)",
           "rgb(44,160,44)",
           "rgb(196,156,148)",
           "rgb(174,199,232)",
           "rgb(174,199,232)",
           "rgb(174,199,232)",
           "rgb(214,39,40)",
           "rgb(214,39,40)",
           "rgb(214,39,40)",
           "rgb(174,199,232)",
           "rgb(174,199,232)",
           "rgb(140,86,75)",
           "rgb(140,86,75)",
           "rgb(214,39,40)",
           "rgb(214,39,40)",
           "rgb(152,223,138)",
           "rgb(152,223,138)",
           "rgb(174,199,232)",
           "rgb(31,119,180)",
           "rgb(31,119,180)",
           "rgb(44,160,44)",
           "rgb(255,127,14)",
           "rgb(255,127,14)",
           "rgb(31,119,180)",
           "rgb(196,156,148)",
           "rgb(152,223,138)",
           "rgb(214,39,40)",
           "rgb(31,119,180)",
           "rgb(174,199,232)",
           "rgb(174,199,232)",
           "rgb(214,39,40)",
           "rgb(214,39,40)",
           "rgb(196,156,148)",
           "rgb(140,86,75)",
           "rgb(140,86,75)"
          ],
          "source": [
           0,
           0,
           0,
           0,
           0,
           0,
           1,
           1,
           1,
           1,
           1,
           1,
           2,
           2,
           3,
           3,
           4,
           4,
           4,
           5,
           5,
           5,
           6,
           6,
           6,
           6,
           7,
           7,
           8,
           8,
           9,
           10,
           10,
           11,
           11,
           11,
           12,
           12,
           12,
           12,
           12,
           13,
           13,
           13,
           14,
           14,
           14,
           15,
           16,
           16,
           16,
           16,
           16,
           16,
           17,
           17,
           18,
           18,
           19,
           19,
           20,
           20,
           20,
           21,
           21,
           22,
           22,
           22,
           23,
           24,
           25,
           26,
           26,
           27,
           27,
           28,
           29,
           29,
           29,
           30,
           30,
           30,
           31,
           31,
           32,
           32,
           33,
           33,
           34,
           34,
           35,
           36,
           36,
           37,
           38,
           38,
           39,
           40,
           41,
           42,
           43,
           44,
           44,
           45,
           45,
           46,
           47,
           47
          ],
          "target": [
           36,
           24,
           19,
           13,
           39,
           43,
           29,
           44,
           31,
           23,
           35,
           26,
           15,
           38,
           21,
           12,
           25,
           27,
           37,
           16,
           34,
           41,
           33,
           45,
           42,
           30,
           14,
           18,
           22,
           17,
           20,
           32,
           47,
           28,
           40,
           46,
           48,
           103,
           99,
           89,
           70,
           73,
           72,
           56,
           88,
           119,
           53,
           49,
           112,
           77,
           67,
           96,
           117,
           116,
           64,
           66,
           118,
           52,
           91,
           54,
           110,
           57,
           109,
           84,
           80,
           74,
           113,
           114,
           55,
           50,
           51,
           61,
           90,
           59,
           107,
           60,
           111,
           97,
           86,
           115,
           102,
           71,
           83,
           81,
           85,
           95,
           100,
           78,
           98,
           79,
           69,
           104,
           106,
           63,
           108,
           101,
           58,
           62,
           76,
           65,
           68,
           82,
           93,
           92,
           105,
           75,
           94,
           87
          ],
          "value": [
           4511,
           5516,
           5464,
           9533,
           4368,
           3020,
           6854,
           4516,
           6300,
           4173,
           4336,
           5357,
           5121,
           4080,
           5484,
           17794,
           5440,
           6354,
           5781,
           15130,
           4389,
           3028,
           5944,
           5110,
           4519,
           8653,
           9916,
           8099,
           7435,
           8714,
           11721,
           7761,
           5369,
           3067,
           5628,
           6077,
           4700,
           3288,
           2667,
           3732,
           3407,
           1765,
           2059,
           5709,
           1787,
           2000,
           6129,
           5121,
           1743,
           1893,
           6945,
           1278,
           1610,
           1661,
           3935,
           4779,
           3298,
           4801,
           2611,
           2853,
           2699,
           6156,
           2866,
           3022,
           2462,
           3266,
           1956,
           2213,
           4173,
           5516,
           5440,
           3728,
           1629,
           4323,
           2031,
           3067,
           1985,
           1621,
           3248,
           2808,
           1969,
           3876,
           3205,
           3095,
           4693,
           3068,
           3328,
           2616,
           2086,
           2303,
           4336,
           1713,
           2798,
           5781,
           1735,
           2345,
           4368,
           5628,
           3028,
           4519,
           3020,
           2097,
           2419,
           2290,
           2820,
           6077,
           2291,
           3078
          ]
         },
         "node": {
          "color": [
           "rgb(31,119,180)",
           "rgb(174,199,232)",
           "rgb(255,127,14)",
           "rgb(255,187,120)",
           "rgb(44,160,44)",
           "rgb(152,223,138)",
           "rgb(214,39,40)",
           "rgb(255,152,150)",
           "rgb(148,103,189)",
           "rgb(197,176,213)",
           "rgb(140,86,75)",
           "rgb(196,156,148)",
           "rgb(255,187,120)",
           "rgb(255,127,14)",
           "rgb(31,119,180)",
           "rgb(44,160,44)",
           "rgb(255,152,150)",
           "rgb(255,152,150)",
           "rgb(31,119,180)",
           "rgb(174,199,232)",
           "rgb(31,119,180)",
           "rgb(197,176,213)",
           "rgb(31,119,180)",
           "rgb(44,160,44)",
           "rgb(196,156,148)",
           "rgb(174,199,232)",
           "rgb(196,156,148)",
           "rgb(44,160,44)",
           "rgb(148,103,189)",
           "rgb(214,39,40)",
           "rgb(152,223,138)",
           "rgb(31,119,180)",
           "rgb(174,199,232)",
           "rgb(214,39,40)",
           "rgb(148,103,189)",
           "rgb(196,156,148)",
           "rgb(152,223,138)",
           "rgb(214,39,40)",
           "rgb(152,223,138)",
           "rgb(255,187,120)",
           "rgb(174,199,232)",
           "rgb(174,199,232)",
           "rgb(140,86,75)",
           "rgb(174,199,232)",
           "rgb(140,86,75)",
           "rgb(214,39,40)",
           "rgb(255,127,14)",
           "rgb(31,119,180)",
           "rgb(255,187,120)",
           "rgb(255,127,14)",
           "rgb(31,119,180)",
           "rgb(44,160,44)",
           "rgb(255,152,150)",
           "rgb(255,152,150)",
           "rgb(31,119,180)",
           "rgb(174,199,232)",
           "rgb(31,119,180)",
           "rgb(197,176,213)",
           "rgb(31,119,180)",
           "rgb(44,160,44)",
           "rgb(196,156,148)",
           "rgb(174,199,232)",
           "rgb(196,156,148)",
           "rgb(44,160,44)",
           "rgb(148,103,189)",
           "rgb(214,39,40)",
           "rgb(148,103,189)",
           "rgb(152,223,138)",
           "rgb(31,119,180)",
           "rgb(174,199,232)",
           "rgb(255,187,120)",
           "rgb(214,39,40)",
           "rgb(31,119,180)",
           "rgb(31,119,180)",
           "rgb(148,103,189)",
           "rgb(196,156,148)",
           "rgb(152,223,138)",
           "rgb(152,223,138)",
           "rgb(214,39,40)",
           "rgb(152,223,138)",
           "rgb(255,187,120)",
           "rgb(174,199,232)",
           "rgb(174,199,232)",
           "rgb(174,199,232)",
           "rgb(255,187,120)",
           "rgb(140,86,75)",
           "rgb(174,199,232)",
           "rgb(140,86,75)",
           "rgb(255,152,150)",
           "rgb(255,187,120)",
           "rgb(174,199,232)",
           "rgb(31,119,180)",
           "rgb(214,39,40)",
           "rgb(174,199,232)",
           "rgb(140,86,75)",
           "rgb(140,86,75)",
           "rgb(152,223,138)",
           "rgb(174,199,232)",
           "rgb(152,223,138)",
           "rgb(255,187,120)",
           "rgb(214,39,40)",
           "rgb(255,127,14)",
           "rgb(214,39,40)",
           "rgb(255,187,120)",
           "rgb(31,119,180)",
           "rgb(214,39,40)",
           "rgb(31,119,180)",
           "rgb(44,160,44)",
           "rgb(255,127,14)",
           "rgb(197,176,213)",
           "rgb(197,176,213)",
           "rgb(174,199,232)",
           "rgb(152,223,138)",
           "rgb(148,103,189)",
           "rgb(148,103,189)",
           "rgb(214,39,40)",
           "rgb(152,223,138)",
           "rgb(152,223,138)",
           "rgb(255,152,150)",
           "rgb(255,152,150)"
          ],
          "label": [
           "0_republik-soir-thiers-pinard-gambetta",
           "1_centrumspartei-culturkampf-maigesetze-fortschrittler-kreisordnung",
           "2_pforte-machte-psorte-bulgariens-turkei",
           "3_kronprinzessin-besuche-verweilen-herrschaften-hofburg",
           "4_budgets-cortes-budget-kammer-vertagte",
           "5_polizei-thater-verhafteten-verhasteten-verbrechens",
           "6_sherman-grant-bragg-meade-savannah",
           "7_ortlichen-inland-reichsdomamen-ortliche-stadthauptes",
           "8_austern-korbe-gummi-pack-nagel",
           "9_kunst-clavier-kunstler-schone-musik",
           "10_komorn-gorgey-theiß-armeecorp-arad",
           "11_leck-gestrandet-lootsen-danisches-cuxhaven",
           "12_kronprinzessin-herrschaften-großherzogin-schlosse-heiterer",
           "13_elysee-thiers-prafecten-soir-siecle",
           "14_tagesbesehls-dirigirender-dirigirende-inland-auditoriats",
           "15_machte-pforte-psorte-turkei-collectivnote",
           "16_arztlicher-entzundung-menschenleben-stockwerke-patienten",
           "17_beginn-sicht-ballen-korbe-austern",
           "18_ortlichen-russk-jahrmarkte-nowosti-listok",
           "19_groszbritannien-herald-globe-irland-manchester",
           "20_kunst-neustraße-sandpforte-mullerschen-clavier",
           "21_ischl-schonbrunn-metternich-hofburg-erzherzoge",
           "22_austern-gummi-pack-meitzer-korbe",
           "23_fortschrittler-culturkampf-centrumspartei-kanzler-freifinnigen",
           "24_madrider-serrano-concha-donnell-carlisten",
           "25_lesung-gesetzentwurf-gesetzentwurfs-einbringung-antrag",
           "26_zollvereins-bundestags-bundesstaaten-kurhessen-bundestage",
           "27_freycinet-fourtou-waddington-dufaure-broglie",
           "28_kanonenboten-nargen-segel-kanonenbote-corvette",
           "29_geistlichen-geistlicher-geistliche-evangelischen-evangelische",
           "30_thessalien-kandia-suleiman-macedonien-eupatoria",
           "31_kreisordnung-reichsregierung-preußischen-bundesstaaten-bundesstaate",
           "32_komorn-gorgey-theiß-armeecorp-schlick",
           "33_sherman-sudstaatlichen-davis-consoderirten-grant",
           "34_verurtheilte-verurtheilt-freigesprochen-angeklagten-verbrechens",
           "35_vaterlande-vaterlandes-erhabenen-treuen-vorsehung",
           "36_garibaldi-caprera-gazzetta-cialdini-florenz",
           "37_zinsen-anleihen-deckung-tilgung-betrage",
           "38_sofia-bulgarische-bulgarischen-bulgarien-bulgariens",
           "39_unterhause-unterhaus-bill-schatzkanzler-oberhause",
           "40_fadrelandet-schleswiger-tidende-fuhnen-danischer",
           "41_ruhestorer-tumultuanten-volkshaufen-steinwurfen-auflauf",
           "42_mehmed-egypten-kahira-said-syrien",
           "43_pius-vatican-papst-cardinalen-cardinale",
           "44_ungarischen-ungarn-ausgleichs-andrassy-ungarns",
           "45_kabul-kandahar-afghanen-lahore-afghanistan",
           "46_leck-gestrandet-capt-hartlepool-bark",
           "47_kantonen-eidgenossische-waadt-eidgenossischen-schweizerischen",
           "48_herrschaften-herrschasten-kronprinzessin-hoheiten-großherzogin",
           "49_pforte-machte-psorte-turkei-collectivnote",
           "50_madrider-serrano-concha-donnell-carlisten",
           "51_lesung-gesetzentwurf-gesetzentwurfs-einbringung-antrag",
           "52_ortlichen-nowosti-russk-birsh-molwa",
           "53_tagesbesehls-tagesbefehls-schwerdtern-musterhasten-civilressort",
           "54_herald-globe-groszbritannien-times-irland",
           "55_fortschrittler-culturkampf-kanzler-centrumspartei-freifinnigen",
           "56_republik-gambetta-thiers-fourtou-bonapartisten",
           "57_kunst-kunstler-kunstwerk-kunstlern-poesie",
           "58_unterhause-unterhaus-bill-schatzkanzler-oberhause",
           "59_monarchisten-freycinet-fourtou-republikaner-broglie",
           "60_kanonenboten-nargen-kanonenbote-segel-corvette",
           "61_zollvereins-zolleinigung-zollverein-handelsvertrags-zollvereine",
           "62_fadrelandet-schleswiger-tidende-fuhnen-danischer",
           "63_zinsen-anleihen-deckung-tilgung-betrage",
           "64_sicht-tinte-austern-korbe-nagel",
           "65_mehmed-egypten-kahira-said-syrien",
           "66_beginn-ballen-allen-garn-kastanien",
           "67_menschenleben-einsturz-eingesturzt-wasser-locomotive",
           "68_pius-papst-vatican-cardinalen-cardinale",
           "69_vaterlande-vaterlandes-treuen-vorsehung-erhabenen",
           "70_barometer-sudwestwind-uleaborg-maßiger-weht",
           "71_eupatoria-rustschuk-dobrudscha-serdar-silistria",
           "72_france-pays-tuilerien-pinard-constitutionnel",
           "73_tuilerieen-boulevards-prafectur-cloud-magnan",
           "74_austern-gummi-eiserne-kastanien-pack",
           "75_capt-hartlepool-leck-gestrandet-bark",
           "76_ruhestorer-tumultuanten-volkshaufen-steinwurfen-auflauf",
           "77_pistol-morder-pistole-dolch-revolver",
           "78_tennessee-grant-sherman-davis-sudstaatlichen",
           "79_verurtheilte-freigesprochen-verurtheilt-zuchthaus-angeklagten",
           "80_schonbrunn-erzherzog-erzherzoge-rainer-ischl",
           "81_herzogthumer-herzogthumern-holsteinischen-holstein-lauenburg",
           "82_andrassy-delegationen-osterreichisch-friedenspolitik-tisza",
           "83_kreisordnung-hoverbeck-lasker-meppen-reichstag",
           "84_botschafter-gastein-metternich-oubril-ischl",
           "85_feindes-feind-komorn-gorgey-detachement",
           "86_bischoflichen-diocese-excommunication-bischofs-bischofe",
           "87_rekruten-beurlaubten-regimentern-regimenter-landwehr",
           "88_bestatigten-swod-reglements-allerhochst-durchsicht",
           "89_moniteur-cloud-officiel-moniten-monitenr",
           "90_kurhessen-kurfurst-kasseler-hessen-kassel",
           "91_spithead-portsmouth-chatham-sheerneß-woolwich",
           "92_kabul-kandahar-lahore-afghanistan-dost",
           "93_croatischen-hohenwart-ungarn-leitha-ungarischen",
           "94_waadt-eidgenossischen-kantonen-eidgenossische-tessin",
           "95_komorn-gorgey-preßburg-theiß-schlick",
           "96_ernte-saaten-durre-regen-erndte",
           "97_evangelischen-evangelische-landeskirche-prediger-evangelischer",
           "98_verhafteten-complotts-verhasteten-verhaftung-attentat",
           "99_balmoral-wales-windsor-palace-osborne",
           "100_luarez-matamoras-santana-mexiko-mejia",
           "101_serbien-belgrad-serbiens-milan-bukarest",
           "102_piraus-patras-kandia-nauplia-grivas",
           "103_belgischen-brussel-haag-mecheln-brabant",
           "104_palermo-calabrien-catania-garibaldi-siciliens",
           "105_suakim-berber-gordons-chartum-wolseley",
           "106_venedig-mailand-gazzetta-venetianischen-brescia",
           "107_portefeuilles-portefeuille-interimistisch-inneres-depretis",
           "108_sofia-sobranje-bulgarische-bulgarischen-bulgarien",
           "109_kalkstraße-sunderstraße-scheunenstraße-sandpforte-erkundigungs",
           "110_ruhestatte-verewigten-verstorbenen-verstorbene-bestattung",
           "111_professoren-vorlesungen-docenten-mathematik-facultat",
           "112_brandes-feuers-brandstatte-brande-flammen",
           "113_meitzer-pack-wohrmann-sacke-korbe",
           "114_austern-cigarren-korbe-gummi-leder",
           "115_athen-griechenland-griechische-hellenischen-piraus",
           "116_husten-bulletin-genesung-patient-besserung",
           "117_erkrankt-cholera-epidemie-erkrankten-erkrankungen",
           "118_waare-verkaufer-preise-lichttalg-kaufer",
           "119_hochedlen-kaufm-hochweisen-backergesell-dato"
          ],
          "pad": 5,
          "thickness": 100
         },
         "type": "sankey"
        }
       ],
       "layout": {
        "autosize": false,
        "height": 1500,
        "template": {
         "data": {
          "bar": [
           {
            "error_x": {
             "color": "#2a3f5f"
            },
            "error_y": {
             "color": "#2a3f5f"
            },
            "marker": {
             "line": {
              "color": "#E5ECF6",
              "width": 0.5
             },
             "pattern": {
              "fillmode": "overlay",
              "size": 10,
              "solidity": 0.2
             }
            },
            "type": "bar"
           }
          ],
          "barpolar": [
           {
            "marker": {
             "line": {
              "color": "#E5ECF6",
              "width": 0.5
             },
             "pattern": {
              "fillmode": "overlay",
              "size": 10,
              "solidity": 0.2
             }
            },
            "type": "barpolar"
           }
          ],
          "carpet": [
           {
            "aaxis": {
             "endlinecolor": "#2a3f5f",
             "gridcolor": "white",
             "linecolor": "white",
             "minorgridcolor": "white",
             "startlinecolor": "#2a3f5f"
            },
            "baxis": {
             "endlinecolor": "#2a3f5f",
             "gridcolor": "white",
             "linecolor": "white",
             "minorgridcolor": "white",
             "startlinecolor": "#2a3f5f"
            },
            "type": "carpet"
           }
          ],
          "choropleth": [
           {
            "colorbar": {
             "outlinewidth": 0,
             "ticks": ""
            },
            "type": "choropleth"
           }
          ],
          "contour": [
           {
            "colorbar": {
             "outlinewidth": 0,
             "ticks": ""
            },
            "colorscale": [
             [
              0,
              "#0d0887"
             ],
             [
              0.1111111111111111,
              "#46039f"
             ],
             [
              0.2222222222222222,
              "#7201a8"
             ],
             [
              0.3333333333333333,
              "#9c179e"
             ],
             [
              0.4444444444444444,
              "#bd3786"
             ],
             [
              0.5555555555555556,
              "#d8576b"
             ],
             [
              0.6666666666666666,
              "#ed7953"
             ],
             [
              0.7777777777777778,
              "#fb9f3a"
             ],
             [
              0.8888888888888888,
              "#fdca26"
             ],
             [
              1,
              "#f0f921"
             ]
            ],
            "type": "contour"
           }
          ],
          "contourcarpet": [
           {
            "colorbar": {
             "outlinewidth": 0,
             "ticks": ""
            },
            "type": "contourcarpet"
           }
          ],
          "heatmap": [
           {
            "colorbar": {
             "outlinewidth": 0,
             "ticks": ""
            },
            "colorscale": [
             [
              0,
              "#0d0887"
             ],
             [
              0.1111111111111111,
              "#46039f"
             ],
             [
              0.2222222222222222,
              "#7201a8"
             ],
             [
              0.3333333333333333,
              "#9c179e"
             ],
             [
              0.4444444444444444,
              "#bd3786"
             ],
             [
              0.5555555555555556,
              "#d8576b"
             ],
             [
              0.6666666666666666,
              "#ed7953"
             ],
             [
              0.7777777777777778,
              "#fb9f3a"
             ],
             [
              0.8888888888888888,
              "#fdca26"
             ],
             [
              1,
              "#f0f921"
             ]
            ],
            "type": "heatmap"
           }
          ],
          "heatmapgl": [
           {
            "colorbar": {
             "outlinewidth": 0,
             "ticks": ""
            },
            "colorscale": [
             [
              0,
              "#0d0887"
             ],
             [
              0.1111111111111111,
              "#46039f"
             ],
             [
              0.2222222222222222,
              "#7201a8"
             ],
             [
              0.3333333333333333,
              "#9c179e"
             ],
             [
              0.4444444444444444,
              "#bd3786"
             ],
             [
              0.5555555555555556,
              "#d8576b"
             ],
             [
              0.6666666666666666,
              "#ed7953"
             ],
             [
              0.7777777777777778,
              "#fb9f3a"
             ],
             [
              0.8888888888888888,
              "#fdca26"
             ],
             [
              1,
              "#f0f921"
             ]
            ],
            "type": "heatmapgl"
           }
          ],
          "histogram": [
           {
            "marker": {
             "pattern": {
              "fillmode": "overlay",
              "size": 10,
              "solidity": 0.2
             }
            },
            "type": "histogram"
           }
          ],
          "histogram2d": [
           {
            "colorbar": {
             "outlinewidth": 0,
             "ticks": ""
            },
            "colorscale": [
             [
              0,
              "#0d0887"
             ],
             [
              0.1111111111111111,
              "#46039f"
             ],
             [
              0.2222222222222222,
              "#7201a8"
             ],
             [
              0.3333333333333333,
              "#9c179e"
             ],
             [
              0.4444444444444444,
              "#bd3786"
             ],
             [
              0.5555555555555556,
              "#d8576b"
             ],
             [
              0.6666666666666666,
              "#ed7953"
             ],
             [
              0.7777777777777778,
              "#fb9f3a"
             ],
             [
              0.8888888888888888,
              "#fdca26"
             ],
             [
              1,
              "#f0f921"
             ]
            ],
            "type": "histogram2d"
           }
          ],
          "histogram2dcontour": [
           {
            "colorbar": {
             "outlinewidth": 0,
             "ticks": ""
            },
            "colorscale": [
             [
              0,
              "#0d0887"
             ],
             [
              0.1111111111111111,
              "#46039f"
             ],
             [
              0.2222222222222222,
              "#7201a8"
             ],
             [
              0.3333333333333333,
              "#9c179e"
             ],
             [
              0.4444444444444444,
              "#bd3786"
             ],
             [
              0.5555555555555556,
              "#d8576b"
             ],
             [
              0.6666666666666666,
              "#ed7953"
             ],
             [
              0.7777777777777778,
              "#fb9f3a"
             ],
             [
              0.8888888888888888,
              "#fdca26"
             ],
             [
              1,
              "#f0f921"
             ]
            ],
            "type": "histogram2dcontour"
           }
          ],
          "mesh3d": [
           {
            "colorbar": {
             "outlinewidth": 0,
             "ticks": ""
            },
            "type": "mesh3d"
           }
          ],
          "parcoords": [
           {
            "line": {
             "colorbar": {
              "outlinewidth": 0,
              "ticks": ""
             }
            },
            "type": "parcoords"
           }
          ],
          "pie": [
           {
            "automargin": true,
            "type": "pie"
           }
          ],
          "scatter": [
           {
            "fillpattern": {
             "fillmode": "overlay",
             "size": 10,
             "solidity": 0.2
            },
            "type": "scatter"
           }
          ],
          "scatter3d": [
           {
            "line": {
             "colorbar": {
              "outlinewidth": 0,
              "ticks": ""
             }
            },
            "marker": {
             "colorbar": {
              "outlinewidth": 0,
              "ticks": ""
             }
            },
            "type": "scatter3d"
           }
          ],
          "scattercarpet": [
           {
            "marker": {
             "colorbar": {
              "outlinewidth": 0,
              "ticks": ""
             }
            },
            "type": "scattercarpet"
           }
          ],
          "scattergeo": [
           {
            "marker": {
             "colorbar": {
              "outlinewidth": 0,
              "ticks": ""
             }
            },
            "type": "scattergeo"
           }
          ],
          "scattergl": [
           {
            "marker": {
             "colorbar": {
              "outlinewidth": 0,
              "ticks": ""
             }
            },
            "type": "scattergl"
           }
          ],
          "scattermapbox": [
           {
            "marker": {
             "colorbar": {
              "outlinewidth": 0,
              "ticks": ""
             }
            },
            "type": "scattermapbox"
           }
          ],
          "scatterpolar": [
           {
            "marker": {
             "colorbar": {
              "outlinewidth": 0,
              "ticks": ""
             }
            },
            "type": "scatterpolar"
           }
          ],
          "scatterpolargl": [
           {
            "marker": {
             "colorbar": {
              "outlinewidth": 0,
              "ticks": ""
             }
            },
            "type": "scatterpolargl"
           }
          ],
          "scatterternary": [
           {
            "marker": {
             "colorbar": {
              "outlinewidth": 0,
              "ticks": ""
             }
            },
            "type": "scatterternary"
           }
          ],
          "surface": [
           {
            "colorbar": {
             "outlinewidth": 0,
             "ticks": ""
            },
            "colorscale": [
             [
              0,
              "#0d0887"
             ],
             [
              0.1111111111111111,
              "#46039f"
             ],
             [
              0.2222222222222222,
              "#7201a8"
             ],
             [
              0.3333333333333333,
              "#9c179e"
             ],
             [
              0.4444444444444444,
              "#bd3786"
             ],
             [
              0.5555555555555556,
              "#d8576b"
             ],
             [
              0.6666666666666666,
              "#ed7953"
             ],
             [
              0.7777777777777778,
              "#fb9f3a"
             ],
             [
              0.8888888888888888,
              "#fdca26"
             ],
             [
              1,
              "#f0f921"
             ]
            ],
            "type": "surface"
           }
          ],
          "table": [
           {
            "cells": {
             "fill": {
              "color": "#EBF0F8"
             },
             "line": {
              "color": "white"
             }
            },
            "header": {
             "fill": {
              "color": "#C8D4E3"
             },
             "line": {
              "color": "white"
             }
            },
            "type": "table"
           }
          ]
         },
         "layout": {
          "annotationdefaults": {
           "arrowcolor": "#2a3f5f",
           "arrowhead": 0,
           "arrowwidth": 1
          },
          "autotypenumbers": "strict",
          "coloraxis": {
           "colorbar": {
            "outlinewidth": 0,
            "ticks": ""
           }
          },
          "colorscale": {
           "diverging": [
            [
             0,
             "#8e0152"
            ],
            [
             0.1,
             "#c51b7d"
            ],
            [
             0.2,
             "#de77ae"
            ],
            [
             0.3,
             "#f1b6da"
            ],
            [
             0.4,
             "#fde0ef"
            ],
            [
             0.5,
             "#f7f7f7"
            ],
            [
             0.6,
             "#e6f5d0"
            ],
            [
             0.7,
             "#b8e186"
            ],
            [
             0.8,
             "#7fbc41"
            ],
            [
             0.9,
             "#4d9221"
            ],
            [
             1,
             "#276419"
            ]
           ],
           "sequential": [
            [
             0,
             "#0d0887"
            ],
            [
             0.1111111111111111,
             "#46039f"
            ],
            [
             0.2222222222222222,
             "#7201a8"
            ],
            [
             0.3333333333333333,
             "#9c179e"
            ],
            [
             0.4444444444444444,
             "#bd3786"
            ],
            [
             0.5555555555555556,
             "#d8576b"
            ],
            [
             0.6666666666666666,
             "#ed7953"
            ],
            [
             0.7777777777777778,
             "#fb9f3a"
            ],
            [
             0.8888888888888888,
             "#fdca26"
            ],
            [
             1,
             "#f0f921"
            ]
           ],
           "sequentialminus": [
            [
             0,
             "#0d0887"
            ],
            [
             0.1111111111111111,
             "#46039f"
            ],
            [
             0.2222222222222222,
             "#7201a8"
            ],
            [
             0.3333333333333333,
             "#9c179e"
            ],
            [
             0.4444444444444444,
             "#bd3786"
            ],
            [
             0.5555555555555556,
             "#d8576b"
            ],
            [
             0.6666666666666666,
             "#ed7953"
            ],
            [
             0.7777777777777778,
             "#fb9f3a"
            ],
            [
             0.8888888888888888,
             "#fdca26"
            ],
            [
             1,
             "#f0f921"
            ]
           ]
          },
          "colorway": [
           "#636efa",
           "#EF553B",
           "#00cc96",
           "#ab63fa",
           "#FFA15A",
           "#19d3f3",
           "#FF6692",
           "#B6E880",
           "#FF97FF",
           "#FECB52"
          ],
          "font": {
           "color": "#2a3f5f"
          },
          "geo": {
           "bgcolor": "white",
           "lakecolor": "white",
           "landcolor": "#E5ECF6",
           "showlakes": true,
           "showland": true,
           "subunitcolor": "white"
          },
          "hoverlabel": {
           "align": "left"
          },
          "hovermode": "closest",
          "mapbox": {
           "style": "light"
          },
          "paper_bgcolor": "white",
          "plot_bgcolor": "#E5ECF6",
          "polar": {
           "angularaxis": {
            "gridcolor": "white",
            "linecolor": "white",
            "ticks": ""
           },
           "bgcolor": "#E5ECF6",
           "radialaxis": {
            "gridcolor": "white",
            "linecolor": "white",
            "ticks": ""
           }
          },
          "scene": {
           "xaxis": {
            "backgroundcolor": "#E5ECF6",
            "gridcolor": "white",
            "gridwidth": 2,
            "linecolor": "white",
            "showbackground": true,
            "ticks": "",
            "zerolinecolor": "white"
           },
           "yaxis": {
            "backgroundcolor": "#E5ECF6",
            "gridcolor": "white",
            "gridwidth": 2,
            "linecolor": "white",
            "showbackground": true,
            "ticks": "",
            "zerolinecolor": "white"
           },
           "zaxis": {
            "backgroundcolor": "#E5ECF6",
            "gridcolor": "white",
            "gridwidth": 2,
            "linecolor": "white",
            "showbackground": true,
            "ticks": "",
            "zerolinecolor": "white"
           }
          },
          "shapedefaults": {
           "line": {
            "color": "#2a3f5f"
           }
          },
          "ternary": {
           "aaxis": {
            "gridcolor": "white",
            "linecolor": "white",
            "ticks": ""
           },
           "baxis": {
            "gridcolor": "white",
            "linecolor": "white",
            "ticks": ""
           },
           "bgcolor": "#E5ECF6",
           "caxis": {
            "gridcolor": "white",
            "linecolor": "white",
            "ticks": ""
           }
          },
          "title": {
           "x": 0.05
          },
          "xaxis": {
           "automargin": true,
           "gridcolor": "white",
           "linecolor": "white",
           "ticks": "",
           "title": {
            "standoff": 15
           },
           "zerolinecolor": "white",
           "zerolinewidth": 2
          },
          "yaxis": {
           "automargin": true,
           "gridcolor": "white",
           "linecolor": "white",
           "ticks": "",
           "title": {
            "standoff": 15
           },
           "zerolinecolor": "white",
           "zerolinewidth": 2
          }
         }
        },
        "width": 1000
       }
      },
      "text/html": [
       "<div>                            <div id=\"5245246f-0b9b-4240-99d1-75e210ef0d8f\" class=\"plotly-graph-div\" style=\"height:1500px; width:1000px;\"></div>            <script type=\"text/javascript\">                require([\"plotly\"], function(Plotly) {                    window.PLOTLYENV=window.PLOTLYENV || {};                                    if (document.getElementById(\"5245246f-0b9b-4240-99d1-75e210ef0d8f\")) {                    Plotly.newPlot(                        \"5245246f-0b9b-4240-99d1-75e210ef0d8f\",                        [{\"link\":{\"color\":[\"rgb(31,119,180)\",\"rgb(31,119,180)\",\"rgb(31,119,180)\",\"rgb(31,119,180)\",\"rgb(31,119,180)\",\"rgb(31,119,180)\",\"rgb(174,199,232)\",\"rgb(174,199,232)\",\"rgb(174,199,232)\",\"rgb(174,199,232)\",\"rgb(174,199,232)\",\"rgb(174,199,232)\",\"rgb(255,127,14)\",\"rgb(255,127,14)\",\"rgb(255,187,120)\",\"rgb(255,187,120)\",\"rgb(44,160,44)\",\"rgb(44,160,44)\",\"rgb(44,160,44)\",\"rgb(152,223,138)\",\"rgb(152,223,138)\",\"rgb(152,223,138)\",\"rgb(214,39,40)\",\"rgb(214,39,40)\",\"rgb(214,39,40)\",\"rgb(214,39,40)\",\"rgb(255,152,150)\",\"rgb(255,152,150)\",\"rgb(148,103,189)\",\"rgb(148,103,189)\",\"rgb(197,176,213)\",\"rgb(140,86,75)\",\"rgb(140,86,75)\",\"rgb(196,156,148)\",\"rgb(196,156,148)\",\"rgb(196,156,148)\",\"rgb(255,187,120)\",\"rgb(255,187,120)\",\"rgb(255,187,120)\",\"rgb(255,187,120)\",\"rgb(255,187,120)\",\"rgb(31,119,180)\",\"rgb(31,119,180)\",\"rgb(31,119,180)\",\"rgb(255,152,150)\",\"rgb(255,152,150)\",\"rgb(255,152,150)\",\"rgb(255,127,14)\",\"rgb(152,223,138)\",\"rgb(152,223,138)\",\"rgb(152,223,138)\",\"rgb(152,223,138)\",\"rgb(152,223,138)\",\"rgb(152,223,138)\",\"rgb(148,103,189)\",\"rgb(148,103,189)\",\"rgb(255,152,150)\",\"rgb(255,152,150)\",\"rgb(31,119,180)\",\"rgb(31,119,180)\",\"rgb(197,176,213)\",\"rgb(197,176,213)\",\"rgb(197,176,213)\",\"rgb(255,187,120)\",\"rgb(255,187,120)\",\"rgb(148,103,189)\",\"rgb(148,103,189)\",\"rgb(148,103,189)\",\"rgb(174,199,232)\",\"rgb(31,119,180)\",\"rgb(44,160,44)\",\"rgb(174,199,232)\",\"rgb(174,199,232)\",\"rgb(44,160,44)\",\"rgb(44,160,44)\",\"rgb(196,156,148)\",\"rgb(174,199,232)\",\"rgb(174,199,232)\",\"rgb(174,199,232)\",\"rgb(214,39,40)\",\"rgb(214,39,40)\",\"rgb(214,39,40)\",\"rgb(174,199,232)\",\"rgb(174,199,232)\",\"rgb(140,86,75)\",\"rgb(140,86,75)\",\"rgb(214,39,40)\",\"rgb(214,39,40)\",\"rgb(152,223,138)\",\"rgb(152,223,138)\",\"rgb(174,199,232)\",\"rgb(31,119,180)\",\"rgb(31,119,180)\",\"rgb(44,160,44)\",\"rgb(255,127,14)\",\"rgb(255,127,14)\",\"rgb(31,119,180)\",\"rgb(196,156,148)\",\"rgb(152,223,138)\",\"rgb(214,39,40)\",\"rgb(31,119,180)\",\"rgb(174,199,232)\",\"rgb(174,199,232)\",\"rgb(214,39,40)\",\"rgb(214,39,40)\",\"rgb(196,156,148)\",\"rgb(140,86,75)\",\"rgb(140,86,75)\"],\"source\":[0,0,0,0,0,0,1,1,1,1,1,1,2,2,3,3,4,4,4,5,5,5,6,6,6,6,7,7,8,8,9,10,10,11,11,11,12,12,12,12,12,13,13,13,14,14,14,15,16,16,16,16,16,16,17,17,18,18,19,19,20,20,20,21,21,22,22,22,23,24,25,26,26,27,27,28,29,29,29,30,30,30,31,31,32,32,33,33,34,34,35,36,36,37,38,38,39,40,41,42,43,44,44,45,45,46,47,47],\"target\":[36,24,19,13,39,43,29,44,31,23,35,26,15,38,21,12,25,27,37,16,34,41,33,45,42,30,14,18,22,17,20,32,47,28,40,46,48,103,99,89,70,73,72,56,88,119,53,49,112,77,67,96,117,116,64,66,118,52,91,54,110,57,109,84,80,74,113,114,55,50,51,61,90,59,107,60,111,97,86,115,102,71,83,81,85,95,100,78,98,79,69,104,106,63,108,101,58,62,76,65,68,82,93,92,105,75,94,87],\"value\":[4511,5516,5464,9533,4368,3020,6854,4516,6300,4173,4336,5357,5121,4080,5484,17794,5440,6354,5781,15130,4389,3028,5944,5110,4519,8653,9916,8099,7435,8714,11721,7761,5369,3067,5628,6077,4700,3288,2667,3732,3407,1765,2059,5709,1787,2000,6129,5121,1743,1893,6945,1278,1610,1661,3935,4779,3298,4801,2611,2853,2699,6156,2866,3022,2462,3266,1956,2213,4173,5516,5440,3728,1629,4323,2031,3067,1985,1621,3248,2808,1969,3876,3205,3095,4693,3068,3328,2616,2086,2303,4336,1713,2798,5781,1735,2345,4368,5628,3028,4519,3020,2097,2419,2290,2820,6077,2291,3078]},\"node\":{\"color\":[\"rgb(31,119,180)\",\"rgb(174,199,232)\",\"rgb(255,127,14)\",\"rgb(255,187,120)\",\"rgb(44,160,44)\",\"rgb(152,223,138)\",\"rgb(214,39,40)\",\"rgb(255,152,150)\",\"rgb(148,103,189)\",\"rgb(197,176,213)\",\"rgb(140,86,75)\",\"rgb(196,156,148)\",\"rgb(255,187,120)\",\"rgb(255,127,14)\",\"rgb(31,119,180)\",\"rgb(44,160,44)\",\"rgb(255,152,150)\",\"rgb(255,152,150)\",\"rgb(31,119,180)\",\"rgb(174,199,232)\",\"rgb(31,119,180)\",\"rgb(197,176,213)\",\"rgb(31,119,180)\",\"rgb(44,160,44)\",\"rgb(196,156,148)\",\"rgb(174,199,232)\",\"rgb(196,156,148)\",\"rgb(44,160,44)\",\"rgb(148,103,189)\",\"rgb(214,39,40)\",\"rgb(152,223,138)\",\"rgb(31,119,180)\",\"rgb(174,199,232)\",\"rgb(214,39,40)\",\"rgb(148,103,189)\",\"rgb(196,156,148)\",\"rgb(152,223,138)\",\"rgb(214,39,40)\",\"rgb(152,223,138)\",\"rgb(255,187,120)\",\"rgb(174,199,232)\",\"rgb(174,199,232)\",\"rgb(140,86,75)\",\"rgb(174,199,232)\",\"rgb(140,86,75)\",\"rgb(214,39,40)\",\"rgb(255,127,14)\",\"rgb(31,119,180)\",\"rgb(255,187,120)\",\"rgb(255,127,14)\",\"rgb(31,119,180)\",\"rgb(44,160,44)\",\"rgb(255,152,150)\",\"rgb(255,152,150)\",\"rgb(31,119,180)\",\"rgb(174,199,232)\",\"rgb(31,119,180)\",\"rgb(197,176,213)\",\"rgb(31,119,180)\",\"rgb(44,160,44)\",\"rgb(196,156,148)\",\"rgb(174,199,232)\",\"rgb(196,156,148)\",\"rgb(44,160,44)\",\"rgb(148,103,189)\",\"rgb(214,39,40)\",\"rgb(148,103,189)\",\"rgb(152,223,138)\",\"rgb(31,119,180)\",\"rgb(174,199,232)\",\"rgb(255,187,120)\",\"rgb(214,39,40)\",\"rgb(31,119,180)\",\"rgb(31,119,180)\",\"rgb(148,103,189)\",\"rgb(196,156,148)\",\"rgb(152,223,138)\",\"rgb(152,223,138)\",\"rgb(214,39,40)\",\"rgb(152,223,138)\",\"rgb(255,187,120)\",\"rgb(174,199,232)\",\"rgb(174,199,232)\",\"rgb(174,199,232)\",\"rgb(255,187,120)\",\"rgb(140,86,75)\",\"rgb(174,199,232)\",\"rgb(140,86,75)\",\"rgb(255,152,150)\",\"rgb(255,187,120)\",\"rgb(174,199,232)\",\"rgb(31,119,180)\",\"rgb(214,39,40)\",\"rgb(174,199,232)\",\"rgb(140,86,75)\",\"rgb(140,86,75)\",\"rgb(152,223,138)\",\"rgb(174,199,232)\",\"rgb(152,223,138)\",\"rgb(255,187,120)\",\"rgb(214,39,40)\",\"rgb(255,127,14)\",\"rgb(214,39,40)\",\"rgb(255,187,120)\",\"rgb(31,119,180)\",\"rgb(214,39,40)\",\"rgb(31,119,180)\",\"rgb(44,160,44)\",\"rgb(255,127,14)\",\"rgb(197,176,213)\",\"rgb(197,176,213)\",\"rgb(174,199,232)\",\"rgb(152,223,138)\",\"rgb(148,103,189)\",\"rgb(148,103,189)\",\"rgb(214,39,40)\",\"rgb(152,223,138)\",\"rgb(152,223,138)\",\"rgb(255,152,150)\",\"rgb(255,152,150)\"],\"label\":[\"0_republik-soir-thiers-pinard-gambetta\",\"1_centrumspartei-culturkampf-maigesetze-fortschrittler-kreisordnung\",\"2_pforte-machte-psorte-bulgariens-turkei\",\"3_kronprinzessin-besuche-verweilen-herrschaften-hofburg\",\"4_budgets-cortes-budget-kammer-vertagte\",\"5_polizei-thater-verhafteten-verhasteten-verbrechens\",\"6_sherman-grant-bragg-meade-savannah\",\"7_ortlichen-inland-reichsdomamen-ortliche-stadthauptes\",\"8_austern-korbe-gummi-pack-nagel\",\"9_kunst-clavier-kunstler-schone-musik\",\"10_komorn-gorgey-thei\\u00df-armeecorp-arad\",\"11_leck-gestrandet-lootsen-danisches-cuxhaven\",\"12_kronprinzessin-herrschaften-gro\\u00dfherzogin-schlosse-heiterer\",\"13_elysee-thiers-prafecten-soir-siecle\",\"14_tagesbesehls-dirigirender-dirigirende-inland-auditoriats\",\"15_machte-pforte-psorte-turkei-collectivnote\",\"16_arztlicher-entzundung-menschenleben-stockwerke-patienten\",\"17_beginn-sicht-ballen-korbe-austern\",\"18_ortlichen-russk-jahrmarkte-nowosti-listok\",\"19_groszbritannien-herald-globe-irland-manchester\",\"20_kunst-neustra\\u00dfe-sandpforte-mullerschen-clavier\",\"21_ischl-schonbrunn-metternich-hofburg-erzherzoge\",\"22_austern-gummi-pack-meitzer-korbe\",\"23_fortschrittler-culturkampf-centrumspartei-kanzler-freifinnigen\",\"24_madrider-serrano-concha-donnell-carlisten\",\"25_lesung-gesetzentwurf-gesetzentwurfs-einbringung-antrag\",\"26_zollvereins-bundestags-bundesstaaten-kurhessen-bundestage\",\"27_freycinet-fourtou-waddington-dufaure-broglie\",\"28_kanonenboten-nargen-segel-kanonenbote-corvette\",\"29_geistlichen-geistlicher-geistliche-evangelischen-evangelische\",\"30_thessalien-kandia-suleiman-macedonien-eupatoria\",\"31_kreisordnung-reichsregierung-preu\\u00dfischen-bundesstaaten-bundesstaate\",\"32_komorn-gorgey-thei\\u00df-armeecorp-schlick\",\"33_sherman-sudstaatlichen-davis-consoderirten-grant\",\"34_verurtheilte-verurtheilt-freigesprochen-angeklagten-verbrechens\",\"35_vaterlande-vaterlandes-erhabenen-treuen-vorsehung\",\"36_garibaldi-caprera-gazzetta-cialdini-florenz\",\"37_zinsen-anleihen-deckung-tilgung-betrage\",\"38_sofia-bulgarische-bulgarischen-bulgarien-bulgariens\",\"39_unterhause-unterhaus-bill-schatzkanzler-oberhause\",\"40_fadrelandet-schleswiger-tidende-fuhnen-danischer\",\"41_ruhestorer-tumultuanten-volkshaufen-steinwurfen-auflauf\",\"42_mehmed-egypten-kahira-said-syrien\",\"43_pius-vatican-papst-cardinalen-cardinale\",\"44_ungarischen-ungarn-ausgleichs-andrassy-ungarns\",\"45_kabul-kandahar-afghanen-lahore-afghanistan\",\"46_leck-gestrandet-capt-hartlepool-bark\",\"47_kantonen-eidgenossische-waadt-eidgenossischen-schweizerischen\",\"48_herrschaften-herrschasten-kronprinzessin-hoheiten-gro\\u00dfherzogin\",\"49_pforte-machte-psorte-turkei-collectivnote\",\"50_madrider-serrano-concha-donnell-carlisten\",\"51_lesung-gesetzentwurf-gesetzentwurfs-einbringung-antrag\",\"52_ortlichen-nowosti-russk-birsh-molwa\",\"53_tagesbesehls-tagesbefehls-schwerdtern-musterhasten-civilressort\",\"54_herald-globe-groszbritannien-times-irland\",\"55_fortschrittler-culturkampf-kanzler-centrumspartei-freifinnigen\",\"56_republik-gambetta-thiers-fourtou-bonapartisten\",\"57_kunst-kunstler-kunstwerk-kunstlern-poesie\",\"58_unterhause-unterhaus-bill-schatzkanzler-oberhause\",\"59_monarchisten-freycinet-fourtou-republikaner-broglie\",\"60_kanonenboten-nargen-kanonenbote-segel-corvette\",\"61_zollvereins-zolleinigung-zollverein-handelsvertrags-zollvereine\",\"62_fadrelandet-schleswiger-tidende-fuhnen-danischer\",\"63_zinsen-anleihen-deckung-tilgung-betrage\",\"64_sicht-tinte-austern-korbe-nagel\",\"65_mehmed-egypten-kahira-said-syrien\",\"66_beginn-ballen-allen-garn-kastanien\",\"67_menschenleben-einsturz-eingesturzt-wasser-locomotive\",\"68_pius-papst-vatican-cardinalen-cardinale\",\"69_vaterlande-vaterlandes-treuen-vorsehung-erhabenen\",\"70_barometer-sudwestwind-uleaborg-ma\\u00dfiger-weht\",\"71_eupatoria-rustschuk-dobrudscha-serdar-silistria\",\"72_france-pays-tuilerien-pinard-constitutionnel\",\"73_tuilerieen-boulevards-prafectur-cloud-magnan\",\"74_austern-gummi-eiserne-kastanien-pack\",\"75_capt-hartlepool-leck-gestrandet-bark\",\"76_ruhestorer-tumultuanten-volkshaufen-steinwurfen-auflauf\",\"77_pistol-morder-pistole-dolch-revolver\",\"78_tennessee-grant-sherman-davis-sudstaatlichen\",\"79_verurtheilte-freigesprochen-verurtheilt-zuchthaus-angeklagten\",\"80_schonbrunn-erzherzog-erzherzoge-rainer-ischl\",\"81_herzogthumer-herzogthumern-holsteinischen-holstein-lauenburg\",\"82_andrassy-delegationen-osterreichisch-friedenspolitik-tisza\",\"83_kreisordnung-hoverbeck-lasker-meppen-reichstag\",\"84_botschafter-gastein-metternich-oubril-ischl\",\"85_feindes-feind-komorn-gorgey-detachement\",\"86_bischoflichen-diocese-excommunication-bischofs-bischofe\",\"87_rekruten-beurlaubten-regimentern-regimenter-landwehr\",\"88_bestatigten-swod-reglements-allerhochst-durchsicht\",\"89_moniteur-cloud-officiel-moniten-monitenr\",\"90_kurhessen-kurfurst-kasseler-hessen-kassel\",\"91_spithead-portsmouth-chatham-sheerne\\u00df-woolwich\",\"92_kabul-kandahar-lahore-afghanistan-dost\",\"93_croatischen-hohenwart-ungarn-leitha-ungarischen\",\"94_waadt-eidgenossischen-kantonen-eidgenossische-tessin\",\"95_komorn-gorgey-pre\\u00dfburg-thei\\u00df-schlick\",\"96_ernte-saaten-durre-regen-erndte\",\"97_evangelischen-evangelische-landeskirche-prediger-evangelischer\",\"98_verhafteten-complotts-verhasteten-verhaftung-attentat\",\"99_balmoral-wales-windsor-palace-osborne\",\"100_luarez-matamoras-santana-mexiko-mejia\",\"101_serbien-belgrad-serbiens-milan-bukarest\",\"102_piraus-patras-kandia-nauplia-grivas\",\"103_belgischen-brussel-haag-mecheln-brabant\",\"104_palermo-calabrien-catania-garibaldi-siciliens\",\"105_suakim-berber-gordons-chartum-wolseley\",\"106_venedig-mailand-gazzetta-venetianischen-brescia\",\"107_portefeuilles-portefeuille-interimistisch-inneres-depretis\",\"108_sofia-sobranje-bulgarische-bulgarischen-bulgarien\",\"109_kalkstra\\u00dfe-sunderstra\\u00dfe-scheunenstra\\u00dfe-sandpforte-erkundigungs\",\"110_ruhestatte-verewigten-verstorbenen-verstorbene-bestattung\",\"111_professoren-vorlesungen-docenten-mathematik-facultat\",\"112_brandes-feuers-brandstatte-brande-flammen\",\"113_meitzer-pack-wohrmann-sacke-korbe\",\"114_austern-cigarren-korbe-gummi-leder\",\"115_athen-griechenland-griechische-hellenischen-piraus\",\"116_husten-bulletin-genesung-patient-besserung\",\"117_erkrankt-cholera-epidemie-erkrankten-erkrankungen\",\"118_waare-verkaufer-preise-lichttalg-kaufer\",\"119_hochedlen-kaufm-hochweisen-backergesell-dato\"],\"pad\":5,\"thickness\":100},\"type\":\"sankey\"}],                        {\"template\":{\"data\":{\"histogram2dcontour\":[{\"type\":\"histogram2dcontour\",\"colorbar\":{\"outlinewidth\":0,\"ticks\":\"\"},\"colorscale\":[[0.0,\"#0d0887\"],[0.1111111111111111,\"#46039f\"],[0.2222222222222222,\"#7201a8\"],[0.3333333333333333,\"#9c179e\"],[0.4444444444444444,\"#bd3786\"],[0.5555555555555556,\"#d8576b\"],[0.6666666666666666,\"#ed7953\"],[0.7777777777777778,\"#fb9f3a\"],[0.8888888888888888,\"#fdca26\"],[1.0,\"#f0f921\"]]}],\"choropleth\":[{\"type\":\"choropleth\",\"colorbar\":{\"outlinewidth\":0,\"ticks\":\"\"}}],\"histogram2d\":[{\"type\":\"histogram2d\",\"colorbar\":{\"outlinewidth\":0,\"ticks\":\"\"},\"colorscale\":[[0.0,\"#0d0887\"],[0.1111111111111111,\"#46039f\"],[0.2222222222222222,\"#7201a8\"],[0.3333333333333333,\"#9c179e\"],[0.4444444444444444,\"#bd3786\"],[0.5555555555555556,\"#d8576b\"],[0.6666666666666666,\"#ed7953\"],[0.7777777777777778,\"#fb9f3a\"],[0.8888888888888888,\"#fdca26\"],[1.0,\"#f0f921\"]]}],\"heatmap\":[{\"type\":\"heatmap\",\"colorbar\":{\"outlinewidth\":0,\"ticks\":\"\"},\"colorscale\":[[0.0,\"#0d0887\"],[0.1111111111111111,\"#46039f\"],[0.2222222222222222,\"#7201a8\"],[0.3333333333333333,\"#9c179e\"],[0.4444444444444444,\"#bd3786\"],[0.5555555555555556,\"#d8576b\"],[0.6666666666666666,\"#ed7953\"],[0.7777777777777778,\"#fb9f3a\"],[0.8888888888888888,\"#fdca26\"],[1.0,\"#f0f921\"]]}],\"heatmapgl\":[{\"type\":\"heatmapgl\",\"colorbar\":{\"outlinewidth\":0,\"ticks\":\"\"},\"colorscale\":[[0.0,\"#0d0887\"],[0.1111111111111111,\"#46039f\"],[0.2222222222222222,\"#7201a8\"],[0.3333333333333333,\"#9c179e\"],[0.4444444444444444,\"#bd3786\"],[0.5555555555555556,\"#d8576b\"],[0.6666666666666666,\"#ed7953\"],[0.7777777777777778,\"#fb9f3a\"],[0.8888888888888888,\"#fdca26\"],[1.0,\"#f0f921\"]]}],\"contourcarpet\":[{\"type\":\"contourcarpet\",\"colorbar\":{\"outlinewidth\":0,\"ticks\":\"\"}}],\"contour\":[{\"type\":\"contour\",\"colorbar\":{\"outlinewidth\":0,\"ticks\":\"\"},\"colorscale\":[[0.0,\"#0d0887\"],[0.1111111111111111,\"#46039f\"],[0.2222222222222222,\"#7201a8\"],[0.3333333333333333,\"#9c179e\"],[0.4444444444444444,\"#bd3786\"],[0.5555555555555556,\"#d8576b\"],[0.6666666666666666,\"#ed7953\"],[0.7777777777777778,\"#fb9f3a\"],[0.8888888888888888,\"#fdca26\"],[1.0,\"#f0f921\"]]}],\"surface\":[{\"type\":\"surface\",\"colorbar\":{\"outlinewidth\":0,\"ticks\":\"\"},\"colorscale\":[[0.0,\"#0d0887\"],[0.1111111111111111,\"#46039f\"],[0.2222222222222222,\"#7201a8\"],[0.3333333333333333,\"#9c179e\"],[0.4444444444444444,\"#bd3786\"],[0.5555555555555556,\"#d8576b\"],[0.6666666666666666,\"#ed7953\"],[0.7777777777777778,\"#fb9f3a\"],[0.8888888888888888,\"#fdca26\"],[1.0,\"#f0f921\"]]}],\"mesh3d\":[{\"type\":\"mesh3d\",\"colorbar\":{\"outlinewidth\":0,\"ticks\":\"\"}}],\"scatter\":[{\"fillpattern\":{\"fillmode\":\"overlay\",\"size\":10,\"solidity\":0.2},\"type\":\"scatter\"}],\"parcoords\":[{\"type\":\"parcoords\",\"line\":{\"colorbar\":{\"outlinewidth\":0,\"ticks\":\"\"}}}],\"scatterpolargl\":[{\"type\":\"scatterpolargl\",\"marker\":{\"colorbar\":{\"outlinewidth\":0,\"ticks\":\"\"}}}],\"bar\":[{\"error_x\":{\"color\":\"#2a3f5f\"},\"error_y\":{\"color\":\"#2a3f5f\"},\"marker\":{\"line\":{\"color\":\"#E5ECF6\",\"width\":0.5},\"pattern\":{\"fillmode\":\"overlay\",\"size\":10,\"solidity\":0.2}},\"type\":\"bar\"}],\"scattergeo\":[{\"type\":\"scattergeo\",\"marker\":{\"colorbar\":{\"outlinewidth\":0,\"ticks\":\"\"}}}],\"scatterpolar\":[{\"type\":\"scatterpolar\",\"marker\":{\"colorbar\":{\"outlinewidth\":0,\"ticks\":\"\"}}}],\"histogram\":[{\"marker\":{\"pattern\":{\"fillmode\":\"overlay\",\"size\":10,\"solidity\":0.2}},\"type\":\"histogram\"}],\"scattergl\":[{\"type\":\"scattergl\",\"marker\":{\"colorbar\":{\"outlinewidth\":0,\"ticks\":\"\"}}}],\"scatter3d\":[{\"type\":\"scatter3d\",\"line\":{\"colorbar\":{\"outlinewidth\":0,\"ticks\":\"\"}},\"marker\":{\"colorbar\":{\"outlinewidth\":0,\"ticks\":\"\"}}}],\"scattermapbox\":[{\"type\":\"scattermapbox\",\"marker\":{\"colorbar\":{\"outlinewidth\":0,\"ticks\":\"\"}}}],\"scatterternary\":[{\"type\":\"scatterternary\",\"marker\":{\"colorbar\":{\"outlinewidth\":0,\"ticks\":\"\"}}}],\"scattercarpet\":[{\"type\":\"scattercarpet\",\"marker\":{\"colorbar\":{\"outlinewidth\":0,\"ticks\":\"\"}}}],\"carpet\":[{\"aaxis\":{\"endlinecolor\":\"#2a3f5f\",\"gridcolor\":\"white\",\"linecolor\":\"white\",\"minorgridcolor\":\"white\",\"startlinecolor\":\"#2a3f5f\"},\"baxis\":{\"endlinecolor\":\"#2a3f5f\",\"gridcolor\":\"white\",\"linecolor\":\"white\",\"minorgridcolor\":\"white\",\"startlinecolor\":\"#2a3f5f\"},\"type\":\"carpet\"}],\"table\":[{\"cells\":{\"fill\":{\"color\":\"#EBF0F8\"},\"line\":{\"color\":\"white\"}},\"header\":{\"fill\":{\"color\":\"#C8D4E3\"},\"line\":{\"color\":\"white\"}},\"type\":\"table\"}],\"barpolar\":[{\"marker\":{\"line\":{\"color\":\"#E5ECF6\",\"width\":0.5},\"pattern\":{\"fillmode\":\"overlay\",\"size\":10,\"solidity\":0.2}},\"type\":\"barpolar\"}],\"pie\":[{\"automargin\":true,\"type\":\"pie\"}]},\"layout\":{\"autotypenumbers\":\"strict\",\"colorway\":[\"#636efa\",\"#EF553B\",\"#00cc96\",\"#ab63fa\",\"#FFA15A\",\"#19d3f3\",\"#FF6692\",\"#B6E880\",\"#FF97FF\",\"#FECB52\"],\"font\":{\"color\":\"#2a3f5f\"},\"hovermode\":\"closest\",\"hoverlabel\":{\"align\":\"left\"},\"paper_bgcolor\":\"white\",\"plot_bgcolor\":\"#E5ECF6\",\"polar\":{\"bgcolor\":\"#E5ECF6\",\"angularaxis\":{\"gridcolor\":\"white\",\"linecolor\":\"white\",\"ticks\":\"\"},\"radialaxis\":{\"gridcolor\":\"white\",\"linecolor\":\"white\",\"ticks\":\"\"}},\"ternary\":{\"bgcolor\":\"#E5ECF6\",\"aaxis\":{\"gridcolor\":\"white\",\"linecolor\":\"white\",\"ticks\":\"\"},\"baxis\":{\"gridcolor\":\"white\",\"linecolor\":\"white\",\"ticks\":\"\"},\"caxis\":{\"gridcolor\":\"white\",\"linecolor\":\"white\",\"ticks\":\"\"}},\"coloraxis\":{\"colorbar\":{\"outlinewidth\":0,\"ticks\":\"\"}},\"colorscale\":{\"sequential\":[[0.0,\"#0d0887\"],[0.1111111111111111,\"#46039f\"],[0.2222222222222222,\"#7201a8\"],[0.3333333333333333,\"#9c179e\"],[0.4444444444444444,\"#bd3786\"],[0.5555555555555556,\"#d8576b\"],[0.6666666666666666,\"#ed7953\"],[0.7777777777777778,\"#fb9f3a\"],[0.8888888888888888,\"#fdca26\"],[1.0,\"#f0f921\"]],\"sequentialminus\":[[0.0,\"#0d0887\"],[0.1111111111111111,\"#46039f\"],[0.2222222222222222,\"#7201a8\"],[0.3333333333333333,\"#9c179e\"],[0.4444444444444444,\"#bd3786\"],[0.5555555555555556,\"#d8576b\"],[0.6666666666666666,\"#ed7953\"],[0.7777777777777778,\"#fb9f3a\"],[0.8888888888888888,\"#fdca26\"],[1.0,\"#f0f921\"]],\"diverging\":[[0,\"#8e0152\"],[0.1,\"#c51b7d\"],[0.2,\"#de77ae\"],[0.3,\"#f1b6da\"],[0.4,\"#fde0ef\"],[0.5,\"#f7f7f7\"],[0.6,\"#e6f5d0\"],[0.7,\"#b8e186\"],[0.8,\"#7fbc41\"],[0.9,\"#4d9221\"],[1,\"#276419\"]]},\"xaxis\":{\"gridcolor\":\"white\",\"linecolor\":\"white\",\"ticks\":\"\",\"title\":{\"standoff\":15},\"zerolinecolor\":\"white\",\"automargin\":true,\"zerolinewidth\":2},\"yaxis\":{\"gridcolor\":\"white\",\"linecolor\":\"white\",\"ticks\":\"\",\"title\":{\"standoff\":15},\"zerolinecolor\":\"white\",\"automargin\":true,\"zerolinewidth\":2},\"scene\":{\"xaxis\":{\"backgroundcolor\":\"#E5ECF6\",\"gridcolor\":\"white\",\"linecolor\":\"white\",\"showbackground\":true,\"ticks\":\"\",\"zerolinecolor\":\"white\",\"gridwidth\":2},\"yaxis\":{\"backgroundcolor\":\"#E5ECF6\",\"gridcolor\":\"white\",\"linecolor\":\"white\",\"showbackground\":true,\"ticks\":\"\",\"zerolinecolor\":\"white\",\"gridwidth\":2},\"zaxis\":{\"backgroundcolor\":\"#E5ECF6\",\"gridcolor\":\"white\",\"linecolor\":\"white\",\"showbackground\":true,\"ticks\":\"\",\"zerolinecolor\":\"white\",\"gridwidth\":2}},\"shapedefaults\":{\"line\":{\"color\":\"#2a3f5f\"}},\"annotationdefaults\":{\"arrowcolor\":\"#2a3f5f\",\"arrowhead\":0,\"arrowwidth\":1},\"geo\":{\"bgcolor\":\"white\",\"landcolor\":\"#E5ECF6\",\"subunitcolor\":\"white\",\"showland\":true,\"showlakes\":true,\"lakecolor\":\"white\"},\"title\":{\"x\":0.05},\"mapbox\":{\"style\":\"light\"}}},\"autosize\":false,\"width\":1000,\"height\":1500},                        {\"responsive\": true}                    ).then(function(){\n",
       "                            \n",
       "var gd = document.getElementById('5245246f-0b9b-4240-99d1-75e210ef0d8f');\n",
       "var x = new MutationObserver(function (mutations, observer) {{\n",
       "        var display = window.getComputedStyle(gd).display;\n",
       "        if (!display || display === 'none') {{\n",
       "            console.log([gd, 'removed!']);\n",
       "            Plotly.purge(gd);\n",
       "            observer.disconnect();\n",
       "        }}\n",
       "}});\n",
       "\n",
       "// Listen for the removal of the full notebook cells\n",
       "var notebookContainer = gd.closest('#notebook-container');\n",
       "if (notebookContainer) {{\n",
       "    x.observe(notebookContainer, {childList: true});\n",
       "}}\n",
       "\n",
       "// Listen for the clearing of the current output cell\n",
       "var outputEl = gd.closest('.output');\n",
       "if (outputEl) {{\n",
       "    x.observe(outputEl, {childList: true});\n",
       "}}\n",
       "\n",
       "                        })                };                });            </script>        </div>"
      ]
     },
     "metadata": {},
     "output_type": "display_data"
    }
   ],
   "source": [
    "fig.update_layout(\n",
    "    autosize=False,\n",
    "    width=1000,\n",
    "    height=1500)\n",
    "\n",
    "fig.show()"
   ]
  }
 ],
 "metadata": {
  "kernelspec": {
   "display_name": "acta_env",
   "language": "python",
   "name": "acta_env"
  },
  "language_info": {
   "codemirror_mode": {
    "name": "ipython",
    "version": 3
   },
   "file_extension": ".py",
   "mimetype": "text/x-python",
   "name": "python",
   "nbconvert_exporter": "python",
   "pygments_lexer": "ipython3",
   "version": "3.9.12"
  }
 },
 "nbformat": 4,
 "nbformat_minor": 5
}
