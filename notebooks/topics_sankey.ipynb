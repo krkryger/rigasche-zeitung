{
 "cells": [
  {
   "cell_type": "code",
   "execution_count": 93,
   "id": "edb1b4cc",
   "metadata": {},
   "outputs": [],
   "source": [
    "import os\n",
    "import copy\n",
    "from itertools import chain\n",
    "import json\n",
    "import pandas as pd\n",
    "import plotly.graph_objects as go"
   ]
  },
  {
   "cell_type": "code",
   "execution_count": 332,
   "id": "fa70eb5f",
   "metadata": {},
   "outputs": [],
   "source": [
    "reductions = [12, 36, 72]"
   ]
  },
  {
   "cell_type": "code",
   "execution_count": 333,
   "id": "f0c71027",
   "metadata": {},
   "outputs": [],
   "source": [
    "hierarchy_df = pd.read_csv('../data/topics/topic_hierarchy.tsv', sep='\\t', encoding='utf8')"
   ]
  },
  {
   "cell_type": "code",
   "execution_count": 334,
   "id": "d3cd1dce",
   "metadata": {},
   "outputs": [],
   "source": [
    "def get_sizes(reductions):\n",
    "    \n",
    "    sizes = []\n",
    "    \n",
    "    for r in reductions:\n",
    "        with open(f'../data/topics/reduction_{r}/sizes.json', 'r', encoding='utf8') as f:\n",
    "            reduction_sizes = json.load(f)\n",
    "            sizes += reduction_sizes\n",
    "            \n",
    "    return dict(zip(range(sum(reductions)), sizes))"
   ]
  },
  {
   "cell_type": "code",
   "execution_count": 335,
   "id": "b6600812",
   "metadata": {},
   "outputs": [],
   "source": [
    "sizes = get_sizes(reductions)"
   ]
  },
  {
   "cell_type": "code",
   "execution_count": 337,
   "id": "e34bf3aa",
   "metadata": {},
   "outputs": [],
   "source": [
    "def get_labels(reduction):\n",
    "    \n",
    "    labels = []\n",
    "    \n",
    "    for r in reductions:\n",
    "        with open(f'../data/topics/reduction_{r}/default_labels.json', 'r', encoding='utf8') as f:\n",
    "            reduction_labels = json.load(f)\n",
    "            labels += reduction_labels\n",
    "            \n",
    "    return dict(zip(range(sum(reductions)), labels))"
   ]
  },
  {
   "cell_type": "code",
   "execution_count": 338,
   "id": "db0dc698",
   "metadata": {},
   "outputs": [],
   "source": [
    "labels = get_labels(reductions)"
   ]
  },
  {
   "cell_type": "code",
   "execution_count": 316,
   "id": "7b1ac4fb",
   "metadata": {},
   "outputs": [],
   "source": [
    "def get_hierarchies(reductions):\n",
    "\n",
    "    all_hierarchies = []\n",
    "\n",
    "    for r in reductions:\n",
    "        with open(f'../data/topics/reduction_{str(r)}/reduction_hierarchy.json', 'r', encoding='utf8') as f:\n",
    "            hierarchies = json.load(f)\n",
    "            all_hierarchies.append(hierarchies)\n",
    "\n",
    "    return all_hierarchies"
   ]
  },
  {
   "cell_type": "code",
   "execution_count": 340,
   "id": "08feb816",
   "metadata": {},
   "outputs": [],
   "source": [
    "hierarchies = get_hierarchies(reductions)"
   ]
  },
  {
   "cell_type": "code",
   "execution_count": 341,
   "id": "7237f771",
   "metadata": {},
   "outputs": [],
   "source": [
    "def create_hierarchy_df(hierarchies):\n",
    "    \n",
    "    levels = copy.deepcopy(hierarchies)\n",
    "    nodes_flat = dict(enumerate(list(chain(*levels))))\n",
    "    nodes = []\n",
    "    \n",
    "    # makes a list of a dictionary for each level with unique id for each topic\n",
    "    for level in levels:\n",
    "        nodes.append(dict(list(nodes_flat.items())[len(list(chain(*nodes))):len(list(chain(*nodes)))+len(level)]))\n",
    "        \n",
    "    paths = [[key] for key in nodes[-1].keys()]\n",
    "    #print(len(paths))\n",
    "\n",
    "    # starts from the penultimate level and looks if the topic is a subset of anything in that level\n",
    "    for path in paths:\n",
    "        for level in nodes[-2::-1]:\n",
    "            last_subtopic = set(nodes[len(nodes)-len(path)][path[-1]])\n",
    "            for root_key, root_topic in level.items():\n",
    "                if last_subtopic.issubset(set(root_topic)):\n",
    "                    path.append(root_key)\n",
    "    \n",
    "    paths = [path[::-1] for path in paths]\n",
    "    \n",
    "    #return paths\n",
    "    \n",
    "    hierarchy_df = pd.DataFrame(paths)#.apply(lambda x: x.sort_values().values)\n",
    "    hierarchy_df.columns = [f'reduction_{len(level)}' for level in nodes]\n",
    "    \n",
    "    return hierarchy_df"
   ]
  },
  {
   "cell_type": "code",
   "execution_count": 342,
   "id": "a6eff3a1",
   "metadata": {},
   "outputs": [],
   "source": [
    "hierarchy_df = create_hierarchy_df(hierarchies)"
   ]
  },
  {
   "cell_type": "code",
   "execution_count": 375,
   "id": "cde98d3c",
   "metadata": {},
   "outputs": [],
   "source": [
    "def create_sankey_link(hierarchy_df, sizes, labels):\n",
    "    \n",
    "    \n",
    "    \n",
    "   # node = dict(\n",
    "   #   pad = 15,\n",
    "   #   thickness = 20,\n",
    "   #   line = dict(color = \"black\", width = 0.5),\n",
    "   #   label = [\"A1\", \"A2\", \"B1\", \"B2\", \"C1\", \"C2\"],\n",
    "   #   color = \"blue\"\n",
    "   # \n",
    "    \n",
    "    \n",
    "    source = []\n",
    "    target = []\n",
    "    value  = []\n",
    "    \n",
    "    for source_col, target_col in zip(hierarchy_df.columns[0:-1], hierarchy_df.columns[1:]):\n",
    "        #print('\\n', size_list.keys())\n",
    "        unique_combinations = hierarchy_df[[source_col, target_col]].drop_duplicates()\n",
    "        sources = list(unique_combinations[source_col])\n",
    "        targets = list(unique_combinations[target_col])\n",
    "        \n",
    "        source += sources\n",
    "        target += targets\n",
    "        \n",
    "    value = [sizes[top] for top in target]\n",
    "    \n",
    "    assert len(source) == len(target) == len(value)\n",
    "        \n",
    "    link = dict(source=source, target=target, value=value)\n",
    "    \n",
    "    return link"
   ]
  },
  {
   "cell_type": "code",
   "execution_count": 376,
   "id": "efe41605",
   "metadata": {},
   "outputs": [],
   "source": [
    "link = create_sankey_link(hierarchy_df, sizes, labels)\n",
    "node = dict(label=[str(key)+'_'+value for key, value in labels.items()],\n",
    "            pad=5,\n",
    "            thickness=100)\n",
    "sankey_data = go.Sankey(link=link, node=node)\n",
    "\n",
    "fig = go.Figure(sankey_data)"
   ]
  },
  {
   "cell_type": "code",
   "execution_count": 377,
   "id": "e22ec7ff",
   "metadata": {},
   "outputs": [
    {
     "data": {
      "text/html": [
       "<div>\n",
       "<style scoped>\n",
       "    .dataframe tbody tr th:only-of-type {\n",
       "        vertical-align: middle;\n",
       "    }\n",
       "\n",
       "    .dataframe tbody tr th {\n",
       "        vertical-align: top;\n",
       "    }\n",
       "\n",
       "    .dataframe thead th {\n",
       "        text-align: right;\n",
       "    }\n",
       "</style>\n",
       "<table border=\"1\" class=\"dataframe\">\n",
       "  <thead>\n",
       "    <tr style=\"text-align: right;\">\n",
       "      <th></th>\n",
       "      <th>reduction_12</th>\n",
       "      <th>reduction_36</th>\n",
       "    </tr>\n",
       "  </thead>\n",
       "  <tbody>\n",
       "    <tr>\n",
       "      <th>56</th>\n",
       "      <td>0</td>\n",
       "      <td>36</td>\n",
       "    </tr>\n",
       "    <tr>\n",
       "      <th>2</th>\n",
       "      <td>0</td>\n",
       "      <td>24</td>\n",
       "    </tr>\n",
       "    <tr>\n",
       "      <th>6</th>\n",
       "      <td>0</td>\n",
       "      <td>19</td>\n",
       "    </tr>\n",
       "    <tr>\n",
       "      <th>8</th>\n",
       "      <td>0</td>\n",
       "      <td>13</td>\n",
       "    </tr>\n",
       "    <tr>\n",
       "      <th>10</th>\n",
       "      <td>0</td>\n",
       "      <td>39</td>\n",
       "    </tr>\n",
       "    <tr>\n",
       "      <th>20</th>\n",
       "      <td>0</td>\n",
       "      <td>43</td>\n",
       "    </tr>\n",
       "    <tr>\n",
       "      <th>38</th>\n",
       "      <td>1</td>\n",
       "      <td>29</td>\n",
       "    </tr>\n",
       "    <tr>\n",
       "      <th>34</th>\n",
       "      <td>1</td>\n",
       "      <td>44</td>\n",
       "    </tr>\n",
       "    <tr>\n",
       "      <th>33</th>\n",
       "      <td>1</td>\n",
       "      <td>31</td>\n",
       "    </tr>\n",
       "    <tr>\n",
       "      <th>7</th>\n",
       "      <td>1</td>\n",
       "      <td>23</td>\n",
       "    </tr>\n",
       "    <tr>\n",
       "      <th>21</th>\n",
       "      <td>1</td>\n",
       "      <td>35</td>\n",
       "    </tr>\n",
       "    <tr>\n",
       "      <th>13</th>\n",
       "      <td>1</td>\n",
       "      <td>26</td>\n",
       "    </tr>\n",
       "    <tr>\n",
       "      <th>1</th>\n",
       "      <td>2</td>\n",
       "      <td>15</td>\n",
       "    </tr>\n",
       "    <tr>\n",
       "      <th>53</th>\n",
       "      <td>2</td>\n",
       "      <td>38</td>\n",
       "    </tr>\n",
       "    <tr>\n",
       "      <th>32</th>\n",
       "      <td>3</td>\n",
       "      <td>21</td>\n",
       "    </tr>\n",
       "    <tr>\n",
       "      <th>0</th>\n",
       "      <td>3</td>\n",
       "      <td>12</td>\n",
       "    </tr>\n",
       "    <tr>\n",
       "      <th>3</th>\n",
       "      <td>4</td>\n",
       "      <td>25</td>\n",
       "    </tr>\n",
       "    <tr>\n",
       "      <th>11</th>\n",
       "      <td>4</td>\n",
       "      <td>27</td>\n",
       "    </tr>\n",
       "    <tr>\n",
       "      <th>15</th>\n",
       "      <td>4</td>\n",
       "      <td>37</td>\n",
       "    </tr>\n",
       "    <tr>\n",
       "      <th>19</th>\n",
       "      <td>5</td>\n",
       "      <td>16</td>\n",
       "    </tr>\n",
       "    <tr>\n",
       "      <th>31</th>\n",
       "      <td>5</td>\n",
       "      <td>34</td>\n",
       "    </tr>\n",
       "    <tr>\n",
       "      <th>28</th>\n",
       "      <td>5</td>\n",
       "      <td>41</td>\n",
       "    </tr>\n",
       "    <tr>\n",
       "      <th>30</th>\n",
       "      <td>6</td>\n",
       "      <td>33</td>\n",
       "    </tr>\n",
       "    <tr>\n",
       "      <th>44</th>\n",
       "      <td>6</td>\n",
       "      <td>45</td>\n",
       "    </tr>\n",
       "    <tr>\n",
       "      <th>17</th>\n",
       "      <td>6</td>\n",
       "      <td>42</td>\n",
       "    </tr>\n",
       "    <tr>\n",
       "      <th>23</th>\n",
       "      <td>6</td>\n",
       "      <td>30</td>\n",
       "    </tr>\n",
       "    <tr>\n",
       "      <th>5</th>\n",
       "      <td>7</td>\n",
       "      <td>14</td>\n",
       "    </tr>\n",
       "    <tr>\n",
       "      <th>4</th>\n",
       "      <td>7</td>\n",
       "      <td>18</td>\n",
       "    </tr>\n",
       "    <tr>\n",
       "      <th>26</th>\n",
       "      <td>8</td>\n",
       "      <td>22</td>\n",
       "    </tr>\n",
       "    <tr>\n",
       "      <th>16</th>\n",
       "      <td>8</td>\n",
       "      <td>17</td>\n",
       "    </tr>\n",
       "    <tr>\n",
       "      <th>9</th>\n",
       "      <td>9</td>\n",
       "      <td>20</td>\n",
       "    </tr>\n",
       "    <tr>\n",
       "      <th>37</th>\n",
       "      <td>10</td>\n",
       "      <td>32</td>\n",
       "    </tr>\n",
       "    <tr>\n",
       "      <th>39</th>\n",
       "      <td>10</td>\n",
       "      <td>47</td>\n",
       "    </tr>\n",
       "    <tr>\n",
       "      <th>12</th>\n",
       "      <td>11</td>\n",
       "      <td>28</td>\n",
       "    </tr>\n",
       "    <tr>\n",
       "      <th>14</th>\n",
       "      <td>11</td>\n",
       "      <td>40</td>\n",
       "    </tr>\n",
       "    <tr>\n",
       "      <th>27</th>\n",
       "      <td>11</td>\n",
       "      <td>46</td>\n",
       "    </tr>\n",
       "  </tbody>\n",
       "</table>\n",
       "</div>"
      ],
      "text/plain": [
       "    reduction_12  reduction_36\n",
       "56             0            36\n",
       "2              0            24\n",
       "6              0            19\n",
       "8              0            13\n",
       "10             0            39\n",
       "20             0            43\n",
       "38             1            29\n",
       "34             1            44\n",
       "33             1            31\n",
       "7              1            23\n",
       "21             1            35\n",
       "13             1            26\n",
       "1              2            15\n",
       "53             2            38\n",
       "32             3            21\n",
       "0              3            12\n",
       "3              4            25\n",
       "11             4            27\n",
       "15             4            37\n",
       "19             5            16\n",
       "31             5            34\n",
       "28             5            41\n",
       "30             6            33\n",
       "44             6            45\n",
       "17             6            42\n",
       "23             6            30\n",
       "5              7            14\n",
       "4              7            18\n",
       "26             8            22\n",
       "16             8            17\n",
       "9              9            20\n",
       "37            10            32\n",
       "39            10            47\n",
       "12            11            28\n",
       "14            11            40\n",
       "27            11            46"
      ]
     },
     "execution_count": 377,
     "metadata": {},
     "output_type": "execute_result"
    }
   ],
   "source": [
    "hierarchy_df[['reduction_12', 'reduction_36']].drop_duplicates().sort_values(by='reduction_12')"
   ]
  },
  {
   "cell_type": "code",
   "execution_count": 378,
   "id": "1f237845",
   "metadata": {
    "scrolled": false
   },
   "outputs": [
    {
     "data": {
      "application/vnd.plotly.v1+json": {
       "config": {
        "plotlyServerURL": "https://plot.ly"
       },
       "data": [
        {
         "link": {
          "source": [
           3,
           2,
           0,
           4,
           7,
           7,
           0,
           1,
           0,
           9,
           0,
           4,
           11,
           1,
           11,
           4,
           8,
           6,
           5,
           0,
           1,
           6,
           8,
           11,
           5,
           6,
           5,
           3,
           1,
           1,
           10,
           1,
           10,
           6,
           2,
           0,
           12,
           15,
           24,
           25,
           18,
           14,
           19,
           23,
           13,
           20,
           39,
           27,
           28,
           26,
           40,
           37,
           17,
           42,
           17,
           16,
           43,
           35,
           12,
           30,
           13,
           13,
           22,
           46,
           41,
           16,
           33,
           34,
           21,
           31,
           44,
           31,
           21,
           32,
           29,
           47,
           14,
           12,
           26,
           19,
           45,
           44,
           47,
           32,
           16,
           29,
           34,
           12,
           33,
           38,
           30,
           12,
           36,
           45,
           36,
           27,
           38,
           20,
           20,
           29,
           16,
           22,
           22,
           30,
           16,
           16,
           18,
           14
          ],
          "target": [
           12,
           15,
           24,
           25,
           18,
           14,
           19,
           23,
           13,
           20,
           39,
           27,
           28,
           26,
           40,
           37,
           17,
           42,
           16,
           43,
           35,
           30,
           22,
           46,
           41,
           33,
           34,
           21,
           31,
           44,
           32,
           29,
           47,
           45,
           38,
           36,
           48,
           49,
           50,
           51,
           52,
           53,
           54,
           55,
           56,
           57,
           58,
           59,
           60,
           61,
           62,
           63,
           64,
           65,
           66,
           67,
           68,
           69,
           70,
           71,
           72,
           73,
           74,
           75,
           76,
           77,
           78,
           79,
           80,
           81,
           82,
           83,
           84,
           85,
           86,
           87,
           88,
           89,
           90,
           91,
           92,
           93,
           94,
           95,
           96,
           97,
           98,
           99,
           100,
           101,
           102,
           103,
           104,
           105,
           106,
           107,
           108,
           109,
           110,
           111,
           112,
           113,
           114,
           115,
           116,
           117,
           118,
           119
          ],
          "value": [
           9497,
           8751,
           6916,
           6792,
           8117,
           8829,
           8085,
           6927,
           9187,
           8068,
           5357,
           6463,
           6447,
           6694,
           5202,
           5370,
           8391,
           5025,
           8629,
           4936,
           5414,
           6066,
           7282,
           4693,
           5060,
           5590,
           5469,
           7894,
           6055,
           4889,
           6014,
           6356,
           4498,
           4840,
           5359,
           5400,
           5780,
           5678,
           5409,
           5338,
           5312,
           5233,
           4872,
           4583,
           4519,
           4483,
           4404,
           4254,
           4232,
           3948,
           3908,
           3865,
           3841,
           3837,
           3793,
           3619,
           3617,
           3535,
           3473,
           3441,
           3431,
           3332,
           3328,
           3248,
           3229,
           3178,
           3130,
           3126,
           3119,
           3078,
           3062,
           3035,
           2999,
           2972,
           2951,
           2907,
           2887,
           2877,
           2856,
           2850,
           2792,
           2758,
           2751,
           2724,
           2716,
           2685,
           2641,
           2597,
           2595,
           2584,
           2570,
           2558,
           2541,
           2530,
           2520,
           2462,
           2430,
           2344,
           2343,
           2301,
           2251,
           2143,
           2109,
           2078,
           2060,
           2042,
           1951,
           1917
          ]
         },
         "node": {
          "label": [
           "0_republik-soir-thiers-pinard-gambetta",
           "1_centrumspartei-culturkampf-maigesetze-fortschrittler-kreisordnung",
           "2_pforte-machte-psorte-bulgariens-turkei",
           "3_kronprinzessin-besuche-verweilen-herrschaften-hofburg",
           "4_budgets-cortes-budget-kammer-vertagte",
           "5_polizei-thater-verhafteten-verhasteten-verbrechens",
           "6_sherman-grant-bragg-meade-savannah",
           "7_ortlichen-inland-reichsdomamen-ortliche-stadthauptes",
           "8_austern-korbe-gummi-pack-nagel",
           "9_kunst-clavier-kunstler-schone-musik",
           "10_komorn-gorgey-theiß-armeecorp-arad",
           "11_leck-gestrandet-lootsen-danisches-cuxhaven",
           "12_kronprinzessin-herrschaften-großherzogin-schlosse-heiterer",
           "13_elysee-thiers-prafecten-soir-siecle",
           "14_tagesbesehls-dirigirender-dirigirende-inland-auditoriats",
           "15_machte-pforte-psorte-turkei-collectivnote",
           "16_arztlicher-entzundung-menschenleben-stockwerke-patienten",
           "17_beginn-sicht-ballen-korbe-austern",
           "18_ortlichen-russk-jahrmarkte-nowosti-listok",
           "19_groszbritannien-herald-globe-irland-manchester",
           "20_kunst-neustraße-sandpforte-mullerschen-clavier",
           "21_ischl-schonbrunn-metternich-hofburg-erzherzoge",
           "22_austern-gummi-pack-meitzer-korbe",
           "23_fortschrittler-culturkampf-centrumspartei-kanzler-freifinnigen",
           "24_madrider-serrano-concha-donnell-carlisten",
           "25_lesung-gesetzentwurf-gesetzentwurfs-einbringung-antrag",
           "26_zollvereins-bundestags-bundesstaaten-kurhessen-bundestage",
           "27_freycinet-fourtou-waddington-dufaure-broglie",
           "28_kanonenboten-nargen-segel-kanonenbote-corvette",
           "29_geistlichen-geistlicher-geistliche-evangelischen-evangelische",
           "30_thessalien-kandia-suleiman-macedonien-eupatoria",
           "31_kreisordnung-reichsregierung-preußischen-bundesstaaten-bundesstaate",
           "32_komorn-gorgey-theiß-armeecorp-schlick",
           "33_sherman-sudstaatlichen-davis-consoderirten-grant",
           "34_verurtheilte-verurtheilt-freigesprochen-angeklagten-verbrechens",
           "35_vaterlande-vaterlandes-erhabenen-treuen-vorsehung",
           "36_garibaldi-caprera-gazzetta-cialdini-florenz",
           "37_zinsen-anleihen-deckung-tilgung-betrage",
           "38_sofia-bulgarische-bulgarischen-bulgarien-bulgariens",
           "39_unterhause-unterhaus-bill-schatzkanzler-oberhause",
           "40_fadrelandet-schleswiger-tidende-fuhnen-danischer",
           "41_ruhestorer-tumultuanten-volkshaufen-steinwurfen-auflauf",
           "42_mehmed-egypten-kahira-said-syrien",
           "43_pius-vatican-papst-cardinalen-cardinale",
           "44_ungarischen-ungarn-ausgleichs-andrassy-ungarns",
           "45_kabul-kandahar-afghanen-lahore-afghanistan",
           "46_leck-gestrandet-capt-hartlepool-bark",
           "47_kantonen-eidgenossische-waadt-eidgenossischen-schweizerischen",
           "48_herrschaften-herrschasten-kronprinzessin-hoheiten-großherzogin",
           "49_pforte-machte-psorte-turkei-collectivnote",
           "50_madrider-serrano-concha-donnell-carlisten",
           "51_lesung-gesetzentwurf-gesetzentwurfs-einbringung-antrag",
           "52_ortlichen-nowosti-russk-birsh-molwa",
           "53_tagesbesehls-tagesbefehls-schwerdtern-musterhasten-civilressort",
           "54_herald-globe-groszbritannien-times-irland",
           "55_fortschrittler-culturkampf-kanzler-centrumspartei-freifinnigen",
           "56_republik-gambetta-thiers-fourtou-bonapartisten",
           "57_kunst-kunstler-kunstwerk-kunstlern-poesie",
           "58_unterhause-unterhaus-bill-schatzkanzler-oberhause",
           "59_monarchisten-freycinet-fourtou-republikaner-broglie",
           "60_kanonenboten-nargen-kanonenbote-segel-corvette",
           "61_zollvereins-zolleinigung-zollverein-handelsvertrags-zollvereine",
           "62_fadrelandet-schleswiger-tidende-fuhnen-danischer",
           "63_zinsen-anleihen-deckung-tilgung-betrage",
           "64_sicht-tinte-austern-korbe-nagel",
           "65_mehmed-egypten-kahira-said-syrien",
           "66_beginn-ballen-allen-garn-kastanien",
           "67_menschenleben-einsturz-eingesturzt-wasser-locomotive",
           "68_pius-papst-vatican-cardinalen-cardinale",
           "69_vaterlande-vaterlandes-treuen-vorsehung-erhabenen",
           "70_barometer-sudwestwind-uleaborg-maßiger-weht",
           "71_eupatoria-rustschuk-dobrudscha-serdar-silistria",
           "72_france-pays-tuilerien-pinard-constitutionnel",
           "73_tuilerieen-boulevards-prafectur-cloud-magnan",
           "74_austern-gummi-eiserne-kastanien-pack",
           "75_capt-hartlepool-leck-gestrandet-bark",
           "76_ruhestorer-tumultuanten-volkshaufen-steinwurfen-auflauf",
           "77_pistol-morder-pistole-dolch-revolver",
           "78_tennessee-grant-sherman-davis-sudstaatlichen",
           "79_verurtheilte-freigesprochen-verurtheilt-zuchthaus-angeklagten",
           "80_schonbrunn-erzherzog-erzherzoge-rainer-ischl",
           "81_herzogthumer-herzogthumern-holsteinischen-holstein-lauenburg",
           "82_andrassy-delegationen-osterreichisch-friedenspolitik-tisza",
           "83_kreisordnung-hoverbeck-lasker-meppen-reichstag",
           "84_botschafter-gastein-metternich-oubril-ischl",
           "85_feindes-feind-komorn-gorgey-detachement",
           "86_bischoflichen-diocese-excommunication-bischofs-bischofe",
           "87_rekruten-beurlaubten-regimentern-regimenter-landwehr",
           "88_bestatigten-swod-reglements-allerhochst-durchsicht",
           "89_moniteur-cloud-officiel-moniten-monitenr",
           "90_kurhessen-kurfurst-kasseler-hessen-kassel",
           "91_spithead-portsmouth-chatham-sheerneß-woolwich",
           "92_kabul-kandahar-lahore-afghanistan-dost",
           "93_croatischen-hohenwart-ungarn-leitha-ungarischen",
           "94_waadt-eidgenossischen-kantonen-eidgenossische-tessin",
           "95_komorn-gorgey-preßburg-theiß-schlick",
           "96_ernte-saaten-durre-regen-erndte",
           "97_evangelischen-evangelische-landeskirche-prediger-evangelischer",
           "98_verhafteten-complotts-verhasteten-verhaftung-attentat",
           "99_balmoral-wales-windsor-palace-osborne",
           "100_luarez-matamoras-santana-mexiko-mejia",
           "101_serbien-belgrad-serbiens-milan-bukarest",
           "102_piraus-patras-kandia-nauplia-grivas",
           "103_belgischen-brussel-haag-mecheln-brabant",
           "104_palermo-calabrien-catania-garibaldi-siciliens",
           "105_suakim-berber-gordons-chartum-wolseley",
           "106_venedig-mailand-gazzetta-venetianischen-brescia",
           "107_portefeuilles-portefeuille-interimistisch-inneres-depretis",
           "108_sofia-sobranje-bulgarische-bulgarischen-bulgarien",
           "109_kalkstraße-sunderstraße-scheunenstraße-sandpforte-erkundigungs",
           "110_ruhestatte-verewigten-verstorbenen-verstorbene-bestattung",
           "111_professoren-vorlesungen-docenten-mathematik-facultat",
           "112_brandes-feuers-brandstatte-brande-flammen",
           "113_meitzer-pack-wohrmann-sacke-korbe",
           "114_austern-cigarren-korbe-gummi-leder",
           "115_athen-griechenland-griechische-hellenischen-piraus",
           "116_husten-bulletin-genesung-patient-besserung",
           "117_erkrankt-cholera-epidemie-erkrankten-erkrankungen",
           "118_waare-verkaufer-preise-lichttalg-kaufer",
           "119_hochedlen-kaufm-hochweisen-backergesell-dato"
          ],
          "pad": 5,
          "thickness": 100
         },
         "type": "sankey"
        }
       ],
       "layout": {
        "autosize": false,
        "height": 1500,
        "template": {
         "data": {
          "bar": [
           {
            "error_x": {
             "color": "#2a3f5f"
            },
            "error_y": {
             "color": "#2a3f5f"
            },
            "marker": {
             "line": {
              "color": "#E5ECF6",
              "width": 0.5
             },
             "pattern": {
              "fillmode": "overlay",
              "size": 10,
              "solidity": 0.2
             }
            },
            "type": "bar"
           }
          ],
          "barpolar": [
           {
            "marker": {
             "line": {
              "color": "#E5ECF6",
              "width": 0.5
             },
             "pattern": {
              "fillmode": "overlay",
              "size": 10,
              "solidity": 0.2
             }
            },
            "type": "barpolar"
           }
          ],
          "carpet": [
           {
            "aaxis": {
             "endlinecolor": "#2a3f5f",
             "gridcolor": "white",
             "linecolor": "white",
             "minorgridcolor": "white",
             "startlinecolor": "#2a3f5f"
            },
            "baxis": {
             "endlinecolor": "#2a3f5f",
             "gridcolor": "white",
             "linecolor": "white",
             "minorgridcolor": "white",
             "startlinecolor": "#2a3f5f"
            },
            "type": "carpet"
           }
          ],
          "choropleth": [
           {
            "colorbar": {
             "outlinewidth": 0,
             "ticks": ""
            },
            "type": "choropleth"
           }
          ],
          "contour": [
           {
            "colorbar": {
             "outlinewidth": 0,
             "ticks": ""
            },
            "colorscale": [
             [
              0,
              "#0d0887"
             ],
             [
              0.1111111111111111,
              "#46039f"
             ],
             [
              0.2222222222222222,
              "#7201a8"
             ],
             [
              0.3333333333333333,
              "#9c179e"
             ],
             [
              0.4444444444444444,
              "#bd3786"
             ],
             [
              0.5555555555555556,
              "#d8576b"
             ],
             [
              0.6666666666666666,
              "#ed7953"
             ],
             [
              0.7777777777777778,
              "#fb9f3a"
             ],
             [
              0.8888888888888888,
              "#fdca26"
             ],
             [
              1,
              "#f0f921"
             ]
            ],
            "type": "contour"
           }
          ],
          "contourcarpet": [
           {
            "colorbar": {
             "outlinewidth": 0,
             "ticks": ""
            },
            "type": "contourcarpet"
           }
          ],
          "heatmap": [
           {
            "colorbar": {
             "outlinewidth": 0,
             "ticks": ""
            },
            "colorscale": [
             [
              0,
              "#0d0887"
             ],
             [
              0.1111111111111111,
              "#46039f"
             ],
             [
              0.2222222222222222,
              "#7201a8"
             ],
             [
              0.3333333333333333,
              "#9c179e"
             ],
             [
              0.4444444444444444,
              "#bd3786"
             ],
             [
              0.5555555555555556,
              "#d8576b"
             ],
             [
              0.6666666666666666,
              "#ed7953"
             ],
             [
              0.7777777777777778,
              "#fb9f3a"
             ],
             [
              0.8888888888888888,
              "#fdca26"
             ],
             [
              1,
              "#f0f921"
             ]
            ],
            "type": "heatmap"
           }
          ],
          "heatmapgl": [
           {
            "colorbar": {
             "outlinewidth": 0,
             "ticks": ""
            },
            "colorscale": [
             [
              0,
              "#0d0887"
             ],
             [
              0.1111111111111111,
              "#46039f"
             ],
             [
              0.2222222222222222,
              "#7201a8"
             ],
             [
              0.3333333333333333,
              "#9c179e"
             ],
             [
              0.4444444444444444,
              "#bd3786"
             ],
             [
              0.5555555555555556,
              "#d8576b"
             ],
             [
              0.6666666666666666,
              "#ed7953"
             ],
             [
              0.7777777777777778,
              "#fb9f3a"
             ],
             [
              0.8888888888888888,
              "#fdca26"
             ],
             [
              1,
              "#f0f921"
             ]
            ],
            "type": "heatmapgl"
           }
          ],
          "histogram": [
           {
            "marker": {
             "pattern": {
              "fillmode": "overlay",
              "size": 10,
              "solidity": 0.2
             }
            },
            "type": "histogram"
           }
          ],
          "histogram2d": [
           {
            "colorbar": {
             "outlinewidth": 0,
             "ticks": ""
            },
            "colorscale": [
             [
              0,
              "#0d0887"
             ],
             [
              0.1111111111111111,
              "#46039f"
             ],
             [
              0.2222222222222222,
              "#7201a8"
             ],
             [
              0.3333333333333333,
              "#9c179e"
             ],
             [
              0.4444444444444444,
              "#bd3786"
             ],
             [
              0.5555555555555556,
              "#d8576b"
             ],
             [
              0.6666666666666666,
              "#ed7953"
             ],
             [
              0.7777777777777778,
              "#fb9f3a"
             ],
             [
              0.8888888888888888,
              "#fdca26"
             ],
             [
              1,
              "#f0f921"
             ]
            ],
            "type": "histogram2d"
           }
          ],
          "histogram2dcontour": [
           {
            "colorbar": {
             "outlinewidth": 0,
             "ticks": ""
            },
            "colorscale": [
             [
              0,
              "#0d0887"
             ],
             [
              0.1111111111111111,
              "#46039f"
             ],
             [
              0.2222222222222222,
              "#7201a8"
             ],
             [
              0.3333333333333333,
              "#9c179e"
             ],
             [
              0.4444444444444444,
              "#bd3786"
             ],
             [
              0.5555555555555556,
              "#d8576b"
             ],
             [
              0.6666666666666666,
              "#ed7953"
             ],
             [
              0.7777777777777778,
              "#fb9f3a"
             ],
             [
              0.8888888888888888,
              "#fdca26"
             ],
             [
              1,
              "#f0f921"
             ]
            ],
            "type": "histogram2dcontour"
           }
          ],
          "mesh3d": [
           {
            "colorbar": {
             "outlinewidth": 0,
             "ticks": ""
            },
            "type": "mesh3d"
           }
          ],
          "parcoords": [
           {
            "line": {
             "colorbar": {
              "outlinewidth": 0,
              "ticks": ""
             }
            },
            "type": "parcoords"
           }
          ],
          "pie": [
           {
            "automargin": true,
            "type": "pie"
           }
          ],
          "scatter": [
           {
            "fillpattern": {
             "fillmode": "overlay",
             "size": 10,
             "solidity": 0.2
            },
            "type": "scatter"
           }
          ],
          "scatter3d": [
           {
            "line": {
             "colorbar": {
              "outlinewidth": 0,
              "ticks": ""
             }
            },
            "marker": {
             "colorbar": {
              "outlinewidth": 0,
              "ticks": ""
             }
            },
            "type": "scatter3d"
           }
          ],
          "scattercarpet": [
           {
            "marker": {
             "colorbar": {
              "outlinewidth": 0,
              "ticks": ""
             }
            },
            "type": "scattercarpet"
           }
          ],
          "scattergeo": [
           {
            "marker": {
             "colorbar": {
              "outlinewidth": 0,
              "ticks": ""
             }
            },
            "type": "scattergeo"
           }
          ],
          "scattergl": [
           {
            "marker": {
             "colorbar": {
              "outlinewidth": 0,
              "ticks": ""
             }
            },
            "type": "scattergl"
           }
          ],
          "scattermapbox": [
           {
            "marker": {
             "colorbar": {
              "outlinewidth": 0,
              "ticks": ""
             }
            },
            "type": "scattermapbox"
           }
          ],
          "scatterpolar": [
           {
            "marker": {
             "colorbar": {
              "outlinewidth": 0,
              "ticks": ""
             }
            },
            "type": "scatterpolar"
           }
          ],
          "scatterpolargl": [
           {
            "marker": {
             "colorbar": {
              "outlinewidth": 0,
              "ticks": ""
             }
            },
            "type": "scatterpolargl"
           }
          ],
          "scatterternary": [
           {
            "marker": {
             "colorbar": {
              "outlinewidth": 0,
              "ticks": ""
             }
            },
            "type": "scatterternary"
           }
          ],
          "surface": [
           {
            "colorbar": {
             "outlinewidth": 0,
             "ticks": ""
            },
            "colorscale": [
             [
              0,
              "#0d0887"
             ],
             [
              0.1111111111111111,
              "#46039f"
             ],
             [
              0.2222222222222222,
              "#7201a8"
             ],
             [
              0.3333333333333333,
              "#9c179e"
             ],
             [
              0.4444444444444444,
              "#bd3786"
             ],
             [
              0.5555555555555556,
              "#d8576b"
             ],
             [
              0.6666666666666666,
              "#ed7953"
             ],
             [
              0.7777777777777778,
              "#fb9f3a"
             ],
             [
              0.8888888888888888,
              "#fdca26"
             ],
             [
              1,
              "#f0f921"
             ]
            ],
            "type": "surface"
           }
          ],
          "table": [
           {
            "cells": {
             "fill": {
              "color": "#EBF0F8"
             },
             "line": {
              "color": "white"
             }
            },
            "header": {
             "fill": {
              "color": "#C8D4E3"
             },
             "line": {
              "color": "white"
             }
            },
            "type": "table"
           }
          ]
         },
         "layout": {
          "annotationdefaults": {
           "arrowcolor": "#2a3f5f",
           "arrowhead": 0,
           "arrowwidth": 1
          },
          "autotypenumbers": "strict",
          "coloraxis": {
           "colorbar": {
            "outlinewidth": 0,
            "ticks": ""
           }
          },
          "colorscale": {
           "diverging": [
            [
             0,
             "#8e0152"
            ],
            [
             0.1,
             "#c51b7d"
            ],
            [
             0.2,
             "#de77ae"
            ],
            [
             0.3,
             "#f1b6da"
            ],
            [
             0.4,
             "#fde0ef"
            ],
            [
             0.5,
             "#f7f7f7"
            ],
            [
             0.6,
             "#e6f5d0"
            ],
            [
             0.7,
             "#b8e186"
            ],
            [
             0.8,
             "#7fbc41"
            ],
            [
             0.9,
             "#4d9221"
            ],
            [
             1,
             "#276419"
            ]
           ],
           "sequential": [
            [
             0,
             "#0d0887"
            ],
            [
             0.1111111111111111,
             "#46039f"
            ],
            [
             0.2222222222222222,
             "#7201a8"
            ],
            [
             0.3333333333333333,
             "#9c179e"
            ],
            [
             0.4444444444444444,
             "#bd3786"
            ],
            [
             0.5555555555555556,
             "#d8576b"
            ],
            [
             0.6666666666666666,
             "#ed7953"
            ],
            [
             0.7777777777777778,
             "#fb9f3a"
            ],
            [
             0.8888888888888888,
             "#fdca26"
            ],
            [
             1,
             "#f0f921"
            ]
           ],
           "sequentialminus": [
            [
             0,
             "#0d0887"
            ],
            [
             0.1111111111111111,
             "#46039f"
            ],
            [
             0.2222222222222222,
             "#7201a8"
            ],
            [
             0.3333333333333333,
             "#9c179e"
            ],
            [
             0.4444444444444444,
             "#bd3786"
            ],
            [
             0.5555555555555556,
             "#d8576b"
            ],
            [
             0.6666666666666666,
             "#ed7953"
            ],
            [
             0.7777777777777778,
             "#fb9f3a"
            ],
            [
             0.8888888888888888,
             "#fdca26"
            ],
            [
             1,
             "#f0f921"
            ]
           ]
          },
          "colorway": [
           "#636efa",
           "#EF553B",
           "#00cc96",
           "#ab63fa",
           "#FFA15A",
           "#19d3f3",
           "#FF6692",
           "#B6E880",
           "#FF97FF",
           "#FECB52"
          ],
          "font": {
           "color": "#2a3f5f"
          },
          "geo": {
           "bgcolor": "white",
           "lakecolor": "white",
           "landcolor": "#E5ECF6",
           "showlakes": true,
           "showland": true,
           "subunitcolor": "white"
          },
          "hoverlabel": {
           "align": "left"
          },
          "hovermode": "closest",
          "mapbox": {
           "style": "light"
          },
          "paper_bgcolor": "white",
          "plot_bgcolor": "#E5ECF6",
          "polar": {
           "angularaxis": {
            "gridcolor": "white",
            "linecolor": "white",
            "ticks": ""
           },
           "bgcolor": "#E5ECF6",
           "radialaxis": {
            "gridcolor": "white",
            "linecolor": "white",
            "ticks": ""
           }
          },
          "scene": {
           "xaxis": {
            "backgroundcolor": "#E5ECF6",
            "gridcolor": "white",
            "gridwidth": 2,
            "linecolor": "white",
            "showbackground": true,
            "ticks": "",
            "zerolinecolor": "white"
           },
           "yaxis": {
            "backgroundcolor": "#E5ECF6",
            "gridcolor": "white",
            "gridwidth": 2,
            "linecolor": "white",
            "showbackground": true,
            "ticks": "",
            "zerolinecolor": "white"
           },
           "zaxis": {
            "backgroundcolor": "#E5ECF6",
            "gridcolor": "white",
            "gridwidth": 2,
            "linecolor": "white",
            "showbackground": true,
            "ticks": "",
            "zerolinecolor": "white"
           }
          },
          "shapedefaults": {
           "line": {
            "color": "#2a3f5f"
           }
          },
          "ternary": {
           "aaxis": {
            "gridcolor": "white",
            "linecolor": "white",
            "ticks": ""
           },
           "baxis": {
            "gridcolor": "white",
            "linecolor": "white",
            "ticks": ""
           },
           "bgcolor": "#E5ECF6",
           "caxis": {
            "gridcolor": "white",
            "linecolor": "white",
            "ticks": ""
           }
          },
          "title": {
           "x": 0.05
          },
          "xaxis": {
           "automargin": true,
           "gridcolor": "white",
           "linecolor": "white",
           "ticks": "",
           "title": {
            "standoff": 15
           },
           "zerolinecolor": "white",
           "zerolinewidth": 2
          },
          "yaxis": {
           "automargin": true,
           "gridcolor": "white",
           "linecolor": "white",
           "ticks": "",
           "title": {
            "standoff": 15
           },
           "zerolinecolor": "white",
           "zerolinewidth": 2
          }
         }
        },
        "width": 1000
       }
      },
      "text/html": [
       "<div>                            <div id=\"7551e097-f363-4c8f-bf71-9fa35a1e3a0f\" class=\"plotly-graph-div\" style=\"height:1500px; width:1000px;\"></div>            <script type=\"text/javascript\">                require([\"plotly\"], function(Plotly) {                    window.PLOTLYENV=window.PLOTLYENV || {};                                    if (document.getElementById(\"7551e097-f363-4c8f-bf71-9fa35a1e3a0f\")) {                    Plotly.newPlot(                        \"7551e097-f363-4c8f-bf71-9fa35a1e3a0f\",                        [{\"link\":{\"source\":[3,2,0,4,7,7,0,1,0,9,0,4,11,1,11,4,8,6,5,0,1,6,8,11,5,6,5,3,1,1,10,1,10,6,2,0,12,15,24,25,18,14,19,23,13,20,39,27,28,26,40,37,17,42,17,16,43,35,12,30,13,13,22,46,41,16,33,34,21,31,44,31,21,32,29,47,14,12,26,19,45,44,47,32,16,29,34,12,33,38,30,12,36,45,36,27,38,20,20,29,16,22,22,30,16,16,18,14],\"target\":[12,15,24,25,18,14,19,23,13,20,39,27,28,26,40,37,17,42,16,43,35,30,22,46,41,33,34,21,31,44,32,29,47,45,38,36,48,49,50,51,52,53,54,55,56,57,58,59,60,61,62,63,64,65,66,67,68,69,70,71,72,73,74,75,76,77,78,79,80,81,82,83,84,85,86,87,88,89,90,91,92,93,94,95,96,97,98,99,100,101,102,103,104,105,106,107,108,109,110,111,112,113,114,115,116,117,118,119],\"value\":[9497,8751,6916,6792,8117,8829,8085,6927,9187,8068,5357,6463,6447,6694,5202,5370,8391,5025,8629,4936,5414,6066,7282,4693,5060,5590,5469,7894,6055,4889,6014,6356,4498,4840,5359,5400,5780,5678,5409,5338,5312,5233,4872,4583,4519,4483,4404,4254,4232,3948,3908,3865,3841,3837,3793,3619,3617,3535,3473,3441,3431,3332,3328,3248,3229,3178,3130,3126,3119,3078,3062,3035,2999,2972,2951,2907,2887,2877,2856,2850,2792,2758,2751,2724,2716,2685,2641,2597,2595,2584,2570,2558,2541,2530,2520,2462,2430,2344,2343,2301,2251,2143,2109,2078,2060,2042,1951,1917]},\"node\":{\"label\":[\"0_republik-soir-thiers-pinard-gambetta\",\"1_centrumspartei-culturkampf-maigesetze-fortschrittler-kreisordnung\",\"2_pforte-machte-psorte-bulgariens-turkei\",\"3_kronprinzessin-besuche-verweilen-herrschaften-hofburg\",\"4_budgets-cortes-budget-kammer-vertagte\",\"5_polizei-thater-verhafteten-verhasteten-verbrechens\",\"6_sherman-grant-bragg-meade-savannah\",\"7_ortlichen-inland-reichsdomamen-ortliche-stadthauptes\",\"8_austern-korbe-gummi-pack-nagel\",\"9_kunst-clavier-kunstler-schone-musik\",\"10_komorn-gorgey-thei\\u00df-armeecorp-arad\",\"11_leck-gestrandet-lootsen-danisches-cuxhaven\",\"12_kronprinzessin-herrschaften-gro\\u00dfherzogin-schlosse-heiterer\",\"13_elysee-thiers-prafecten-soir-siecle\",\"14_tagesbesehls-dirigirender-dirigirende-inland-auditoriats\",\"15_machte-pforte-psorte-turkei-collectivnote\",\"16_arztlicher-entzundung-menschenleben-stockwerke-patienten\",\"17_beginn-sicht-ballen-korbe-austern\",\"18_ortlichen-russk-jahrmarkte-nowosti-listok\",\"19_groszbritannien-herald-globe-irland-manchester\",\"20_kunst-neustra\\u00dfe-sandpforte-mullerschen-clavier\",\"21_ischl-schonbrunn-metternich-hofburg-erzherzoge\",\"22_austern-gummi-pack-meitzer-korbe\",\"23_fortschrittler-culturkampf-centrumspartei-kanzler-freifinnigen\",\"24_madrider-serrano-concha-donnell-carlisten\",\"25_lesung-gesetzentwurf-gesetzentwurfs-einbringung-antrag\",\"26_zollvereins-bundestags-bundesstaaten-kurhessen-bundestage\",\"27_freycinet-fourtou-waddington-dufaure-broglie\",\"28_kanonenboten-nargen-segel-kanonenbote-corvette\",\"29_geistlichen-geistlicher-geistliche-evangelischen-evangelische\",\"30_thessalien-kandia-suleiman-macedonien-eupatoria\",\"31_kreisordnung-reichsregierung-preu\\u00dfischen-bundesstaaten-bundesstaate\",\"32_komorn-gorgey-thei\\u00df-armeecorp-schlick\",\"33_sherman-sudstaatlichen-davis-consoderirten-grant\",\"34_verurtheilte-verurtheilt-freigesprochen-angeklagten-verbrechens\",\"35_vaterlande-vaterlandes-erhabenen-treuen-vorsehung\",\"36_garibaldi-caprera-gazzetta-cialdini-florenz\",\"37_zinsen-anleihen-deckung-tilgung-betrage\",\"38_sofia-bulgarische-bulgarischen-bulgarien-bulgariens\",\"39_unterhause-unterhaus-bill-schatzkanzler-oberhause\",\"40_fadrelandet-schleswiger-tidende-fuhnen-danischer\",\"41_ruhestorer-tumultuanten-volkshaufen-steinwurfen-auflauf\",\"42_mehmed-egypten-kahira-said-syrien\",\"43_pius-vatican-papst-cardinalen-cardinale\",\"44_ungarischen-ungarn-ausgleichs-andrassy-ungarns\",\"45_kabul-kandahar-afghanen-lahore-afghanistan\",\"46_leck-gestrandet-capt-hartlepool-bark\",\"47_kantonen-eidgenossische-waadt-eidgenossischen-schweizerischen\",\"48_herrschaften-herrschasten-kronprinzessin-hoheiten-gro\\u00dfherzogin\",\"49_pforte-machte-psorte-turkei-collectivnote\",\"50_madrider-serrano-concha-donnell-carlisten\",\"51_lesung-gesetzentwurf-gesetzentwurfs-einbringung-antrag\",\"52_ortlichen-nowosti-russk-birsh-molwa\",\"53_tagesbesehls-tagesbefehls-schwerdtern-musterhasten-civilressort\",\"54_herald-globe-groszbritannien-times-irland\",\"55_fortschrittler-culturkampf-kanzler-centrumspartei-freifinnigen\",\"56_republik-gambetta-thiers-fourtou-bonapartisten\",\"57_kunst-kunstler-kunstwerk-kunstlern-poesie\",\"58_unterhause-unterhaus-bill-schatzkanzler-oberhause\",\"59_monarchisten-freycinet-fourtou-republikaner-broglie\",\"60_kanonenboten-nargen-kanonenbote-segel-corvette\",\"61_zollvereins-zolleinigung-zollverein-handelsvertrags-zollvereine\",\"62_fadrelandet-schleswiger-tidende-fuhnen-danischer\",\"63_zinsen-anleihen-deckung-tilgung-betrage\",\"64_sicht-tinte-austern-korbe-nagel\",\"65_mehmed-egypten-kahira-said-syrien\",\"66_beginn-ballen-allen-garn-kastanien\",\"67_menschenleben-einsturz-eingesturzt-wasser-locomotive\",\"68_pius-papst-vatican-cardinalen-cardinale\",\"69_vaterlande-vaterlandes-treuen-vorsehung-erhabenen\",\"70_barometer-sudwestwind-uleaborg-ma\\u00dfiger-weht\",\"71_eupatoria-rustschuk-dobrudscha-serdar-silistria\",\"72_france-pays-tuilerien-pinard-constitutionnel\",\"73_tuilerieen-boulevards-prafectur-cloud-magnan\",\"74_austern-gummi-eiserne-kastanien-pack\",\"75_capt-hartlepool-leck-gestrandet-bark\",\"76_ruhestorer-tumultuanten-volkshaufen-steinwurfen-auflauf\",\"77_pistol-morder-pistole-dolch-revolver\",\"78_tennessee-grant-sherman-davis-sudstaatlichen\",\"79_verurtheilte-freigesprochen-verurtheilt-zuchthaus-angeklagten\",\"80_schonbrunn-erzherzog-erzherzoge-rainer-ischl\",\"81_herzogthumer-herzogthumern-holsteinischen-holstein-lauenburg\",\"82_andrassy-delegationen-osterreichisch-friedenspolitik-tisza\",\"83_kreisordnung-hoverbeck-lasker-meppen-reichstag\",\"84_botschafter-gastein-metternich-oubril-ischl\",\"85_feindes-feind-komorn-gorgey-detachement\",\"86_bischoflichen-diocese-excommunication-bischofs-bischofe\",\"87_rekruten-beurlaubten-regimentern-regimenter-landwehr\",\"88_bestatigten-swod-reglements-allerhochst-durchsicht\",\"89_moniteur-cloud-officiel-moniten-monitenr\",\"90_kurhessen-kurfurst-kasseler-hessen-kassel\",\"91_spithead-portsmouth-chatham-sheerne\\u00df-woolwich\",\"92_kabul-kandahar-lahore-afghanistan-dost\",\"93_croatischen-hohenwart-ungarn-leitha-ungarischen\",\"94_waadt-eidgenossischen-kantonen-eidgenossische-tessin\",\"95_komorn-gorgey-pre\\u00dfburg-thei\\u00df-schlick\",\"96_ernte-saaten-durre-regen-erndte\",\"97_evangelischen-evangelische-landeskirche-prediger-evangelischer\",\"98_verhafteten-complotts-verhasteten-verhaftung-attentat\",\"99_balmoral-wales-windsor-palace-osborne\",\"100_luarez-matamoras-santana-mexiko-mejia\",\"101_serbien-belgrad-serbiens-milan-bukarest\",\"102_piraus-patras-kandia-nauplia-grivas\",\"103_belgischen-brussel-haag-mecheln-brabant\",\"104_palermo-calabrien-catania-garibaldi-siciliens\",\"105_suakim-berber-gordons-chartum-wolseley\",\"106_venedig-mailand-gazzetta-venetianischen-brescia\",\"107_portefeuilles-portefeuille-interimistisch-inneres-depretis\",\"108_sofia-sobranje-bulgarische-bulgarischen-bulgarien\",\"109_kalkstra\\u00dfe-sunderstra\\u00dfe-scheunenstra\\u00dfe-sandpforte-erkundigungs\",\"110_ruhestatte-verewigten-verstorbenen-verstorbene-bestattung\",\"111_professoren-vorlesungen-docenten-mathematik-facultat\",\"112_brandes-feuers-brandstatte-brande-flammen\",\"113_meitzer-pack-wohrmann-sacke-korbe\",\"114_austern-cigarren-korbe-gummi-leder\",\"115_athen-griechenland-griechische-hellenischen-piraus\",\"116_husten-bulletin-genesung-patient-besserung\",\"117_erkrankt-cholera-epidemie-erkrankten-erkrankungen\",\"118_waare-verkaufer-preise-lichttalg-kaufer\",\"119_hochedlen-kaufm-hochweisen-backergesell-dato\"],\"pad\":5,\"thickness\":100},\"type\":\"sankey\"}],                        {\"template\":{\"data\":{\"histogram2dcontour\":[{\"type\":\"histogram2dcontour\",\"colorbar\":{\"outlinewidth\":0,\"ticks\":\"\"},\"colorscale\":[[0.0,\"#0d0887\"],[0.1111111111111111,\"#46039f\"],[0.2222222222222222,\"#7201a8\"],[0.3333333333333333,\"#9c179e\"],[0.4444444444444444,\"#bd3786\"],[0.5555555555555556,\"#d8576b\"],[0.6666666666666666,\"#ed7953\"],[0.7777777777777778,\"#fb9f3a\"],[0.8888888888888888,\"#fdca26\"],[1.0,\"#f0f921\"]]}],\"choropleth\":[{\"type\":\"choropleth\",\"colorbar\":{\"outlinewidth\":0,\"ticks\":\"\"}}],\"histogram2d\":[{\"type\":\"histogram2d\",\"colorbar\":{\"outlinewidth\":0,\"ticks\":\"\"},\"colorscale\":[[0.0,\"#0d0887\"],[0.1111111111111111,\"#46039f\"],[0.2222222222222222,\"#7201a8\"],[0.3333333333333333,\"#9c179e\"],[0.4444444444444444,\"#bd3786\"],[0.5555555555555556,\"#d8576b\"],[0.6666666666666666,\"#ed7953\"],[0.7777777777777778,\"#fb9f3a\"],[0.8888888888888888,\"#fdca26\"],[1.0,\"#f0f921\"]]}],\"heatmap\":[{\"type\":\"heatmap\",\"colorbar\":{\"outlinewidth\":0,\"ticks\":\"\"},\"colorscale\":[[0.0,\"#0d0887\"],[0.1111111111111111,\"#46039f\"],[0.2222222222222222,\"#7201a8\"],[0.3333333333333333,\"#9c179e\"],[0.4444444444444444,\"#bd3786\"],[0.5555555555555556,\"#d8576b\"],[0.6666666666666666,\"#ed7953\"],[0.7777777777777778,\"#fb9f3a\"],[0.8888888888888888,\"#fdca26\"],[1.0,\"#f0f921\"]]}],\"heatmapgl\":[{\"type\":\"heatmapgl\",\"colorbar\":{\"outlinewidth\":0,\"ticks\":\"\"},\"colorscale\":[[0.0,\"#0d0887\"],[0.1111111111111111,\"#46039f\"],[0.2222222222222222,\"#7201a8\"],[0.3333333333333333,\"#9c179e\"],[0.4444444444444444,\"#bd3786\"],[0.5555555555555556,\"#d8576b\"],[0.6666666666666666,\"#ed7953\"],[0.7777777777777778,\"#fb9f3a\"],[0.8888888888888888,\"#fdca26\"],[1.0,\"#f0f921\"]]}],\"contourcarpet\":[{\"type\":\"contourcarpet\",\"colorbar\":{\"outlinewidth\":0,\"ticks\":\"\"}}],\"contour\":[{\"type\":\"contour\",\"colorbar\":{\"outlinewidth\":0,\"ticks\":\"\"},\"colorscale\":[[0.0,\"#0d0887\"],[0.1111111111111111,\"#46039f\"],[0.2222222222222222,\"#7201a8\"],[0.3333333333333333,\"#9c179e\"],[0.4444444444444444,\"#bd3786\"],[0.5555555555555556,\"#d8576b\"],[0.6666666666666666,\"#ed7953\"],[0.7777777777777778,\"#fb9f3a\"],[0.8888888888888888,\"#fdca26\"],[1.0,\"#f0f921\"]]}],\"surface\":[{\"type\":\"surface\",\"colorbar\":{\"outlinewidth\":0,\"ticks\":\"\"},\"colorscale\":[[0.0,\"#0d0887\"],[0.1111111111111111,\"#46039f\"],[0.2222222222222222,\"#7201a8\"],[0.3333333333333333,\"#9c179e\"],[0.4444444444444444,\"#bd3786\"],[0.5555555555555556,\"#d8576b\"],[0.6666666666666666,\"#ed7953\"],[0.7777777777777778,\"#fb9f3a\"],[0.8888888888888888,\"#fdca26\"],[1.0,\"#f0f921\"]]}],\"mesh3d\":[{\"type\":\"mesh3d\",\"colorbar\":{\"outlinewidth\":0,\"ticks\":\"\"}}],\"scatter\":[{\"fillpattern\":{\"fillmode\":\"overlay\",\"size\":10,\"solidity\":0.2},\"type\":\"scatter\"}],\"parcoords\":[{\"type\":\"parcoords\",\"line\":{\"colorbar\":{\"outlinewidth\":0,\"ticks\":\"\"}}}],\"scatterpolargl\":[{\"type\":\"scatterpolargl\",\"marker\":{\"colorbar\":{\"outlinewidth\":0,\"ticks\":\"\"}}}],\"bar\":[{\"error_x\":{\"color\":\"#2a3f5f\"},\"error_y\":{\"color\":\"#2a3f5f\"},\"marker\":{\"line\":{\"color\":\"#E5ECF6\",\"width\":0.5},\"pattern\":{\"fillmode\":\"overlay\",\"size\":10,\"solidity\":0.2}},\"type\":\"bar\"}],\"scattergeo\":[{\"type\":\"scattergeo\",\"marker\":{\"colorbar\":{\"outlinewidth\":0,\"ticks\":\"\"}}}],\"scatterpolar\":[{\"type\":\"scatterpolar\",\"marker\":{\"colorbar\":{\"outlinewidth\":0,\"ticks\":\"\"}}}],\"histogram\":[{\"marker\":{\"pattern\":{\"fillmode\":\"overlay\",\"size\":10,\"solidity\":0.2}},\"type\":\"histogram\"}],\"scattergl\":[{\"type\":\"scattergl\",\"marker\":{\"colorbar\":{\"outlinewidth\":0,\"ticks\":\"\"}}}],\"scatter3d\":[{\"type\":\"scatter3d\",\"line\":{\"colorbar\":{\"outlinewidth\":0,\"ticks\":\"\"}},\"marker\":{\"colorbar\":{\"outlinewidth\":0,\"ticks\":\"\"}}}],\"scattermapbox\":[{\"type\":\"scattermapbox\",\"marker\":{\"colorbar\":{\"outlinewidth\":0,\"ticks\":\"\"}}}],\"scatterternary\":[{\"type\":\"scatterternary\",\"marker\":{\"colorbar\":{\"outlinewidth\":0,\"ticks\":\"\"}}}],\"scattercarpet\":[{\"type\":\"scattercarpet\",\"marker\":{\"colorbar\":{\"outlinewidth\":0,\"ticks\":\"\"}}}],\"carpet\":[{\"aaxis\":{\"endlinecolor\":\"#2a3f5f\",\"gridcolor\":\"white\",\"linecolor\":\"white\",\"minorgridcolor\":\"white\",\"startlinecolor\":\"#2a3f5f\"},\"baxis\":{\"endlinecolor\":\"#2a3f5f\",\"gridcolor\":\"white\",\"linecolor\":\"white\",\"minorgridcolor\":\"white\",\"startlinecolor\":\"#2a3f5f\"},\"type\":\"carpet\"}],\"table\":[{\"cells\":{\"fill\":{\"color\":\"#EBF0F8\"},\"line\":{\"color\":\"white\"}},\"header\":{\"fill\":{\"color\":\"#C8D4E3\"},\"line\":{\"color\":\"white\"}},\"type\":\"table\"}],\"barpolar\":[{\"marker\":{\"line\":{\"color\":\"#E5ECF6\",\"width\":0.5},\"pattern\":{\"fillmode\":\"overlay\",\"size\":10,\"solidity\":0.2}},\"type\":\"barpolar\"}],\"pie\":[{\"automargin\":true,\"type\":\"pie\"}]},\"layout\":{\"autotypenumbers\":\"strict\",\"colorway\":[\"#636efa\",\"#EF553B\",\"#00cc96\",\"#ab63fa\",\"#FFA15A\",\"#19d3f3\",\"#FF6692\",\"#B6E880\",\"#FF97FF\",\"#FECB52\"],\"font\":{\"color\":\"#2a3f5f\"},\"hovermode\":\"closest\",\"hoverlabel\":{\"align\":\"left\"},\"paper_bgcolor\":\"white\",\"plot_bgcolor\":\"#E5ECF6\",\"polar\":{\"bgcolor\":\"#E5ECF6\",\"angularaxis\":{\"gridcolor\":\"white\",\"linecolor\":\"white\",\"ticks\":\"\"},\"radialaxis\":{\"gridcolor\":\"white\",\"linecolor\":\"white\",\"ticks\":\"\"}},\"ternary\":{\"bgcolor\":\"#E5ECF6\",\"aaxis\":{\"gridcolor\":\"white\",\"linecolor\":\"white\",\"ticks\":\"\"},\"baxis\":{\"gridcolor\":\"white\",\"linecolor\":\"white\",\"ticks\":\"\"},\"caxis\":{\"gridcolor\":\"white\",\"linecolor\":\"white\",\"ticks\":\"\"}},\"coloraxis\":{\"colorbar\":{\"outlinewidth\":0,\"ticks\":\"\"}},\"colorscale\":{\"sequential\":[[0.0,\"#0d0887\"],[0.1111111111111111,\"#46039f\"],[0.2222222222222222,\"#7201a8\"],[0.3333333333333333,\"#9c179e\"],[0.4444444444444444,\"#bd3786\"],[0.5555555555555556,\"#d8576b\"],[0.6666666666666666,\"#ed7953\"],[0.7777777777777778,\"#fb9f3a\"],[0.8888888888888888,\"#fdca26\"],[1.0,\"#f0f921\"]],\"sequentialminus\":[[0.0,\"#0d0887\"],[0.1111111111111111,\"#46039f\"],[0.2222222222222222,\"#7201a8\"],[0.3333333333333333,\"#9c179e\"],[0.4444444444444444,\"#bd3786\"],[0.5555555555555556,\"#d8576b\"],[0.6666666666666666,\"#ed7953\"],[0.7777777777777778,\"#fb9f3a\"],[0.8888888888888888,\"#fdca26\"],[1.0,\"#f0f921\"]],\"diverging\":[[0,\"#8e0152\"],[0.1,\"#c51b7d\"],[0.2,\"#de77ae\"],[0.3,\"#f1b6da\"],[0.4,\"#fde0ef\"],[0.5,\"#f7f7f7\"],[0.6,\"#e6f5d0\"],[0.7,\"#b8e186\"],[0.8,\"#7fbc41\"],[0.9,\"#4d9221\"],[1,\"#276419\"]]},\"xaxis\":{\"gridcolor\":\"white\",\"linecolor\":\"white\",\"ticks\":\"\",\"title\":{\"standoff\":15},\"zerolinecolor\":\"white\",\"automargin\":true,\"zerolinewidth\":2},\"yaxis\":{\"gridcolor\":\"white\",\"linecolor\":\"white\",\"ticks\":\"\",\"title\":{\"standoff\":15},\"zerolinecolor\":\"white\",\"automargin\":true,\"zerolinewidth\":2},\"scene\":{\"xaxis\":{\"backgroundcolor\":\"#E5ECF6\",\"gridcolor\":\"white\",\"linecolor\":\"white\",\"showbackground\":true,\"ticks\":\"\",\"zerolinecolor\":\"white\",\"gridwidth\":2},\"yaxis\":{\"backgroundcolor\":\"#E5ECF6\",\"gridcolor\":\"white\",\"linecolor\":\"white\",\"showbackground\":true,\"ticks\":\"\",\"zerolinecolor\":\"white\",\"gridwidth\":2},\"zaxis\":{\"backgroundcolor\":\"#E5ECF6\",\"gridcolor\":\"white\",\"linecolor\":\"white\",\"showbackground\":true,\"ticks\":\"\",\"zerolinecolor\":\"white\",\"gridwidth\":2}},\"shapedefaults\":{\"line\":{\"color\":\"#2a3f5f\"}},\"annotationdefaults\":{\"arrowcolor\":\"#2a3f5f\",\"arrowhead\":0,\"arrowwidth\":1},\"geo\":{\"bgcolor\":\"white\",\"landcolor\":\"#E5ECF6\",\"subunitcolor\":\"white\",\"showland\":true,\"showlakes\":true,\"lakecolor\":\"white\"},\"title\":{\"x\":0.05},\"mapbox\":{\"style\":\"light\"}}},\"autosize\":false,\"width\":1000,\"height\":1500},                        {\"responsive\": true}                    ).then(function(){\n",
       "                            \n",
       "var gd = document.getElementById('7551e097-f363-4c8f-bf71-9fa35a1e3a0f');\n",
       "var x = new MutationObserver(function (mutations, observer) {{\n",
       "        var display = window.getComputedStyle(gd).display;\n",
       "        if (!display || display === 'none') {{\n",
       "            console.log([gd, 'removed!']);\n",
       "            Plotly.purge(gd);\n",
       "            observer.disconnect();\n",
       "        }}\n",
       "}});\n",
       "\n",
       "// Listen for the removal of the full notebook cells\n",
       "var notebookContainer = gd.closest('#notebook-container');\n",
       "if (notebookContainer) {{\n",
       "    x.observe(notebookContainer, {childList: true});\n",
       "}}\n",
       "\n",
       "// Listen for the clearing of the current output cell\n",
       "var outputEl = gd.closest('.output');\n",
       "if (outputEl) {{\n",
       "    x.observe(outputEl, {childList: true});\n",
       "}}\n",
       "\n",
       "                        })                };                });            </script>        </div>"
      ]
     },
     "metadata": {},
     "output_type": "display_data"
    }
   ],
   "source": [
    "fig.update_layout(\n",
    "    autosize=False,\n",
    "    width=1000,\n",
    "    height=1500)\n",
    "fig.show()"
   ]
  },
  {
   "cell_type": "code",
   "execution_count": 395,
   "id": "23a85cc1",
   "metadata": {},
   "outputs": [
    {
     "data": {
      "text/plain": [
       "1917"
      ]
     },
     "execution_count": 395,
     "metadata": {},
     "output_type": "execute_result"
    }
   ],
   "source": [
    "sizes[119]"
   ]
  },
  {
   "cell_type": "code",
   "execution_count": 392,
   "id": "24374d39",
   "metadata": {},
   "outputs": [
    {
     "data": {
      "text/plain": [
       "'kronprinzessin-herrschaften-großherzogin-schlosse-heiterer'"
      ]
     },
     "execution_count": 392,
     "metadata": {},
     "output_type": "execute_result"
    }
   ],
   "source": [
    "labels[12]"
   ]
  },
  {
   "cell_type": "code",
   "execution_count": 393,
   "id": "ac03cc24",
   "metadata": {},
   "outputs": [
    {
     "data": {
      "text/plain": [
       "9497"
      ]
     },
     "execution_count": 393,
     "metadata": {},
     "output_type": "execute_result"
    }
   ],
   "source": [
    "sizes[12]"
   ]
  },
  {
   "cell_type": "code",
   "execution_count": 389,
   "id": "ea0e57ea",
   "metadata": {},
   "outputs": [
    {
     "name": "stdout",
     "output_type": "stream",
     "text": [
      "kronprinzessin-herrschaften-großherzogin-schlosse-heiterer\n",
      "ischl-schonbrunn-metternich-hofburg-erzherzoge\n",
      "9497\n",
      "7894\n",
      "17391\n"
     ]
    }
   ],
   "source": [
    "print(labels[12])\n",
    "print(labels[21])\n",
    "print(sizes[12])\n",
    "print(sizes[21])\n",
    "print(sum([sizes[12], sizes[21]]))"
   ]
  },
  {
   "cell_type": "code",
   "execution_count": 361,
   "id": "8c8a75ad",
   "metadata": {},
   "outputs": [
    {
     "name": "stdout",
     "output_type": "stream",
     "text": [
      "3 :  [12 12 21 21 12 12 12]\n",
      "False\n",
      "2 :  [15 38 38]\n",
      "False\n",
      "0 :  [24 19 13 39 43 13 13 19 36 36]\n",
      "False\n",
      "4 :  [25 27 37 27]\n",
      "False\n",
      "7 :  [18 14 14 18 14]\n",
      "False\n",
      "7 :  [18 14 14 18 14]\n",
      "False\n",
      "0 :  [24 19 13 39 43 13 13 19 36 36]\n",
      "False\n",
      "1 :  [23 26 35 31 44 31 29 26 44 29 29]\n",
      "False\n",
      "0 :  [24 19 13 39 43 13 13 19 36 36]\n",
      "False\n",
      "9 :  [20 20 20]\n",
      "False\n",
      "0 :  [24 19 13 39 43 13 13 19 36 36]\n",
      "False\n",
      "4 :  [25 27 37 27]\n",
      "False\n",
      "11 :  [28 40 46]\n",
      "False\n",
      "1 :  [23 26 35 31 44 31 29 26 44 29 29]\n",
      "False\n",
      "11 :  [28 40 46]\n",
      "False\n",
      "4 :  [25 27 37 27]\n",
      "False\n",
      "8 :  [17 17 22 22 22]\n",
      "False\n",
      "6 :  [42 30 33 45 33 30 45 30]\n",
      "False\n",
      "8 :  [17 17 22 22 22]\n",
      "False\n",
      "5 :  [16 41 16 34 16 34 16 16 16]\n",
      "False\n",
      "0 :  [24 19 13 39 43 13 13 19 36 36]\n",
      "False\n",
      "1 :  [23 26 35 31 44 31 29 26 44 29 29]\n",
      "False\n",
      "3 :  [12 12 21 21 12 12 12]\n",
      "False\n",
      "6 :  [42 30 33 45 33 30 45 30]\n",
      "False\n",
      "0 :  [24 19 13 39 43 13 13 19 36 36]\n",
      "False\n",
      "0 :  [24 19 13 39 43 13 13 19 36 36]\n",
      "False\n",
      "8 :  [17 17 22 22 22]\n",
      "False\n",
      "11 :  [28 40 46]\n",
      "False\n",
      "5 :  [16 41 16 34 16 34 16 16 16]\n",
      "False\n",
      "5 :  [16 41 16 34 16 34 16 16 16]\n",
      "False\n",
      "6 :  [42 30 33 45 33 30 45 30]\n",
      "False\n",
      "5 :  [16 41 16 34 16 34 16 16 16]\n",
      "False\n",
      "3 :  [12 12 21 21 12 12 12]\n",
      "False\n",
      "1 :  [23 26 35 31 44 31 29 26 44 29 29]\n",
      "False\n",
      "1 :  [23 26 35 31 44 31 29 26 44 29 29]\n",
      "False\n",
      "1 :  [23 26 35 31 44 31 29 26 44 29 29]\n",
      "False\n",
      "3 :  [12 12 21 21 12 12 12]\n",
      "False\n",
      "10 :  [32 47 47 32]\n",
      "False\n",
      "1 :  [23 26 35 31 44 31 29 26 44 29 29]\n",
      "False\n",
      "10 :  [32 47 47 32]\n",
      "False\n",
      "7 :  [18 14 14 18 14]\n",
      "False\n",
      "3 :  [12 12 21 21 12 12 12]\n",
      "False\n",
      "1 :  [23 26 35 31 44 31 29 26 44 29 29]\n",
      "False\n",
      "0 :  [24 19 13 39 43 13 13 19 36 36]\n",
      "False\n",
      "6 :  [42 30 33 45 33 30 45 30]\n",
      "False\n",
      "1 :  [23 26 35 31 44 31 29 26 44 29 29]\n",
      "False\n",
      "10 :  [32 47 47 32]\n",
      "False\n",
      "10 :  [32 47 47 32]\n",
      "False\n",
      "5 :  [16 41 16 34 16 34 16 16 16]\n",
      "False\n",
      "1 :  [23 26 35 31 44 31 29 26 44 29 29]\n",
      "False\n",
      "5 :  [16 41 16 34 16 34 16 16 16]\n",
      "False\n",
      "3 :  [12 12 21 21 12 12 12]\n",
      "False\n",
      "6 :  [42 30 33 45 33 30 45 30]\n",
      "False\n",
      "2 :  [15 38 38]\n",
      "False\n",
      "6 :  [42 30 33 45 33 30 45 30]\n",
      "False\n",
      "3 :  [12 12 21 21 12 12 12]\n",
      "False\n",
      "0 :  [24 19 13 39 43 13 13 19 36 36]\n",
      "False\n",
      "6 :  [42 30 33 45 33 30 45 30]\n",
      "False\n",
      "0 :  [24 19 13 39 43 13 13 19 36 36]\n",
      "False\n",
      "4 :  [25 27 37 27]\n",
      "False\n",
      "2 :  [15 38 38]\n",
      "False\n",
      "9 :  [20 20 20]\n",
      "False\n",
      "9 :  [20 20 20]\n",
      "False\n",
      "1 :  [23 26 35 31 44 31 29 26 44 29 29]\n",
      "False\n",
      "5 :  [16 41 16 34 16 34 16 16 16]\n",
      "False\n",
      "8 :  [17 17 22 22 22]\n",
      "False\n",
      "8 :  [17 17 22 22 22]\n",
      "False\n",
      "6 :  [42 30 33 45 33 30 45 30]\n",
      "False\n",
      "5 :  [16 41 16 34 16 34 16 16 16]\n",
      "False\n",
      "5 :  [16 41 16 34 16 34 16 16 16]\n",
      "False\n",
      "7 :  [18 14 14 18 14]\n",
      "False\n",
      "7 :  [18 14 14 18 14]\n",
      "False\n"
     ]
    }
   ],
   "source": [
    "for root_top in hierarchy_df['reduction_12']:\n",
    "    subtopics = hierarchy_df.loc[(hierarchy_df.reduction_12 == root_top), 'reduction_36'].values\n",
    "    print(root_top, ': ', subtopics)\n",
    "    print(sum(sizes[top] for top in subtopics) == sizes[root_top])"
   ]
  },
  {
   "cell_type": "code",
   "execution_count": 351,
   "id": "0f178e0c",
   "metadata": {},
   "outputs": [
    {
     "data": {
      "text/html": [
       "<div>\n",
       "<style scoped>\n",
       "    .dataframe tbody tr th:only-of-type {\n",
       "        vertical-align: middle;\n",
       "    }\n",
       "\n",
       "    .dataframe tbody tr th {\n",
       "        vertical-align: top;\n",
       "    }\n",
       "\n",
       "    .dataframe thead th {\n",
       "        text-align: right;\n",
       "    }\n",
       "</style>\n",
       "<table border=\"1\" class=\"dataframe\">\n",
       "  <thead>\n",
       "    <tr style=\"text-align: right;\">\n",
       "      <th></th>\n",
       "      <th>reduction_12</th>\n",
       "      <th>reduction_36</th>\n",
       "      <th>reduction_72</th>\n",
       "    </tr>\n",
       "  </thead>\n",
       "  <tbody>\n",
       "    <tr>\n",
       "      <th>0</th>\n",
       "      <td>3</td>\n",
       "      <td>12</td>\n",
       "      <td>48</td>\n",
       "    </tr>\n",
       "    <tr>\n",
       "      <th>22</th>\n",
       "      <td>3</td>\n",
       "      <td>12</td>\n",
       "      <td>70</td>\n",
       "    </tr>\n",
       "    <tr>\n",
       "      <th>41</th>\n",
       "      <td>3</td>\n",
       "      <td>12</td>\n",
       "      <td>89</td>\n",
       "    </tr>\n",
       "    <tr>\n",
       "      <th>51</th>\n",
       "      <td>3</td>\n",
       "      <td>12</td>\n",
       "      <td>99</td>\n",
       "    </tr>\n",
       "    <tr>\n",
       "      <th>55</th>\n",
       "      <td>3</td>\n",
       "      <td>12</td>\n",
       "      <td>103</td>\n",
       "    </tr>\n",
       "  </tbody>\n",
       "</table>\n",
       "</div>"
      ],
      "text/plain": [
       "    reduction_12  reduction_36  reduction_72\n",
       "0              3            12            48\n",
       "22             3            12            70\n",
       "41             3            12            89\n",
       "51             3            12            99\n",
       "55             3            12           103"
      ]
     },
     "execution_count": 351,
     "metadata": {},
     "output_type": "execute_result"
    }
   ],
   "source": [
    "hierarchy_df.loc[hierarchy_df.reduction_36==12]"
   ]
  },
  {
   "cell_type": "code",
   "execution_count": 328,
   "id": "1869633d",
   "metadata": {},
   "outputs": [
    {
     "data": {
      "text/plain": [
       "66685"
      ]
     },
     "execution_count": 328,
     "metadata": {},
     "output_type": "execute_result"
    }
   ],
   "source": [
    "sum([sizes[str(i)] for i in hierarchy_df.loc[hierarchy_df.reduction_12==1, 'reduction_36'].values])"
   ]
  },
  {
   "cell_type": "code",
   "execution_count": 329,
   "id": "b5bca3bc",
   "metadata": {},
   "outputs": [
    {
     "data": {
      "text/plain": [
       "26212"
      ]
     },
     "execution_count": 329,
     "metadata": {},
     "output_type": "execute_result"
    }
   ],
   "source": [
    "sizes[str(1)]"
   ]
  },
  {
   "cell_type": "code",
   "execution_count": null,
   "id": "8ed06e8a",
   "metadata": {},
   "outputs": [],
   "source": []
  },
  {
   "cell_type": "code",
   "execution_count": 68,
   "id": "278502e3",
   "metadata": {},
   "outputs": [],
   "source": [
    "with open('../data/topics/reduction_12/reduction_hierarchy.json', 'r', encoding='utf8') as f:\n",
    "    hierarchy_12 = json.load(f)\n",
    "    \n",
    "with open('../data/topics/reduction_36/reduction_hierarchy.json', 'r', encoding='utf8') as f:\n",
    "    hierarchy_36 = json.load(f)"
   ]
  },
  {
   "cell_type": "code",
   "execution_count": 60,
   "id": "7766699e",
   "metadata": {},
   "outputs": [
    {
     "data": {
      "text/plain": [
       "48"
      ]
     },
     "execution_count": 60,
     "metadata": {},
     "output_type": "execute_result"
    }
   ],
   "source": [
    "len(link['value'])"
   ]
  },
  {
   "cell_type": "code",
   "execution_count": 8,
   "id": "0c29c149",
   "metadata": {},
   "outputs": [],
   "source": [
    "t2v = Top2Vec.load('../data/models/t2v_211122_100_deep.pkl')"
   ]
  },
  {
   "cell_type": "code",
   "execution_count": null,
   "id": "4faccaff",
   "metadata": {},
   "outputs": [],
   "source": [
    "t2v.hierarchical_topic_reduction"
   ]
  },
  {
   "cell_type": "code",
   "execution_count": 4,
   "id": "5755f3d9",
   "metadata": {},
   "outputs": [],
   "source": [
    "def get_labels(t2v, n):\n",
    "    \n",
    "    labels = []\n",
    "    \n",
    "    for top_words in t2v.get_topics(reduced=True)[0]:\n",
    "        labels.append('-'.join(top_words[:n]))\n",
    "        \n",
    "    return labels"
   ]
  },
  {
   "cell_type": "code",
   "execution_count": 5,
   "id": "51ef0606",
   "metadata": {},
   "outputs": [],
   "source": [
    "def get_hierarchies_and_labels(t2v, reductions):\n",
    "    \n",
    "    hierarchies = []\n",
    "    labels = []\n",
    "    \n",
    "    for r in reductions:\n",
    "        print(f'Reducing to {r}')\n",
    "        t2v.hierarchical_topic_reduction(r)\n",
    "        hierarchies.append(t2v.get_topic_hierarchy())\n",
    "        labels.append(get_labels(t2v, 3))\n",
    "        \n",
    "    return hierarchies, labels"
   ]
  },
  {
   "cell_type": "code",
   "execution_count": 7,
   "id": "66113e89",
   "metadata": {},
   "outputs": [],
   "source": [
    "#hierarchies, labels = get_hierarchies_and_labels(t2v, [10, 30, 50])"
   ]
  },
  {
   "cell_type": "code",
   "execution_count": 3,
   "id": "4855c3de",
   "metadata": {},
   "outputs": [],
   "source": [
    "with open('../temp/topic_hierarchy_5.json' ,'r') as f:\n",
    "    hierarchy_5 = json.load(f)\n",
    "    \n",
    "with open('../temp/topic_hierarchy_20.json' ,'r') as f:\n",
    "    hierarchy_20 = json.load(f)\n",
    "    \n",
    "with open('../temp/topic_hierarchy_50.json' ,'r') as f:\n",
    "    hierarchy_50 = json.load(f)"
   ]
  },
  {
   "cell_type": "code",
   "execution_count": 4,
   "id": "c9e4fc74",
   "metadata": {},
   "outputs": [],
   "source": [
    "hierarchy = [hierarchy_5, hierarchy_20, hierarchy_50]"
   ]
  },
  {
   "cell_type": "code",
   "execution_count": 24,
   "id": "0c1e7d00",
   "metadata": {},
   "outputs": [],
   "source": [
    "# viimasele kihile id\n",
    "# kui eelmine kiht sisaldab kõiki, siis on juur\n",
    "# dataframe"
   ]
  },
  {
   "cell_type": "code",
   "execution_count": 46,
   "id": "9fa2a4bc",
   "metadata": {},
   "outputs": [],
   "source": [
    "def create_hierarchy_df(t2v, hierarchies, labels=None, colors=None):\n",
    "    \n",
    "    levels = copy.deepcopy(hierarchies)\n",
    "    topic_dict = {}\n",
    "    sizes = {}\n",
    "    \n",
    "    nodes_flat = dict(enumerate(list(chain(*levels))))\n",
    "    nodes = []\n",
    "    \n",
    "    # makes a list of a dictionary for each level with unique id for each topic\n",
    "    for level in levels:\n",
    "        nodes.append(dict(list(nodes_flat.items())[len(list(chain(*nodes))):len(list(chain(*nodes)))+len(level)]))\n",
    "        \n",
    "    paths = [[key] for key in nodes[-1].keys()]\n",
    "\n",
    "    # starts from the penultimate level and looks if the topic is a subset of anything in that level\n",
    "    for path in paths:\n",
    "        for level in nodes[-2::-1]:\n",
    "            last_subtopic = set(nodes[len(nodes)-len(path)][path[-1]])\n",
    "            for root_key, root_topic in level.items():\n",
    "                if last_subtopic.issubset(set(root_topic)):\n",
    "                    path.append(root_key)\n",
    "            \n",
    "    paths = [path[::-1] for path in paths]\n",
    "    \n",
    "    link_df = pd.DataFrame(paths).apply(lambda x: x.sort_values().values)\n",
    "    link_df.columns = [f'reduction_{len(level)}' for level in nodes]\n",
    "    \n",
    "    return link_df\n",
    "        \n",
    "            \n",
    "link_df = create_link_df(t2v, hierarchy)"
   ]
  },
  {
   "cell_type": "code",
   "execution_count": 51,
   "id": "6a962259",
   "metadata": {
    "scrolled": true
   },
   "outputs": [],
   "source": [
    "link_df.to_csv('../temp/link_df.tsv', sep='\\t', encoding='utf8', index=False)"
   ]
  },
  {
   "cell_type": "code",
   "execution_count": 52,
   "id": "b72297de",
   "metadata": {},
   "outputs": [],
   "source": [
    "loaded_link = pd.read_csv('../temp/link_df.tsv', sep='\\t', encoding='utf8')"
   ]
  },
  {
   "cell_type": "code",
   "execution_count": 55,
   "id": "a17dcd8f",
   "metadata": {},
   "outputs": [],
   "source": [
    "reductions = [12, 36, 72]"
   ]
  },
  {
   "cell_type": "code",
   "execution_count": 68,
   "id": "ec27f052",
   "metadata": {},
   "outputs": [
    {
     "data": {
      "text/plain": [
       "{12: 'herrschaften-herrschasten-hoheiten',\n",
       " 13: 'madrider-concha-serrano',\n",
       " 14: 'pforte-machte-psorte',\n",
       " 15: 'tagesbesehls-tagesbefehls-schwerdtern',\n",
       " 16: 'unterhause-unterhaus-bill',\n",
       " 17: 'ortlichen-nowosti-birsh',\n",
       " 18: 'fortschrittler-culturkampf-freifinnigen',\n",
       " 19: 'cardinalen-pius-papst',\n",
       " 20: 'bonapartisten-gambetta-fourtou',\n",
       " 21: 'lesung-gesetzentwurfs-amendements'}"
      ]
     },
     "execution_count": 68,
     "metadata": {},
     "output_type": "execute_result"
    }
   ],
   "source": [
    "{top+previous_reduction: '-'.join(top_words[:3]) for top, top_words in enumerate(list(t2v.get_topics()[0][:10]))}"
   ]
  },
  {
   "cell_type": "code",
   "execution_count": 66,
   "id": "ce1cd333",
   "metadata": {},
   "outputs": [
    {
     "data": {
      "text/plain": [
       "{12: 4700,\n",
       " 13: 4609,\n",
       " 14: 3607,\n",
       " 15: 3448,\n",
       " 16: 3361,\n",
       " 17: 3294,\n",
       " 18: 3140,\n",
       " 19: 3020,\n",
       " 20: 2944,\n",
       " 21: 2909}"
      ]
     },
     "execution_count": 66,
     "metadata": {},
     "output_type": "execute_result"
    }
   ],
   "source": [
    "{top+previous_reduction: int(size) for top, size in enumerate(list(t2v.get_topic_sizes()[0][:10]))}"
   ]
  },
  {
   "cell_type": "code",
   "execution_count": 62,
   "id": "96106448",
   "metadata": {},
   "outputs": [
    {
     "data": {
      "text/plain": [
       "'{\"12\": \"herrschaften-herrschasten-hoheiten\", \"13\": \"madrider-concha-serrano\", \"14\": \"pforte-machte-psorte\", \"15\": \"tagesbesehls-tagesbefehls-schwerdtern\", \"16\": \"unterhause-unterhaus-bill\", \"17\": \"ortlichen-nowosti-birsh\", \"18\": \"fortschrittler-culturkampf-freifinnigen\", \"19\": \"cardinalen-pius-papst\", \"20\": \"bonapartisten-gambetta-fourtou\", \"21\": \"lesung-gesetzentwurfs-amendements\", \"22\": \"corvetten-kanonenboten-nargen\", \"23\": \"zollvereins-zolleinigung-darmstadter\", \"24\": \"mehmed-syrien-egypt\", \"25\": \"buhne-kunstler-kunst\", \"26\": \"verurtheilte-freigesprochen-verurtheilt\", \"27\": \"eidgenossischen-waadt-kantonen\", \"28\": \"kabul-kandahar-afghanistan\", \"29\": \"tumultuanten-ruhestorer-volkshaufen\", \"30\": \"eupatoria-kamiesch-galacz\", \"31\": \"vaterlande-vaterlandes-vorsehung\", \"32\": \"france-tuilerien-pays\", \"33\": \"tennessee-sherman-grant\", \"34\": \"pistol-morder-pistole\", \"35\": \"croatischen-ungarn-leitha\", \"36\": \"boulevards-tuilerieen-notre\", \"37\": \"palermo-calabrien-catania\", \"38\": \"piraus-patras-missolunghi\", \"39\": \"schonbrunn-ischl-erzherzog\", \"40\": \"evangelischen-evangelische-landeskirche\", \"41\": \"erkrankt-cholera-epidemie\", \"42\": \"complotts-verhafteten-verhasteten\", \"43\": \"bischoflichen-staatsgesetze-excommunication\", \"44\": \"husten-bulletin-geschlafen\", \"45\": \"herzogthumer-erbfolgefrage-herzogthumern\", \"46\": \"portefeuilles-depretis-inneres\", \"47\": \"beurlaubten-aschaffenburg-rastatt\", \"48\": \"leck-wrack-strandete\", \"49\": \"balmoral-windsor-osborne\", \"50\": \"brandes-feuers-brandstatte\", \"51\": \"kiel-itzehoe-altonaer\", \"52\": \"flandern-belgischen-brabant\", \"53\": \"komorn-gorgey-pesth\", \"54\": \"ischl-gastein-friedrichsruh\", \"55\": \"sunderstra\\\\u00dfe-kalkstra\\\\u00dfe-erfragen\", \"56\": \"bischoflichen-erzbischofs-diocese\", \"57\": \"ernte-durre-saaten\", \"58\": \"tisza-andrassy-delegationen\", \"59\": \"statue-standbild-sockel\", \"60\": \"stichwahlen-stichwahl-kandidaten\", \"61\": \"bewolkter-heiterer-ma\\\\u00dfiger\", \"62\": \"kanada-kanadischen-canada\", \"63\": \"capt-hartlepool-grimsby\", \"64\": \"hoverbeck-twesten-lasker\", \"65\": \"freycinet-waddington-ferry\", \"66\": \"luarez-mejia-miramon\", \"67\": \"danen-kolding-apenrade\", \"68\": \"einlosung-anlehen-einzahlungen\", \"69\": \"mincio-mantua-brescia\", \"70\": \"storthing-norwegischen-norwegische\", \"71\": \"kerdrel-audiffret-ricard\", \"72\": \"facultat-professoren-docenten\", \"73\": \"uleaborg-weht-luftdruck\", \"74\": \"aschaffenburg-mainz-bayerischer\", \"75\": \"cloud-biarritz-fontainebleau\", \"76\": \"sarge-ruhestatte-sarg\", \"77\": \"montenegriner-montenegrinern-cettinje\", \"78\": \"belgrad-milan-serbien\", \"79\": \"europas-machte-absichten\", \"80\": \"randon-canrobert-vaillant\", \"81\": \"deficit-ueberschu\\\\u00df-einnahmen\", \"82\": \"uberschwemmt-ueberschwemmung-uberschwemmung\", \"83\": \"ch-eh-ird\", \"84\": \"changarnier-cavaignac-marrast\", \"85\": \"toscana-florenz-gazzetta\", \"86\": \"kurfurst-kurfursten-hanau\", \"87\": \"bundestags-bundestag-bundestages\", \"88\": \"sobranje-sofia-bulgarische\", \"89\": \"hochedlen-kaufm-hochweisen\", \"90\": \"swod-reglements-bestatigten\", \"91\": \"herzogin-chartres-amelie\", \"92\": \"jubilar-jubilars-choral\", \"93\": \"flanke-detaschement-feindes\", \"94\": \"fremdenlegion-angeworbenen-anwerben\", \"95\": \"tetuan-tanger-marokkaner\", \"96\": \"wohlgewogen-verbleibe-erkenntlichkeit\", \"97\": \"nelson-lloyds-dunen\", \"98\": \"vorrichtung-apparat-erfinder\", \"99\": \"gymnasien-cursus-schuler\", \"100\": \"cuba-euba-kuba\", \"101\": \"trent-sumner-seward\", \"102\": \"pasquier-fourtou-broglie\", \"103\": \"andrassy-nowibazar-osterreichisch\", \"104\": \"ostbahn-dirschau-bahnstrecke\", \"105\": \"rumaniens-bratiano-rumanien\", \"106\": \"globe-irland-groszbritannien\", \"107\": \"plewna-positionen-mukhtar\", \"108\": \"mahmud-hamid-murad\", \"109\": \"gottlichen-glaubigen-heilige\", \"110\": \"loirearmee-armeecorp-belfort\", \"111\": \"spithead-chatham-portsmouth\", \"112\": \"session-landtages-landtags\", \"113\": \"legations-gesandter-attache\", \"114\": \"strike-strikes-strikenden\", \"115\": \"chaldrons-verarb-renny\", \"116\": \"parnell-landliga-irische\", \"117\": \"beitrage-thalern-beitrag\", \"118\": \"jnval-reichsdomamen-handelszeitung\", \"119\": \"argentinischen-montevideo-paraguay\", \"120\": \"fahrwasser-seegatt-eise\", \"121\": \"rastatt-manheim-badischen\", \"122\": \"schauenstein-buol-karolyi\", \"123\": \"verspurt-erdsto\\\\u00df-erdbeben\", \"124\": \"berkholz-heft-alterthumer\", \"125\": \"fabrikaten-fabrikate-waaren\", \"126\": \"windthorst-schorlemer-meppen\", \"127\": \"aufgaben-segnungen-gedeihlichen\", \"128\": \"langiewicz-plock-radom\", \"129\": \"ratificationen-auswechselung-ausgewechselt\", \"130\": \"krankreich-ferrh-boulanger\", \"131\": \"antragen-entwurfes-abanderungen\", \"132\": \"thessalien-epirus-macedonien\", \"133\": \"venetianischen-lombardisch-verona\", \"134\": \"albanien-skutari-albanesen\", \"135\": \"locomotive-heizer-guterzug\", \"136\": \"herzogthums-herzogthum-lauenburg\", \"137\": \"krankenlager-verschied-verstorbene\", \"138\": \"meiningen-rudolstadt-schwarzburg\", \"139\": \"berber-chartum-suakim\", \"140\": \"blucher-gablenz-gorgey\", \"141\": \"journalistik-reclame-produciren\", \"142\": \"khedive-nubar-aegyptens\", \"143\": \"berlingske-tidende-dagbladet\", \"144\": \"entwurzelt-orkan-dacher\", \"145\": \"verweilen-wildbad-ruckreise\", \"146\": \"enthalt-datirte-nichtamtlichen\", \"147\": \"peru-chili-callao\", \"148\": \"lasser-taaffe-auersperg\", \"149\": \"suez-lesseps-durchstechung\", \"150\": \"kalergis-athen-piraeus\", \"151\": \"gro\\\\u00dfkreuz-adlerorden-verliehen\", \"152\": \"kabels-valentia-kabel\", \"153\": \"savoyens-nizzas-abtretung\", \"154\": \"tisza-deakpartei-ausgleichs\", \"155\": \"officiel-decret-moniteur\", \"156\": \"nationalvereins-nationalverein-vereine\", \"157\": \"agence-havas-hava\", \"158\": \"chiwa-taschkent-turkestan\", \"159\": \"backergesell-hochedlen-kaufm\", \"160\": \"diebstahl-diebe-gestohlenen\", \"161\": \"metternich-kourier-moustier\", \"162\": \"bewolkter-ma\\\\u00dfiger-heiterer\", \"163\": \"aeltermann-rathsherr-aeltester\", \"164\": \"hollandischen-magdala-atg\", \"165\": \"kandia-kanea-kreta\", \"166\": \"auswanderer-auswanderern-auswanderung\", \"167\": \"sicht-beginn-korbe\", \"168\": \"lubecker-bremer-bremerhaven\", \"169\": \"einkommensteuer-ueberschu\\\\u00df-schatzkanzler\", \"170\": \"bastion-bresche-scheide\", \"171\": \"jonischen-griechenland-lonischen\", \"172\": \"krankenlager-verstorbene-vaterstadt\", \"173\": \"explosion-erplosion-geflogen\", \"174\": \"ledochowski-kreisgericht-geldstrafen\", \"175\": \"sofia-bulgarische-bulgarischen\", \"176\": \"erhohung-besteuerung-einkommensteuer\", \"177\": \"schiedsgericht-schiedsrichter-schiedsgerichte\", \"178\": \"gummi-austern-kastanien\", \"179\": \"verbot-verbote-aussuhr\", \"180\": \"lava-krater-vesuv\", \"181\": \"sicht-citronen-kriegsmann\", \"182\": \"nelson-linienschiffen-dunen\", \"183\": \"errettung-darzubringen-gefuhle\", \"184\": \"versailler-foderirten-neuilly\", \"185\": \"einberufen-kammern-einberufung\", \"186\": \"dir-albanus-schul\", \"187\": \"meppen-heiterkeit-mallinckrodt\", \"188\": \"bonds-dollar-papiergeld\", \"189\": \"zweigcomite-kirchspiele-kirchspiel\", \"190\": \"sicht-brussel-belgien\", \"191\": \"eiserne-kastanien-nagel\", \"192\": \"etatsrath-kaukasien-civilgouverneur\", \"193\": \"gekapert-prisen-embargo\", \"194\": \"livingstone-geographischen-afrikas\", \"195\": \"sundzoll-ablosung-zolles\", \"196\": \"flamme-flammen-dach\", \"197\": \"zanzibar-congo-livingstone\", \"198\": \"sicht-beginn-tinte\", \"199\": \"kontrasignirt-namentlichen-dirigirenden\", \"200\": \"creditanstalten-billete-billeten\", \"201\": \"erzerum-kars-mukhtar\", \"202\": \"tblr-thlrn-thlr\", \"203\": \"getraidemarkt-getreidemarkt-umsatz\", \"204\": \"rudel-ird-time\", \"205\": \"belge-independance-etoile\", \"206\": \"assec-verficherung-partie\", \"207\": \"franklin-franklins-nordpol\", \"208\": \"atlant-baumwolle-american\", \"209\": \"kastanien-eiserne-nagel\", \"210\": \"frohsdorf-chambord-ehambord\", \"211\": \"sicht-tinte-austern\", \"212\": \"contanten-goldagio-newyork\", \"213\": \"leder-tinte-schultz\", \"214\": \"podolien-wolhynien-pensa\", \"215\": \"american-umsatz-baumwolle\", \"216\": \"geruht-paulvcci-dargebrachte\", \"217\": \"poorten-esth-ehst\", \"218\": \"wasserstand-eisgang-eisdecke\", \"219\": \"kometen-komet-sternwarte\", \"220\": \"benannt-geleugnet-citronen\", \"221\": \"austern-mineralwasser-tonnen\", \"222\": \"tel-bur-dep\", \"223\": \"stockholm-haparanda-helfingfor\", \"224\": \"karoline-amalie-charlotte\", \"225\": \"meitzer-zubehor-wohrmann\", \"226\": \"australien-sydney-melbourne\", \"227\": \"todes-verstorbenen-ruhestatte\", \"228\": \"fracht-american-locowaare\", \"229\": \"pfandbriefen-creditvereins-getilgt\", \"230\": \"ballon-gondel-luftfahrt\", \"231\": \"mylords-segnungen-wohlfahrt\", \"232\": \"obst-kirschen-meitzer\", \"233\": \"plock-walde-kosaken\", \"234\": \"friedrich-wilhelm-wil\", \"235\": \"eingetroffenen-dep-barometrisches\", \"236\": \"beginn-punktlichkeit-wich\", \"237\": \"zinsfu\\\\u00df-herabgesetzt-banken\", \"238\": \"hlle-brs-mittelmeere\", \"239\": \"korbe-austern-cigarren\", \"240\": \"nachst-rother-sicht\", \"241\": \"ablebens-abstufungen-trauer\", \"242\": \"buchhandlung-verlag-buchhandler\", \"243\": \"kama-contobank-kostromaer\", \"244\": \"parole-jagerregiment-namentlichen\", \"245\": \"boers-natal-kaffern\", \"246\": \"beginn-kastanien-busch\", \"247\": \"generalstaaten-gesetzentwurfen-gesetzentwurf\", \"248\": \"hervorgezogen-trummern-einsturz\", \"249\": \"rohe-pottasche-oele\", \"250\": \"tilsit-eiserne-austern\", \"251\": \"unterschristen-unterschriften-petition\", \"252\": \"wyse-piraeus-athen\", \"253\": \"runde-hollander-brugge\", \"254\": \"agentur-telegr-telegraphen\", \"255\": \"austern-allgemeine-cigarren\", \"256\": \"papier-hyp-ldbk\", \"257\": \"patriarchen-patriarch-okumenischen\", \"258\": \"gummi-austern-meitzer\", \"259\": \"telegramme-eingetroffene-neuilly\", \"260\": \"passiva-fallissement-fallissements\", \"261\": \"landsthing-volksthing-finanzgesetz\", \"262\": \"briese-briefe-briefes\", \"263\": \"office-reuter-reuters\", \"264\": \"lichttalg-vorschu\\\\u00df-sorte\", \"265\": \"lehrbezirks-erlaucht-curator\", \"266\": \"konus-barometrisches-minimum\", \"267\": \"kronprinz-storthing-kronprinzessin\", \"268\": \"joseph-erzherzogs-erzherzog\", \"269\": \"eing-load-planken\", \"270\": \"kaulbars-eollegen-reuter\", \"271\": \"papier-leder-seife\", \"272\": \"gestrandet-leck-capt\", \"273\": \"abiturienten-oberlehrer-festrede\", \"274\": \"folkething-landsthing-finanzgesetz\", \"275\": \"centimes-agio-banko\", \"276\": \"ng-meitzer-ngen\", \"277\": \"athen-piraus-piraeus\", \"278\": \"antwerpen-brugge-gent\", \"279\": \"gewinne-verloosung-nummern\", \"280\": \"kaiserinn-ischl-kronprinzessin\", \"281\": \"baum-baumwolle-ballen\", \"282\": \"morgenblatt-vorstehendes-vorstehende\", \"283\": \"magdala-abyssinien-rapier\", \"284\": \"eiserne-rohr-koch\", \"285\": \"austern-citronen-kastanien\", \"286\": \"assec-assecur-verficherung\", \"287\": \"frcs-belgischen-beschadigten\", \"288\": \"reichsschatzes-reichsbank-creditbilleten\", \"289\": \"eiserne-gummi-austern\", \"290\": \"getraidemarkt-getreidemarkt-raps\", \"291\": \"gildestube-johannis-quoten\", \"292\": \"meitzer-korbe-grimm\", \"293\": \"eingetroffenen-authentischen-berichte\", \"294\": \"austern-kirschen-tonnen\", \"295\": \"eiserne-kastanien-mineralwasser\", \"296\": \"meitzer-pack-gummi\", \"297\": \"original-wohlgewogen-eigenhandig\", \"298\": \"theerkapseln-guyot-mahlzeit\", \"299\": \"beginn-mineralwasser-kaull\", \"300\": \"sicht-tinte-geubten\", \"301\": \"kundbare-hafenbau-hope\", \"302\": \"vahu-pramienanleibe-ctieu\", \"303\": \"immerwahrende-loskaufsscheine-stucke\", \"304\": \"postamt-depesche-comitat\", \"305\": \"sudostwind-bewolkter-ma\\\\u00dfiger\", \"306\": \"umsatz-baumwolle-fair\", \"307\": \"korbe-schultz-cigarren\", \"308\": \"agrarbanken-kama-wolga\", \"309\": \"eiserne-bohme-nagel\", \"310\": \"beginn-privatdisconto-hopfen\", \"311\": \"frcs-runde-belgischen\", \"312\": \"direction-direktion-creditvereins\", \"313\": \"sicht-austern-nagel\", \"314\": \"korbe-cement-garn\", \"315\": \"helmsing-versteigert-ruetz\", \"316\": \"kastanien-willkommene-holm\", \"317\": \"vermi\\\\u00dfte-tinte-korbe\", \"318\": \"ecuador-dito-city\", \"319\": \"allerhochster-parole-allerhochst\", \"320\": \"sicht-beginn-tinte\", \"321\": \"getrocknete-beginn-aepfel\", \"322\": \"strusen-hanfsaat-leinsaat\", \"323\": \"cement-tonnen-busch\", \"324\": \"sicht-hopfen-austern\", \"325\": \"ausweis-staatsschatzes-vorschusse\", \"326\": \"rachrichten-temporaire-garfield\", \"327\": \"ankunst-blome-empfange\", \"328\": \"gummi-dritte-tonnen\", \"329\": \"champagner-vermi\\\\u00dft-kastanien\", \"330\": \"societat-districts-alt\", \"331\": \"verkaufer-gekauft-vorschu\\\\u00df\", \"332\": \"busch-holm-sacke\", \"333\": \"papier-austern-gummi\", \"334\": \"verschickt-beraubung-ansiedelung\", \"335\": \"srbl-zarewo-kama\", \"336\": \"sicht-deutschland-teutschland\", \"337\": \"paulvcci-erlaucht-artig\", \"338\": \"sorte-heede-talg\", \"339\": \"beginn-mineralwasser-austern\", \"340\": \"versteigert-wirckau-auctionator\", \"341\": \"sicht-bade-begleitende\", \"342\": \"uleaborg-luftdruck-kuopio\", \"343\": \"quartett-dur-beethoven\", \"344\": \"beginn-atlant-goldagio\", \"345\": \"roheisen-rother-american\", \"346\": \"assec-assecur-com\", \"347\": \"ngen-salz-tonnen\", \"348\": \"thalern-producten-geschast\", \"349\": \"westwarts-offenes-sichtbar\", \"350\": \"hopfen-haute-mobel\", \"351\": \"oeselschen-wolmarschen-unbekannter\", \"352\": \"jacobs-kriegsmann-champagner\", \"353\": \"seegatt-fahrwasser-eisfrei\", \"354\": \"beginn-goldagio-ballen\", \"355\": \"busch-thon-holm\", \"356\": \"neworleans-butler-savannah\", \"357\": \"nachm-abweichen-dann\", \"358\": \"koch-wohrmann-schultz\", \"359\": \"ldbk-ryb-pfandbr\", \"360\": \"fenger-hopfen-jacobs\", \"361\": \"sicht-brussel-auszugehen\", \"362\": \"cement-citronen-kriegsmann\", \"363\": \"laurent-nagel-garn\", \"364\": \"gummi-eiserne-grimm\", \"365\": \"bergwerke-betrieb-firma\", \"366\": \"busch-runde-belgischen\", \"367\": \"baker-stockholmer-ziegler\", \"368\": \"fenger-kriegsmann-bormittag\", \"369\": \"pramienanleibe-pramienanl-kuopio\", \"370\": \"jacobs-kriegsmann-holm\", \"371\": \"beginn-lichttalg-partie\", \"372\": \"busch-holm-koch\", \"373\": \"secunde-maximum-rad\", \"374\": \"grob-gemessen-spanisch\", \"375\": \"kriegsmann-jacobs-cement\", \"376\": \"cement-thon-nagel\", \"377\": \"koch-stahl-wohrmann\", \"378\": \"sicht-begleitende-unbestimmten\", \"379\": \"umsatz-unverandert-frei\", \"380\": \"eiserne-gummi-nagel\", \"381\": \"stettin-continent-lubeck\", \"382\": \"american-umsatz-allen\", \"383\": \"pramienanleibe-loskaufsscheine-speculationen\", \"384\": \"agio-partien-umgesetzt\", \"385\": \"tonnen-austern-mineralwasser\", \"386\": \"beginn-frei-privatdisconto\", \"387\": \"loskaufsscheine-partie-hopfen\", \"388\": \"vahu-pramienanleibe-ctieu\", \"389\": \"hyp-ryb-ldbk\", \"390\": \"baumwolle-atlant-baum\", \"391\": \"zuruckkehrt-teutschland-sicht\", \"392\": \"packen-citronen-hopfen\"}'"
      ]
     },
     "execution_count": 62,
     "metadata": {},
     "output_type": "execute_result"
    }
   ],
   "source": [
    "labels = {}\n",
    "previous_reduction = 12\n",
    "    \n",
    "for top, top_words in enumerate(t2v.get_topics()[0]):\n",
    "    labels[top+previous_reduction] = '-'.join(top_words[:3])\n",
    "    \n",
    "json.dumps(labels)"
   ]
  },
  {
   "cell_type": "code",
   "execution_count": 33,
   "id": "e3b0ecb8",
   "metadata": {},
   "outputs": [],
   "source": [
    "with open('../streamlit/data/topics/reduction_15/sizes.json', 'r', encoding='utf8') as f:\n",
    "    sizes_15 = json.load(f)\n",
    "    \n",
    "with open('../streamlit/data/topics/reduction_30/sizes.json', 'r', encoding='utf8') as f:\n",
    "    sizes_30 = json.load(f)\n",
    "    \n",
    "with open('../streamlit/data/topics/reduction_60/sizes.json', 'r', encoding='utf8') as f:\n",
    "    sizes_60 = json.load(f)"
   ]
  },
  {
   "cell_type": "code",
   "execution_count": 23,
   "id": "f8bc2ef9",
   "metadata": {},
   "outputs": [
    {
     "data": {
      "text/html": [
       "<div>\n",
       "<style scoped>\n",
       "    .dataframe tbody tr th:only-of-type {\n",
       "        vertical-align: middle;\n",
       "    }\n",
       "\n",
       "    .dataframe tbody tr th {\n",
       "        vertical-align: top;\n",
       "    }\n",
       "\n",
       "    .dataframe thead th {\n",
       "        text-align: right;\n",
       "    }\n",
       "</style>\n",
       "<table border=\"1\" class=\"dataframe\">\n",
       "  <thead>\n",
       "    <tr style=\"text-align: right;\">\n",
       "      <th></th>\n",
       "      <th>reduction_5</th>\n",
       "      <th>reduction_20</th>\n",
       "    </tr>\n",
       "  </thead>\n",
       "  <tbody>\n",
       "    <tr>\n",
       "      <th>0</th>\n",
       "      <td>0</td>\n",
       "      <td>5</td>\n",
       "    </tr>\n",
       "    <tr>\n",
       "      <th>3</th>\n",
       "      <td>0</td>\n",
       "      <td>6</td>\n",
       "    </tr>\n",
       "    <tr>\n",
       "      <th>7</th>\n",
       "      <td>0</td>\n",
       "      <td>7</td>\n",
       "    </tr>\n",
       "    <tr>\n",
       "      <th>10</th>\n",
       "      <td>0</td>\n",
       "      <td>8</td>\n",
       "    </tr>\n",
       "    <tr>\n",
       "      <th>12</th>\n",
       "      <td>1</td>\n",
       "      <td>9</td>\n",
       "    </tr>\n",
       "    <tr>\n",
       "      <th>15</th>\n",
       "      <td>1</td>\n",
       "      <td>10</td>\n",
       "    </tr>\n",
       "    <tr>\n",
       "      <th>20</th>\n",
       "      <td>1</td>\n",
       "      <td>11</td>\n",
       "    </tr>\n",
       "    <tr>\n",
       "      <th>22</th>\n",
       "      <td>1</td>\n",
       "      <td>12</td>\n",
       "    </tr>\n",
       "    <tr>\n",
       "      <th>23</th>\n",
       "      <td>2</td>\n",
       "      <td>12</td>\n",
       "    </tr>\n",
       "    <tr>\n",
       "      <th>24</th>\n",
       "      <td>2</td>\n",
       "      <td>13</td>\n",
       "    </tr>\n",
       "    <tr>\n",
       "      <th>28</th>\n",
       "      <td>2</td>\n",
       "      <td>14</td>\n",
       "    </tr>\n",
       "    <tr>\n",
       "      <th>31</th>\n",
       "      <td>2</td>\n",
       "      <td>15</td>\n",
       "    </tr>\n",
       "    <tr>\n",
       "      <th>33</th>\n",
       "      <td>3</td>\n",
       "      <td>16</td>\n",
       "    </tr>\n",
       "    <tr>\n",
       "      <th>35</th>\n",
       "      <td>3</td>\n",
       "      <td>17</td>\n",
       "    </tr>\n",
       "    <tr>\n",
       "      <th>37</th>\n",
       "      <td>3</td>\n",
       "      <td>18</td>\n",
       "    </tr>\n",
       "    <tr>\n",
       "      <th>39</th>\n",
       "      <td>4</td>\n",
       "      <td>19</td>\n",
       "    </tr>\n",
       "    <tr>\n",
       "      <th>41</th>\n",
       "      <td>4</td>\n",
       "      <td>20</td>\n",
       "    </tr>\n",
       "    <tr>\n",
       "      <th>43</th>\n",
       "      <td>4</td>\n",
       "      <td>21</td>\n",
       "    </tr>\n",
       "    <tr>\n",
       "      <th>46</th>\n",
       "      <td>4</td>\n",
       "      <td>22</td>\n",
       "    </tr>\n",
       "    <tr>\n",
       "      <th>48</th>\n",
       "      <td>4</td>\n",
       "      <td>23</td>\n",
       "    </tr>\n",
       "    <tr>\n",
       "      <th>49</th>\n",
       "      <td>4</td>\n",
       "      <td>24</td>\n",
       "    </tr>\n",
       "  </tbody>\n",
       "</table>\n",
       "</div>"
      ],
      "text/plain": [
       "    reduction_5  reduction_20\n",
       "0             0             5\n",
       "3             0             6\n",
       "7             0             7\n",
       "10            0             8\n",
       "12            1             9\n",
       "15            1            10\n",
       "20            1            11\n",
       "22            1            12\n",
       "23            2            12\n",
       "24            2            13\n",
       "28            2            14\n",
       "31            2            15\n",
       "33            3            16\n",
       "35            3            17\n",
       "37            3            18\n",
       "39            4            19\n",
       "41            4            20\n",
       "43            4            21\n",
       "46            4            22\n",
       "48            4            23\n",
       "49            4            24"
      ]
     },
     "execution_count": 23,
     "metadata": {},
     "output_type": "execute_result"
    }
   ],
   "source": [
    "link[['reduction_5', 'reduction_20']].drop_duplicates()"
   ]
  },
  {
   "cell_type": "code",
   "execution_count": 19,
   "id": "5b87ad89",
   "metadata": {},
   "outputs": [
    {
     "data": {
      "text/html": [
       "<div>\n",
       "<style scoped>\n",
       "    .dataframe tbody tr th:only-of-type {\n",
       "        vertical-align: middle;\n",
       "    }\n",
       "\n",
       "    .dataframe tbody tr th {\n",
       "        vertical-align: top;\n",
       "    }\n",
       "\n",
       "    .dataframe thead th {\n",
       "        text-align: right;\n",
       "    }\n",
       "</style>\n",
       "<table border=\"1\" class=\"dataframe\">\n",
       "  <thead>\n",
       "    <tr style=\"text-align: right;\">\n",
       "      <th></th>\n",
       "      <th>reduction_5</th>\n",
       "      <th>reduction_20</th>\n",
       "      <th>count</th>\n",
       "    </tr>\n",
       "  </thead>\n",
       "  <tbody>\n",
       "    <tr>\n",
       "      <th>0</th>\n",
       "      <td>0</td>\n",
       "      <td>5</td>\n",
       "      <td>1</td>\n",
       "    </tr>\n",
       "    <tr>\n",
       "      <th>1</th>\n",
       "      <td>0</td>\n",
       "      <td>6</td>\n",
       "      <td>1</td>\n",
       "    </tr>\n",
       "    <tr>\n",
       "      <th>2</th>\n",
       "      <td>0</td>\n",
       "      <td>7</td>\n",
       "      <td>1</td>\n",
       "    </tr>\n",
       "    <tr>\n",
       "      <th>3</th>\n",
       "      <td>0</td>\n",
       "      <td>8</td>\n",
       "      <td>1</td>\n",
       "    </tr>\n",
       "    <tr>\n",
       "      <th>4</th>\n",
       "      <td>1</td>\n",
       "      <td>9</td>\n",
       "      <td>2</td>\n",
       "    </tr>\n",
       "    <tr>\n",
       "      <th>5</th>\n",
       "      <td>1</td>\n",
       "      <td>10</td>\n",
       "      <td>2</td>\n",
       "    </tr>\n",
       "    <tr>\n",
       "      <th>6</th>\n",
       "      <td>1</td>\n",
       "      <td>11</td>\n",
       "      <td>2</td>\n",
       "    </tr>\n",
       "    <tr>\n",
       "      <th>7</th>\n",
       "      <td>1</td>\n",
       "      <td>12</td>\n",
       "      <td>2</td>\n",
       "    </tr>\n",
       "    <tr>\n",
       "      <th>8</th>\n",
       "      <td>2</td>\n",
       "      <td>12</td>\n",
       "      <td>2</td>\n",
       "    </tr>\n",
       "    <tr>\n",
       "      <th>9</th>\n",
       "      <td>2</td>\n",
       "      <td>13</td>\n",
       "      <td>2</td>\n",
       "    </tr>\n",
       "    <tr>\n",
       "      <th>10</th>\n",
       "      <td>2</td>\n",
       "      <td>14</td>\n",
       "      <td>2</td>\n",
       "    </tr>\n",
       "    <tr>\n",
       "      <th>11</th>\n",
       "      <td>2</td>\n",
       "      <td>15</td>\n",
       "      <td>2</td>\n",
       "    </tr>\n",
       "    <tr>\n",
       "      <th>12</th>\n",
       "      <td>3</td>\n",
       "      <td>16</td>\n",
       "      <td>2</td>\n",
       "    </tr>\n",
       "    <tr>\n",
       "      <th>13</th>\n",
       "      <td>3</td>\n",
       "      <td>17</td>\n",
       "      <td>3</td>\n",
       "    </tr>\n",
       "    <tr>\n",
       "      <th>14</th>\n",
       "      <td>3</td>\n",
       "      <td>18</td>\n",
       "      <td>3</td>\n",
       "    </tr>\n",
       "    <tr>\n",
       "      <th>15</th>\n",
       "      <td>4</td>\n",
       "      <td>19</td>\n",
       "      <td>3</td>\n",
       "    </tr>\n",
       "    <tr>\n",
       "      <th>16</th>\n",
       "      <td>4</td>\n",
       "      <td>20</td>\n",
       "      <td>3</td>\n",
       "    </tr>\n",
       "    <tr>\n",
       "      <th>17</th>\n",
       "      <td>4</td>\n",
       "      <td>21</td>\n",
       "      <td>3</td>\n",
       "    </tr>\n",
       "    <tr>\n",
       "      <th>18</th>\n",
       "      <td>4</td>\n",
       "      <td>22</td>\n",
       "      <td>4</td>\n",
       "    </tr>\n",
       "    <tr>\n",
       "      <th>19</th>\n",
       "      <td>4</td>\n",
       "      <td>23</td>\n",
       "      <td>4</td>\n",
       "    </tr>\n",
       "    <tr>\n",
       "      <th>20</th>\n",
       "      <td>4</td>\n",
       "      <td>24</td>\n",
       "      <td>5</td>\n",
       "    </tr>\n",
       "  </tbody>\n",
       "</table>\n",
       "</div>"
      ],
      "text/plain": [
       "    reduction_5  reduction_20  count\n",
       "0             0             5      1\n",
       "1             0             6      1\n",
       "2             0             7      1\n",
       "3             0             8      1\n",
       "4             1             9      2\n",
       "5             1            10      2\n",
       "6             1            11      2\n",
       "7             1            12      2\n",
       "8             2            12      2\n",
       "9             2            13      2\n",
       "10            2            14      2\n",
       "11            2            15      2\n",
       "12            3            16      2\n",
       "13            3            17      3\n",
       "14            3            18      3\n",
       "15            4            19      3\n",
       "16            4            20      3\n",
       "17            4            21      3\n",
       "18            4            22      4\n",
       "19            4            23      4\n",
       "20            4            24      5"
      ]
     },
     "execution_count": 19,
     "metadata": {},
     "output_type": "execute_result"
    }
   ],
   "source": [
    "link[['reduction_5', 'reduction_20']].value_counts().reset_index(name='count').apply(lambda x: x.sort_values().values)"
   ]
  },
  {
   "cell_type": "code",
   "execution_count": null,
   "id": "e8405350",
   "metadata": {},
   "outputs": [],
   "source": []
  },
  {
   "cell_type": "code",
   "execution_count": 15,
   "id": "ad6d3738",
   "metadata": {
    "scrolled": true
   },
   "outputs": [
    {
     "data": {
      "text/plain": [
       "[('reduction_5', 'reduction_20', 1), ('reduction_20', 'reduction_50', 2)]"
      ]
     },
     "execution_count": 15,
     "metadata": {},
     "output_type": "execute_result"
    }
   ],
   "source": [
    "list(zip(link.columns[0:-1], link.columns[1:], [1,2,3]))"
   ]
  },
  {
   "cell_type": "code",
   "execution_count": null,
   "id": "87335861",
   "metadata": {},
   "outputs": [],
   "source": [
    "fig = go.sankey(data=)"
   ]
  },
  {
   "cell_type": "code",
   "execution_count": 13,
   "id": "f075f30d",
   "metadata": {},
   "outputs": [
    {
     "data": {
      "text/plain": [
       "[0,\n",
       " 0,\n",
       " 0,\n",
       " 0,\n",
       " 0,\n",
       " 0,\n",
       " 0,\n",
       " 0,\n",
       " 0,\n",
       " 0,\n",
       " 0,\n",
       " 0,\n",
       " 1,\n",
       " 1,\n",
       " 1,\n",
       " 1,\n",
       " 1,\n",
       " 1,\n",
       " 1,\n",
       " 1,\n",
       " 1,\n",
       " 1,\n",
       " 1,\n",
       " 2,\n",
       " 2,\n",
       " 2,\n",
       " 2,\n",
       " 2,\n",
       " 2,\n",
       " 2,\n",
       " 2,\n",
       " 2,\n",
       " 2,\n",
       " 3,\n",
       " 3,\n",
       " 3,\n",
       " 3,\n",
       " 3,\n",
       " 3,\n",
       " 4,\n",
       " 4,\n",
       " 4,\n",
       " 4,\n",
       " 4,\n",
       " 4,\n",
       " 4,\n",
       " 4,\n",
       " 4,\n",
       " 4,\n",
       " 4]"
      ]
     },
     "execution_count": 13,
     "metadata": {},
     "output_type": "execute_result"
    }
   ],
   "source": [
    "list(link.reduction_5)"
   ]
  },
  {
   "cell_type": "code",
   "execution_count": null,
   "id": "bcec9f0f",
   "metadata": {},
   "outputs": [],
   "source": []
  }
 ],
 "metadata": {
  "kernelspec": {
   "display_name": "acta_env",
   "language": "python",
   "name": "acta_env"
  },
  "language_info": {
   "codemirror_mode": {
    "name": "ipython",
    "version": 3
   },
   "file_extension": ".py",
   "mimetype": "text/x-python",
   "name": "python",
   "nbconvert_exporter": "python",
   "pygments_lexer": "ipython3",
   "version": "3.9.12"
  }
 },
 "nbformat": 4,
 "nbformat_minor": 5
}
